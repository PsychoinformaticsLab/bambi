{
 "cells": [
  {
   "cell_type": "code",
   "execution_count": 1,
   "metadata": {},
   "outputs": [],
   "source": [
    "import aesara.tensor as at\n",
    "import arviz as az\n",
    "import numpy as np\n",
    "import pandas as pd\n",
    "import pymc as pm"
   ]
  },
  {
   "cell_type": "code",
   "execution_count": 2,
   "metadata": {},
   "outputs": [],
   "source": [
    "rng = np.random.default_rng(1234)\n",
    "\n",
    "size = 1000\n",
    "values = rng.normal(size=size)\n",
    "\n",
    "left_censored = values < -2\n",
    "interval_censored = np.logical_and(-0.2 < values, values < 0.2)\n",
    "right_censored = values > 1.8\n",
    "not_censored = ~np.logical_or.reduce((left_censored, interval_censored, right_censored))"
   ]
  },
  {
   "cell_type": "code",
   "execution_count": 3,
   "metadata": {},
   "outputs": [
    {
     "name": "stdout",
     "output_type": "stream",
     "text": [
      "16 164 48 772\n"
     ]
    },
    {
     "data": {
      "text/plain": [
       "1000"
      ]
     },
     "execution_count": 3,
     "metadata": {},
     "output_type": "execute_result"
    }
   ],
   "source": [
    "print(sum(left_censored), sum(interval_censored), sum(right_censored), sum(not_censored))\n",
    "sum(left_censored) + sum(interval_censored) + sum(right_censored) + sum(not_censored)"
   ]
  },
  {
   "cell_type": "code",
   "execution_count": 4,
   "metadata": {},
   "outputs": [
    {
     "name": "stderr",
     "output_type": "stream",
     "text": [
      "Auto-assigning NUTS sampler...\n",
      "Initializing NUTS using jitter+adapt_diag...\n",
      "Multiprocess sampling (2 chains in 2 jobs)\n",
      "NUTS: [mu, sigma]\n"
     ]
    },
    {
     "data": {
      "text/html": [
       "\n",
       "<style>\n",
       "    /* Turns off some styling */\n",
       "    progress {\n",
       "        /* gets rid of default border in Firefox and Opera. */\n",
       "        border: none;\n",
       "        /* Needs to be in here for Safari polyfill so background images work as expected. */\n",
       "        background-size: auto;\n",
       "    }\n",
       "    progress:not([value]), progress:not([value])::-webkit-progress-bar {\n",
       "        background: repeating-linear-gradient(45deg, #7e7e7e, #7e7e7e 10px, #5c5c5c 10px, #5c5c5c 20px);\n",
       "    }\n",
       "    .progress-bar-interrupted, .progress-bar-interrupted::-webkit-progress-bar {\n",
       "        background: #F44336;\n",
       "    }\n",
       "</style>\n"
      ],
      "text/plain": [
       "<IPython.core.display.HTML object>"
      ]
     },
     "metadata": {},
     "output_type": "display_data"
    },
    {
     "data": {
      "text/html": [
       "\n",
       "    <div>\n",
       "      <progress value='4000' class='' max='4000' style='width:300px; height:20px; vertical-align: middle;'></progress>\n",
       "      100.00% [4000/4000 00:01&lt;00:00 Sampling 2 chains, 0 divergences]\n",
       "    </div>\n",
       "    "
      ],
      "text/plain": [
       "<IPython.core.display.HTML object>"
      ]
     },
     "metadata": {},
     "output_type": "display_data"
    },
    {
     "name": "stderr",
     "output_type": "stream",
     "text": [
      "Sampling 2 chains for 1_000 tune and 1_000 draw iterations (2_000 + 2_000 draws total) took 2 seconds.\n"
     ]
    }
   ],
   "source": [
    "with pm.Model() as model:\n",
    "    target = 0\n",
    "    mu = pm.Normal(\"mu\")\n",
    "    sigma = pm.HalfNormal(\"sigma\")\n",
    "\n",
    "    # Contribution due to left censored values\n",
    "    target += np.sum(left_censored) * pm.Normal.logcdf(-2, mu, sigma)\n",
    "\n",
    "    # Contribution due to right censored values\n",
    "    target += np.sum(right_censored) * at.log(1 - at.exp(pm.Normal.logcdf(1.8, mu, sigma)))\n",
    "\n",
    "    # Contribution due to interval censored values\n",
    "    target += np.sum(interval_censored) * (\n",
    "        at.log(at.exp(pm.Normal.logcdf(0.2, mu, sigma)) - at.exp(pm.Normal.logcdf(-0.2, mu, sigma)))\n",
    "    )\n",
    "\n",
    "    # Contribution due to uncensored values\n",
    "    likelihood = pm.Normal.dist(mu=mu, sigma=sigma)\n",
    "    target += at.sum(pm.logp(likelihood, values[not_censored]))\n",
    "\n",
    "    pm.Potential(\"y_potential\", target)\n",
    "    idata = pm.sample()"
   ]
  },
  {
   "cell_type": "code",
   "execution_count": 5,
   "metadata": {},
   "outputs": [
    {
     "data": {
      "text/html": [
       "<div>\n",
       "<style scoped>\n",
       "    .dataframe tbody tr th:only-of-type {\n",
       "        vertical-align: middle;\n",
       "    }\n",
       "\n",
       "    .dataframe tbody tr th {\n",
       "        vertical-align: top;\n",
       "    }\n",
       "\n",
       "    .dataframe thead th {\n",
       "        text-align: right;\n",
       "    }\n",
       "</style>\n",
       "<table border=\"1\" class=\"dataframe\">\n",
       "  <thead>\n",
       "    <tr style=\"text-align: right;\">\n",
       "      <th></th>\n",
       "      <th>mean</th>\n",
       "      <th>sd</th>\n",
       "      <th>hdi_3%</th>\n",
       "      <th>hdi_97%</th>\n",
       "      <th>mcse_mean</th>\n",
       "      <th>mcse_sd</th>\n",
       "      <th>ess_bulk</th>\n",
       "      <th>ess_tail</th>\n",
       "      <th>r_hat</th>\n",
       "    </tr>\n",
       "  </thead>\n",
       "  <tbody>\n",
       "    <tr>\n",
       "      <th>mu</th>\n",
       "      <td>0.041</td>\n",
       "      <td>0.033</td>\n",
       "      <td>-0.017</td>\n",
       "      <td>0.103</td>\n",
       "      <td>0.001</td>\n",
       "      <td>0.001</td>\n",
       "      <td>2014.0</td>\n",
       "      <td>1568.0</td>\n",
       "      <td>1.0</td>\n",
       "    </tr>\n",
       "    <tr>\n",
       "      <th>sigma</th>\n",
       "      <td>1.017</td>\n",
       "      <td>0.024</td>\n",
       "      <td>0.973</td>\n",
       "      <td>1.061</td>\n",
       "      <td>0.001</td>\n",
       "      <td>0.000</td>\n",
       "      <td>1832.0</td>\n",
       "      <td>1414.0</td>\n",
       "      <td>1.0</td>\n",
       "    </tr>\n",
       "  </tbody>\n",
       "</table>\n",
       "</div>"
      ],
      "text/plain": [
       "        mean     sd  hdi_3%  hdi_97%  mcse_mean  mcse_sd  ess_bulk  ess_tail  \\\n",
       "mu     0.041  0.033  -0.017    0.103      0.001    0.001    2014.0    1568.0   \n",
       "sigma  1.017  0.024   0.973    1.061      0.001    0.000    1832.0    1414.0   \n",
       "\n",
       "       r_hat  \n",
       "mu       1.0  \n",
       "sigma    1.0  "
      ]
     },
     "execution_count": 5,
     "metadata": {},
     "output_type": "execute_result"
    }
   ],
   "source": [
    "az.summary(idata)"
   ]
  },
  {
   "cell_type": "code",
   "execution_count": null,
   "metadata": {},
   "outputs": [],
   "source": [
    "with pm.Model() as model:\n",
    "\n",
    "    mu = pm.Normal(\"mu\")\n",
    "    sigma = pm.HalfNormal(\"sigma\")\n",
    "\n",
    "    y_likelihood = pm.Normal.dist(mu=mu, sigma=sigma)\n",
    "    y_censored = pm.Censored(\"y_left\", y_likelihood, observed=values)\n",
    "\n",
    "    idata = pm.sample()"
   ]
  }
 ],
 "metadata": {
  "kernelspec": {
   "display_name": "Python 3.10.4 ('bambi')",
   "language": "python",
   "name": "python3"
  },
  "language_info": {
   "codemirror_mode": {
    "name": "ipython",
    "version": 3
   },
   "file_extension": ".py",
   "mimetype": "text/x-python",
   "name": "python",
   "nbconvert_exporter": "python",
   "pygments_lexer": "ipython3",
   "version": "3.10.4"
  },
  "orig_nbformat": 4,
  "vscode": {
   "interpreter": {
    "hash": "1008626715a3728f1d66c057190bde332dc65ea99517a942c5f170959679b77d"
   }
  }
 },
 "nbformat": 4,
 "nbformat_minor": 2
}
