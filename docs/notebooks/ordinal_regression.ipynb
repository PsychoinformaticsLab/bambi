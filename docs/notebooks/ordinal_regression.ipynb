{
 "cells": [
  {
   "cell_type": "code",
   "execution_count": 1,
   "metadata": {},
   "outputs": [
    {
     "name": "stderr",
     "output_type": "stream",
     "text": [
      "WARNING (pytensor.tensor.blas): Using NumPy C-API based implementation for BLAS functions.\n"
     ]
    }
   ],
   "source": [
    "import arviz as az\n",
    "import matplotlib.pyplot as plt\n",
    "import numpy as np\n",
    "import pandas as pd\n",
    "\n",
    "import bambi as bmb\n",
    "\n",
    "%load_ext autoreload\n",
    "%autoreload 2"
   ]
  },
  {
   "cell_type": "markdown",
   "metadata": {},
   "source": [
    "# Ordinal Regression\n",
    "\n",
    "In some scenarios, the response variable is discrete, like a count, and ordered. Common examples of such data come from questionnaires where the respondent is asked to rate a product, service, or experience on a scale. This scale is often referred to as a [Likert scale](https://en.wikipedia.org/wiki/Likert_scale). For example, a five-level Likert scale could be:\n",
    "\n",
    "- 1 = Strongly disagree\n",
    "- 2 = Disagree\n",
    "- 3 = Neither agree nor disagree\n",
    "- 4 = Agree\n",
    "- 5 = Strongly agree\n",
    "\n",
    "The result is a set of **ordered categories** where each category has an associated numeric value (1-5). However, you can't compute a meaningful difference between the categories. Moreover, the response variable can also be a discrete count, and ordered. For example, a restaurant can be rated on a scale of 1-5 stars where 1 is the worst and 5 is the best. Yes, you can compute the difference between 1 and 2 stars, but it is often treated as ordinal in an applied setting.\n",
    "\n",
    "Ordinal data presents three challenges when modelling:\n",
    "\n",
    "1. Unlike a count, the differences in the values are not necessarily equidistant or meaningful. For example, computing the difference between \"Strongly disagree\" and \"Disagree\". Or, in the case of the restaurant rating, it may be much harder for a restuarant to go from 4 to 5 stars than from 2 to 3 stars. \n",
    "2. The distribution of ordinal responses may be nonnormal, particularly if very low or high values are infrequently chosen.\n",
    "3. The variances of the unobserved variables that underlie the observed ordered category may differ between the category, time points, etc. \n",
    "\n",
    "Thus, treating ordered categories as continuous is not appropriate. To this extent, Bambi supports two classes of ordinal regression models: (1) cumulative link, and (2) sequential link. Below, it is demonstrated how to fit these two models using Bambi to overcome the challenges of ordered category response data."
   ]
  },
  {
   "cell_type": "markdown",
   "metadata": {},
   "source": [
    "## Cumulative model\n",
    "\n",
    "A cumulative model assumes that the observed ordinal variable $Y$ originates from the \"categorization\" of a latent continuous variable $Z$. To model the categorization process, the model assumes that there are $K$ thresholds (cutpoints) $\\tau_k$ that partition $Z$ into $K+1$ observable, ordered categories. Additionally, if we assume $Z$ to have a certain distribution (e.g., Normal) with a cumulative distribution function $F$, the probability of $Y$ being equal to category $k$ is\n",
    "\n",
    "$$Pr(Y = k) = F(\\tau_k) - F(\\tau_{k-1})$$\n",
    "\n",
    "where each $F(\\tau)$ is a cumulative probability. For example, suppose we have 3 categories and we are interested in the probability of $Y=3$, and have three thresholds $\\tau_0 = -1, \\tau_1 = 0, \\tau_2 = 1$ for three categories. Additionally, if we assume $Z$ to be normally distributed with $\\sigma = 1$ then\n",
    "\n",
    "$$Pr(Y = 3) = \\Phi(\\tau_2) - \\Phi(\\tau_1) - \\Phi(\\tau_0)$$\n",
    "\n",
    "How to set the thresholds? By default, Bambi uses a Normal distribution with a grid of evenly spaced $\\mu$ that depends on the number of categories as the prior for the thresholds. Furthermore, the model specification for ordinal regression typically transforms the cumulative probabilities using the log-cumulative-odds (logit) transformation. Therefore, the learned parameters for the thresholds $\\tau$ will be logits.\n",
    "\n",
    "Lastly, as each $F(\\tau)$ implies a cumulative probability for each $k$, the largest response value always has a cumulative probability of 1. Thus, we effectively do not need a parameter for it due to the law of total probability. For example, for $K = 3$ response values, we only need $K − 1 = 2$ intercepts."
   ]
  },
  {
   "cell_type": "markdown",
   "metadata": {},
   "source": [
    "### The moral intuition dataset\n",
    "\n",
    "To illustrate an ordinal model with a cumulative link function, we will model data from a series of experiments conducted by philsophers (this example comes from Richard McElreath's [Statistical Rethinking](https://xcelab.net/rm/statistical-rethinking/)). The experiments aim to collect empirical evidence relevant to debates about moral intuition, the forms of reasoning through which people develop judgments about the moral goodness and badness of actions. \n",
    "\n",
    "In the dataset there are 12 columns and 9930 rows, comprising data for 331 unique individuals. The response we are interested in `response`, is an integer from 1 to 7 indicating how morally permissible the participant found the action to be taken (or not) in the story. The predictors are as follows:\n",
    "\n",
    "- `action`: a factor with levels 0 and 1 where 1 indicates that the story contained \"harm caused by action is morally worse than equivalent harm caused by omission\".\n",
    "- `intention`: a factor with levels 0 and 1 where 1 indicates that the story contained \"harm intended as the means to a goal is morally worse than equivalent harm foreseen as the side effect of a goal\".\n",
    "- `contact`: a factor with levels 0 and 1 where 1 indicates that the story contained \"using physical contact to cause harm to a victim is morally worse than causing equivalent harm to a victim without using physical contact\"."
   ]
  },
  {
   "cell_type": "code",
   "execution_count": 2,
   "metadata": {},
   "outputs": [],
   "source": [
    "trolly = pd.read_csv(\"https://raw.githubusercontent.com/rmcelreath/rethinking/master/data/Trolley.csv\", sep=\";\")\n",
    "trolly = trolly[[\"response\", \"action\", \"intention\", \"contact\"]]\n",
    "trolly[\"action\"] = pd.Categorical(trolly[\"action\"], ordered=False)\n",
    "trolly[\"intention\"] = pd.Categorical(trolly[\"intention\"], ordered=False)\n",
    "trolly[\"contact\"] = pd.Categorical(trolly[\"contact\"], ordered=False)\n",
    "trolly[\"response\"] = pd.Categorical(trolly[\"response\"], ordered=True)"
   ]
  },
  {
   "cell_type": "code",
   "execution_count": 3,
   "metadata": {},
   "outputs": [
    {
     "data": {
      "text/plain": [
       "[4, 3, 5, 2, 1, 7, 6]\n",
       "Categories (7, int64): [1 < 2 < 3 < 4 < 5 < 6 < 7]"
      ]
     },
     "execution_count": 3,
     "metadata": {},
     "output_type": "execute_result"
    }
   ],
   "source": [
    "# 7 ordered categories from 1-7\n",
    "trolly.response.unique()"
   ]
  },
  {
   "cell_type": "markdown",
   "metadata": {},
   "source": [
    "### Intercept only model\n",
    "\n",
    "Before we fit a model with predictors, let's attempt to recover the parameters of an ordered distribution using a model with only the thresholds to get a feel for the cumulative link function. Traditionally, in Bambi if we wanted to recover the parameters of the likelihood, we would use an intercept only model and write the formula as `response ~ 1` where `1` indicates to include the intercept. However, in the case of ordinal regression, the thresholds \"take the place\" of the intercept. Thus, we can write the formula as `response ~ 0` to indicate that we do not want to include an intercept. To fit a cumulative ordinal model, we pass `family=\"cumulative\"`. To compare the thresholds only model, we compute the empirical log-cumulative-odds of the categories directly from the data below. "
   ]
  },
  {
   "cell_type": "code",
   "execution_count": 4,
   "metadata": {},
   "outputs": [
    {
     "name": "stderr",
     "output_type": "stream",
     "text": [
      "/var/folders/rl/y69t95y51g90tvd6gjzzs59h0000gn/T/ipykernel_30380/1548491577.py:3: RuntimeWarning: invalid value encountered in log\n",
      "  logit_func = lambda x: np.log(x / (1 - x))\n"
     ]
    },
    {
     "data": {
      "text/plain": [
       "array([-1.91609116, -1.26660559, -0.718634  ,  0.24778573,  0.88986365,\n",
       "        1.76938091,         nan])"
      ]
     },
     "execution_count": 4,
     "metadata": {},
     "output_type": "execute_result"
    }
   ],
   "source": [
    "pr_k = trolly.response.value_counts().sort_index().values / trolly.shape[0]\n",
    "cum_pr_k = np.cumsum(pr_k)\n",
    "logit_func = lambda x: np.log(x / (1 - x))\n",
    "cum_logit = logit_func(cum_pr_k)\n",
    "cum_logit"
   ]
  },
  {
   "cell_type": "code",
   "execution_count": 25,
   "metadata": {},
   "outputs": [
    {
     "name": "stderr",
     "output_type": "stream",
     "text": [
      "/Users/gabestechschulte/miniforge3/envs/bambinos/lib/python3.11/site-packages/formulae/terms/variable.py:87: FutureWarning: is_categorical_dtype is deprecated and will be removed in a future version. Use isinstance(dtype, CategoricalDtype) instead\n",
      "  elif is_string_dtype(x) or is_categorical_dtype(x):\n",
      "/Users/gabestechschulte/miniforge3/envs/bambinos/lib/python3.11/site-packages/pymc/distributions/transforms.py:56: FutureWarning: univariate_ordered has been deprecated, use ordered instead.\n",
      "  warnings.warn(f\"{name} has been deprecated, use ordered instead.\", FutureWarning)\n",
      "Auto-assigning NUTS sampler...\n",
      "Initializing NUTS using jitter+adapt_diag...\n",
      "Multiprocess sampling (4 chains in 4 jobs)\n",
      "NUTS: [response_threshold]\n"
     ]
    },
    {
     "data": {
      "text/html": [
       "\n",
       "<style>\n",
       "    /* Turns off some styling */\n",
       "    progress {\n",
       "        /* gets rid of default border in Firefox and Opera. */\n",
       "        border: none;\n",
       "        /* Needs to be in here for Safari polyfill so background images work as expected. */\n",
       "        background-size: auto;\n",
       "    }\n",
       "    progress:not([value]), progress:not([value])::-webkit-progress-bar {\n",
       "        background: repeating-linear-gradient(45deg, #7e7e7e, #7e7e7e 10px, #5c5c5c 10px, #5c5c5c 20px);\n",
       "    }\n",
       "    .progress-bar-interrupted, .progress-bar-interrupted::-webkit-progress-bar {\n",
       "        background: #F44336;\n",
       "    }\n",
       "</style>\n"
      ],
      "text/plain": [
       "<IPython.core.display.HTML object>"
      ]
     },
     "metadata": {},
     "output_type": "display_data"
    },
    {
     "data": {
      "text/html": [
       "\n",
       "    <div>\n",
       "      <progress value='8000' class='' max='8000' style='width:300px; height:20px; vertical-align: middle;'></progress>\n",
       "      100.00% [8000/8000 00:02&lt;00:00 Sampling 4 chains, 0 divergences]\n",
       "    </div>\n",
       "    "
      ],
      "text/plain": [
       "<IPython.core.display.HTML object>"
      ]
     },
     "metadata": {},
     "output_type": "display_data"
    },
    {
     "name": "stderr",
     "output_type": "stream",
     "text": [
      "/Users/gabestechschulte/miniforge3/envs/bambinos/lib/python3.11/site-packages/pytensor/compile/function/types.py:970: RuntimeWarning: invalid value encountered in accumulate\n",
      "  self.vm()\n",
      "/Users/gabestechschulte/miniforge3/envs/bambinos/lib/python3.11/site-packages/pytensor/compile/function/types.py:970: RuntimeWarning: invalid value encountered in add\n",
      "  self.vm()\n",
      "/Users/gabestechschulte/miniforge3/envs/bambinos/lib/python3.11/site-packages/pytensor/compile/function/types.py:970: RuntimeWarning: invalid value encountered in add\n",
      "  self.vm()\n",
      "/Users/gabestechschulte/miniforge3/envs/bambinos/lib/python3.11/site-packages/pytensor/compile/function/types.py:970: RuntimeWarning: invalid value encountered in add\n",
      "  self.vm()\n",
      "/Users/gabestechschulte/miniforge3/envs/bambinos/lib/python3.11/site-packages/pytensor/compile/function/types.py:970: RuntimeWarning: invalid value encountered in add\n",
      "  self.vm()\n",
      "/Users/gabestechschulte/miniforge3/envs/bambinos/lib/python3.11/site-packages/pytensor/compile/function/types.py:970: RuntimeWarning: invalid value encountered in accumulate\n",
      "  self.vm()\n",
      "Sampling 4 chains for 1_000 tune and 1_000 draw iterations (4_000 + 4_000 draws total) took 3 seconds.\n"
     ]
    }
   ],
   "source": [
    "model = bmb.Model(\"response ~ 0\", data=trolly, family=\"cumulative\")\n",
    "idata = model.fit(random_seed=1234)"
   ]
  },
  {
   "cell_type": "markdown",
   "metadata": {},
   "source": [
    "Below, the components of the model are outputed. Notice how the thresholds are a grid of six values ranging from -2 to 2. "
   ]
  },
  {
   "cell_type": "code",
   "execution_count": 26,
   "metadata": {},
   "outputs": [
    {
     "data": {
      "text/plain": [
       "       Formula: response ~ 0\n",
       "        Family: cumulative\n",
       "          Link: p = logit\n",
       "  Observations: 9930\n",
       "        Priors: \n",
       "    target = p\n",
       "        \n",
       "        \n",
       "        Auxiliary parameters\n",
       "            threshold ~ Normal(mu: [-2.  -1.2 -0.4  0.4  1.2  2. ], sigma: 1.0, transform: ordered)\n",
       "------\n",
       "* To see a plot of the priors call the .plot_priors() method.\n",
       "* To see a summary or plot of the posterior pass the object returned by .fit() to az.summary() or az.plot_trace()"
      ]
     },
     "execution_count": 26,
     "metadata": {},
     "output_type": "execute_result"
    }
   ],
   "source": [
    "model"
   ]
  },
  {
   "cell_type": "code",
   "execution_count": 6,
   "metadata": {},
   "outputs": [
    {
     "name": "stderr",
     "output_type": "stream",
     "text": [
      "/Users/gabestechschulte/miniforge3/envs/bambinos/lib/python3.11/site-packages/xarray/core/concat.py:546: FutureWarning: unique with argument that is not not a Series, Index, ExtensionArray, or np.ndarray is deprecated and will raise in a future version.\n",
      "  common_dims = tuple(pd.unique([d for v in vars for d in v.dims]))\n"
     ]
    },
    {
     "data": {
      "text/html": [
       "<div>\n",
       "<style scoped>\n",
       "    .dataframe tbody tr th:only-of-type {\n",
       "        vertical-align: middle;\n",
       "    }\n",
       "\n",
       "    .dataframe tbody tr th {\n",
       "        vertical-align: top;\n",
       "    }\n",
       "\n",
       "    .dataframe thead th {\n",
       "        text-align: right;\n",
       "    }\n",
       "</style>\n",
       "<table border=\"1\" class=\"dataframe\">\n",
       "  <thead>\n",
       "    <tr style=\"text-align: right;\">\n",
       "      <th></th>\n",
       "      <th>mean</th>\n",
       "      <th>sd</th>\n",
       "      <th>hdi_3%</th>\n",
       "      <th>hdi_97%</th>\n",
       "      <th>mcse_mean</th>\n",
       "      <th>mcse_sd</th>\n",
       "      <th>ess_bulk</th>\n",
       "      <th>ess_tail</th>\n",
       "      <th>r_hat</th>\n",
       "    </tr>\n",
       "  </thead>\n",
       "  <tbody>\n",
       "    <tr>\n",
       "      <th>response_threshold[0]</th>\n",
       "      <td>-1.917</td>\n",
       "      <td>0.030</td>\n",
       "      <td>-1.974</td>\n",
       "      <td>-1.863</td>\n",
       "      <td>0.0</td>\n",
       "      <td>0.0</td>\n",
       "      <td>4097.0</td>\n",
       "      <td>3163.0</td>\n",
       "      <td>1.0</td>\n",
       "    </tr>\n",
       "    <tr>\n",
       "      <th>response_threshold[1]</th>\n",
       "      <td>-1.267</td>\n",
       "      <td>0.024</td>\n",
       "      <td>-1.312</td>\n",
       "      <td>-1.220</td>\n",
       "      <td>0.0</td>\n",
       "      <td>0.0</td>\n",
       "      <td>5391.0</td>\n",
       "      <td>3302.0</td>\n",
       "      <td>1.0</td>\n",
       "    </tr>\n",
       "    <tr>\n",
       "      <th>response_threshold[2]</th>\n",
       "      <td>-0.719</td>\n",
       "      <td>0.021</td>\n",
       "      <td>-0.760</td>\n",
       "      <td>-0.681</td>\n",
       "      <td>0.0</td>\n",
       "      <td>0.0</td>\n",
       "      <td>5439.0</td>\n",
       "      <td>3698.0</td>\n",
       "      <td>1.0</td>\n",
       "    </tr>\n",
       "    <tr>\n",
       "      <th>response_threshold[3]</th>\n",
       "      <td>0.248</td>\n",
       "      <td>0.020</td>\n",
       "      <td>0.211</td>\n",
       "      <td>0.287</td>\n",
       "      <td>0.0</td>\n",
       "      <td>0.0</td>\n",
       "      <td>5416.0</td>\n",
       "      <td>3644.0</td>\n",
       "      <td>1.0</td>\n",
       "    </tr>\n",
       "    <tr>\n",
       "      <th>response_threshold[4]</th>\n",
       "      <td>0.890</td>\n",
       "      <td>0.022</td>\n",
       "      <td>0.847</td>\n",
       "      <td>0.930</td>\n",
       "      <td>0.0</td>\n",
       "      <td>0.0</td>\n",
       "      <td>4966.0</td>\n",
       "      <td>3439.0</td>\n",
       "      <td>1.0</td>\n",
       "    </tr>\n",
       "    <tr>\n",
       "      <th>response_threshold[5]</th>\n",
       "      <td>1.770</td>\n",
       "      <td>0.027</td>\n",
       "      <td>1.721</td>\n",
       "      <td>1.823</td>\n",
       "      <td>0.0</td>\n",
       "      <td>0.0</td>\n",
       "      <td>4785.0</td>\n",
       "      <td>3368.0</td>\n",
       "      <td>1.0</td>\n",
       "    </tr>\n",
       "  </tbody>\n",
       "</table>\n",
       "</div>"
      ],
      "text/plain": [
       "                        mean     sd  hdi_3%  hdi_97%  mcse_mean  mcse_sd  \\\n",
       "response_threshold[0] -1.917  0.030  -1.974   -1.863        0.0      0.0   \n",
       "response_threshold[1] -1.267  0.024  -1.312   -1.220        0.0      0.0   \n",
       "response_threshold[2] -0.719  0.021  -0.760   -0.681        0.0      0.0   \n",
       "response_threshold[3]  0.248  0.020   0.211    0.287        0.0      0.0   \n",
       "response_threshold[4]  0.890  0.022   0.847    0.930        0.0      0.0   \n",
       "response_threshold[5]  1.770  0.027   1.721    1.823        0.0      0.0   \n",
       "\n",
       "                       ess_bulk  ess_tail  r_hat  \n",
       "response_threshold[0]    4097.0    3163.0    1.0  \n",
       "response_threshold[1]    5391.0    3302.0    1.0  \n",
       "response_threshold[2]    5439.0    3698.0    1.0  \n",
       "response_threshold[3]    5416.0    3644.0    1.0  \n",
       "response_threshold[4]    4966.0    3439.0    1.0  \n",
       "response_threshold[5]    4785.0    3368.0    1.0  "
      ]
     },
     "execution_count": 6,
     "metadata": {},
     "output_type": "execute_result"
    }
   ],
   "source": [
    "az.summary(idata)"
   ]
  },
  {
   "cell_type": "markdown",
   "metadata": {},
   "source": [
    "Viewing the summary dataframe, we see a total of six cutpoints (`response_threshold`) coefficients. Why six? Remember, we get the last parameter for free, so we only need $K-1$ cutpoints. The index (using zero based indexing) of the `response_threshold` indicates the category that the cutpoint is associated with. Comparing to the empirical log-cumulative-odds computation above, the mean of the posterior distribution for each category is close to the empirical value.\n",
    "\n",
    "As the the log cumalative link is used, we need to apply the inverse of the logit function to transform back to cumulative probabilities. Below, we plot the cumulative probabilities for each category. "
   ]
  },
  {
   "cell_type": "code",
   "execution_count": 7,
   "metadata": {},
   "outputs": [
    {
     "data": {
      "image/png": "[encoded data removed]",
      "text/plain": [
       "<Figure size 700x300 with 1 Axes>"
      ]
     },
     "metadata": {},
     "output_type": "display_data"
    }
   ],
   "source": [
    "expit_func = lambda x: 1 / (1 + np.exp(-x))\n",
    "cumprobs = expit_func(idata.posterior.response_threshold).mean((\"chain\", \"draw\"))\n",
    "cumprobs = np.append(cumprobs, 1)\n",
    "\n",
    "plt.figure(figsize=(7, 3))\n",
    "plt.plot(sorted(trolly.response.unique()), cumprobs, marker='o')\n",
    "plt.ylabel(\"Cumulative probability\")\n",
    "plt.xlabel(\"Response category\")\n",
    "plt.title(\"Cumulative probabilities of response categories\");"
   ]
  },
  {
   "cell_type": "markdown",
   "metadata": {},
   "source": [
    "We can take the derivative of the cumulative probabilities to get the posterior probabilities for each category."
   ]
  },
  {
   "cell_type": "code",
   "execution_count": 8,
   "metadata": {},
   "outputs": [
    {
     "data": {
      "image/png": "[encoded data removed]",
      "text/plain": [
       "<Figure size 700x300 with 1 Axes>"
      ]
     },
     "metadata": {},
     "output_type": "display_data"
    }
   ],
   "source": [
    "# derivative\n",
    "ddx = np.diff(cumprobs)\n",
    "probs = np.insert(ddx, 0, cumprobs[0])\n",
    "\n",
    "plt.figure(figsize=(7, 3))\n",
    "plt.bar(sorted(trolly.response.unique()), probs)\n",
    "plt.ylabel(\"Probability\")\n",
    "plt.xlabel(\"Response category\")\n",
    "plt.title(\"Posterior Probability of each response category\");"
   ]
  },
  {
   "cell_type": "code",
   "execution_count": 27,
   "metadata": {},
   "outputs": [
    {
     "data": {
      "image/png": "[encoded data removed]",
      "text/plain": [
       "<Figure size 700x300 with 1 Axes>"
      ]
     },
     "metadata": {},
     "output_type": "display_data"
    }
   ],
   "source": [
    "fig, ax = plt.subplots(figsize=(7, 3))\n",
    "for i in range(6):\n",
    "    outcome = expit_func(idata.posterior.response_threshold).sel(response_threshold_dim=i).to_numpy().flatten()\n",
    "    ax.hist(outcome, bins=15, alpha=0.5, label=f\"Category: {i}\")\n",
    "ax.set_xlabel(\"Probability\")\n",
    "ax.set_ylabel(\"Count\")\n",
    "ax.set_title(\"Cumulative Probability by Response Category\")\n",
    "ax.legend(bbox_to_anchor=(1.04, 1), loc=\"upper left\");"
   ]
  },
  {
   "cell_type": "markdown",
   "metadata": {},
   "source": [
    "Notice in the plots above, the jump in probability from category 3 to 4. Additionally, the estimates of the coefficients is precise for each category. Now that we have an understanding how the cumulative link function is applied to produce ordered cumulative outcomes, we will add predictors to the model. "
   ]
  },
  {
   "cell_type": "markdown",
   "metadata": {},
   "source": [
    "### Adding predictors\n",
    "\n",
    "In the cumulative model described above, adding predictors was explicitly left out. In this section, it is described how predictors are added to ordinal cumulative models. When adding predictor variables, what we would like is for any predictor, as it increases, predictions are moved progressively (increased) through the categories in sequence. A predictor term $\\eta$ is defined as\n",
    "\n",
    "$$\\eta = \\beta_1 x_1 + \\beta_2 x_2 +, . . ., \\beta_n x_n + \\epsilon$$\n",
    "\n",
    "Note how similar this looks to an ordinary linear model. However, there is no intercept term. This is because the intercept is replaced by the threshold $\\tau$. Putting the predictor term together with the thresholds and cumulative distribution function, we obtain the probability of $Y$ being equal to a category $k$ as\n",
    "\n",
    "$$Pr(Y = k | \\eta) = F(\\tau_k - \\eta) - F(\\tau_{k-1} - \\eta)$$\n",
    "\n",
    "The same predictor term $\\eta$ is subtracted from each threshold because if we decrease the log-cumulative-odds of every outcome value $k$ below the maximum, this shifts probability mass upwards towards higher outcome values. Thus, positive $\\beta$ values correspond to increasing $x$, which is associated with an increase in the mean response $Y$. The parameters to be estimated from the model are the thresholds $\\tau$ and the predictor terms $\\eta$ coefficients.  \n",
    "\n",
    "To add predictors for ordinal models in Bambi, we continue to use the formula interface."
   ]
  },
  {
   "cell_type": "code",
   "execution_count": 10,
   "metadata": {},
   "outputs": [
    {
     "name": "stderr",
     "output_type": "stream",
     "text": [
      "/Users/gabestechschulte/miniforge3/envs/bambinos/lib/python3.11/site-packages/formulae/terms/variable.py:87: FutureWarning: is_categorical_dtype is deprecated and will be removed in a future version. Use isinstance(dtype, CategoricalDtype) instead\n",
      "  elif is_string_dtype(x) or is_categorical_dtype(x):\n",
      "/Users/gabestechschulte/miniforge3/envs/bambinos/lib/python3.11/site-packages/pymc/distributions/transforms.py:56: FutureWarning: univariate_ordered has been deprecated, use ordered instead.\n",
      "  warnings.warn(f\"{name} has been deprecated, use ordered instead.\", FutureWarning)\n",
      "Auto-assigning NUTS sampler...\n",
      "Initializing NUTS using jitter+adapt_diag...\n",
      "Multiprocess sampling (4 chains in 4 jobs)\n",
      "NUTS: [response_threshold, action, intention, contact, action:intention, contact:intention]\n",
      "/Users/gabestechschulte/miniforge3/envs/bambinos/lib/python3.11/site-packages/pytensor/compile/function/types.py:970: RuntimeWarning: invalid value encountered in accumulate\n",
      "  self.vm()\n",
      "/Users/gabestechschulte/miniforge3/envs/bambinos/lib/python3.11/site-packages/pytensor/compile/function/types.py:970: RuntimeWarning: invalid value encountered in accumulate\n",
      "  self.vm()\n"
     ]
    },
    {
     "data": {
      "text/html": [
       "\n",
       "<style>\n",
       "    /* Turns off some styling */\n",
       "    progress {\n",
       "        /* gets rid of default border in Firefox and Opera. */\n",
       "        border: none;\n",
       "        /* Needs to be in here for Safari polyfill so background images work as expected. */\n",
       "        background-size: auto;\n",
       "    }\n",
       "    progress:not([value]), progress:not([value])::-webkit-progress-bar {\n",
       "        background: repeating-linear-gradient(45deg, #7e7e7e, #7e7e7e 10px, #5c5c5c 10px, #5c5c5c 20px);\n",
       "    }\n",
       "    .progress-bar-interrupted, .progress-bar-interrupted::-webkit-progress-bar {\n",
       "        background: #F44336;\n",
       "    }\n",
       "</style>\n"
      ],
      "text/plain": [
       "<IPython.core.display.HTML object>"
      ]
     },
     "metadata": {},
     "output_type": "display_data"
    },
    {
     "data": {
      "text/html": [
       "\n",
       "    <div>\n",
       "      <progress value='8000' class='' max='8000' style='width:300px; height:20px; vertical-align: middle;'></progress>\n",
       "      100.00% [8000/8000 45:32&lt;00:00 Sampling 4 chains, 0 divergences]\n",
       "    </div>\n",
       "    "
      ],
      "text/plain": [
       "<IPython.core.display.HTML object>"
      ]
     },
     "metadata": {},
     "output_type": "display_data"
    },
    {
     "name": "stderr",
     "output_type": "stream",
     "text": [
      "Sampling 4 chains for 1_000 tune and 1_000 draw iterations (4_000 + 4_000 draws total) took 2732 seconds.\n"
     ]
    }
   ],
   "source": [
    "model = bmb.Model(\n",
    "    \"response ~ 0 + action + intention + contact + action:intention + contact:intention\", \n",
    "    data=trolly, \n",
    "    family=\"cumulative\"\n",
    ")\n",
    "idata = model.fit(random_seed=1234)"
   ]
  },
  {
   "cell_type": "markdown",
   "metadata": {},
   "source": [
    "In the summary dataframe below, we only select the predictor variables as the thresholds are not of interest at the moment."
   ]
  },
  {
   "cell_type": "code",
   "execution_count": 15,
   "metadata": {},
   "outputs": [
    {
     "name": "stderr",
     "output_type": "stream",
     "text": [
      "/Users/gabestechschulte/miniforge3/envs/bambinos/lib/python3.11/site-packages/xarray/core/concat.py:546: FutureWarning: unique with argument that is not not a Series, Index, ExtensionArray, or np.ndarray is deprecated and will raise in a future version.\n",
      "  common_dims = tuple(pd.unique([d for v in vars for d in v.dims]))\n"
     ]
    },
    {
     "data": {
      "text/html": [
       "<div>\n",
       "<style scoped>\n",
       "    .dataframe tbody tr th:only-of-type {\n",
       "        vertical-align: middle;\n",
       "    }\n",
       "\n",
       "    .dataframe tbody tr th {\n",
       "        vertical-align: top;\n",
       "    }\n",
       "\n",
       "    .dataframe thead th {\n",
       "        text-align: right;\n",
       "    }\n",
       "</style>\n",
       "<table border=\"1\" class=\"dataframe\">\n",
       "  <thead>\n",
       "    <tr style=\"text-align: right;\">\n",
       "      <th></th>\n",
       "      <th>mean</th>\n",
       "      <th>sd</th>\n",
       "      <th>hdi_3%</th>\n",
       "      <th>hdi_97%</th>\n",
       "      <th>mcse_mean</th>\n",
       "      <th>mcse_sd</th>\n",
       "      <th>ess_bulk</th>\n",
       "      <th>ess_tail</th>\n",
       "      <th>r_hat</th>\n",
       "    </tr>\n",
       "  </thead>\n",
       "  <tbody>\n",
       "    <tr>\n",
       "      <th>action[1]</th>\n",
       "      <td>-0.465</td>\n",
       "      <td>0.055</td>\n",
       "      <td>-0.563</td>\n",
       "      <td>-0.363</td>\n",
       "      <td>0.001</td>\n",
       "      <td>0.001</td>\n",
       "      <td>2647.0</td>\n",
       "      <td>2834.0</td>\n",
       "      <td>1.0</td>\n",
       "    </tr>\n",
       "    <tr>\n",
       "      <th>intention[1]</th>\n",
       "      <td>-0.276</td>\n",
       "      <td>0.058</td>\n",
       "      <td>-0.387</td>\n",
       "      <td>-0.171</td>\n",
       "      <td>0.001</td>\n",
       "      <td>0.001</td>\n",
       "      <td>2174.0</td>\n",
       "      <td>2857.0</td>\n",
       "      <td>1.0</td>\n",
       "    </tr>\n",
       "    <tr>\n",
       "      <th>contact[1]</th>\n",
       "      <td>-0.325</td>\n",
       "      <td>0.069</td>\n",
       "      <td>-0.456</td>\n",
       "      <td>-0.197</td>\n",
       "      <td>0.001</td>\n",
       "      <td>0.001</td>\n",
       "      <td>2660.0</td>\n",
       "      <td>2896.0</td>\n",
       "      <td>1.0</td>\n",
       "    </tr>\n",
       "    <tr>\n",
       "      <th>action:intention[1, 1]</th>\n",
       "      <td>-0.452</td>\n",
       "      <td>0.081</td>\n",
       "      <td>-0.605</td>\n",
       "      <td>-0.301</td>\n",
       "      <td>0.002</td>\n",
       "      <td>0.001</td>\n",
       "      <td>2515.0</td>\n",
       "      <td>2580.0</td>\n",
       "      <td>1.0</td>\n",
       "    </tr>\n",
       "    <tr>\n",
       "      <th>contact:intention[1, 1]</th>\n",
       "      <td>-1.279</td>\n",
       "      <td>0.099</td>\n",
       "      <td>-1.457</td>\n",
       "      <td>-1.086</td>\n",
       "      <td>0.002</td>\n",
       "      <td>0.001</td>\n",
       "      <td>2575.0</td>\n",
       "      <td>3023.0</td>\n",
       "      <td>1.0</td>\n",
       "    </tr>\n",
       "  </tbody>\n",
       "</table>\n",
       "</div>"
      ],
      "text/plain": [
       "                          mean     sd  hdi_3%  hdi_97%  mcse_mean  mcse_sd  \\\n",
       "action[1]               -0.465  0.055  -0.563   -0.363      0.001    0.001   \n",
       "intention[1]            -0.276  0.058  -0.387   -0.171      0.001    0.001   \n",
       "contact[1]              -0.325  0.069  -0.456   -0.197      0.001    0.001   \n",
       "action:intention[1, 1]  -0.452  0.081  -0.605   -0.301      0.002    0.001   \n",
       "contact:intention[1, 1] -1.279  0.099  -1.457   -1.086      0.002    0.001   \n",
       "\n",
       "                         ess_bulk  ess_tail  r_hat  \n",
       "action[1]                  2647.0    2834.0    1.0  \n",
       "intention[1]               2174.0    2857.0    1.0  \n",
       "contact[1]                 2660.0    2896.0    1.0  \n",
       "action:intention[1, 1]     2515.0    2580.0    1.0  \n",
       "contact:intention[1, 1]    2575.0    3023.0    1.0  "
      ]
     },
     "execution_count": 15,
     "metadata": {},
     "output_type": "execute_result"
    }
   ],
   "source": [
    "az.summary(\n",
    "    idata, \n",
    "    var_names=[\"action\", \"intention\", \"contact\", \n",
    "               \"action:intention\", \"contact:intention\"]\n",
    ")"
   ]
  },
  {
   "cell_type": "markdown",
   "metadata": {},
   "source": [
    "The posterior distribution of the slopes are all negative indicating that each of these story features reduces the rating—the acceptability of the story. Below, a forest plot is used to make this insight more clear."
   ]
  },
  {
   "cell_type": "code",
   "execution_count": 14,
   "metadata": {},
   "outputs": [
    {
     "data": {
      "image/png": "[encoded data removed]",
      "text/plain": [
       "<Figure size 700x300 with 1 Axes>"
      ]
     },
     "metadata": {},
     "output_type": "display_data"
    }
   ],
   "source": [
    "az.plot_forest(\n",
    "    idata,\n",
    "    combined=True,\n",
    "    var_names=[\"action\", \"intention\", \"contact\", \n",
    "               \"action:intention\", \"contact:intention\"],\n",
    "    figsize=(7, 3),\n",
    "    textsize=11\n",
    ");"
   ]
  },
  {
   "cell_type": "markdown",
   "metadata": {},
   "source": [
    "Again, we can plot the cumulative probability of each category. Compared to the same plot above, notice how most of the category probabilities have been shifted to the left. Additionally, there is more uncertainty for category 3, 4, and 5."
   ]
  },
  {
   "cell_type": "code",
   "execution_count": 16,
   "metadata": {},
   "outputs": [
    {
     "data": {
      "image/png": "[encoded data removed]",
      "text/plain": [
       "<Figure size 700x300 with 1 Axes>"
      ]
     },
     "metadata": {},
     "output_type": "display_data"
    }
   ],
   "source": [
    "fig, ax = plt.subplots(figsize=(7, 3))\n",
    "for i in range(6):\n",
    "    outcome = expit_func(idata.posterior.response_threshold).sel(response_threshold_dim=i).to_numpy().flatten()\n",
    "    ax.hist(outcome, bins=15, alpha=0.5, label=f\"Category: {i}\")\n",
    "ax.set_xlabel(\"Probability\")\n",
    "ax.set_ylabel(\"Count\")\n",
    "ax.set_title(\"Cumulative Probability by Category\")\n",
    "ax.legend(bbox_to_anchor=(1.04, 1), loc=\"upper left\");"
   ]
  },
  {
   "cell_type": "markdown",
   "metadata": {},
   "source": [
    "#### Posterior predictive distribution\n",
    "\n",
    "To get a sense of how well the ordinal model fits the data, we can plot samples from the posterior predictive distribution. "
   ]
  },
  {
   "cell_type": "code",
   "execution_count": 15,
   "metadata": {},
   "outputs": [
    {
     "data": {
      "image/png": "[encoded data removed]",
      "text/plain": [
       "<Figure size 700x300 with 1 Axes>"
      ]
     },
     "metadata": {},
     "output_type": "display_data"
    }
   ],
   "source": [
    "idata_pps = model.predict(idata=idata, kind=\"pps\", inplace=False)\n",
    "\n",
    "ax = az.plot_ppc(idata_pps, figsize=(7, 3), textsize=11)\n",
    "ax.set_xticks(np.linspace(0.2, 7, 7))\n",
    "ax.set_xticklabels(model.response_component.response_term.levels);"
   ]
  },
  {
   "cell_type": "markdown",
   "metadata": {},
   "source": [
    "Looking at the observed and posterior predictive mean, the model captures the observed frequencies of the categories well. "
   ]
  },
  {
   "cell_type": "markdown",
   "metadata": {},
   "source": [
    "## Sequential Model\n",
    "\n",
    "For some ordinal variables, the assumption of a **single** underlying continuous variable (as in cumulative models) may not be appropriate. If the response can be understood as being the result of a sequential process, such that a higher response category is possible only after all lower categories are achieved, then a sequential model may be more appropriate than a cumulative model.\n",
    "\n",
    "Sequential models assume that for **every** category $k$ there is a latent continuous variable $Z$ that determines the transition between categories $k$ and $k+1$. Now, a threshold $\\tau$ belongs to each latent process. If there are 3 categories, then there are 3 latent processes. If $Z_k$ is greater than the threshold $\\tau_k$, the sequential process continues, otherwise it stops at category $k$. As with the cumulative model, we still assume a distribution for $Z_k$ with a cumulative distribution function $F$.\n",
    "\n",
    "As an example, lets suppose we are interested in modeling the probability a boxer makes it to round 3. This implies that the particular boxer in question survived round 1 $Z_1 > \\tau_1$ , 2 $Z_2 > \\tau_2$, and 3 $Z_3 > \\tau_3$. This can be written as \n",
    "\n",
    "$$Pr(Y = 3) = (1 - Pr(Z_1))(1 - Pr(Z_2))(1 - Pr(Z_3))$$\n",
    "\n",
    "As in the cumulative model above, if we assume $Y$ to be normally distributed with the thresholds $\\tau_0 = -1, \\tau_1 = 0, \\tau_2 = 1$ and cumulative distribution function $\\Phi$ then\n",
    "\n",
    "$$Pr(Y = 3) = (1 - \\Phi(\\tau_0))(1 - \\Phi(\\tau_1))(1 - \\Phi(\\tau_2))$$\n",
    "\n",
    "To add predictors to this sequential model, we follow the same specification in the _Adding Predictors_ section above. Thus, the sequential model with predictor terms becomes\n",
    "\n",
    "$$P(Y = k) = F(\\tau_k - \\eta) * \\prod_{j=1}^{k-1}{(1 - F(\\tau_j - \\eta))}$$\n",
    "\n",
    "Thus, the probability that $Y$ is equal to category $k$ is equal to the probability that it did not fall in one of the former categories $1: k-1$ multiplied by the probability that the sequential process stopped at $k$ rather than continuing past it."
   ]
  },
  {
   "cell_type": "markdown",
   "metadata": {},
   "source": [
    "### Human resources attrition dataset\n",
    "\n",
    "To illustrate an sequential model with a stopping ratio link function, we will use data from the IBM human resources employee attrition and performance [dataset](https://www.kaggle.com/datasets/pavansubhasht/ibm-hr-analytics-attrition-dataset). The original dataset contains 1470 rows and 35 columns. However, our goal is to model the total working years of employees using age as a predictor. This data lends itself to a sequential model as the response, total working years, is a sequential process. In order to have 10 years of working experience, it is necessarily true that the employee had 9 years of working experience. Additionally, age is choosen as a predictor as it is positively correlated with total working years."
   ]
  },
  {
   "cell_type": "code",
   "execution_count": 18,
   "metadata": {},
   "outputs": [
    {
     "data": {
      "text/html": [
       "<div>\n",
       "<style scoped>\n",
       "    .dataframe tbody tr th:only-of-type {\n",
       "        vertical-align: middle;\n",
       "    }\n",
       "\n",
       "    .dataframe tbody tr th {\n",
       "        vertical-align: top;\n",
       "    }\n",
       "\n",
       "    .dataframe thead th {\n",
       "        text-align: right;\n",
       "    }\n",
       "</style>\n",
       "<table border=\"1\" class=\"dataframe\">\n",
       "  <thead>\n",
       "    <tr style=\"text-align: right;\">\n",
       "      <th></th>\n",
       "      <th>YearsAtCompany</th>\n",
       "      <th>Age</th>\n",
       "    </tr>\n",
       "  </thead>\n",
       "  <tbody>\n",
       "    <tr>\n",
       "      <th>1</th>\n",
       "      <td>10</td>\n",
       "      <td>49</td>\n",
       "    </tr>\n",
       "    <tr>\n",
       "      <th>3</th>\n",
       "      <td>8</td>\n",
       "      <td>33</td>\n",
       "    </tr>\n",
       "    <tr>\n",
       "      <th>4</th>\n",
       "      <td>2</td>\n",
       "      <td>27</td>\n",
       "    </tr>\n",
       "    <tr>\n",
       "      <th>5</th>\n",
       "      <td>7</td>\n",
       "      <td>32</td>\n",
       "    </tr>\n",
       "    <tr>\n",
       "      <th>6</th>\n",
       "      <td>1</td>\n",
       "      <td>59</td>\n",
       "    </tr>\n",
       "  </tbody>\n",
       "</table>\n",
       "</div>"
      ],
      "text/plain": [
       "  YearsAtCompany  Age\n",
       "1             10   49\n",
       "3              8   33\n",
       "4              2   27\n",
       "5              7   32\n",
       "6              1   59"
      ]
     },
     "execution_count": 18,
     "metadata": {},
     "output_type": "execute_result"
    }
   ],
   "source": [
    "attrition = pd.read_csv(\"data/hr_employee_attrition.tsv.txt\", sep=\"\\t\")\n",
    "attrition = attrition[attrition[\"Attrition\"] == \"No\"]\n",
    "attrition[\"YearsAtCompany\"] = pd.Categorical(attrition[\"YearsAtCompany\"], ordered=True)\n",
    "attrition[[\"YearsAtCompany\", \"Age\"]].head()"
   ]
  },
  {
   "cell_type": "markdown",
   "metadata": {},
   "source": [
    "Fitting a sequential model is similar to fitting a cumulative model. The only difference is that we pass `family=\"sratio\"` to the `bambi.Model` constructor. "
   ]
  },
  {
   "cell_type": "code",
   "execution_count": 19,
   "metadata": {},
   "outputs": [
    {
     "name": "stderr",
     "output_type": "stream",
     "text": [
      "/Users/gabestechschulte/miniforge3/envs/bambinos/lib/python3.11/site-packages/formulae/terms/variable.py:87: FutureWarning: is_categorical_dtype is deprecated and will be removed in a future version. Use isinstance(dtype, CategoricalDtype) instead\n",
      "  elif is_string_dtype(x) or is_categorical_dtype(x):\n",
      "Auto-assigning NUTS sampler...\n",
      "Initializing NUTS using jitter+adapt_diag...\n",
      "Multiprocess sampling (4 chains in 4 jobs)\n",
      "NUTS: [YearsAtCompany_threshold, TotalWorkingYears]\n"
     ]
    },
    {
     "data": {
      "text/html": [
       "\n",
       "<style>\n",
       "    /* Turns off some styling */\n",
       "    progress {\n",
       "        /* gets rid of default border in Firefox and Opera. */\n",
       "        border: none;\n",
       "        /* Needs to be in here for Safari polyfill so background images work as expected. */\n",
       "        background-size: auto;\n",
       "    }\n",
       "    progress:not([value]), progress:not([value])::-webkit-progress-bar {\n",
       "        background: repeating-linear-gradient(45deg, #7e7e7e, #7e7e7e 10px, #5c5c5c 10px, #5c5c5c 20px);\n",
       "    }\n",
       "    .progress-bar-interrupted, .progress-bar-interrupted::-webkit-progress-bar {\n",
       "        background: #F44336;\n",
       "    }\n",
       "</style>\n"
      ],
      "text/plain": [
       "<IPython.core.display.HTML object>"
      ]
     },
     "metadata": {},
     "output_type": "display_data"
    },
    {
     "data": {
      "text/html": [
       "\n",
       "    <div>\n",
       "      <progress value='8000' class='' max='8000' style='width:300px; height:20px; vertical-align: middle;'></progress>\n",
       "      100.00% [8000/8000 03:30&lt;00:00 Sampling 4 chains, 0 divergences]\n",
       "    </div>\n",
       "    "
      ],
      "text/plain": [
       "<IPython.core.display.HTML object>"
      ]
     },
     "metadata": {},
     "output_type": "display_data"
    },
    {
     "name": "stderr",
     "output_type": "stream",
     "text": [
      "Sampling 4 chains for 1_000 tune and 1_000 draw iterations (4_000 + 4_000 draws total) took 211 seconds.\n"
     ]
    }
   ],
   "source": [
    "sequence_model = bmb.Model(\"YearsAtCompany ~ 0 + TotalWorkingYears\", data=attrition, family=\"sratio\")\n",
    "sequence_idata = sequence_model.fit(random_seed=1234)"
   ]
  },
  {
   "cell_type": "code",
   "execution_count": 20,
   "metadata": {},
   "outputs": [
    {
     "name": "stderr",
     "output_type": "stream",
     "text": [
      "/Users/gabestechschulte/miniforge3/envs/bambinos/lib/python3.11/site-packages/xarray/core/concat.py:546: FutureWarning: unique with argument that is not not a Series, Index, ExtensionArray, or np.ndarray is deprecated and will raise in a future version.\n",
      "  common_dims = tuple(pd.unique([d for v in vars for d in v.dims]))\n"
     ]
    },
    {
     "data": {
      "text/html": [
       "<div>\n",
       "<style scoped>\n",
       "    .dataframe tbody tr th:only-of-type {\n",
       "        vertical-align: middle;\n",
       "    }\n",
       "\n",
       "    .dataframe tbody tr th {\n",
       "        vertical-align: top;\n",
       "    }\n",
       "\n",
       "    .dataframe thead th {\n",
       "        text-align: right;\n",
       "    }\n",
       "</style>\n",
       "<table border=\"1\" class=\"dataframe\">\n",
       "  <thead>\n",
       "    <tr style=\"text-align: right;\">\n",
       "      <th></th>\n",
       "      <th>mean</th>\n",
       "      <th>sd</th>\n",
       "      <th>hdi_3%</th>\n",
       "      <th>hdi_97%</th>\n",
       "      <th>mcse_mean</th>\n",
       "      <th>mcse_sd</th>\n",
       "      <th>ess_bulk</th>\n",
       "      <th>ess_tail</th>\n",
       "      <th>r_hat</th>\n",
       "    </tr>\n",
       "  </thead>\n",
       "  <tbody>\n",
       "    <tr>\n",
       "      <th>YearsAtCompany_threshold[0]</th>\n",
       "      <td>-2.572</td>\n",
       "      <td>0.198</td>\n",
       "      <td>-2.937</td>\n",
       "      <td>-2.201</td>\n",
       "      <td>0.003</td>\n",
       "      <td>0.002</td>\n",
       "      <td>5129.0</td>\n",
       "      <td>2350.0</td>\n",
       "      <td>1.0</td>\n",
       "    </tr>\n",
       "    <tr>\n",
       "      <th>YearsAtCompany_threshold[1]</th>\n",
       "      <td>-1.054</td>\n",
       "      <td>0.110</td>\n",
       "      <td>-1.264</td>\n",
       "      <td>-0.855</td>\n",
       "      <td>0.002</td>\n",
       "      <td>0.001</td>\n",
       "      <td>3021.0</td>\n",
       "      <td>2994.0</td>\n",
       "      <td>1.0</td>\n",
       "    </tr>\n",
       "    <tr>\n",
       "      <th>YearsAtCompany_threshold[2]</th>\n",
       "      <td>-1.018</td>\n",
       "      <td>0.117</td>\n",
       "      <td>-1.243</td>\n",
       "      <td>-0.812</td>\n",
       "      <td>0.002</td>\n",
       "      <td>0.001</td>\n",
       "      <td>3451.0</td>\n",
       "      <td>2661.0</td>\n",
       "      <td>1.0</td>\n",
       "    </tr>\n",
       "    <tr>\n",
       "      <th>YearsAtCompany_threshold[3]</th>\n",
       "      <td>-0.757</td>\n",
       "      <td>0.118</td>\n",
       "      <td>-0.974</td>\n",
       "      <td>-0.542</td>\n",
       "      <td>0.002</td>\n",
       "      <td>0.001</td>\n",
       "      <td>3384.0</td>\n",
       "      <td>2770.0</td>\n",
       "      <td>1.0</td>\n",
       "    </tr>\n",
       "    <tr>\n",
       "      <th>YearsAtCompany_threshold[4]</th>\n",
       "      <td>-0.755</td>\n",
       "      <td>0.122</td>\n",
       "      <td>-0.992</td>\n",
       "      <td>-0.538</td>\n",
       "      <td>0.002</td>\n",
       "      <td>0.002</td>\n",
       "      <td>3211.0</td>\n",
       "      <td>2712.0</td>\n",
       "      <td>1.0</td>\n",
       "    </tr>\n",
       "    <tr>\n",
       "      <th>YearsAtCompany_threshold[5]</th>\n",
       "      <td>0.263</td>\n",
       "      <td>0.104</td>\n",
       "      <td>0.057</td>\n",
       "      <td>0.447</td>\n",
       "      <td>0.002</td>\n",
       "      <td>0.002</td>\n",
       "      <td>2327.0</td>\n",
       "      <td>2532.0</td>\n",
       "      <td>1.0</td>\n",
       "    </tr>\n",
       "    <tr>\n",
       "      <th>YearsAtCompany_threshold[6]</th>\n",
       "      <td>-0.503</td>\n",
       "      <td>0.143</td>\n",
       "      <td>-0.782</td>\n",
       "      <td>-0.247</td>\n",
       "      <td>0.003</td>\n",
       "      <td>0.002</td>\n",
       "      <td>3170.0</td>\n",
       "      <td>3111.0</td>\n",
       "      <td>1.0</td>\n",
       "    </tr>\n",
       "    <tr>\n",
       "      <th>YearsAtCompany_threshold[7]</th>\n",
       "      <td>-0.077</td>\n",
       "      <td>0.140</td>\n",
       "      <td>-0.328</td>\n",
       "      <td>0.195</td>\n",
       "      <td>0.003</td>\n",
       "      <td>0.002</td>\n",
       "      <td>2829.0</td>\n",
       "      <td>3449.0</td>\n",
       "      <td>1.0</td>\n",
       "    </tr>\n",
       "    <tr>\n",
       "      <th>YearsAtCompany_threshold[8]</th>\n",
       "      <td>0.039</td>\n",
       "      <td>0.149</td>\n",
       "      <td>-0.232</td>\n",
       "      <td>0.326</td>\n",
       "      <td>0.003</td>\n",
       "      <td>0.002</td>\n",
       "      <td>3147.0</td>\n",
       "      <td>3008.0</td>\n",
       "      <td>1.0</td>\n",
       "    </tr>\n",
       "    <tr>\n",
       "      <th>YearsAtCompany_threshold[9]</th>\n",
       "      <td>0.400</td>\n",
       "      <td>0.149</td>\n",
       "      <td>0.128</td>\n",
       "      <td>0.685</td>\n",
       "      <td>0.003</td>\n",
       "      <td>0.002</td>\n",
       "      <td>2833.0</td>\n",
       "      <td>2733.0</td>\n",
       "      <td>1.0</td>\n",
       "    </tr>\n",
       "    <tr>\n",
       "      <th>YearsAtCompany_threshold[10]</th>\n",
       "      <td>1.290</td>\n",
       "      <td>0.151</td>\n",
       "      <td>1.013</td>\n",
       "      <td>1.573</td>\n",
       "      <td>0.003</td>\n",
       "      <td>0.002</td>\n",
       "      <td>2323.0</td>\n",
       "      <td>2543.0</td>\n",
       "      <td>1.0</td>\n",
       "    </tr>\n",
       "    <tr>\n",
       "      <th>YearsAtCompany_threshold[11]</th>\n",
       "      <td>0.449</td>\n",
       "      <td>0.214</td>\n",
       "      <td>0.037</td>\n",
       "      <td>0.832</td>\n",
       "      <td>0.004</td>\n",
       "      <td>0.003</td>\n",
       "      <td>3133.0</td>\n",
       "      <td>3068.0</td>\n",
       "      <td>1.0</td>\n",
       "    </tr>\n",
       "    <tr>\n",
       "      <th>YearsAtCompany_threshold[12]</th>\n",
       "      <td>-0.118</td>\n",
       "      <td>0.296</td>\n",
       "      <td>-0.694</td>\n",
       "      <td>0.414</td>\n",
       "      <td>0.004</td>\n",
       "      <td>0.005</td>\n",
       "      <td>4813.0</td>\n",
       "      <td>2698.0</td>\n",
       "      <td>1.0</td>\n",
       "    </tr>\n",
       "    <tr>\n",
       "      <th>YearsAtCompany_threshold[13]</th>\n",
       "      <td>0.533</td>\n",
       "      <td>0.247</td>\n",
       "      <td>0.069</td>\n",
       "      <td>0.996</td>\n",
       "      <td>0.004</td>\n",
       "      <td>0.003</td>\n",
       "      <td>3253.0</td>\n",
       "      <td>2503.0</td>\n",
       "      <td>1.0</td>\n",
       "    </tr>\n",
       "    <tr>\n",
       "      <th>YearsAtCompany_threshold[14]</th>\n",
       "      <td>0.412</td>\n",
       "      <td>0.289</td>\n",
       "      <td>-0.129</td>\n",
       "      <td>0.943</td>\n",
       "      <td>0.005</td>\n",
       "      <td>0.003</td>\n",
       "      <td>4006.0</td>\n",
       "      <td>3026.0</td>\n",
       "      <td>1.0</td>\n",
       "    </tr>\n",
       "    <tr>\n",
       "      <th>YearsAtCompany_threshold[15]</th>\n",
       "      <td>0.825</td>\n",
       "      <td>0.268</td>\n",
       "      <td>0.326</td>\n",
       "      <td>1.328</td>\n",
       "      <td>0.004</td>\n",
       "      <td>0.003</td>\n",
       "      <td>3628.0</td>\n",
       "      <td>2760.0</td>\n",
       "      <td>1.0</td>\n",
       "    </tr>\n",
       "    <tr>\n",
       "      <th>YearsAtCompany_threshold[16]</th>\n",
       "      <td>0.466</td>\n",
       "      <td>0.342</td>\n",
       "      <td>-0.188</td>\n",
       "      <td>1.080</td>\n",
       "      <td>0.006</td>\n",
       "      <td>0.004</td>\n",
       "      <td>3802.0</td>\n",
       "      <td>2888.0</td>\n",
       "      <td>1.0</td>\n",
       "    </tr>\n",
       "    <tr>\n",
       "      <th>YearsAtCompany_threshold[17]</th>\n",
       "      <td>0.292</td>\n",
       "      <td>0.377</td>\n",
       "      <td>-0.397</td>\n",
       "      <td>0.994</td>\n",
       "      <td>0.006</td>\n",
       "      <td>0.005</td>\n",
       "      <td>4280.0</td>\n",
       "      <td>2866.0</td>\n",
       "      <td>1.0</td>\n",
       "    </tr>\n",
       "    <tr>\n",
       "      <th>YearsAtCompany_threshold[18]</th>\n",
       "      <td>0.866</td>\n",
       "      <td>0.324</td>\n",
       "      <td>0.234</td>\n",
       "      <td>1.454</td>\n",
       "      <td>0.005</td>\n",
       "      <td>0.004</td>\n",
       "      <td>3796.0</td>\n",
       "      <td>2870.0</td>\n",
       "      <td>1.0</td>\n",
       "    </tr>\n",
       "    <tr>\n",
       "      <th>YearsAtCompany_threshold[19]</th>\n",
       "      <td>0.858</td>\n",
       "      <td>0.354</td>\n",
       "      <td>0.177</td>\n",
       "      <td>1.490</td>\n",
       "      <td>0.006</td>\n",
       "      <td>0.004</td>\n",
       "      <td>4165.0</td>\n",
       "      <td>2558.0</td>\n",
       "      <td>1.0</td>\n",
       "    </tr>\n",
       "    <tr>\n",
       "      <th>YearsAtCompany_threshold[20]</th>\n",
       "      <td>2.274</td>\n",
       "      <td>0.272</td>\n",
       "      <td>1.756</td>\n",
       "      <td>2.778</td>\n",
       "      <td>0.005</td>\n",
       "      <td>0.004</td>\n",
       "      <td>2747.0</td>\n",
       "      <td>2764.0</td>\n",
       "      <td>1.0</td>\n",
       "    </tr>\n",
       "    <tr>\n",
       "      <th>YearsAtCompany_threshold[21]</th>\n",
       "      <td>1.936</td>\n",
       "      <td>0.357</td>\n",
       "      <td>1.254</td>\n",
       "      <td>2.572</td>\n",
       "      <td>0.006</td>\n",
       "      <td>0.004</td>\n",
       "      <td>4105.0</td>\n",
       "      <td>2921.0</td>\n",
       "      <td>1.0</td>\n",
       "    </tr>\n",
       "    <tr>\n",
       "      <th>YearsAtCompany_threshold[22]</th>\n",
       "      <td>2.554</td>\n",
       "      <td>0.357</td>\n",
       "      <td>1.880</td>\n",
       "      <td>3.215</td>\n",
       "      <td>0.006</td>\n",
       "      <td>0.004</td>\n",
       "      <td>3234.0</td>\n",
       "      <td>2823.0</td>\n",
       "      <td>1.0</td>\n",
       "    </tr>\n",
       "    <tr>\n",
       "      <th>YearsAtCompany_threshold[23]</th>\n",
       "      <td>0.427</td>\n",
       "      <td>0.684</td>\n",
       "      <td>-0.915</td>\n",
       "      <td>1.622</td>\n",
       "      <td>0.009</td>\n",
       "      <td>0.011</td>\n",
       "      <td>6890.0</td>\n",
       "      <td>2845.0</td>\n",
       "      <td>1.0</td>\n",
       "    </tr>\n",
       "    <tr>\n",
       "      <th>YearsAtCompany_threshold[24]</th>\n",
       "      <td>1.852</td>\n",
       "      <td>0.502</td>\n",
       "      <td>0.896</td>\n",
       "      <td>2.753</td>\n",
       "      <td>0.008</td>\n",
       "      <td>0.005</td>\n",
       "      <td>4524.0</td>\n",
       "      <td>2805.0</td>\n",
       "      <td>1.0</td>\n",
       "    </tr>\n",
       "    <tr>\n",
       "      <th>YearsAtCompany_threshold[25]</th>\n",
       "      <td>1.869</td>\n",
       "      <td>0.559</td>\n",
       "      <td>0.823</td>\n",
       "      <td>2.876</td>\n",
       "      <td>0.009</td>\n",
       "      <td>0.006</td>\n",
       "      <td>4210.0</td>\n",
       "      <td>2428.0</td>\n",
       "      <td>1.0</td>\n",
       "    </tr>\n",
       "    <tr>\n",
       "      <th>YearsAtCompany_threshold[26]</th>\n",
       "      <td>2.141</td>\n",
       "      <td>0.559</td>\n",
       "      <td>1.133</td>\n",
       "      <td>3.228</td>\n",
       "      <td>0.008</td>\n",
       "      <td>0.006</td>\n",
       "      <td>4854.0</td>\n",
       "      <td>2761.0</td>\n",
       "      <td>1.0</td>\n",
       "    </tr>\n",
       "    <tr>\n",
       "      <th>YearsAtCompany_threshold[27]</th>\n",
       "      <td>1.690</td>\n",
       "      <td>0.694</td>\n",
       "      <td>0.298</td>\n",
       "      <td>2.853</td>\n",
       "      <td>0.009</td>\n",
       "      <td>0.006</td>\n",
       "      <td>6195.0</td>\n",
       "      <td>3292.0</td>\n",
       "      <td>1.0</td>\n",
       "    </tr>\n",
       "    <tr>\n",
       "      <th>YearsAtCompany_threshold[28]</th>\n",
       "      <td>1.855</td>\n",
       "      <td>0.686</td>\n",
       "      <td>0.595</td>\n",
       "      <td>3.168</td>\n",
       "      <td>0.009</td>\n",
       "      <td>0.006</td>\n",
       "      <td>6134.0</td>\n",
       "      <td>2971.0</td>\n",
       "      <td>1.0</td>\n",
       "    </tr>\n",
       "    <tr>\n",
       "      <th>YearsAtCompany_threshold[29]</th>\n",
       "      <td>1.488</td>\n",
       "      <td>0.758</td>\n",
       "      <td>0.091</td>\n",
       "      <td>2.942</td>\n",
       "      <td>0.010</td>\n",
       "      <td>0.007</td>\n",
       "      <td>5607.0</td>\n",
       "      <td>2832.0</td>\n",
       "      <td>1.0</td>\n",
       "    </tr>\n",
       "    <tr>\n",
       "      <th>YearsAtCompany_threshold[30]</th>\n",
       "      <td>2.132</td>\n",
       "      <td>0.687</td>\n",
       "      <td>0.827</td>\n",
       "      <td>3.433</td>\n",
       "      <td>0.009</td>\n",
       "      <td>0.006</td>\n",
       "      <td>5868.0</td>\n",
       "      <td>3002.0</td>\n",
       "      <td>1.0</td>\n",
       "    </tr>\n",
       "    <tr>\n",
       "      <th>YearsAtCompany_threshold[31]</th>\n",
       "      <td>2.344</td>\n",
       "      <td>0.709</td>\n",
       "      <td>0.974</td>\n",
       "      <td>3.661</td>\n",
       "      <td>0.009</td>\n",
       "      <td>0.006</td>\n",
       "      <td>6329.0</td>\n",
       "      <td>2897.0</td>\n",
       "      <td>1.0</td>\n",
       "    </tr>\n",
       "    <tr>\n",
       "      <th>YearsAtCompany_threshold[32]</th>\n",
       "      <td>3.490</td>\n",
       "      <td>0.629</td>\n",
       "      <td>2.251</td>\n",
       "      <td>4.607</td>\n",
       "      <td>0.009</td>\n",
       "      <td>0.006</td>\n",
       "      <td>5403.0</td>\n",
       "      <td>3306.0</td>\n",
       "      <td>1.0</td>\n",
       "    </tr>\n",
       "    <tr>\n",
       "      <th>YearsAtCompany_threshold[33]</th>\n",
       "      <td>2.412</td>\n",
       "      <td>0.850</td>\n",
       "      <td>0.829</td>\n",
       "      <td>4.044</td>\n",
       "      <td>0.010</td>\n",
       "      <td>0.007</td>\n",
       "      <td>6733.0</td>\n",
       "      <td>2959.0</td>\n",
       "      <td>1.0</td>\n",
       "    </tr>\n",
       "    <tr>\n",
       "      <th>YearsAtCompany_threshold[34]</th>\n",
       "      <td>3.335</td>\n",
       "      <td>0.846</td>\n",
       "      <td>1.682</td>\n",
       "      <td>4.886</td>\n",
       "      <td>0.012</td>\n",
       "      <td>0.009</td>\n",
       "      <td>4869.0</td>\n",
       "      <td>3133.0</td>\n",
       "      <td>1.0</td>\n",
       "    </tr>\n",
       "    <tr>\n",
       "      <th>TotalWorkingYears</th>\n",
       "      <td>0.130</td>\n",
       "      <td>0.006</td>\n",
       "      <td>0.119</td>\n",
       "      <td>0.139</td>\n",
       "      <td>0.000</td>\n",
       "      <td>0.000</td>\n",
       "      <td>977.0</td>\n",
       "      <td>1385.0</td>\n",
       "      <td>1.0</td>\n",
       "    </tr>\n",
       "  </tbody>\n",
       "</table>\n",
       "</div>"
      ],
      "text/plain": [
       "                               mean     sd  hdi_3%  hdi_97%  mcse_mean  \\\n",
       "YearsAtCompany_threshold[0]  -2.572  0.198  -2.937   -2.201      0.003   \n",
       "YearsAtCompany_threshold[1]  -1.054  0.110  -1.264   -0.855      0.002   \n",
       "YearsAtCompany_threshold[2]  -1.018  0.117  -1.243   -0.812      0.002   \n",
       "YearsAtCompany_threshold[3]  -0.757  0.118  -0.974   -0.542      0.002   \n",
       "YearsAtCompany_threshold[4]  -0.755  0.122  -0.992   -0.538      0.002   \n",
       "YearsAtCompany_threshold[5]   0.263  0.104   0.057    0.447      0.002   \n",
       "YearsAtCompany_threshold[6]  -0.503  0.143  -0.782   -0.247      0.003   \n",
       "YearsAtCompany_threshold[7]  -0.077  0.140  -0.328    0.195      0.003   \n",
       "YearsAtCompany_threshold[8]   0.039  0.149  -0.232    0.326      0.003   \n",
       "YearsAtCompany_threshold[9]   0.400  0.149   0.128    0.685      0.003   \n",
       "YearsAtCompany_threshold[10]  1.290  0.151   1.013    1.573      0.003   \n",
       "YearsAtCompany_threshold[11]  0.449  0.214   0.037    0.832      0.004   \n",
       "YearsAtCompany_threshold[12] -0.118  0.296  -0.694    0.414      0.004   \n",
       "YearsAtCompany_threshold[13]  0.533  0.247   0.069    0.996      0.004   \n",
       "YearsAtCompany_threshold[14]  0.412  0.289  -0.129    0.943      0.005   \n",
       "YearsAtCompany_threshold[15]  0.825  0.268   0.326    1.328      0.004   \n",
       "YearsAtCompany_threshold[16]  0.466  0.342  -0.188    1.080      0.006   \n",
       "YearsAtCompany_threshold[17]  0.292  0.377  -0.397    0.994      0.006   \n",
       "YearsAtCompany_threshold[18]  0.866  0.324   0.234    1.454      0.005   \n",
       "YearsAtCompany_threshold[19]  0.858  0.354   0.177    1.490      0.006   \n",
       "YearsAtCompany_threshold[20]  2.274  0.272   1.756    2.778      0.005   \n",
       "YearsAtCompany_threshold[21]  1.936  0.357   1.254    2.572      0.006   \n",
       "YearsAtCompany_threshold[22]  2.554  0.357   1.880    3.215      0.006   \n",
       "YearsAtCompany_threshold[23]  0.427  0.684  -0.915    1.622      0.009   \n",
       "YearsAtCompany_threshold[24]  1.852  0.502   0.896    2.753      0.008   \n",
       "YearsAtCompany_threshold[25]  1.869  0.559   0.823    2.876      0.009   \n",
       "YearsAtCompany_threshold[26]  2.141  0.559   1.133    3.228      0.008   \n",
       "YearsAtCompany_threshold[27]  1.690  0.694   0.298    2.853      0.009   \n",
       "YearsAtCompany_threshold[28]  1.855  0.686   0.595    3.168      0.009   \n",
       "YearsAtCompany_threshold[29]  1.488  0.758   0.091    2.942      0.010   \n",
       "YearsAtCompany_threshold[30]  2.132  0.687   0.827    3.433      0.009   \n",
       "YearsAtCompany_threshold[31]  2.344  0.709   0.974    3.661      0.009   \n",
       "YearsAtCompany_threshold[32]  3.490  0.629   2.251    4.607      0.009   \n",
       "YearsAtCompany_threshold[33]  2.412  0.850   0.829    4.044      0.010   \n",
       "YearsAtCompany_threshold[34]  3.335  0.846   1.682    4.886      0.012   \n",
       "TotalWorkingYears             0.130  0.006   0.119    0.139      0.000   \n",
       "\n",
       "                              mcse_sd  ess_bulk  ess_tail  r_hat  \n",
       "YearsAtCompany_threshold[0]     0.002    5129.0    2350.0    1.0  \n",
       "YearsAtCompany_threshold[1]     0.001    3021.0    2994.0    1.0  \n",
       "YearsAtCompany_threshold[2]     0.001    3451.0    2661.0    1.0  \n",
       "YearsAtCompany_threshold[3]     0.001    3384.0    2770.0    1.0  \n",
       "YearsAtCompany_threshold[4]     0.002    3211.0    2712.0    1.0  \n",
       "YearsAtCompany_threshold[5]     0.002    2327.0    2532.0    1.0  \n",
       "YearsAtCompany_threshold[6]     0.002    3170.0    3111.0    1.0  \n",
       "YearsAtCompany_threshold[7]     0.002    2829.0    3449.0    1.0  \n",
       "YearsAtCompany_threshold[8]     0.002    3147.0    3008.0    1.0  \n",
       "YearsAtCompany_threshold[9]     0.002    2833.0    2733.0    1.0  \n",
       "YearsAtCompany_threshold[10]    0.002    2323.0    2543.0    1.0  \n",
       "YearsAtCompany_threshold[11]    0.003    3133.0    3068.0    1.0  \n",
       "YearsAtCompany_threshold[12]    0.005    4813.0    2698.0    1.0  \n",
       "YearsAtCompany_threshold[13]    0.003    3253.0    2503.0    1.0  \n",
       "YearsAtCompany_threshold[14]    0.003    4006.0    3026.0    1.0  \n",
       "YearsAtCompany_threshold[15]    0.003    3628.0    2760.0    1.0  \n",
       "YearsAtCompany_threshold[16]    0.004    3802.0    2888.0    1.0  \n",
       "YearsAtCompany_threshold[17]    0.005    4280.0    2866.0    1.0  \n",
       "YearsAtCompany_threshold[18]    0.004    3796.0    2870.0    1.0  \n",
       "YearsAtCompany_threshold[19]    0.004    4165.0    2558.0    1.0  \n",
       "YearsAtCompany_threshold[20]    0.004    2747.0    2764.0    1.0  \n",
       "YearsAtCompany_threshold[21]    0.004    4105.0    2921.0    1.0  \n",
       "YearsAtCompany_threshold[22]    0.004    3234.0    2823.0    1.0  \n",
       "YearsAtCompany_threshold[23]    0.011    6890.0    2845.0    1.0  \n",
       "YearsAtCompany_threshold[24]    0.005    4524.0    2805.0    1.0  \n",
       "YearsAtCompany_threshold[25]    0.006    4210.0    2428.0    1.0  \n",
       "YearsAtCompany_threshold[26]    0.006    4854.0    2761.0    1.0  \n",
       "YearsAtCompany_threshold[27]    0.006    6195.0    3292.0    1.0  \n",
       "YearsAtCompany_threshold[28]    0.006    6134.0    2971.0    1.0  \n",
       "YearsAtCompany_threshold[29]    0.007    5607.0    2832.0    1.0  \n",
       "YearsAtCompany_threshold[30]    0.006    5868.0    3002.0    1.0  \n",
       "YearsAtCompany_threshold[31]    0.006    6329.0    2897.0    1.0  \n",
       "YearsAtCompany_threshold[32]    0.006    5403.0    3306.0    1.0  \n",
       "YearsAtCompany_threshold[33]    0.007    6733.0    2959.0    1.0  \n",
       "YearsAtCompany_threshold[34]    0.009    4869.0    3133.0    1.0  \n",
       "TotalWorkingYears               0.000     977.0    1385.0    1.0  "
      ]
     },
     "execution_count": 20,
     "metadata": {},
     "output_type": "execute_result"
    }
   ],
   "source": [
    "az.summary(sequence_idata)"
   ]
  },
  {
   "cell_type": "markdown",
   "metadata": {},
   "source": [
    "**THIS IS WRONG. IF THIS REALLY IS CUMULATIVE PROBS., IT CANNOT DECREASE**\n",
    "\n",
    "The coefficients are still on the logits scale, so we need to apply the inverse of the logit function to transform back to probabilities. Below, we plot the probabilities for each category."
   ]
  },
  {
   "cell_type": "code",
   "execution_count": 33,
   "metadata": {},
   "outputs": [
    {
     "data": {
      "image/png": "[encoded data removed]",
      "text/plain": [
       "<Figure size 700x300 with 1 Axes>"
      ]
     },
     "metadata": {},
     "output_type": "display_data"
    }
   ],
   "source": [
    "probs = expit_func(sequence_idata.posterior.YearsAtCompany_threshold).mean((\"chain\", \"draw\"))\n",
    "probs = np.append(probs, 1)\n",
    "\n",
    "plt.figure(figsize=(7, 3))\n",
    "plt.plot(sorted(attrition.YearsAtCompany.unique()), probs, marker='o')\n",
    "plt.ylabel(\"Probability\")\n",
    "plt.xlabel(\"Response category\");"
   ]
  },
  {
   "cell_type": "markdown",
   "metadata": {},
   "source": [
    "### Posterior predictive samples\n",
    "\n",
    "Again, using the posterior predictive samples, we can visualize the model fit against the observed data. In the case of the sequential model, the model does an alright job of capturing the observed frequencies of the categories. For pedagogical purposes, this fit is sufficient."
   ]
  },
  {
   "cell_type": "code",
   "execution_count": 47,
   "metadata": {},
   "outputs": [
    {
     "name": "stderr",
     "output_type": "stream",
     "text": [
      "/var/folders/rl/y69t95y51g90tvd6gjzzs59h0000gn/T/ipykernel_9466/1303656969.py:2: UserWarning: FixedFormatter should only be used together with FixedLocator\n",
      "  ax.set_xticklabels(sequence_model.response_component.response_term.levels);\n"
     ]
    },
    {
     "data": {
      "image/png": "[encoded data removed]",
      "text/plain": [
       "<Figure size 700x300 with 1 Axes>"
      ]
     },
     "metadata": {},
     "output_type": "display_data"
    }
   ],
   "source": [
    "sequence_idata_pps = sequence_model.predict(idata=sequence_idata, kind=\"pps\", inplace=False)\n",
    "\n",
    "az.plot_ppc(sequence_idata_pps, figsize=(7, 3), textsize=11)\n",
    "ax.set_xticklabels(sequence_model.response_component.response_term.levels);"
   ]
  },
  {
   "cell_type": "code",
   "execution_count": null,
   "metadata": {},
   "outputs": [
    {
     "name": "stdout",
     "output_type": "stream",
     "text": [
      "Last updated: Fri Sep 15 2023\n",
      "\n",
      "Python implementation: CPython\n",
      "Python version       : 3.11.0\n",
      "IPython version      : 8.13.2\n",
      "\n",
      "bambi     : 0.13.0.dev0\n",
      "arviz     : 0.15.1\n",
      "numpy     : 1.24.2\n",
      "pandas    : 2.0.1\n",
      "matplotlib: 3.7.1\n",
      "\n",
      "Watermark: 2.3.1\n",
      "\n"
     ]
    }
   ],
   "source": [
    "%load_ext watermark\n",
    "%watermark -n -u -v -iv -w"
   ]
  }
 ],
 "metadata": {
  "kernelspec": {
   "display_name": "bambinos",
   "language": "python",
   "name": "python3"
  },
  "language_info": {
   "codemirror_mode": {
    "name": "ipython",
    "version": 3
   },
   "file_extension": ".py",
   "mimetype": "text/x-python",
   "name": "python",
   "nbconvert_exporter": "python",
   "pygments_lexer": "ipython3",
   "version": "3.11.0"
  },
  "orig_nbformat": 4
 },
 "nbformat": 4,
 "nbformat_minor": 2
}
