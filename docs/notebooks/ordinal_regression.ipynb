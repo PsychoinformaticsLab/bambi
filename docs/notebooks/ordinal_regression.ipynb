{
 "cells": [
  {
   "cell_type": "code",
   "execution_count": 106,
   "metadata": {},
   "outputs": [
    {
     "name": "stdout",
     "output_type": "stream",
     "text": [
      "The autoreload extension is already loaded. To reload it, use:\n",
      "  %reload_ext autoreload\n"
     ]
    }
   ],
   "source": [
    "import arviz as az\n",
    "import matplotlib.pyplot as plt\n",
    "import numpy as np\n",
    "import pandas as pd\n",
    "\n",
    "import bambi as bmb\n",
    "\n",
    "%load_ext autoreload\n",
    "%autoreload 2"
   ]
  },
  {
   "cell_type": "markdown",
   "metadata": {},
   "source": [
    "# Ordinal Regression\n",
    "\n",
    "In some scenarios, the response variable is discrete, like a count, and ordered. For example, a rating from 1 to 5. The result is a set of **ordered categories**. Ordered category data presents three challenges when modelling:\n",
    "\n",
    "1. Unlike a count, the differences in the values are not necessarily equidistant. For example, it may be much harder for a restuarant to go from 4 to 5 stars than from 2 to 3 stars. \n",
    "2. The distribution of ordinal responses may be nonnormal, particularly if very low or high values are infrequently chosen.\n",
    "3. The variances of the unobserved variables that underlie the observed ordered category may differ between the category, time points, etc. \n",
    "\n",
    "Thus, treating ordered categories as continuous is not appropriate. To this extent, Bambi supports two classes of ordinal regression models: (1) cumulative link, and (2) sequential link. Below, it is demonstrated how to fit these two models using Bambi to overcome the challenges of ordered category response data."
   ]
  },
  {
   "cell_type": "markdown",
   "metadata": {},
   "source": [
    "## Cumulative model\n",
    "\n",
    "A cumulative model assumes that the observed ordinal variable $Y$ originates from the \"categorization\" of a latent continuous variable $\\hat{Y}$. To model the categorization process, the model assumes that there are $K$ thresholds (cutpoints) $\\tau_k$ that partition $\\hat{Y}$ into $K+1$ observable, ordered categories. Additionally, if we assume $\\hat{Y}$ to have a certain distribution (e.g., Normal) with a cumulative distribution function $F$, the probability of $Y$ being equal to category $k$ is\n",
    "\n",
    "$$Pr(Y = k) = F(\\tau_k) - F(\\tau_{k-1})$$\n",
    "\n",
    "where each $F(\\tau)$ is a cumulative probability. For example, suppose we have 3 categories and we are interested in the probability of $k=3$, and have thresholds $\\tau_0 = -1, \\tau_1 = 0, \\tau_2 = 1$. Additionally, if we assume $\\hat{Y}$ to be normally distributed with $\\sigma = 1$ then\n",
    "\n",
    "$$Pr(Y = 3) = \\Phi(\\tau_2) - \\Phi(\\tau_1) - \\Phi(\\tau_0)$$\n",
    "\n",
    "How to set the thresholds? By default, Bambi uses a Normal distribution with a grid of evenly spaced $\\mu$'s that depends on the number of $k$ as the prior for the thresholds. Furthermore, the model specification for ordinal regression typically transforms the cumulative probabilities using the log-cumulative-odds (logit) transformation. Therefore, the learned parameters for the thresholds $\\tau$ will be logits.\n",
    "\n",
    "Lastly, as each $F(\\tau)$ implies a cumulative probability for each $k$, the largest response value always has a cumulative probability of 1. Thus, we effectively do not need a parameter for it due to the law of total probability. For example, for $K = 3$ response values, we only need $K − 1 = 2$ intercepts."
   ]
  },
  {
   "cell_type": "markdown",
   "metadata": {},
   "source": [
    "### The moral intuition dataset\n",
    "\n",
    "To illustrate an ordinal model with a cumulative link function, we will model data from a series of experiments conducted by philsophers (this example comes from Richard McElreath's [Statistical Rethinking](https://xcelab.net/rm/statistical-rethinking/)). The experiments aim to collect empirical evidence relevant to debates about moral intuition, the forms of reasoning through which people develop judgments about the moral goodness and badness of actions. \n",
    "\n",
    "In the dataset there are 12 columns and 9930 rows, comprising data for 331 unique individuals. The response we are interested in `response`, is an integer from 1 to 7 indicating how morally permissible the participant found the action to be taken (or not) in the story. The predictors are as follows:\n",
    "\n",
    "- `action`: a factor with levels 0 and 1 where 1 indicates that the story contained \"harm caused by action is morally worse than equivalent harm caused by omission\".\n",
    "- `intention`: a factor with levels 0 and 1 where 1 indicates that the story contained \"harm intended as the means to a goal is morally worse than equivalent harm foreseen as the side effect of a goal\".\n",
    "- `contact`: a factor with levels 0 and 1 where 1 indicates that the story contained \"using physical contact to cause harm to a victim is morally worse than causing equivalent harm to a victim without using physical contact\"."
   ]
  },
  {
   "cell_type": "code",
   "execution_count": 107,
   "metadata": {},
   "outputs": [],
   "source": [
    "trolly = pd.read_csv(\"https://raw.githubusercontent.com/rmcelreath/rethinking/master/data/Trolley.csv\", sep=\";\")\n",
    "trolly = trolly[[\"response\", \"action\", \"intention\", \"contact\"]]\n",
    "trolly[\"action\"] = pd.Categorical(trolly[\"action\"], ordered=False)\n",
    "trolly[\"intention\"] = pd.Categorical(trolly[\"intention\"], ordered=False)\n",
    "trolly[\"contact\"] = pd.Categorical(trolly[\"contact\"], ordered=False)\n",
    "trolly[\"response\"] = pd.Categorical(trolly[\"response\"], ordered=True)"
   ]
  },
  {
   "cell_type": "code",
   "execution_count": 108,
   "metadata": {},
   "outputs": [
    {
     "data": {
      "text/plain": [
       "[4, 3, 5, 2, 1, 7, 6]\n",
       "Categories (7, int64): [1 < 2 < 3 < 4 < 5 < 6 < 7]"
      ]
     },
     "execution_count": 108,
     "metadata": {},
     "output_type": "execute_result"
    }
   ],
   "source": [
    "# 7 ordered categories from 1-7\n",
    "trolly.response.unique()"
   ]
  },
  {
   "cell_type": "markdown",
   "metadata": {},
   "source": [
    "### Intercept only model\n",
    "\n",
    "Before we fit a model with predictors, let's attempt to recover the parameters of an ordered distribution with an intercepts only model to get a feel for the cumulative link function. First, to compare the intercepts only model, we compute the empirical log-cumulative-odds of the categories directly from the data below. "
   ]
  },
  {
   "cell_type": "code",
   "execution_count": 109,
   "metadata": {},
   "outputs": [
    {
     "name": "stderr",
     "output_type": "stream",
     "text": [
      "/var/folders/rl/y69t95y51g90tvd6gjzzs59h0000gn/T/ipykernel_32825/1548491577.py:3: RuntimeWarning: invalid value encountered in log\n",
      "  logit_func = lambda x: np.log(x / (1 - x))\n"
     ]
    },
    {
     "data": {
      "text/plain": [
       "array([-1.91609116, -1.26660559, -0.718634  ,  0.24778573,  0.88986365,\n",
       "        1.76938091,         nan])"
      ]
     },
     "execution_count": 109,
     "metadata": {},
     "output_type": "execute_result"
    }
   ],
   "source": [
    "pr_k = trolly.response.value_counts().sort_index().values / trolly.shape[0]\n",
    "cum_pr_k = np.cumsum(pr_k)\n",
    "logit_func = lambda x: np.log(x / (1 - x))\n",
    "cum_logit = logit_func(cum_pr_k)\n",
    "cum_logit"
   ]
  },
  {
   "cell_type": "code",
   "execution_count": 110,
   "metadata": {},
   "outputs": [
    {
     "name": "stderr",
     "output_type": "stream",
     "text": [
      "/Users/gabestechschulte/Documents/repos/bambi/bambi/formula.py:111: UserWarning: The intercept is omitted in ordinal families\n",
      "  warnings.warn(\"The intercept is omitted in ordinal families\")\n",
      "Auto-assigning NUTS sampler...\n",
      "Initializing NUTS using jitter+adapt_diag...\n",
      "Multiprocess sampling (4 chains in 4 jobs)\n",
      "NUTS: [response_threshold]\n"
     ]
    },
    {
     "data": {
      "text/html": [
       "\n",
       "<style>\n",
       "    /* Turns off some styling */\n",
       "    progress {\n",
       "        /* gets rid of default border in Firefox and Opera. */\n",
       "        border: none;\n",
       "        /* Needs to be in here for Safari polyfill so background images work as expected. */\n",
       "        background-size: auto;\n",
       "    }\n",
       "    progress:not([value]), progress:not([value])::-webkit-progress-bar {\n",
       "        background: repeating-linear-gradient(45deg, #7e7e7e, #7e7e7e 10px, #5c5c5c 10px, #5c5c5c 20px);\n",
       "    }\n",
       "    .progress-bar-interrupted, .progress-bar-interrupted::-webkit-progress-bar {\n",
       "        background: #F44336;\n",
       "    }\n",
       "</style>\n"
      ],
      "text/plain": [
       "<IPython.core.display.HTML object>"
      ]
     },
     "metadata": {},
     "output_type": "display_data"
    },
    {
     "data": {
      "text/html": [
       "\n",
       "    <div>\n",
       "      <progress value='8000' class='' max='8000' style='width:300px; height:20px; vertical-align: middle;'></progress>\n",
       "      100.00% [8000/8000 00:03&lt;00:00 Sampling 4 chains, 0 divergences]\n",
       "    </div>\n",
       "    "
      ],
      "text/plain": [
       "<IPython.core.display.HTML object>"
      ]
     },
     "metadata": {},
     "output_type": "display_data"
    },
    {
     "name": "stderr",
     "output_type": "stream",
     "text": [
      "/Users/gabestechschulte/miniforge3/envs/bambinos/lib/python3.11/site-packages/pytensor/compile/function/types.py:970: RuntimeWarning: invalid value encountered in accumulate\n",
      "  self.vm()\n",
      "/Users/gabestechschulte/miniforge3/envs/bambinos/lib/python3.11/site-packages/pytensor/compile/function/types.py:970: RuntimeWarning: invalid value encountered in add\n",
      "  self.vm()\n",
      "/Users/gabestechschulte/miniforge3/envs/bambinos/lib/python3.11/site-packages/pytensor/compile/function/types.py:970: RuntimeWarning: invalid value encountered in accumulate\n",
      "  self.vm()\n",
      "/Users/gabestechschulte/miniforge3/envs/bambinos/lib/python3.11/site-packages/pytensor/compile/function/types.py:970: RuntimeWarning: invalid value encountered in add\n",
      "  self.vm()\n",
      "/Users/gabestechschulte/miniforge3/envs/bambinos/lib/python3.11/site-packages/pytensor/compile/function/types.py:970: RuntimeWarning: invalid value encountered in accumulate\n",
      "  self.vm()\n",
      "/Users/gabestechschulte/miniforge3/envs/bambinos/lib/python3.11/site-packages/pytensor/compile/function/types.py:970: RuntimeWarning: invalid value encountered in add\n",
      "  self.vm()\n",
      "Sampling 4 chains for 1_000 tune and 1_000 draw iterations (4_000 + 4_000 draws total) took 3 seconds.\n"
     ]
    }
   ],
   "source": [
    "model = bmb.Model(\"response ~ 1\", data=trolly, family=\"cumulative\")\n",
    "idata = model.fit()"
   ]
  },
  {
   "cell_type": "code",
   "execution_count": 111,
   "metadata": {},
   "outputs": [
    {
     "data": {
      "text/html": [
       "<div>\n",
       "<style scoped>\n",
       "    .dataframe tbody tr th:only-of-type {\n",
       "        vertical-align: middle;\n",
       "    }\n",
       "\n",
       "    .dataframe tbody tr th {\n",
       "        vertical-align: top;\n",
       "    }\n",
       "\n",
       "    .dataframe thead th {\n",
       "        text-align: right;\n",
       "    }\n",
       "</style>\n",
       "<table border=\"1\" class=\"dataframe\">\n",
       "  <thead>\n",
       "    <tr style=\"text-align: right;\">\n",
       "      <th></th>\n",
       "      <th>mean</th>\n",
       "      <th>sd</th>\n",
       "      <th>hdi_3%</th>\n",
       "      <th>hdi_97%</th>\n",
       "      <th>mcse_mean</th>\n",
       "      <th>mcse_sd</th>\n",
       "      <th>ess_bulk</th>\n",
       "      <th>ess_tail</th>\n",
       "      <th>r_hat</th>\n",
       "    </tr>\n",
       "  </thead>\n",
       "  <tbody>\n",
       "    <tr>\n",
       "      <th>response_threshold[0]</th>\n",
       "      <td>-1.922</td>\n",
       "      <td>0.030</td>\n",
       "      <td>-1.979</td>\n",
       "      <td>-1.865</td>\n",
       "      <td>0.0</td>\n",
       "      <td>0.0</td>\n",
       "      <td>4234.0</td>\n",
       "      <td>2969.0</td>\n",
       "      <td>1.0</td>\n",
       "    </tr>\n",
       "    <tr>\n",
       "      <th>response_threshold[1]</th>\n",
       "      <td>-1.269</td>\n",
       "      <td>0.024</td>\n",
       "      <td>-1.316</td>\n",
       "      <td>-1.225</td>\n",
       "      <td>0.0</td>\n",
       "      <td>0.0</td>\n",
       "      <td>5204.0</td>\n",
       "      <td>3592.0</td>\n",
       "      <td>1.0</td>\n",
       "    </tr>\n",
       "    <tr>\n",
       "      <th>response_threshold[2]</th>\n",
       "      <td>-0.719</td>\n",
       "      <td>0.022</td>\n",
       "      <td>-0.757</td>\n",
       "      <td>-0.678</td>\n",
       "      <td>0.0</td>\n",
       "      <td>0.0</td>\n",
       "      <td>5581.0</td>\n",
       "      <td>3758.0</td>\n",
       "      <td>1.0</td>\n",
       "    </tr>\n",
       "    <tr>\n",
       "      <th>response_threshold[3]</th>\n",
       "      <td>0.249</td>\n",
       "      <td>0.020</td>\n",
       "      <td>0.212</td>\n",
       "      <td>0.287</td>\n",
       "      <td>0.0</td>\n",
       "      <td>0.0</td>\n",
       "      <td>5138.0</td>\n",
       "      <td>3361.0</td>\n",
       "      <td>1.0</td>\n",
       "    </tr>\n",
       "    <tr>\n",
       "      <th>response_threshold[4]</th>\n",
       "      <td>0.893</td>\n",
       "      <td>0.022</td>\n",
       "      <td>0.852</td>\n",
       "      <td>0.935</td>\n",
       "      <td>0.0</td>\n",
       "      <td>0.0</td>\n",
       "      <td>5173.0</td>\n",
       "      <td>3303.0</td>\n",
       "      <td>1.0</td>\n",
       "    </tr>\n",
       "    <tr>\n",
       "      <th>response_threshold[5]</th>\n",
       "      <td>1.775</td>\n",
       "      <td>0.029</td>\n",
       "      <td>1.717</td>\n",
       "      <td>1.825</td>\n",
       "      <td>0.0</td>\n",
       "      <td>0.0</td>\n",
       "      <td>5318.0</td>\n",
       "      <td>3331.0</td>\n",
       "      <td>1.0</td>\n",
       "    </tr>\n",
       "  </tbody>\n",
       "</table>\n",
       "</div>"
      ],
      "text/plain": [
       "                        mean     sd  hdi_3%  hdi_97%  mcse_mean  mcse_sd   \n",
       "response_threshold[0] -1.922  0.030  -1.979   -1.865        0.0      0.0  \\\n",
       "response_threshold[1] -1.269  0.024  -1.316   -1.225        0.0      0.0   \n",
       "response_threshold[2] -0.719  0.022  -0.757   -0.678        0.0      0.0   \n",
       "response_threshold[3]  0.249  0.020   0.212    0.287        0.0      0.0   \n",
       "response_threshold[4]  0.893  0.022   0.852    0.935        0.0      0.0   \n",
       "response_threshold[5]  1.775  0.029   1.717    1.825        0.0      0.0   \n",
       "\n",
       "                       ess_bulk  ess_tail  r_hat  \n",
       "response_threshold[0]    4234.0    2969.0    1.0  \n",
       "response_threshold[1]    5204.0    3592.0    1.0  \n",
       "response_threshold[2]    5581.0    3758.0    1.0  \n",
       "response_threshold[3]    5138.0    3361.0    1.0  \n",
       "response_threshold[4]    5173.0    3303.0    1.0  \n",
       "response_threshold[5]    5318.0    3331.0    1.0  "
      ]
     },
     "execution_count": 111,
     "metadata": {},
     "output_type": "execute_result"
    }
   ],
   "source": [
    "az.summary(idata)"
   ]
  },
  {
   "cell_type": "markdown",
   "metadata": {},
   "source": [
    "Viewing the summary dataframe, we see a total of six cutpoints (`response_threshold`) coefficients. Why six? Remember, we get the last parameter for free, so we only need $K-1$ cutpoints. The index (using zero based indexing) of the `response_threshold` indicates the category that the cutpoint is associated with. Comparing to the empirical log-cumulative-odds computation above, the mean of the posterior distribution for each category is close to the empirical value.\n",
    "\n",
    "As the the log cumalative link is used, we need to apply the inverse of the logit function to transform back to cumulative probabilities. Below, we plot the cumulative probabilities for each category. "
   ]
  },
  {
   "cell_type": "code",
   "execution_count": 112,
   "metadata": {},
   "outputs": [
    {
     "data": {
      "image/png": "[encoded data removed]",
      "text/plain": [
       "<Figure size 700x300 with 1 Axes>"
      ]
     },
     "metadata": {},
     "output_type": "display_data"
    }
   ],
   "source": [
    "expit_func = lambda x: 1 / (1 + np.exp(-x))\n",
    "cumprobs = expit_func(idata.posterior.response_threshold).mean((\"chain\", \"draw\"))\n",
    "cumprobs = np.append(cumprobs, 1)\n",
    "\n",
    "plt.figure(figsize=(7, 3))\n",
    "plt.plot(sorted(trolly.response.unique()), cumprobs, marker='o')\n",
    "plt.ylabel(\"Cumulative probability\")\n",
    "plt.xlabel(\"Response category\");"
   ]
  },
  {
   "cell_type": "code",
   "execution_count": 113,
   "metadata": {},
   "outputs": [
    {
     "data": {
      "image/png": "[encoded data removed]",
      "text/plain": [
       "<Figure size 700x300 with 1 Axes>"
      ]
     },
     "metadata": {},
     "output_type": "display_data"
    }
   ],
   "source": [
    "fig, ax = plt.subplots(figsize=(7, 3))\n",
    "for i in range(6):\n",
    "    outcome = expit_func(idata.posterior.response_threshold).sel(response_threshold_dim=i).to_numpy().flatten()\n",
    "    ax.hist(outcome, bins=15, alpha=0.5, label=f\"Category: {i}\")\n",
    "ax.set_xlabel(\"Probability\")\n",
    "ax.set_ylabel(\"Count\")\n",
    "ax.set_title(\"Cumulative Probability by Category\")\n",
    "ax.legend(bbox_to_anchor=(1.04, 1), loc=\"upper left\");"
   ]
  },
  {
   "cell_type": "markdown",
   "metadata": {},
   "source": [
    "Notice in both plots above, the jump in cumulative probability from category 3 to 4. Additionally, the estimates of the coefficients is precise for each category. Now that we have an understanding how the cumulative link function is applied to produce ordered cumulative outcomes, we will add predictors to the model. "
   ]
  },
  {
   "cell_type": "markdown",
   "metadata": {},
   "source": [
    "### Adding predictors\n",
    "\n",
    "In the cumulative model described above, adding predictors was explicitly left out. In this section, it is described how predictors are added to ordinal cumulative models. When adding predictor variables, what we would like is for any predictor, as it increases, predictions are moved progressively (increased) through the categories in sequence. A predictor term $\\eta$ is defined as\n",
    "\n",
    "$$\\eta = \\beta_1 x_1 + \\beta_2 x_2 +, . . ., \\beta_n x_n + \\epsilon$$\n",
    "\n",
    "Note how similar this looks to an ordinary linear model. However, there is no intercept term. This is because the intercept is replaced by the threshold $\\tau$. Putting the predictor term together with the thresholds and cumulative distribution function, we obtain the probability of $Y$ being equal to a category $k$ as\n",
    "\n",
    "$$Pr(Y = k | \\eta) = F(\\tau_k - \\eta) - F(\\tau_{k-1} - \\eta)$$\n",
    "\n",
    "The same predictor term $\\eta$ is subtracted from each threshold because if we decrease the log-cumulative-odds of every outcome value $k$ below the maximum, this shifts probability mass upwards towards higher outcome values. Thus, positive $\\beta$ values correspond to increasing $x$, which is associated with an increase in the mean response $Y$. The parameters to be estimated from the model are the thresholds $\\tau$ and the predictor terms $\\eta$ coefficients.  \n",
    "\n",
    "To add predictors for ordinal models in Bambi, we continue to use the familiar syntax."
   ]
  },
  {
   "cell_type": "code",
   "execution_count": 114,
   "metadata": {},
   "outputs": [
    {
     "name": "stderr",
     "output_type": "stream",
     "text": [
      "/Users/gabestechschulte/Documents/repos/bambi/bambi/formula.py:111: UserWarning: The intercept is omitted in ordinal families\n",
      "  warnings.warn(\"The intercept is omitted in ordinal families\")\n",
      "Auto-assigning NUTS sampler...\n",
      "Initializing NUTS using jitter+adapt_diag...\n",
      "Multiprocess sampling (4 chains in 4 jobs)\n",
      "NUTS: [response_threshold, action, intention, contact, action:intention, contact:intention]\n"
     ]
    },
    {
     "data": {
      "text/html": [
       "\n",
       "<style>\n",
       "    /* Turns off some styling */\n",
       "    progress {\n",
       "        /* gets rid of default border in Firefox and Opera. */\n",
       "        border: none;\n",
       "        /* Needs to be in here for Safari polyfill so background images work as expected. */\n",
       "        background-size: auto;\n",
       "    }\n",
       "    progress:not([value]), progress:not([value])::-webkit-progress-bar {\n",
       "        background: repeating-linear-gradient(45deg, #7e7e7e, #7e7e7e 10px, #5c5c5c 10px, #5c5c5c 20px);\n",
       "    }\n",
       "    .progress-bar-interrupted, .progress-bar-interrupted::-webkit-progress-bar {\n",
       "        background: #F44336;\n",
       "    }\n",
       "</style>\n"
      ],
      "text/plain": [
       "<IPython.core.display.HTML object>"
      ]
     },
     "metadata": {},
     "output_type": "display_data"
    },
    {
     "data": {
      "text/html": [
       "\n",
       "    <div>\n",
       "      <progress value='8000' class='' max='8000' style='width:300px; height:20px; vertical-align: middle;'></progress>\n",
       "      100.00% [8000/8000 01:19&lt;00:00 Sampling 4 chains, 0 divergences]\n",
       "    </div>\n",
       "    "
      ],
      "text/plain": [
       "<IPython.core.display.HTML object>"
      ]
     },
     "metadata": {},
     "output_type": "display_data"
    },
    {
     "name": "stderr",
     "output_type": "stream",
     "text": [
      "/Users/gabestechschulte/miniforge3/envs/bambinos/lib/python3.11/site-packages/pytensor/compile/function/types.py:970: RuntimeWarning: invalid value encountered in accumulate\n",
      "  self.vm()\n",
      "Sampling 4 chains for 1_000 tune and 1_000 draw iterations (4_000 + 4_000 draws total) took 79 seconds.\n"
     ]
    }
   ],
   "source": [
    "model = bmb.Model(\n",
    "    \"response ~ action + intention + contact + action:intention + contact:intention\", \n",
    "    data=trolly, \n",
    "    family=\"cumulative\"\n",
    ")\n",
    "idata = model.fit()"
   ]
  },
  {
   "cell_type": "markdown",
   "metadata": {},
   "source": [
    "In the summary dataframe below, we only select the predictor variables as the cutpoints are not of interest at the moment."
   ]
  },
  {
   "cell_type": "code",
   "execution_count": 115,
   "metadata": {},
   "outputs": [
    {
     "data": {
      "text/html": [
       "<div>\n",
       "<style scoped>\n",
       "    .dataframe tbody tr th:only-of-type {\n",
       "        vertical-align: middle;\n",
       "    }\n",
       "\n",
       "    .dataframe tbody tr th {\n",
       "        vertical-align: top;\n",
       "    }\n",
       "\n",
       "    .dataframe thead th {\n",
       "        text-align: right;\n",
       "    }\n",
       "</style>\n",
       "<table border=\"1\" class=\"dataframe\">\n",
       "  <thead>\n",
       "    <tr style=\"text-align: right;\">\n",
       "      <th></th>\n",
       "      <th>mean</th>\n",
       "      <th>sd</th>\n",
       "      <th>hdi_3%</th>\n",
       "      <th>hdi_97%</th>\n",
       "      <th>mcse_mean</th>\n",
       "      <th>mcse_sd</th>\n",
       "      <th>ess_bulk</th>\n",
       "      <th>ess_tail</th>\n",
       "      <th>r_hat</th>\n",
       "    </tr>\n",
       "  </thead>\n",
       "  <tbody>\n",
       "    <tr>\n",
       "      <th>action[1]</th>\n",
       "      <td>-0.464</td>\n",
       "      <td>0.057</td>\n",
       "      <td>-0.574</td>\n",
       "      <td>-0.357</td>\n",
       "      <td>0.001</td>\n",
       "      <td>0.001</td>\n",
       "      <td>2537.0</td>\n",
       "      <td>2856.0</td>\n",
       "      <td>1.0</td>\n",
       "    </tr>\n",
       "    <tr>\n",
       "      <th>intention[1]</th>\n",
       "      <td>-0.274</td>\n",
       "      <td>0.059</td>\n",
       "      <td>-0.386</td>\n",
       "      <td>-0.169</td>\n",
       "      <td>0.001</td>\n",
       "      <td>0.001</td>\n",
       "      <td>2705.0</td>\n",
       "      <td>2756.0</td>\n",
       "      <td>1.0</td>\n",
       "    </tr>\n",
       "    <tr>\n",
       "      <th>contact[1]</th>\n",
       "      <td>-0.324</td>\n",
       "      <td>0.072</td>\n",
       "      <td>-0.456</td>\n",
       "      <td>-0.190</td>\n",
       "      <td>0.001</td>\n",
       "      <td>0.001</td>\n",
       "      <td>2918.0</td>\n",
       "      <td>2525.0</td>\n",
       "      <td>1.0</td>\n",
       "    </tr>\n",
       "    <tr>\n",
       "      <th>action:intention[1, 1]</th>\n",
       "      <td>-0.458</td>\n",
       "      <td>0.084</td>\n",
       "      <td>-0.611</td>\n",
       "      <td>-0.296</td>\n",
       "      <td>0.002</td>\n",
       "      <td>0.001</td>\n",
       "      <td>2895.0</td>\n",
       "      <td>2917.0</td>\n",
       "      <td>1.0</td>\n",
       "    </tr>\n",
       "    <tr>\n",
       "      <th>contact:intention[1, 1]</th>\n",
       "      <td>-1.286</td>\n",
       "      <td>0.099</td>\n",
       "      <td>-1.473</td>\n",
       "      <td>-1.104</td>\n",
       "      <td>0.002</td>\n",
       "      <td>0.001</td>\n",
       "      <td>3275.0</td>\n",
       "      <td>3357.0</td>\n",
       "      <td>1.0</td>\n",
       "    </tr>\n",
       "  </tbody>\n",
       "</table>\n",
       "</div>"
      ],
      "text/plain": [
       "                          mean     sd  hdi_3%  hdi_97%  mcse_mean  mcse_sd   \n",
       "action[1]               -0.464  0.057  -0.574   -0.357      0.001    0.001  \\\n",
       "intention[1]            -0.274  0.059  -0.386   -0.169      0.001    0.001   \n",
       "contact[1]              -0.324  0.072  -0.456   -0.190      0.001    0.001   \n",
       "action:intention[1, 1]  -0.458  0.084  -0.611   -0.296      0.002    0.001   \n",
       "contact:intention[1, 1] -1.286  0.099  -1.473   -1.104      0.002    0.001   \n",
       "\n",
       "                         ess_bulk  ess_tail  r_hat  \n",
       "action[1]                  2537.0    2856.0    1.0  \n",
       "intention[1]               2705.0    2756.0    1.0  \n",
       "contact[1]                 2918.0    2525.0    1.0  \n",
       "action:intention[1, 1]     2895.0    2917.0    1.0  \n",
       "contact:intention[1, 1]    3275.0    3357.0    1.0  "
      ]
     },
     "execution_count": 115,
     "metadata": {},
     "output_type": "execute_result"
    }
   ],
   "source": [
    "az.summary(\n",
    "    idata, \n",
    "    var_names=[\"action\", \"intention\", \"contact\", \n",
    "               \"action:intention\", \"contact:intention\"]\n",
    ")"
   ]
  },
  {
   "cell_type": "markdown",
   "metadata": {},
   "source": [
    "The posterior distribution of the slopes are all negative indicating that each of these story features reduces the rating—the acceptability of the story. Below, a forest plot is used to make this insight more clear."
   ]
  },
  {
   "cell_type": "code",
   "execution_count": 116,
   "metadata": {},
   "outputs": [
    {
     "data": {
      "image/png": "[encoded data removed]",
      "text/plain": [
       "<Figure size 700x300 with 1 Axes>"
      ]
     },
     "metadata": {},
     "output_type": "display_data"
    }
   ],
   "source": [
    "az.plot_forest(\n",
    "    idata,\n",
    "    combined=True,\n",
    "    var_names=[\"action\", \"intention\", \"contact\", \n",
    "               \"action:intention\", \"contact:intention\"],\n",
    "    figsize=(7, 3),\n",
    "    textsize=11\n",
    ");"
   ]
  },
  {
   "cell_type": "markdown",
   "metadata": {},
   "source": [
    "Again, we can plot the cumulative probability of each category. Compared to the same plot above, notice how most of the category probabilities have been shifted to the left. Additionally, there is more uncertainty for category 3, 4, and 5."
   ]
  },
  {
   "cell_type": "code",
   "execution_count": 117,
   "metadata": {},
   "outputs": [
    {
     "data": {
      "image/png": "[encoded data removed]",
      "text/plain": [
       "<Figure size 700x300 with 1 Axes>"
      ]
     },
     "metadata": {},
     "output_type": "display_data"
    }
   ],
   "source": [
    "fig, ax = plt.subplots(figsize=(7, 3))\n",
    "for i in range(6):\n",
    "    outcome = expit_func(idata.posterior.response_threshold).sel(response_threshold_dim=i).to_numpy().flatten()\n",
    "    ax.hist(outcome, bins=15, alpha=0.5, label=f\"Category: {i}\")\n",
    "ax.set_xlabel(\"Probability\")\n",
    "ax.set_ylabel(\"Count\")\n",
    "ax.set_title(\"Cumulative Probability by Category\")\n",
    "ax.legend(bbox_to_anchor=(1.04, 1), loc=\"upper left\");"
   ]
  },
  {
   "cell_type": "markdown",
   "metadata": {},
   "source": [
    "#### Posterior predictive distribution\n",
    "\n",
    "To get a sense of how well the ordinal model fits the data, we can plot samples from the posterior predictive distribution. "
   ]
  },
  {
   "cell_type": "code",
   "execution_count": 118,
   "metadata": {},
   "outputs": [
    {
     "data": {
      "image/png": "[encoded data removed]",
      "text/plain": [
       "<Figure size 700x300 with 1 Axes>"
      ]
     },
     "metadata": {},
     "output_type": "display_data"
    }
   ],
   "source": [
    "idata_pps = model.predict(idata=idata, kind=\"pps\", inplace=False)\n",
    "\n",
    "ax = az.plot_ppc(idata_pps, figsize=(7, 3), textsize=11)\n",
    "ax.set_xticks(np.linspace(0.2, 7, 7))\n",
    "ax.set_xticklabels(model.response_component.response_term.levels);"
   ]
  },
  {
   "cell_type": "markdown",
   "metadata": {},
   "source": [
    "Looking at the observed and posterior predictive mean, the model captures the observed frequencies of the categories well. "
   ]
  },
  {
   "cell_type": "code",
   "execution_count": null,
   "metadata": {},
   "outputs": [],
   "source": [
    "# does not work because predictions are a vector of probabilities\n",
    "bmb.interpret.predictions(\n",
    "    model=model,\n",
    "    idata=idata,\n",
    "    covariates=\"action\"\n",
    ")"
   ]
  },
  {
   "cell_type": "markdown",
   "metadata": {},
   "source": [
    "### Changing the default prior of cutpoints\n",
    "\n",
    "\n",
    "**TO DO**"
   ]
  },
  {
   "cell_type": "code",
   "execution_count": null,
   "metadata": {},
   "outputs": [],
   "source": []
  },
  {
   "cell_type": "markdown",
   "metadata": {},
   "source": [
    "## Sequential Model\n",
    "\n",
    "For some ordinal variables, the assumption of a **single** underlying continuous variable (as in cumulative models) may not be appropriate. If the response can be understood as being the result of a sequential process, such that a higher response category is possible only after all lower categories are achieved, then a sequential model may be more appropriate than a cumulative model.\n",
    "\n",
    "Sequential models assume that for **every** category $k$ there is latent continuous variable $\\hat{Y_k}$ that determines the transition between categories $k$ and $k+1$. Now, a threshold $\\tau$ belongs to each latent process. If there are 3 categories, then there are 3 latent processes. If $\\hat{Y}_k$ is greater than the threshold $\\tau_k$, the sequential process continues, otherwise it stops at category $k$. As with the cumulative model, we still assume a distribution for $\\hat{Y}_k$ with a cumulative distribution function $F$.\n",
    "\n",
    "As an example, lets suppose we are interested in modeling the probability a boxer makes it to round 3. This implies that the particular boxer in question survived round 1 $\\hat{Y}_1 > \\tau_1$ , 2 $\\hat{Y}_2 > \\tau_2$, and 3 $\\hat{Y}_3 > \\tau_3$. This can be written as \n",
    "\n",
    "$$Pr(Y = 3) = (1 - Pr(\\hat{Y_1})(1 - Pr(\\hat{Y_2}))(1 - Pr(\\hat{Y_3})$$\n",
    "\n",
    "As in the cumulative model above, if we assume $Y$ to be normally distributed with the thresholds $\\tau_0 = -1, \\tau_1 = 0, \\tau_2 = 1$ and cumulative distribution function $\\Phi$ then\n",
    "\n",
    "$$Pr(Y = 3) = (1 - \\Phi(\\tau_0))(1 - \\Phi(\\tau_1))(1 - \\Phi(\\tau_2))$$\n",
    "\n",
    "To add predictors to this sequential model, we follow the same specification in the _Adding Predictors_ section above. Thus, the sequential model with predictor terms becomes\n",
    "\n",
    "$$P(Y = k) = F(\\tau_k - \\eta) * \\prod_{j=1}^{k-1}{(1 - F(\\tau_j - \\eta))}$$\n",
    "\n",
    "Thus, the probability that $Y$ is equal to category $k$ is equal to the probability that it did not fall in one of the former categories $1: k-1$ multiplied by the probability that the sequential process stopped at $k$ rather than continuing past it."
   ]
  },
  {
   "cell_type": "markdown",
   "metadata": {},
   "source": [
    "### Human resources attrition dataset\n",
    "\n",
    "To illustrate an sequential model with a stopping ratio link function, we will use data from the IBM human resources employee attrition and performance [dataset](https://www.kaggle.com/datasets/pavansubhasht/ibm-hr-analytics-attrition-dataset). The original dataset contains 1470 rows and 35 columns. However, our goal is to model the total working years of employees using age as a predictor. This data lends itself to a sequential model as the response, total working years, is a sequential process. In order to have 10 years of working experience, it is necessarily true that the employee had 9 years of working experience. Additionally, age is choosen as a predictor as it is positively correlated with total working years."
   ]
  },
  {
   "cell_type": "code",
   "execution_count": 163,
   "metadata": {},
   "outputs": [],
   "source": [
    "attrition = pd.read_csv(\"data/hr_employee_attrition.tsv.txt\", sep=\"\\t\")\n",
    "attrition = attrition[attrition[\"Attrition\"] == \"No\"]\n",
    "attrition[\"YearsAtCompany\"] = pd.Categorical(attrition[\"YearsAtCompany\"], ordered=True)"
   ]
  },
  {
   "cell_type": "code",
   "execution_count": null,
   "metadata": {},
   "outputs": [],
   "source": [
    "plt.scatter(attrition.TotalWorkingYears, attrition.YearsAtCompany, alpha=0.5)"
   ]
  },
  {
   "cell_type": "code",
   "execution_count": 154,
   "metadata": {},
   "outputs": [
    {
     "data": {
      "text/html": [
       "<div>\n",
       "<style scoped>\n",
       "    .dataframe tbody tr th:only-of-type {\n",
       "        vertical-align: middle;\n",
       "    }\n",
       "\n",
       "    .dataframe tbody tr th {\n",
       "        vertical-align: top;\n",
       "    }\n",
       "\n",
       "    .dataframe thead th {\n",
       "        text-align: right;\n",
       "    }\n",
       "</style>\n",
       "<table border=\"1\" class=\"dataframe\">\n",
       "  <thead>\n",
       "    <tr style=\"text-align: right;\">\n",
       "      <th></th>\n",
       "      <th>YearsAtCompany</th>\n",
       "      <th>Age</th>\n",
       "      <th>TotalWorkingYears</th>\n",
       "      <th>YearsInCurrentRole</th>\n",
       "    </tr>\n",
       "  </thead>\n",
       "  <tbody>\n",
       "    <tr>\n",
       "      <th>0</th>\n",
       "      <td>6</td>\n",
       "      <td>41</td>\n",
       "      <td>8</td>\n",
       "      <td>4</td>\n",
       "    </tr>\n",
       "    <tr>\n",
       "      <th>1</th>\n",
       "      <td>10</td>\n",
       "      <td>49</td>\n",
       "      <td>10</td>\n",
       "      <td>7</td>\n",
       "    </tr>\n",
       "    <tr>\n",
       "      <th>2</th>\n",
       "      <td>0</td>\n",
       "      <td>37</td>\n",
       "      <td>7</td>\n",
       "      <td>0</td>\n",
       "    </tr>\n",
       "    <tr>\n",
       "      <th>3</th>\n",
       "      <td>8</td>\n",
       "      <td>33</td>\n",
       "      <td>8</td>\n",
       "      <td>7</td>\n",
       "    </tr>\n",
       "    <tr>\n",
       "      <th>4</th>\n",
       "      <td>2</td>\n",
       "      <td>27</td>\n",
       "      <td>6</td>\n",
       "      <td>2</td>\n",
       "    </tr>\n",
       "    <tr>\n",
       "      <th>...</th>\n",
       "      <td>...</td>\n",
       "      <td>...</td>\n",
       "      <td>...</td>\n",
       "      <td>...</td>\n",
       "    </tr>\n",
       "    <tr>\n",
       "      <th>1465</th>\n",
       "      <td>5</td>\n",
       "      <td>36</td>\n",
       "      <td>17</td>\n",
       "      <td>2</td>\n",
       "    </tr>\n",
       "    <tr>\n",
       "      <th>1466</th>\n",
       "      <td>7</td>\n",
       "      <td>39</td>\n",
       "      <td>9</td>\n",
       "      <td>7</td>\n",
       "    </tr>\n",
       "    <tr>\n",
       "      <th>1467</th>\n",
       "      <td>6</td>\n",
       "      <td>27</td>\n",
       "      <td>6</td>\n",
       "      <td>2</td>\n",
       "    </tr>\n",
       "    <tr>\n",
       "      <th>1468</th>\n",
       "      <td>9</td>\n",
       "      <td>49</td>\n",
       "      <td>17</td>\n",
       "      <td>6</td>\n",
       "    </tr>\n",
       "    <tr>\n",
       "      <th>1469</th>\n",
       "      <td>4</td>\n",
       "      <td>34</td>\n",
       "      <td>6</td>\n",
       "      <td>3</td>\n",
       "    </tr>\n",
       "  </tbody>\n",
       "</table>\n",
       "<p>1470 rows × 4 columns</p>\n",
       "</div>"
      ],
      "text/plain": [
       "      YearsAtCompany  Age TotalWorkingYears  YearsInCurrentRole\n",
       "0                  6   41                 8                   4\n",
       "1                 10   49                10                   7\n",
       "2                  0   37                 7                   0\n",
       "3                  8   33                 8                   7\n",
       "4                  2   27                 6                   2\n",
       "...              ...  ...               ...                 ...\n",
       "1465               5   36                17                   2\n",
       "1466               7   39                 9                   7\n",
       "1467               6   27                 6                   2\n",
       "1468               9   49                17                   6\n",
       "1469               4   34                 6                   3\n",
       "\n",
       "[1470 rows x 4 columns]"
      ]
     },
     "execution_count": 154,
     "metadata": {},
     "output_type": "execute_result"
    }
   ],
   "source": [
    "attrition"
   ]
  },
  {
   "cell_type": "code",
   "execution_count": 164,
   "metadata": {},
   "outputs": [
    {
     "name": "stderr",
     "output_type": "stream",
     "text": [
      "/Users/gabestechschulte/Documents/repos/bambi/bambi/formula.py:111: UserWarning: The intercept is omitted in ordinal families\n",
      "  warnings.warn(\"The intercept is omitted in ordinal families\")\n",
      "Auto-assigning NUTS sampler...\n",
      "Initializing NUTS using jitter+adapt_diag...\n",
      "Multiprocess sampling (4 chains in 4 jobs)\n",
      "NUTS: [YearsAtCompany_threshold, TotalWorkingYears]\n"
     ]
    },
    {
     "data": {
      "text/html": [
       "\n",
       "<style>\n",
       "    /* Turns off some styling */\n",
       "    progress {\n",
       "        /* gets rid of default border in Firefox and Opera. */\n",
       "        border: none;\n",
       "        /* Needs to be in here for Safari polyfill so background images work as expected. */\n",
       "        background-size: auto;\n",
       "    }\n",
       "    progress:not([value]), progress:not([value])::-webkit-progress-bar {\n",
       "        background: repeating-linear-gradient(45deg, #7e7e7e, #7e7e7e 10px, #5c5c5c 10px, #5c5c5c 20px);\n",
       "    }\n",
       "    .progress-bar-interrupted, .progress-bar-interrupted::-webkit-progress-bar {\n",
       "        background: #F44336;\n",
       "    }\n",
       "</style>\n"
      ],
      "text/plain": [
       "<IPython.core.display.HTML object>"
      ]
     },
     "metadata": {},
     "output_type": "display_data"
    },
    {
     "data": {
      "text/html": [
       "\n",
       "    <div>\n",
       "      <progress value='8000' class='' max='8000' style='width:300px; height:20px; vertical-align: middle;'></progress>\n",
       "      100.00% [8000/8000 03:57&lt;00:00 Sampling 4 chains, 0 divergences]\n",
       "    </div>\n",
       "    "
      ],
      "text/plain": [
       "<IPython.core.display.HTML object>"
      ]
     },
     "metadata": {},
     "output_type": "display_data"
    },
    {
     "name": "stderr",
     "output_type": "stream",
     "text": [
      "Sampling 4 chains for 1_000 tune and 1_000 draw iterations (4_000 + 4_000 draws total) took 238 seconds.\n"
     ]
    }
   ],
   "source": [
    "sequence_model = bmb.Model(\"YearsAtCompany ~ TotalWorkingYears\", data=attrition, family=\"sratio\")\n",
    "sequence_idata = sequence_model.fit()"
   ]
  },
  {
   "cell_type": "code",
   "execution_count": 142,
   "metadata": {},
   "outputs": [
    {
     "data": {
      "text/html": [
       "<div>\n",
       "<style scoped>\n",
       "    .dataframe tbody tr th:only-of-type {\n",
       "        vertical-align: middle;\n",
       "    }\n",
       "\n",
       "    .dataframe tbody tr th {\n",
       "        vertical-align: top;\n",
       "    }\n",
       "\n",
       "    .dataframe thead th {\n",
       "        text-align: right;\n",
       "    }\n",
       "</style>\n",
       "<table border=\"1\" class=\"dataframe\">\n",
       "  <thead>\n",
       "    <tr style=\"text-align: right;\">\n",
       "      <th></th>\n",
       "      <th>mean</th>\n",
       "      <th>sd</th>\n",
       "      <th>hdi_3%</th>\n",
       "      <th>hdi_97%</th>\n",
       "      <th>mcse_mean</th>\n",
       "      <th>mcse_sd</th>\n",
       "      <th>ess_bulk</th>\n",
       "      <th>ess_tail</th>\n",
       "      <th>r_hat</th>\n",
       "    </tr>\n",
       "  </thead>\n",
       "  <tbody>\n",
       "    <tr>\n",
       "      <th>TotalWorkingYears_threshold[0]</th>\n",
       "      <td>-2.086</td>\n",
       "      <td>0.304</td>\n",
       "      <td>-2.669</td>\n",
       "      <td>-1.541</td>\n",
       "      <td>0.005</td>\n",
       "      <td>0.003</td>\n",
       "      <td>4099.0</td>\n",
       "      <td>2853.0</td>\n",
       "      <td>1.00</td>\n",
       "    </tr>\n",
       "    <tr>\n",
       "      <th>TotalWorkingYears_threshold[1]</th>\n",
       "      <td>0.010</td>\n",
       "      <td>0.149</td>\n",
       "      <td>-0.254</td>\n",
       "      <td>0.304</td>\n",
       "      <td>0.004</td>\n",
       "      <td>0.003</td>\n",
       "      <td>1677.0</td>\n",
       "      <td>2547.0</td>\n",
       "      <td>1.00</td>\n",
       "    </tr>\n",
       "    <tr>\n",
       "      <th>TotalWorkingYears_threshold[2]</th>\n",
       "      <td>-0.903</td>\n",
       "      <td>0.201</td>\n",
       "      <td>-1.275</td>\n",
       "      <td>-0.523</td>\n",
       "      <td>0.004</td>\n",
       "      <td>0.003</td>\n",
       "      <td>2099.0</td>\n",
       "      <td>2739.0</td>\n",
       "      <td>1.00</td>\n",
       "    </tr>\n",
       "    <tr>\n",
       "      <th>TotalWorkingYears_threshold[3]</th>\n",
       "      <td>-0.529</td>\n",
       "      <td>0.187</td>\n",
       "      <td>-0.894</td>\n",
       "      <td>-0.194</td>\n",
       "      <td>0.004</td>\n",
       "      <td>0.003</td>\n",
       "      <td>1870.0</td>\n",
       "      <td>1959.0</td>\n",
       "      <td>1.00</td>\n",
       "    </tr>\n",
       "    <tr>\n",
       "      <th>TotalWorkingYears_threshold[4]</th>\n",
       "      <td>-0.038</td>\n",
       "      <td>0.160</td>\n",
       "      <td>-0.340</td>\n",
       "      <td>0.252</td>\n",
       "      <td>0.004</td>\n",
       "      <td>0.003</td>\n",
       "      <td>1735.0</td>\n",
       "      <td>2493.0</td>\n",
       "      <td>1.00</td>\n",
       "    </tr>\n",
       "    <tr>\n",
       "      <th>TotalWorkingYears_threshold[5]</th>\n",
       "      <td>0.419</td>\n",
       "      <td>0.151</td>\n",
       "      <td>0.131</td>\n",
       "      <td>0.699</td>\n",
       "      <td>0.004</td>\n",
       "      <td>0.003</td>\n",
       "      <td>1455.0</td>\n",
       "      <td>2298.0</td>\n",
       "      <td>1.00</td>\n",
       "    </tr>\n",
       "    <tr>\n",
       "      <th>TotalWorkingYears_threshold[6]</th>\n",
       "      <td>0.950</td>\n",
       "      <td>0.142</td>\n",
       "      <td>0.671</td>\n",
       "      <td>1.205</td>\n",
       "      <td>0.004</td>\n",
       "      <td>0.003</td>\n",
       "      <td>1250.0</td>\n",
       "      <td>2195.0</td>\n",
       "      <td>1.00</td>\n",
       "    </tr>\n",
       "    <tr>\n",
       "      <th>TotalWorkingYears_threshold[7]</th>\n",
       "      <td>0.663</td>\n",
       "      <td>0.159</td>\n",
       "      <td>0.363</td>\n",
       "      <td>0.955</td>\n",
       "      <td>0.004</td>\n",
       "      <td>0.003</td>\n",
       "      <td>1386.0</td>\n",
       "      <td>2334.0</td>\n",
       "      <td>1.00</td>\n",
       "    </tr>\n",
       "    <tr>\n",
       "      <th>TotalWorkingYears_threshold[8]</th>\n",
       "      <td>1.062</td>\n",
       "      <td>0.151</td>\n",
       "      <td>0.764</td>\n",
       "      <td>1.336</td>\n",
       "      <td>0.004</td>\n",
       "      <td>0.003</td>\n",
       "      <td>1259.0</td>\n",
       "      <td>2106.0</td>\n",
       "      <td>1.00</td>\n",
       "    </tr>\n",
       "    <tr>\n",
       "      <th>TotalWorkingYears_threshold[9]</th>\n",
       "      <td>1.156</td>\n",
       "      <td>0.157</td>\n",
       "      <td>0.873</td>\n",
       "      <td>1.451</td>\n",
       "      <td>0.004</td>\n",
       "      <td>0.003</td>\n",
       "      <td>1314.0</td>\n",
       "      <td>2440.0</td>\n",
       "      <td>1.00</td>\n",
       "    </tr>\n",
       "    <tr>\n",
       "      <th>TotalWorkingYears_threshold[10]</th>\n",
       "      <td>2.325</td>\n",
       "      <td>0.143</td>\n",
       "      <td>2.063</td>\n",
       "      <td>2.591</td>\n",
       "      <td>0.004</td>\n",
       "      <td>0.003</td>\n",
       "      <td>1109.0</td>\n",
       "      <td>2126.0</td>\n",
       "      <td>1.00</td>\n",
       "    </tr>\n",
       "    <tr>\n",
       "      <th>TotalWorkingYears_threshold[11]</th>\n",
       "      <td>0.730</td>\n",
       "      <td>0.207</td>\n",
       "      <td>0.351</td>\n",
       "      <td>1.127</td>\n",
       "      <td>0.005</td>\n",
       "      <td>0.003</td>\n",
       "      <td>1984.0</td>\n",
       "      <td>2533.0</td>\n",
       "      <td>1.00</td>\n",
       "    </tr>\n",
       "    <tr>\n",
       "      <th>TotalWorkingYears_threshold[12]</th>\n",
       "      <td>1.184</td>\n",
       "      <td>0.194</td>\n",
       "      <td>0.817</td>\n",
       "      <td>1.544</td>\n",
       "      <td>0.005</td>\n",
       "      <td>0.003</td>\n",
       "      <td>1658.0</td>\n",
       "      <td>2354.0</td>\n",
       "      <td>1.00</td>\n",
       "    </tr>\n",
       "    <tr>\n",
       "      <th>TotalWorkingYears_threshold[13]</th>\n",
       "      <td>1.011</td>\n",
       "      <td>0.214</td>\n",
       "      <td>0.637</td>\n",
       "      <td>1.436</td>\n",
       "      <td>0.005</td>\n",
       "      <td>0.003</td>\n",
       "      <td>2068.0</td>\n",
       "      <td>2421.0</td>\n",
       "      <td>1.00</td>\n",
       "    </tr>\n",
       "    <tr>\n",
       "      <th>TotalWorkingYears_threshold[14]</th>\n",
       "      <td>0.974</td>\n",
       "      <td>0.229</td>\n",
       "      <td>0.519</td>\n",
       "      <td>1.377</td>\n",
       "      <td>0.005</td>\n",
       "      <td>0.004</td>\n",
       "      <td>2081.0</td>\n",
       "      <td>2651.0</td>\n",
       "      <td>1.00</td>\n",
       "    </tr>\n",
       "    <tr>\n",
       "      <th>TotalWorkingYears_threshold[15]</th>\n",
       "      <td>1.385</td>\n",
       "      <td>0.214</td>\n",
       "      <td>0.988</td>\n",
       "      <td>1.790</td>\n",
       "      <td>0.005</td>\n",
       "      <td>0.004</td>\n",
       "      <td>1712.0</td>\n",
       "      <td>2312.0</td>\n",
       "      <td>1.00</td>\n",
       "    </tr>\n",
       "    <tr>\n",
       "      <th>TotalWorkingYears_threshold[16]</th>\n",
       "      <td>1.486</td>\n",
       "      <td>0.215</td>\n",
       "      <td>1.076</td>\n",
       "      <td>1.883</td>\n",
       "      <td>0.005</td>\n",
       "      <td>0.004</td>\n",
       "      <td>1738.0</td>\n",
       "      <td>2604.0</td>\n",
       "      <td>1.00</td>\n",
       "    </tr>\n",
       "    <tr>\n",
       "      <th>TotalWorkingYears_threshold[17]</th>\n",
       "      <td>1.538</td>\n",
       "      <td>0.223</td>\n",
       "      <td>1.151</td>\n",
       "      <td>1.981</td>\n",
       "      <td>0.005</td>\n",
       "      <td>0.004</td>\n",
       "      <td>1886.0</td>\n",
       "      <td>2311.0</td>\n",
       "      <td>1.00</td>\n",
       "    </tr>\n",
       "    <tr>\n",
       "      <th>TotalWorkingYears_threshold[18]</th>\n",
       "      <td>1.504</td>\n",
       "      <td>0.246</td>\n",
       "      <td>1.015</td>\n",
       "      <td>1.952</td>\n",
       "      <td>0.006</td>\n",
       "      <td>0.004</td>\n",
       "      <td>1739.0</td>\n",
       "      <td>2268.0</td>\n",
       "      <td>1.00</td>\n",
       "    </tr>\n",
       "    <tr>\n",
       "      <th>TotalWorkingYears_threshold[19]</th>\n",
       "      <td>1.417</td>\n",
       "      <td>0.263</td>\n",
       "      <td>0.882</td>\n",
       "      <td>1.878</td>\n",
       "      <td>0.006</td>\n",
       "      <td>0.004</td>\n",
       "      <td>2220.0</td>\n",
       "      <td>2866.0</td>\n",
       "      <td>1.00</td>\n",
       "    </tr>\n",
       "    <tr>\n",
       "      <th>TotalWorkingYears_threshold[20]</th>\n",
       "      <td>1.897</td>\n",
       "      <td>0.237</td>\n",
       "      <td>1.447</td>\n",
       "      <td>2.332</td>\n",
       "      <td>0.005</td>\n",
       "      <td>0.004</td>\n",
       "      <td>1874.0</td>\n",
       "      <td>2381.0</td>\n",
       "      <td>1.00</td>\n",
       "    </tr>\n",
       "    <tr>\n",
       "      <th>TotalWorkingYears_threshold[21]</th>\n",
       "      <td>2.260</td>\n",
       "      <td>0.243</td>\n",
       "      <td>1.817</td>\n",
       "      <td>2.724</td>\n",
       "      <td>0.006</td>\n",
       "      <td>0.004</td>\n",
       "      <td>1926.0</td>\n",
       "      <td>2200.0</td>\n",
       "      <td>1.00</td>\n",
       "    </tr>\n",
       "    <tr>\n",
       "      <th>TotalWorkingYears_threshold[22]</th>\n",
       "      <td>1.978</td>\n",
       "      <td>0.279</td>\n",
       "      <td>1.470</td>\n",
       "      <td>2.484</td>\n",
       "      <td>0.006</td>\n",
       "      <td>0.004</td>\n",
       "      <td>2066.0</td>\n",
       "      <td>2272.0</td>\n",
       "      <td>1.00</td>\n",
       "    </tr>\n",
       "    <tr>\n",
       "      <th>TotalWorkingYears_threshold[23]</th>\n",
       "      <td>2.245</td>\n",
       "      <td>0.269</td>\n",
       "      <td>1.729</td>\n",
       "      <td>2.746</td>\n",
       "      <td>0.006</td>\n",
       "      <td>0.004</td>\n",
       "      <td>2183.0</td>\n",
       "      <td>2773.0</td>\n",
       "      <td>1.00</td>\n",
       "    </tr>\n",
       "    <tr>\n",
       "      <th>TotalWorkingYears_threshold[24]</th>\n",
       "      <td>2.223</td>\n",
       "      <td>0.295</td>\n",
       "      <td>1.703</td>\n",
       "      <td>2.807</td>\n",
       "      <td>0.006</td>\n",
       "      <td>0.004</td>\n",
       "      <td>2419.0</td>\n",
       "      <td>3004.0</td>\n",
       "      <td>1.00</td>\n",
       "    </tr>\n",
       "    <tr>\n",
       "      <th>TotalWorkingYears_threshold[25]</th>\n",
       "      <td>2.121</td>\n",
       "      <td>0.327</td>\n",
       "      <td>1.509</td>\n",
       "      <td>2.723</td>\n",
       "      <td>0.006</td>\n",
       "      <td>0.004</td>\n",
       "      <td>2661.0</td>\n",
       "      <td>2898.0</td>\n",
       "      <td>1.00</td>\n",
       "    </tr>\n",
       "    <tr>\n",
       "      <th>TotalWorkingYears_threshold[26]</th>\n",
       "      <td>2.327</td>\n",
       "      <td>0.325</td>\n",
       "      <td>1.740</td>\n",
       "      <td>2.950</td>\n",
       "      <td>0.007</td>\n",
       "      <td>0.005</td>\n",
       "      <td>2351.0</td>\n",
       "      <td>2678.0</td>\n",
       "      <td>1.00</td>\n",
       "    </tr>\n",
       "    <tr>\n",
       "      <th>TotalWorkingYears_threshold[27]</th>\n",
       "      <td>1.736</td>\n",
       "      <td>0.416</td>\n",
       "      <td>0.953</td>\n",
       "      <td>2.484</td>\n",
       "      <td>0.008</td>\n",
       "      <td>0.006</td>\n",
       "      <td>2749.0</td>\n",
       "      <td>2672.0</td>\n",
       "      <td>1.00</td>\n",
       "    </tr>\n",
       "    <tr>\n",
       "      <th>TotalWorkingYears_threshold[28]</th>\n",
       "      <td>2.694</td>\n",
       "      <td>0.332</td>\n",
       "      <td>2.036</td>\n",
       "      <td>3.300</td>\n",
       "      <td>0.008</td>\n",
       "      <td>0.005</td>\n",
       "      <td>1912.0</td>\n",
       "      <td>2288.0</td>\n",
       "      <td>1.00</td>\n",
       "    </tr>\n",
       "    <tr>\n",
       "      <th>TotalWorkingYears_threshold[29]</th>\n",
       "      <td>2.537</td>\n",
       "      <td>0.383</td>\n",
       "      <td>1.833</td>\n",
       "      <td>3.248</td>\n",
       "      <td>0.007</td>\n",
       "      <td>0.005</td>\n",
       "      <td>3087.0</td>\n",
       "      <td>2747.0</td>\n",
       "      <td>1.00</td>\n",
       "    </tr>\n",
       "    <tr>\n",
       "      <th>TotalWorkingYears_threshold[30]</th>\n",
       "      <td>2.341</td>\n",
       "      <td>0.431</td>\n",
       "      <td>1.521</td>\n",
       "      <td>3.129</td>\n",
       "      <td>0.007</td>\n",
       "      <td>0.005</td>\n",
       "      <td>3526.0</td>\n",
       "      <td>2538.0</td>\n",
       "      <td>1.00</td>\n",
       "    </tr>\n",
       "    <tr>\n",
       "      <th>TotalWorkingYears_threshold[31]</th>\n",
       "      <td>2.804</td>\n",
       "      <td>0.396</td>\n",
       "      <td>2.076</td>\n",
       "      <td>3.573</td>\n",
       "      <td>0.007</td>\n",
       "      <td>0.005</td>\n",
       "      <td>3354.0</td>\n",
       "      <td>2859.0</td>\n",
       "      <td>1.00</td>\n",
       "    </tr>\n",
       "    <tr>\n",
       "      <th>TotalWorkingYears_threshold[32]</th>\n",
       "      <td>3.073</td>\n",
       "      <td>0.408</td>\n",
       "      <td>2.330</td>\n",
       "      <td>3.844</td>\n",
       "      <td>0.007</td>\n",
       "      <td>0.005</td>\n",
       "      <td>3539.0</td>\n",
       "      <td>2963.0</td>\n",
       "      <td>1.00</td>\n",
       "    </tr>\n",
       "    <tr>\n",
       "      <th>TotalWorkingYears_threshold[33]</th>\n",
       "      <td>3.082</td>\n",
       "      <td>0.461</td>\n",
       "      <td>2.167</td>\n",
       "      <td>3.896</td>\n",
       "      <td>0.007</td>\n",
       "      <td>0.005</td>\n",
       "      <td>4221.0</td>\n",
       "      <td>2697.0</td>\n",
       "      <td>1.00</td>\n",
       "    </tr>\n",
       "    <tr>\n",
       "      <th>TotalWorkingYears_threshold[34]</th>\n",
       "      <td>2.959</td>\n",
       "      <td>0.531</td>\n",
       "      <td>1.939</td>\n",
       "      <td>3.960</td>\n",
       "      <td>0.008</td>\n",
       "      <td>0.005</td>\n",
       "      <td>4874.0</td>\n",
       "      <td>2358.0</td>\n",
       "      <td>1.00</td>\n",
       "    </tr>\n",
       "    <tr>\n",
       "      <th>TotalWorkingYears_threshold[35]</th>\n",
       "      <td>2.597</td>\n",
       "      <td>0.633</td>\n",
       "      <td>1.438</td>\n",
       "      <td>3.805</td>\n",
       "      <td>0.009</td>\n",
       "      <td>0.007</td>\n",
       "      <td>4870.0</td>\n",
       "      <td>2547.0</td>\n",
       "      <td>1.00</td>\n",
       "    </tr>\n",
       "    <tr>\n",
       "      <th>TotalWorkingYears_threshold[36]</th>\n",
       "      <td>3.806</td>\n",
       "      <td>0.554</td>\n",
       "      <td>2.725</td>\n",
       "      <td>4.801</td>\n",
       "      <td>0.008</td>\n",
       "      <td>0.006</td>\n",
       "      <td>4346.0</td>\n",
       "      <td>2605.0</td>\n",
       "      <td>1.00</td>\n",
       "    </tr>\n",
       "    <tr>\n",
       "      <th>TotalWorkingYears_threshold[37]</th>\n",
       "      <td>3.809</td>\n",
       "      <td>0.669</td>\n",
       "      <td>2.618</td>\n",
       "      <td>5.112</td>\n",
       "      <td>0.009</td>\n",
       "      <td>0.007</td>\n",
       "      <td>5117.0</td>\n",
       "      <td>2597.0</td>\n",
       "      <td>1.00</td>\n",
       "    </tr>\n",
       "    <tr>\n",
       "      <th>TotalWorkingYears_threshold[38]</th>\n",
       "      <td>2.597</td>\n",
       "      <td>0.888</td>\n",
       "      <td>0.867</td>\n",
       "      <td>4.184</td>\n",
       "      <td>0.012</td>\n",
       "      <td>0.008</td>\n",
       "      <td>5761.0</td>\n",
       "      <td>2541.0</td>\n",
       "      <td>1.00</td>\n",
       "    </tr>\n",
       "    <tr>\n",
       "      <th>Age</th>\n",
       "      <td>0.084</td>\n",
       "      <td>0.003</td>\n",
       "      <td>0.078</td>\n",
       "      <td>0.089</td>\n",
       "      <td>0.000</td>\n",
       "      <td>0.000</td>\n",
       "      <td>785.0</td>\n",
       "      <td>1530.0</td>\n",
       "      <td>1.01</td>\n",
       "    </tr>\n",
       "  </tbody>\n",
       "</table>\n",
       "</div>"
      ],
      "text/plain": [
       "                                  mean     sd  hdi_3%  hdi_97%  mcse_mean   \n",
       "TotalWorkingYears_threshold[0]  -2.086  0.304  -2.669   -1.541      0.005  \\\n",
       "TotalWorkingYears_threshold[1]   0.010  0.149  -0.254    0.304      0.004   \n",
       "TotalWorkingYears_threshold[2]  -0.903  0.201  -1.275   -0.523      0.004   \n",
       "TotalWorkingYears_threshold[3]  -0.529  0.187  -0.894   -0.194      0.004   \n",
       "TotalWorkingYears_threshold[4]  -0.038  0.160  -0.340    0.252      0.004   \n",
       "TotalWorkingYears_threshold[5]   0.419  0.151   0.131    0.699      0.004   \n",
       "TotalWorkingYears_threshold[6]   0.950  0.142   0.671    1.205      0.004   \n",
       "TotalWorkingYears_threshold[7]   0.663  0.159   0.363    0.955      0.004   \n",
       "TotalWorkingYears_threshold[8]   1.062  0.151   0.764    1.336      0.004   \n",
       "TotalWorkingYears_threshold[9]   1.156  0.157   0.873    1.451      0.004   \n",
       "TotalWorkingYears_threshold[10]  2.325  0.143   2.063    2.591      0.004   \n",
       "TotalWorkingYears_threshold[11]  0.730  0.207   0.351    1.127      0.005   \n",
       "TotalWorkingYears_threshold[12]  1.184  0.194   0.817    1.544      0.005   \n",
       "TotalWorkingYears_threshold[13]  1.011  0.214   0.637    1.436      0.005   \n",
       "TotalWorkingYears_threshold[14]  0.974  0.229   0.519    1.377      0.005   \n",
       "TotalWorkingYears_threshold[15]  1.385  0.214   0.988    1.790      0.005   \n",
       "TotalWorkingYears_threshold[16]  1.486  0.215   1.076    1.883      0.005   \n",
       "TotalWorkingYears_threshold[17]  1.538  0.223   1.151    1.981      0.005   \n",
       "TotalWorkingYears_threshold[18]  1.504  0.246   1.015    1.952      0.006   \n",
       "TotalWorkingYears_threshold[19]  1.417  0.263   0.882    1.878      0.006   \n",
       "TotalWorkingYears_threshold[20]  1.897  0.237   1.447    2.332      0.005   \n",
       "TotalWorkingYears_threshold[21]  2.260  0.243   1.817    2.724      0.006   \n",
       "TotalWorkingYears_threshold[22]  1.978  0.279   1.470    2.484      0.006   \n",
       "TotalWorkingYears_threshold[23]  2.245  0.269   1.729    2.746      0.006   \n",
       "TotalWorkingYears_threshold[24]  2.223  0.295   1.703    2.807      0.006   \n",
       "TotalWorkingYears_threshold[25]  2.121  0.327   1.509    2.723      0.006   \n",
       "TotalWorkingYears_threshold[26]  2.327  0.325   1.740    2.950      0.007   \n",
       "TotalWorkingYears_threshold[27]  1.736  0.416   0.953    2.484      0.008   \n",
       "TotalWorkingYears_threshold[28]  2.694  0.332   2.036    3.300      0.008   \n",
       "TotalWorkingYears_threshold[29]  2.537  0.383   1.833    3.248      0.007   \n",
       "TotalWorkingYears_threshold[30]  2.341  0.431   1.521    3.129      0.007   \n",
       "TotalWorkingYears_threshold[31]  2.804  0.396   2.076    3.573      0.007   \n",
       "TotalWorkingYears_threshold[32]  3.073  0.408   2.330    3.844      0.007   \n",
       "TotalWorkingYears_threshold[33]  3.082  0.461   2.167    3.896      0.007   \n",
       "TotalWorkingYears_threshold[34]  2.959  0.531   1.939    3.960      0.008   \n",
       "TotalWorkingYears_threshold[35]  2.597  0.633   1.438    3.805      0.009   \n",
       "TotalWorkingYears_threshold[36]  3.806  0.554   2.725    4.801      0.008   \n",
       "TotalWorkingYears_threshold[37]  3.809  0.669   2.618    5.112      0.009   \n",
       "TotalWorkingYears_threshold[38]  2.597  0.888   0.867    4.184      0.012   \n",
       "Age                              0.084  0.003   0.078    0.089      0.000   \n",
       "\n",
       "                                 mcse_sd  ess_bulk  ess_tail  r_hat  \n",
       "TotalWorkingYears_threshold[0]     0.003    4099.0    2853.0   1.00  \n",
       "TotalWorkingYears_threshold[1]     0.003    1677.0    2547.0   1.00  \n",
       "TotalWorkingYears_threshold[2]     0.003    2099.0    2739.0   1.00  \n",
       "TotalWorkingYears_threshold[3]     0.003    1870.0    1959.0   1.00  \n",
       "TotalWorkingYears_threshold[4]     0.003    1735.0    2493.0   1.00  \n",
       "TotalWorkingYears_threshold[5]     0.003    1455.0    2298.0   1.00  \n",
       "TotalWorkingYears_threshold[6]     0.003    1250.0    2195.0   1.00  \n",
       "TotalWorkingYears_threshold[7]     0.003    1386.0    2334.0   1.00  \n",
       "TotalWorkingYears_threshold[8]     0.003    1259.0    2106.0   1.00  \n",
       "TotalWorkingYears_threshold[9]     0.003    1314.0    2440.0   1.00  \n",
       "TotalWorkingYears_threshold[10]    0.003    1109.0    2126.0   1.00  \n",
       "TotalWorkingYears_threshold[11]    0.003    1984.0    2533.0   1.00  \n",
       "TotalWorkingYears_threshold[12]    0.003    1658.0    2354.0   1.00  \n",
       "TotalWorkingYears_threshold[13]    0.003    2068.0    2421.0   1.00  \n",
       "TotalWorkingYears_threshold[14]    0.004    2081.0    2651.0   1.00  \n",
       "TotalWorkingYears_threshold[15]    0.004    1712.0    2312.0   1.00  \n",
       "TotalWorkingYears_threshold[16]    0.004    1738.0    2604.0   1.00  \n",
       "TotalWorkingYears_threshold[17]    0.004    1886.0    2311.0   1.00  \n",
       "TotalWorkingYears_threshold[18]    0.004    1739.0    2268.0   1.00  \n",
       "TotalWorkingYears_threshold[19]    0.004    2220.0    2866.0   1.00  \n",
       "TotalWorkingYears_threshold[20]    0.004    1874.0    2381.0   1.00  \n",
       "TotalWorkingYears_threshold[21]    0.004    1926.0    2200.0   1.00  \n",
       "TotalWorkingYears_threshold[22]    0.004    2066.0    2272.0   1.00  \n",
       "TotalWorkingYears_threshold[23]    0.004    2183.0    2773.0   1.00  \n",
       "TotalWorkingYears_threshold[24]    0.004    2419.0    3004.0   1.00  \n",
       "TotalWorkingYears_threshold[25]    0.004    2661.0    2898.0   1.00  \n",
       "TotalWorkingYears_threshold[26]    0.005    2351.0    2678.0   1.00  \n",
       "TotalWorkingYears_threshold[27]    0.006    2749.0    2672.0   1.00  \n",
       "TotalWorkingYears_threshold[28]    0.005    1912.0    2288.0   1.00  \n",
       "TotalWorkingYears_threshold[29]    0.005    3087.0    2747.0   1.00  \n",
       "TotalWorkingYears_threshold[30]    0.005    3526.0    2538.0   1.00  \n",
       "TotalWorkingYears_threshold[31]    0.005    3354.0    2859.0   1.00  \n",
       "TotalWorkingYears_threshold[32]    0.005    3539.0    2963.0   1.00  \n",
       "TotalWorkingYears_threshold[33]    0.005    4221.0    2697.0   1.00  \n",
       "TotalWorkingYears_threshold[34]    0.005    4874.0    2358.0   1.00  \n",
       "TotalWorkingYears_threshold[35]    0.007    4870.0    2547.0   1.00  \n",
       "TotalWorkingYears_threshold[36]    0.006    4346.0    2605.0   1.00  \n",
       "TotalWorkingYears_threshold[37]    0.007    5117.0    2597.0   1.00  \n",
       "TotalWorkingYears_threshold[38]    0.008    5761.0    2541.0   1.00  \n",
       "Age                                0.000     785.0    1530.0   1.01  "
      ]
     },
     "execution_count": 142,
     "metadata": {},
     "output_type": "execute_result"
    }
   ],
   "source": [
    "az.summary(sequence_idata)"
   ]
  },
  {
   "cell_type": "code",
   "execution_count": 151,
   "metadata": {},
   "outputs": [
    {
     "data": {
      "image/png": "[encoded data removed]",
      "text/plain": [
       "<Figure size 700x300 with 1 Axes>"
      ]
     },
     "metadata": {},
     "output_type": "display_data"
    }
   ],
   "source": [
    "cumprobs = expit_func(sequence_idata.posterior.TotalWorkingYears_threshold).mean((\"chain\", \"draw\"))\n",
    "cumprobs = np.append(cumprobs, 1)\n",
    "\n",
    "plt.figure(figsize=(7, 3))\n",
    "plt.plot(sorted(attrition.TotalWorkingYears.unique()), cumprobs, marker='o')\n",
    "plt.ylabel(\"Cumulative probability\")\n",
    "plt.xlabel(\"Response category\");"
   ]
  },
  {
   "cell_type": "code",
   "execution_count": null,
   "metadata": {},
   "outputs": [],
   "source": []
  },
  {
   "cell_type": "code",
   "execution_count": 153,
   "metadata": {},
   "outputs": [
    {
     "name": "stderr",
     "output_type": "stream",
     "text": [
      "/var/folders/rl/y69t95y51g90tvd6gjzzs59h0000gn/T/ipykernel_32825/4080317185.py:5: UserWarning: FixedFormatter should only be used together with FixedLocator\n",
      "  ax.set_xticklabels(sequence_model.response_component.response_term.levels);\n"
     ]
    },
    {
     "data": {
      "image/png": "[encoded data removed]",
      "text/plain": [
       "<Figure size 700x300 with 1 Axes>"
      ]
     },
     "metadata": {},
     "output_type": "display_data"
    }
   ],
   "source": [
    "sequence_idata_pps = sequence_model.predict(idata=sequence_idata, kind=\"pps\", inplace=False)\n",
    "\n",
    "ax = az.plot_ppc(sequence_idata_pps, figsize=(7, 3), textsize=11)\n",
    "# ax.set_xticks(np.linspace(0.2, 7, 7))\n",
    "ax.set_xticklabels(sequence_model.response_component.response_term.levels);"
   ]
  },
  {
   "cell_type": "code",
   "execution_count": null,
   "metadata": {},
   "outputs": [],
   "source": []
  },
  {
   "cell_type": "code",
   "execution_count": 150,
   "metadata": {},
   "outputs": [
    {
     "data": {
      "image/png": "[encoded data removed]",
      "text/plain": [
       "<Figure size 700x300 with 1 Axes>"
      ]
     },
     "metadata": {},
     "output_type": "display_data"
    }
   ],
   "source": [
    "fig, ax = plt.subplots(figsize=(7, 3))\n",
    "for i in range(20):\n",
    "    outcome = expit_func(sequence_idata.posterior.TotalWorkingYears_threshold).sel(TotalWorkingYears_threshold_dim=i).to_numpy().flatten()\n",
    "    ax.hist(outcome, bins=15, alpha=0.5, label=f\"Category: {i}\")\n",
    "ax.set_xlabel(\"Probability\")\n",
    "ax.set_ylabel(\"Count\")\n",
    "ax.set_title(\"Cumulative Probability by Category\")\n",
    "ax.legend(bbox_to_anchor=(1.04, 1), loc=\"upper left\");"
   ]
  },
  {
   "cell_type": "code",
   "execution_count": null,
   "metadata": {},
   "outputs": [],
   "source": []
  }
 ],
 "metadata": {
  "kernelspec": {
   "display_name": "bambinos",
   "language": "python",
   "name": "python3"
  },
  "language_info": {
   "codemirror_mode": {
    "name": "ipython",
    "version": 3
   },
   "file_extension": ".py",
   "mimetype": "text/x-python",
   "name": "python",
   "nbconvert_exporter": "python",
   "pygments_lexer": "ipython3",
   "version": "3.11.5"
  },
  "orig_nbformat": 4
 },
 "nbformat": 4,
 "nbformat_minor": 2
}
