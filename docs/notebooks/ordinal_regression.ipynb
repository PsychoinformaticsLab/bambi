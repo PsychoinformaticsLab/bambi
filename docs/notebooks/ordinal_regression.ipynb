{
 "cells": [
  {
   "cell_type": "code",
   "execution_count": 1,
   "metadata": {},
   "outputs": [
    {
     "name": "stderr",
     "output_type": "stream",
     "text": [
      "WARNING (pytensor.tensor.blas): Using NumPy C-API based implementation for BLAS functions.\n"
     ]
    }
   ],
   "source": [
    "import arviz as az\n",
    "import matplotlib.pyplot as plt\n",
    "import numpy as np\n",
    "import pandas as pd\n",
    "import warnings\n",
    "\n",
    "import bambi as bmb\n",
    "\n",
    "warnings.filterwarnings(\"ignore\", category=FutureWarning)"
   ]
  },
  {
   "cell_type": "markdown",
   "metadata": {},
   "source": [
    "# Ordinal Regression\n",
    "\n",
    "In some scenarios, the response variable is discrete, like a count, and ordered. Common examples of such data come from questionnaires where the respondent is asked to rate a product, service, or experience on a scale. This scale is often referred to as a [Likert scale](https://en.wikipedia.org/wiki/Likert_scale). For example, a five-level Likert scale could be:\n",
    "\n",
    "- 1 = Strongly disagree\n",
    "- 2 = Disagree\n",
    "- 3 = Neither agree nor disagree\n",
    "- 4 = Agree\n",
    "- 5 = Strongly agree\n",
    "\n",
    "The result is a set of **ordered categories** where each category has an associated numeric value (1-5). However, you can't compute a meaningful difference between the categories. Moreover, the response variable can also be a count where meaningful differences can be computed. For example, a restaurant can be rated on a scale of 1-5 stars where 1 is the worst and 5 is the best. Yes, you can compute the difference between 1 and 2 stars, but it is often treated as ordinal in an applied setting.\n",
    "\n",
    "Ordinal data presents three challenges when modelling:\n",
    "\n",
    "1. Unlike a count, the differences in the values are not necessarily equidistant or meaningful. For example, computing the difference between \"Strongly disagree\" and \"Disagree\". Or, in the case of the restaurant rating, it may be much harder for a restuarant to go from 4 to 5 stars than from 2 to 3 stars. \n",
    "2. The distribution of ordinal responses may be nonnormal as the response is not continuous; particularly if larger response levels are infrequently chosen compared to lower ones.\n",
    "3. The variances of the unobserved variables that underlie the observed ordered category may differ between the category, time points, etc. \n",
    "\n",
    "Thus, treating ordered categories as continuous is not appropriate. To this extent, Bambi supports two classes of ordinal regression models: (1) cumulative, and (2) sequential. Below, it is demonstrated how to fit these two models using Bambi to overcome the challenges of ordered category response data."
   ]
  },
  {
   "cell_type": "markdown",
   "metadata": {},
   "source": [
    "## Cumulative model\n",
    "\n",
    "A cumulative model assumes that the observed ordinal variable $Y$ originates from the \"categorization\" of a latent continuous variable $Z$. To model the categorization process, the model assumes that there are $K$ thresholds (cutpoints) $\\tau_k$ that partition $Z$ into $K+1$ observable, ordered categories. Additionally, if we assume $Z$ to have a certain distribution (e.g., Normal) with a cumulative distribution function $F$, the probability of $Y$ being equal to category $k$ is\n",
    "\n",
    "$$P(Y = k) = F(\\tau_k) - F(-\\infty) = F(\\tau_k) - 0 \\ \\text{if} \\ k = 1$$\n",
    "\n",
    "$$P(Y = k) = F(\\tau_k) - F(\\tau_{k-1}) \\ \\text{if} \\ k \\ \\text{in} \\ {2, 3, 4, ..., K - 1}$$\n",
    "\n",
    "$$P(Y = k) = F(+\\infty) - F(\\tau_{k-1}) \\ \\text{if} \\ k = K$$\n",
    "\n",
    "where each $F(\\tau)$ is a cumulative probability. For example, suppose we have three response levels and we are interested in the probability of $Y=k$ and have two thresholds $\\tau_1 = -1, \\tau_2 = 1$ for three categories. Additionally, if we assume $Z$ to be normally distributed with $\\sigma = 1$ and a cumulative distribution function $\\Phi$ then\n",
    "\n",
    "$$P(Y = 1) = \\Phi(\\tau_1)$$\n",
    "\n",
    "$$P(Y = 2) = \\Phi(\\tau_2) - \\Phi(\\tau_1)$$\n",
    "\n",
    "$$P(Y = 3) = 1 - \\Phi(\\tau_2)$$\n",
    "\n",
    "\n",
    "How to set the thresholds? By default, Bambi uses a Normal distribution with a grid of evenly spaced $\\mu$ that depends on the number of categories as the prior for the thresholds. Additionally, since the thresholds need to be orderd, Bambi applies a transformation to the values such that the order is preserved. Furthermore, the model specification for ordinal regression typically transforms the cumulative probabilities using the log-cumulative-odds (logit) transformation. Therefore, the learned parameters for the thresholds $\\tau$ will be logits.\n",
    "\n",
    "Lastly, as each $F(\\tau)$ implies a cumulative probability for each $k$, the largest response value always has a cumulative probability of 1. Thus, we effectively do not need a parameter for it due to the law of total probability. For example, for $K = 3$ response values, we only need $K − 1 = 2$ thresholds."
   ]
  },
  {
   "cell_type": "markdown",
   "metadata": {},
   "source": [
    "### The moral intuition dataset\n",
    "\n",
    "To illustrate an cumulative ordinal model, we will model data from a series of experiments conducted by philsophers (this example comes from Richard McElreath's [Statistical Rethinking](https://xcelab.net/rm/statistical-rethinking/)). The experiments aim to collect empirical evidence relevant to debates about moral intuition, the forms of reasoning through which people develop judgments about the moral goodness and badness of actions. \n",
    "\n",
    "In the dataset there are 12 columns and 9930 rows, comprising data for 331 unique individuals. The response we are interested in `response`, is an integer from 1 to 7 indicating how morally permissible the participant found the action to be taken (or not) in the story. The predictors are as follows:\n",
    "\n",
    "- `action`: a factor with levels 0 and 1 where 1 indicates that the story contained \"harm caused by action is morally worse than equivalent harm caused by omission\".\n",
    "- `intention`: a factor with levels 0 and 1 where 1 indicates that the story contained \"harm intended as the means to a goal is morally worse than equivalent harm foreseen as the side effect of a goal\".\n",
    "- `contact`: a factor with levels 0 and 1 where 1 indicates that the story contained \"using physical contact to cause harm to a victim is morally worse than causing equivalent harm to a victim without using physical contact\"."
   ]
  },
  {
   "cell_type": "code",
   "execution_count": 52,
   "metadata": {},
   "outputs": [],
   "source": [
    "trolly = pd.read_csv(\"https://raw.githubusercontent.com/rmcelreath/rethinking/master/data/Trolley.csv\", sep=\";\")\n",
    "trolly = trolly[[\"response\", \"action\", \"intention\", \"contact\"]]\n",
    "trolly[\"action\"] = pd.Categorical(trolly[\"action\"], ordered=False)\n",
    "trolly[\"intention\"] = pd.Categorical(trolly[\"intention\"], ordered=False)\n",
    "trolly[\"contact\"] = pd.Categorical(trolly[\"contact\"], ordered=False)\n",
    "trolly[\"response\"] = pd.Categorical(trolly[\"response\"], ordered=True)"
   ]
  },
  {
   "cell_type": "code",
   "execution_count": 53,
   "metadata": {},
   "outputs": [
    {
     "data": {
      "text/plain": [
       "[4, 3, 5, 2, 1, 7, 6]\n",
       "Categories (7, int64): [1 < 2 < 3 < 4 < 5 < 6 < 7]"
      ]
     },
     "execution_count": 53,
     "metadata": {},
     "output_type": "execute_result"
    }
   ],
   "source": [
    "# 7 ordered categories from 1-7\n",
    "trolly.response.unique()"
   ]
  },
  {
   "cell_type": "markdown",
   "metadata": {},
   "source": [
    "### Intercept only model\n",
    "\n",
    "Before we fit a model with predictors, let's attempt to recover the parameters of an ordinal model using only the thresholds to get a feel for the cumulative family. Traditionally, in Bambi if we wanted to recover the parameters of the likelihood, we would use an intercept only model and write the formula as `response ~ 1` where `1` indicates to include the intercept. However, in the case of ordinal regression, the thresholds \"take the place\" of the intercept. Thus, we can write the formula as `response ~ 0` to indicate that we do not want to include an intercept. To fit a cumulative ordinal model, we pass `family=\"cumulative\"`. To compare the thresholds only model, we compute the empirical log-cumulative-odds of the categories directly from the data below. "
   ]
  },
  {
   "cell_type": "code",
   "execution_count": 54,
   "metadata": {},
   "outputs": [
    {
     "name": "stderr",
     "output_type": "stream",
     "text": [
      "/var/folders/rl/y69t95y51g90tvd6gjzzs59h0000gn/T/ipykernel_9835/1548491577.py:3: RuntimeWarning: invalid value encountered in log\n",
      "  logit_func = lambda x: np.log(x / (1 - x))\n"
     ]
    },
    {
     "data": {
      "text/plain": [
       "array([-1.91609116, -1.26660559, -0.718634  ,  0.24778573,  0.88986365,\n",
       "        1.76938091,         nan])"
      ]
     },
     "execution_count": 54,
     "metadata": {},
     "output_type": "execute_result"
    }
   ],
   "source": [
    "pr_k = trolly.response.value_counts().sort_index().values / trolly.shape[0]\n",
    "cum_pr_k = np.cumsum(pr_k)\n",
    "logit_func = lambda x: np.log(x / (1 - x))\n",
    "cum_logit = logit_func(cum_pr_k)\n",
    "cum_logit"
   ]
  },
  {
   "cell_type": "code",
   "execution_count": 55,
   "metadata": {},
   "outputs": [
    {
     "name": "stderr",
     "output_type": "stream",
     "text": [
      "Auto-assigning NUTS sampler...\n",
      "Initializing NUTS using jitter+adapt_diag...\n",
      "Multiprocess sampling (4 chains in 4 jobs)\n",
      "NUTS: [response_threshold]\n"
     ]
    },
    {
     "data": {
      "text/html": [
       "\n",
       "<style>\n",
       "    /* Turns off some styling */\n",
       "    progress {\n",
       "        /* gets rid of default border in Firefox and Opera. */\n",
       "        border: none;\n",
       "        /* Needs to be in here for Safari polyfill so background images work as expected. */\n",
       "        background-size: auto;\n",
       "    }\n",
       "    progress:not([value]), progress:not([value])::-webkit-progress-bar {\n",
       "        background: repeating-linear-gradient(45deg, #7e7e7e, #7e7e7e 10px, #5c5c5c 10px, #5c5c5c 20px);\n",
       "    }\n",
       "    .progress-bar-interrupted, .progress-bar-interrupted::-webkit-progress-bar {\n",
       "        background: #F44336;\n",
       "    }\n",
       "</style>\n"
      ],
      "text/plain": [
       "<IPython.core.display.HTML object>"
      ]
     },
     "metadata": {},
     "output_type": "display_data"
    },
    {
     "data": {
      "text/html": [
       "\n",
       "    <div>\n",
       "      <progress value='8000' class='' max='8000' style='width:300px; height:20px; vertical-align: middle;'></progress>\n",
       "      100.00% [8000/8000 00:02&lt;00:00 Sampling 4 chains, 0 divergences]\n",
       "    </div>\n",
       "    "
      ],
      "text/plain": [
       "<IPython.core.display.HTML object>"
      ]
     },
     "metadata": {},
     "output_type": "display_data"
    },
    {
     "name": "stderr",
     "output_type": "stream",
     "text": [
      "/Users/gabestechschulte/miniforge3/envs/bambinos/lib/python3.11/site-packages/pytensor/compile/function/types.py:970: RuntimeWarning: invalid value encountered in accumulate\n",
      "  self.vm()\n",
      "/Users/gabestechschulte/miniforge3/envs/bambinos/lib/python3.11/site-packages/pytensor/compile/function/types.py:970: RuntimeWarning: invalid value encountered in add\n",
      "  self.vm()\n",
      "/Users/gabestechschulte/miniforge3/envs/bambinos/lib/python3.11/site-packages/pytensor/compile/function/types.py:970: RuntimeWarning: invalid value encountered in add\n",
      "  self.vm()\n",
      "/Users/gabestechschulte/miniforge3/envs/bambinos/lib/python3.11/site-packages/pytensor/compile/function/types.py:970: RuntimeWarning: invalid value encountered in add\n",
      "  self.vm()\n",
      "/Users/gabestechschulte/miniforge3/envs/bambinos/lib/python3.11/site-packages/pytensor/compile/function/types.py:970: RuntimeWarning: invalid value encountered in add\n",
      "  self.vm()\n",
      "/Users/gabestechschulte/miniforge3/envs/bambinos/lib/python3.11/site-packages/pytensor/compile/function/types.py:970: RuntimeWarning: invalid value encountered in accumulate\n",
      "  self.vm()\n",
      "Sampling 4 chains for 1_000 tune and 1_000 draw iterations (4_000 + 4_000 draws total) took 3 seconds.\n"
     ]
    }
   ],
   "source": [
    "model = bmb.Model(\"response ~ 0\", data=trolly, family=\"cumulative\")\n",
    "idata = model.fit(random_seed=1234)"
   ]
  },
  {
   "cell_type": "markdown",
   "metadata": {},
   "source": [
    "Below, the components of the model are outputed. Notice how the thresholds are a grid of six values ranging from -2 to 2. "
   ]
  },
  {
   "cell_type": "code",
   "execution_count": 56,
   "metadata": {},
   "outputs": [
    {
     "data": {
      "text/plain": [
       "       Formula: response ~ 0\n",
       "        Family: cumulative\n",
       "          Link: p = logit\n",
       "  Observations: 9930\n",
       "        Priors: \n",
       "    target = p\n",
       "        \n",
       "        \n",
       "        Auxiliary parameters\n",
       "            threshold ~ Normal(mu: [-2.  -1.2 -0.4  0.4  1.2  2. ], sigma: 1.0, transform: ordered)\n",
       "------\n",
       "* To see a plot of the priors call the .plot_priors() method.\n",
       "* To see a summary or plot of the posterior pass the object returned by .fit() to az.summary() or az.plot_trace()"
      ]
     },
     "execution_count": 56,
     "metadata": {},
     "output_type": "execute_result"
    }
   ],
   "source": [
    "model"
   ]
  },
  {
   "cell_type": "code",
   "execution_count": 57,
   "metadata": {},
   "outputs": [
    {
     "data": {
      "text/html": [
       "<div>\n",
       "<style scoped>\n",
       "    .dataframe tbody tr th:only-of-type {\n",
       "        vertical-align: middle;\n",
       "    }\n",
       "\n",
       "    .dataframe tbody tr th {\n",
       "        vertical-align: top;\n",
       "    }\n",
       "\n",
       "    .dataframe thead th {\n",
       "        text-align: right;\n",
       "    }\n",
       "</style>\n",
       "<table border=\"1\" class=\"dataframe\">\n",
       "  <thead>\n",
       "    <tr style=\"text-align: right;\">\n",
       "      <th></th>\n",
       "      <th>mean</th>\n",
       "      <th>sd</th>\n",
       "      <th>hdi_3%</th>\n",
       "      <th>hdi_97%</th>\n",
       "      <th>mcse_mean</th>\n",
       "      <th>mcse_sd</th>\n",
       "      <th>ess_bulk</th>\n",
       "      <th>ess_tail</th>\n",
       "      <th>r_hat</th>\n",
       "    </tr>\n",
       "  </thead>\n",
       "  <tbody>\n",
       "    <tr>\n",
       "      <th>response_threshold[0]</th>\n",
       "      <td>-1.917</td>\n",
       "      <td>0.030</td>\n",
       "      <td>-1.974</td>\n",
       "      <td>-1.863</td>\n",
       "      <td>0.0</td>\n",
       "      <td>0.0</td>\n",
       "      <td>4097.0</td>\n",
       "      <td>3163.0</td>\n",
       "      <td>1.0</td>\n",
       "    </tr>\n",
       "    <tr>\n",
       "      <th>response_threshold[1]</th>\n",
       "      <td>-1.267</td>\n",
       "      <td>0.024</td>\n",
       "      <td>-1.312</td>\n",
       "      <td>-1.220</td>\n",
       "      <td>0.0</td>\n",
       "      <td>0.0</td>\n",
       "      <td>5391.0</td>\n",
       "      <td>3302.0</td>\n",
       "      <td>1.0</td>\n",
       "    </tr>\n",
       "    <tr>\n",
       "      <th>response_threshold[2]</th>\n",
       "      <td>-0.719</td>\n",
       "      <td>0.021</td>\n",
       "      <td>-0.760</td>\n",
       "      <td>-0.681</td>\n",
       "      <td>0.0</td>\n",
       "      <td>0.0</td>\n",
       "      <td>5439.0</td>\n",
       "      <td>3698.0</td>\n",
       "      <td>1.0</td>\n",
       "    </tr>\n",
       "    <tr>\n",
       "      <th>response_threshold[3]</th>\n",
       "      <td>0.248</td>\n",
       "      <td>0.020</td>\n",
       "      <td>0.211</td>\n",
       "      <td>0.287</td>\n",
       "      <td>0.0</td>\n",
       "      <td>0.0</td>\n",
       "      <td>5416.0</td>\n",
       "      <td>3644.0</td>\n",
       "      <td>1.0</td>\n",
       "    </tr>\n",
       "    <tr>\n",
       "      <th>response_threshold[4]</th>\n",
       "      <td>0.890</td>\n",
       "      <td>0.022</td>\n",
       "      <td>0.847</td>\n",
       "      <td>0.930</td>\n",
       "      <td>0.0</td>\n",
       "      <td>0.0</td>\n",
       "      <td>4966.0</td>\n",
       "      <td>3439.0</td>\n",
       "      <td>1.0</td>\n",
       "    </tr>\n",
       "    <tr>\n",
       "      <th>response_threshold[5]</th>\n",
       "      <td>1.770</td>\n",
       "      <td>0.027</td>\n",
       "      <td>1.721</td>\n",
       "      <td>1.823</td>\n",
       "      <td>0.0</td>\n",
       "      <td>0.0</td>\n",
       "      <td>4785.0</td>\n",
       "      <td>3368.0</td>\n",
       "      <td>1.0</td>\n",
       "    </tr>\n",
       "  </tbody>\n",
       "</table>\n",
       "</div>"
      ],
      "text/plain": [
       "                        mean     sd  hdi_3%  hdi_97%  mcse_mean  mcse_sd  \\\n",
       "response_threshold[0] -1.917  0.030  -1.974   -1.863        0.0      0.0   \n",
       "response_threshold[1] -1.267  0.024  -1.312   -1.220        0.0      0.0   \n",
       "response_threshold[2] -0.719  0.021  -0.760   -0.681        0.0      0.0   \n",
       "response_threshold[3]  0.248  0.020   0.211    0.287        0.0      0.0   \n",
       "response_threshold[4]  0.890  0.022   0.847    0.930        0.0      0.0   \n",
       "response_threshold[5]  1.770  0.027   1.721    1.823        0.0      0.0   \n",
       "\n",
       "                       ess_bulk  ess_tail  r_hat  \n",
       "response_threshold[0]    4097.0    3163.0    1.0  \n",
       "response_threshold[1]    5391.0    3302.0    1.0  \n",
       "response_threshold[2]    5439.0    3698.0    1.0  \n",
       "response_threshold[3]    5416.0    3644.0    1.0  \n",
       "response_threshold[4]    4966.0    3439.0    1.0  \n",
       "response_threshold[5]    4785.0    3368.0    1.0  "
      ]
     },
     "execution_count": 57,
     "metadata": {},
     "output_type": "execute_result"
    }
   ],
   "source": [
    "az.summary(idata)"
   ]
  },
  {
   "cell_type": "markdown",
   "metadata": {},
   "source": [
    "Viewing the summary dataframe, we see a total of six cutpoints (`response_threshold`) coefficients. Why six? Remember, we get the last parameter for free, so we only need $K-1$ cutpoints. The index (using zero based indexing) of the `response_threshold` indicates the category that the cutpoint is associated with. Comparing to the empirical log-cumulative-odds computation above, the mean of the posterior distribution for each category is close to the empirical value.\n",
    "\n",
    "As the the log cumalative link is used, we need to apply the inverse of the logit function to transform back to cumulative probabilities. Below, we plot the cumulative probabilities for each category. "
   ]
  },
  {
   "cell_type": "code",
   "execution_count": 58,
   "metadata": {},
   "outputs": [
    {
     "data": {
      "image/png": "[encoded data removed]",
      "text/plain": [
       "<Figure size 700x300 with 1 Axes>"
      ]
     },
     "metadata": {},
     "output_type": "display_data"
    }
   ],
   "source": [
    "expit_func = lambda x: 1 / (1 + np.exp(-x))\n",
    "cumprobs = expit_func(idata.posterior.response_threshold).mean((\"chain\", \"draw\"))\n",
    "cumprobs = np.append(cumprobs, 1)\n",
    "\n",
    "plt.figure(figsize=(7, 3))\n",
    "plt.plot(sorted(trolly.response.unique()), cumprobs, marker='o')\n",
    "plt.ylabel(\"Cumulative probability\")\n",
    "plt.xlabel(\"Response category\")\n",
    "plt.title(\"Cumulative probabilities of response categories\");"
   ]
  },
  {
   "cell_type": "markdown",
   "metadata": {},
   "source": [
    "We can take the derivative of the cumulative probabilities to get the posterior probabilities for each category."
   ]
  },
  {
   "cell_type": "code",
   "execution_count": 14,
   "metadata": {},
   "outputs": [
    {
     "data": {
      "image/png": "[encoded data removed]",
      "text/plain": [
       "<Figure size 700x300 with 1 Axes>"
      ]
     },
     "metadata": {},
     "output_type": "display_data"
    }
   ],
   "source": [
    "# derivative\n",
    "ddx = np.diff(cumprobs)\n",
    "probs = np.insert(ddx, 0, cumprobs[0])\n",
    "\n",
    "plt.figure(figsize=(7, 3))\n",
    "plt.bar(sorted(trolly.response.unique()), probs)\n",
    "plt.ylabel(\"Probability\")\n",
    "plt.xlabel(\"Response category\")\n",
    "plt.title(\"Posterior Probability of each response category\");"
   ]
  },
  {
   "cell_type": "code",
   "execution_count": 15,
   "metadata": {},
   "outputs": [
    {
     "data": {
      "image/png": "[encoded data removed]",
      "text/plain": [
       "<Figure size 700x300 with 1 Axes>"
      ]
     },
     "metadata": {},
     "output_type": "display_data"
    }
   ],
   "source": [
    "fig, ax = plt.subplots(figsize=(7, 3))\n",
    "for i in range(6):\n",
    "    outcome = expit_func(idata.posterior.response_threshold).sel(response_threshold_dim=i).to_numpy().flatten()\n",
    "    ax.hist(outcome, bins=15, alpha=0.5, label=f\"Category: {i}\")\n",
    "ax.set_xlabel(\"Probability\")\n",
    "ax.set_ylabel(\"Count\")\n",
    "ax.set_title(\"Cumulative Probability by Response Category\")\n",
    "ax.legend(bbox_to_anchor=(1.04, 1), loc=\"upper left\");"
   ]
  },
  {
   "cell_type": "markdown",
   "metadata": {},
   "source": [
    "Notice in the plots above, the jump in probability from category 3 to 4. Additionally, the estimates of the coefficients is precise for each category. Now that we have an understanding how the cumulative link function is applied to produce ordered cumulative outcomes, we will add predictors to the model. "
   ]
  },
  {
   "cell_type": "markdown",
   "metadata": {},
   "source": [
    "### Adding predictors\n",
    "\n",
    "In the cumulative model described above, adding predictors was explicitly left out. In this section, it is described how predictors are added to ordinal cumulative models. When adding predictor variables, what we would like is for any predictor, as it increases, predictions are moved progressively (increased) through the categories in sequence. A predictor term $\\eta$ is defined as\n",
    "\n",
    "$$\\eta = \\beta_1 x_1 + \\beta_2 x_2 +, . . ., \\beta_n x_n + \\epsilon$$\n",
    "\n",
    "Note how similar this looks to an ordinary linear model. However, there is no intercept term. This is because the intercept is replaced by the threshold $\\tau$. Putting the predictor term together with the thresholds and cumulative distribution function, we obtain the probability of $Y$ being equal to a category $k$ as\n",
    "\n",
    "$$Pr(Y = k | \\eta) = F(\\tau_k - \\eta) - F(\\tau_{k-1} - \\eta)$$\n",
    "\n",
    "The same predictor term $\\eta$ is subtracted from each threshold because if we decrease the log-cumulative-odds of every outcome value $k$ below the maximum, this shifts probability mass upwards towards higher outcome values. Thus, positive $\\beta$ values correspond to increasing $x$, which is associated with an increase in the mean response $Y$. The parameters to be estimated from the model are the thresholds $\\tau$ and the predictor terms $\\eta$ coefficients.  \n",
    "\n",
    "To add predictors for ordinal models in Bambi, we continue to use the formula interface."
   ]
  },
  {
   "cell_type": "code",
   "execution_count": null,
   "metadata": {},
   "outputs": [],
   "source": [
    "model = bmb.Model(\n",
    "    \"response ~ 0 + action + intention + contact + action:intention + contact:intention\", \n",
    "    data=trolly, \n",
    "    family=\"cumulative\"\n",
    ")\n",
    "idata = model.fit(random_seed=1234)"
   ]
  },
  {
   "cell_type": "markdown",
   "metadata": {},
   "source": [
    "In the summary dataframe below, we only select the predictor variables as the thresholds are not of interest at the moment."
   ]
  },
  {
   "cell_type": "code",
   "execution_count": null,
   "metadata": {},
   "outputs": [
    {
     "name": "stderr",
     "output_type": "stream",
     "text": [
      "/Users/gabestechschulte/miniforge3/envs/bambinos/lib/python3.11/site-packages/xarray/core/concat.py:546: FutureWarning: unique with argument that is not not a Series, Index, ExtensionArray, or np.ndarray is deprecated and will raise in a future version.\n",
      "  common_dims = tuple(pd.unique([d for v in vars for d in v.dims]))\n"
     ]
    },
    {
     "data": {
      "text/html": [
       "<div>\n",
       "<style scoped>\n",
       "    .dataframe tbody tr th:only-of-type {\n",
       "        vertical-align: middle;\n",
       "    }\n",
       "\n",
       "    .dataframe tbody tr th {\n",
       "        vertical-align: top;\n",
       "    }\n",
       "\n",
       "    .dataframe thead th {\n",
       "        text-align: right;\n",
       "    }\n",
       "</style>\n",
       "<table border=\"1\" class=\"dataframe\">\n",
       "  <thead>\n",
       "    <tr style=\"text-align: right;\">\n",
       "      <th></th>\n",
       "      <th>mean</th>\n",
       "      <th>sd</th>\n",
       "      <th>hdi_3%</th>\n",
       "      <th>hdi_97%</th>\n",
       "      <th>mcse_mean</th>\n",
       "      <th>mcse_sd</th>\n",
       "      <th>ess_bulk</th>\n",
       "      <th>ess_tail</th>\n",
       "      <th>r_hat</th>\n",
       "    </tr>\n",
       "  </thead>\n",
       "  <tbody>\n",
       "    <tr>\n",
       "      <th>action[1]</th>\n",
       "      <td>-0.465</td>\n",
       "      <td>0.055</td>\n",
       "      <td>-0.563</td>\n",
       "      <td>-0.363</td>\n",
       "      <td>0.001</td>\n",
       "      <td>0.001</td>\n",
       "      <td>2647.0</td>\n",
       "      <td>2834.0</td>\n",
       "      <td>1.0</td>\n",
       "    </tr>\n",
       "    <tr>\n",
       "      <th>intention[1]</th>\n",
       "      <td>-0.276</td>\n",
       "      <td>0.058</td>\n",
       "      <td>-0.387</td>\n",
       "      <td>-0.171</td>\n",
       "      <td>0.001</td>\n",
       "      <td>0.001</td>\n",
       "      <td>2174.0</td>\n",
       "      <td>2857.0</td>\n",
       "      <td>1.0</td>\n",
       "    </tr>\n",
       "    <tr>\n",
       "      <th>contact[1]</th>\n",
       "      <td>-0.325</td>\n",
       "      <td>0.069</td>\n",
       "      <td>-0.456</td>\n",
       "      <td>-0.197</td>\n",
       "      <td>0.001</td>\n",
       "      <td>0.001</td>\n",
       "      <td>2660.0</td>\n",
       "      <td>2896.0</td>\n",
       "      <td>1.0</td>\n",
       "    </tr>\n",
       "    <tr>\n",
       "      <th>action:intention[1, 1]</th>\n",
       "      <td>-0.452</td>\n",
       "      <td>0.081</td>\n",
       "      <td>-0.605</td>\n",
       "      <td>-0.301</td>\n",
       "      <td>0.002</td>\n",
       "      <td>0.001</td>\n",
       "      <td>2515.0</td>\n",
       "      <td>2580.0</td>\n",
       "      <td>1.0</td>\n",
       "    </tr>\n",
       "    <tr>\n",
       "      <th>contact:intention[1, 1]</th>\n",
       "      <td>-1.279</td>\n",
       "      <td>0.099</td>\n",
       "      <td>-1.457</td>\n",
       "      <td>-1.086</td>\n",
       "      <td>0.002</td>\n",
       "      <td>0.001</td>\n",
       "      <td>2575.0</td>\n",
       "      <td>3023.0</td>\n",
       "      <td>1.0</td>\n",
       "    </tr>\n",
       "  </tbody>\n",
       "</table>\n",
       "</div>"
      ],
      "text/plain": [
       "                          mean     sd  hdi_3%  hdi_97%  mcse_mean  mcse_sd  \\\n",
       "action[1]               -0.465  0.055  -0.563   -0.363      0.001    0.001   \n",
       "intention[1]            -0.276  0.058  -0.387   -0.171      0.001    0.001   \n",
       "contact[1]              -0.325  0.069  -0.456   -0.197      0.001    0.001   \n",
       "action:intention[1, 1]  -0.452  0.081  -0.605   -0.301      0.002    0.001   \n",
       "contact:intention[1, 1] -1.279  0.099  -1.457   -1.086      0.002    0.001   \n",
       "\n",
       "                         ess_bulk  ess_tail  r_hat  \n",
       "action[1]                  2647.0    2834.0    1.0  \n",
       "intention[1]               2174.0    2857.0    1.0  \n",
       "contact[1]                 2660.0    2896.0    1.0  \n",
       "action:intention[1, 1]     2515.0    2580.0    1.0  \n",
       "contact:intention[1, 1]    2575.0    3023.0    1.0  "
      ]
     },
     "execution_count": 15,
     "metadata": {},
     "output_type": "execute_result"
    }
   ],
   "source": [
    "az.summary(\n",
    "    idata, \n",
    "    var_names=[\"action\", \"intention\", \"contact\", \n",
    "               \"action:intention\", \"contact:intention\"]\n",
    ")"
   ]
  },
  {
   "cell_type": "markdown",
   "metadata": {},
   "source": [
    "The posterior distribution of the slopes are all negative indicating that each of these story features reduces the rating—the acceptability of the story. Below, a forest plot is used to make this insight more clear."
   ]
  },
  {
   "cell_type": "code",
   "execution_count": null,
   "metadata": {},
   "outputs": [
    {
     "data": {
      "image/png": "[encoded data removed]",
      "text/plain": [
       "<Figure size 700x300 with 1 Axes>"
      ]
     },
     "metadata": {},
     "output_type": "display_data"
    }
   ],
   "source": [
    "az.plot_forest(\n",
    "    idata,\n",
    "    combined=True,\n",
    "    var_names=[\"action\", \"intention\", \"contact\", \n",
    "               \"action:intention\", \"contact:intention\"],\n",
    "    figsize=(7, 3),\n",
    "    textsize=11\n",
    ");"
   ]
  },
  {
   "cell_type": "markdown",
   "metadata": {},
   "source": [
    "Again, we can plot the cumulative probability of each category. Compared to the same plot above, notice how most of the category probabilities have been shifted to the left. Additionally, there is more uncertainty for category 3, 4, and 5."
   ]
  },
  {
   "cell_type": "code",
   "execution_count": null,
   "metadata": {},
   "outputs": [
    {
     "data": {
      "image/png": "[encoded data removed]",
      "text/plain": [
       "<Figure size 700x300 with 1 Axes>"
      ]
     },
     "metadata": {},
     "output_type": "display_data"
    }
   ],
   "source": [
    "fig, ax = plt.subplots(figsize=(7, 3))\n",
    "for i in range(6):\n",
    "    outcome = expit_func(idata.posterior.response_threshold).sel(response_threshold_dim=i).to_numpy().flatten()\n",
    "    ax.hist(outcome, bins=15, alpha=0.5, label=f\"Category: {i}\")\n",
    "ax.set_xlabel(\"Probability\")\n",
    "ax.set_ylabel(\"Count\")\n",
    "ax.set_title(\"Cumulative Probability by Category\")\n",
    "ax.legend(bbox_to_anchor=(1.04, 1), loc=\"upper left\");"
   ]
  },
  {
   "cell_type": "markdown",
   "metadata": {},
   "source": [
    "### Posterior predictive distribution\n",
    "\n",
    "To get a sense of how well the ordinal model fits the data, we can plot samples from the posterior predictive distribution. "
   ]
  },
  {
   "cell_type": "code",
   "execution_count": null,
   "metadata": {},
   "outputs": [
    {
     "data": {
      "image/png": "[encoded data removed]",
      "text/plain": [
       "<Figure size 700x300 with 1 Axes>"
      ]
     },
     "metadata": {},
     "output_type": "display_data"
    }
   ],
   "source": [
    "idata_pps = model.predict(idata=idata, kind=\"pps\", inplace=False)\n",
    "\n",
    "ax = az.plot_ppc(idata_pps, figsize=(7, 3), textsize=11)\n",
    "ax.set_xticks(np.linspace(0.2, 7, 7))\n",
    "ax.set_xticklabels(model.response_component.response_term.levels);"
   ]
  },
  {
   "cell_type": "markdown",
   "metadata": {},
   "source": [
    "Looking at the observed and posterior predictive mean, the model captures the observed frequencies of the categories well. "
   ]
  },
  {
   "cell_type": "markdown",
   "metadata": {},
   "source": [
    "## Sequential Model\n",
    "\n",
    "For some ordinal variables, the assumption of a **single** underlying continuous variable (as in cumulative models) may not be appropriate. If the response can be understood as being the result of a sequential process, such that a higher response category is possible only after all lower categories are achieved, then a sequential model may be more appropriate than a cumulative model.\n",
    "\n",
    "Sequential models assume that for **every** category $k$ there is a latent continuous variable $Z$ that determines the transition between categories $k$ and $k+1$. Now, a threshold $\\tau$ belongs to each latent process. If there are 3 categories, then there are 3 latent processes. If $Z_k$ is greater than the threshold $\\tau_k$, the sequential process continues, otherwise it stops at category $k$. As with the cumulative model, we still assume a distribution for $Z_k$ with a cumulative distribution function $F$.\n",
    "\n",
    "As an example, lets suppose we are interested in modeling the probability a boxer makes it to round 3. This implies that the particular boxer in question survived round 1 $Z_1 > \\tau_1$ , 2 $Z_2 > \\tau_2$, and 3 $Z_3 > \\tau_3$. This can be written as \n",
    "\n",
    "$$Pr(Y = 3) = (1 - P(Z_1 <= \\tau_1)) * (1 - P(Z_2 <= \\tau_2)) * P(Z_3 <= \\tau_3)$$\n",
    "\n",
    "As in the cumulative model above, if we assume $Y$ to be normally distributed with the thresholds $\\tau_0 = -1, \\tau_1 = 0, \\tau_2 = 1$ and cumulative distribution function $\\Phi$ then\n",
    "\n",
    "$$Pr(Y = 3) = (1 - \\Phi(\\tau_1)) * (1 - \\Phi(\\tau_2)) * \\Phi(\\tau_3)$$\n",
    "\n",
    "To add predictors to this sequential model, we follow the same specification in the _Adding Predictors_ section above. Thus, the sequential model with predictor terms becomes\n",
    "\n",
    "$$P(Y = k) = F(\\tau_k - \\eta) * \\prod_{j=1}^{k-1}{(1 - F(\\tau_j - \\eta))}$$\n",
    "\n",
    "Thus, the probability that $Y$ is equal to category $k$ is equal to the probability that it did not fall in one of the former categories $1: k-1$ multiplied by the probability that the sequential process stopped at $k$ rather than continuing past it."
   ]
  },
  {
   "cell_type": "markdown",
   "metadata": {},
   "source": [
    "### Human resources attrition dataset\n",
    "\n",
    "To illustrate an sequential model with a stopping ratio link function, we will use data from the IBM human resources employee attrition and performance [dataset](https://www.kaggle.com/datasets/pavansubhasht/ibm-hr-analytics-attrition-dataset). The original dataset contains 1470 rows and 35 columns. However, our goal is to model the total working years of employees using age as a predictor. This data lends itself to a sequential model as the response, total working years, is a sequential process. In order to have 10 years of working experience, it is necessarily true that the employee had 9 years of working experience. Additionally, age is choosen as a predictor as it is positively correlated with total working years."
   ]
  },
  {
   "cell_type": "code",
   "execution_count": 2,
   "metadata": {},
   "outputs": [
    {
     "data": {
      "text/html": [
       "<div>\n",
       "<style scoped>\n",
       "    .dataframe tbody tr th:only-of-type {\n",
       "        vertical-align: middle;\n",
       "    }\n",
       "\n",
       "    .dataframe tbody tr th {\n",
       "        vertical-align: top;\n",
       "    }\n",
       "\n",
       "    .dataframe thead th {\n",
       "        text-align: right;\n",
       "    }\n",
       "</style>\n",
       "<table border=\"1\" class=\"dataframe\">\n",
       "  <thead>\n",
       "    <tr style=\"text-align: right;\">\n",
       "      <th></th>\n",
       "      <th>YearsAtCompany</th>\n",
       "      <th>Age</th>\n",
       "    </tr>\n",
       "  </thead>\n",
       "  <tbody>\n",
       "    <tr>\n",
       "      <th>1</th>\n",
       "      <td>10</td>\n",
       "      <td>49</td>\n",
       "    </tr>\n",
       "    <tr>\n",
       "      <th>3</th>\n",
       "      <td>8</td>\n",
       "      <td>33</td>\n",
       "    </tr>\n",
       "    <tr>\n",
       "      <th>4</th>\n",
       "      <td>2</td>\n",
       "      <td>27</td>\n",
       "    </tr>\n",
       "    <tr>\n",
       "      <th>5</th>\n",
       "      <td>7</td>\n",
       "      <td>32</td>\n",
       "    </tr>\n",
       "    <tr>\n",
       "      <th>6</th>\n",
       "      <td>1</td>\n",
       "      <td>59</td>\n",
       "    </tr>\n",
       "  </tbody>\n",
       "</table>\n",
       "</div>"
      ],
      "text/plain": [
       "  YearsAtCompany  Age\n",
       "1             10   49\n",
       "3              8   33\n",
       "4              2   27\n",
       "5              7   32\n",
       "6              1   59"
      ]
     },
     "execution_count": 2,
     "metadata": {},
     "output_type": "execute_result"
    }
   ],
   "source": [
    "attrition = pd.read_csv(\"data/hr_employee_attrition.tsv.txt\", sep=\"\\t\")\n",
    "attrition = attrition[attrition[\"Attrition\"] == \"No\"]\n",
    "attrition[\"YearsAtCompany\"] = pd.Categorical(attrition[\"YearsAtCompany\"], ordered=True)\n",
    "attrition[[\"YearsAtCompany\", \"Age\"]].head()"
   ]
  },
  {
   "cell_type": "markdown",
   "metadata": {},
   "source": [
    "### Default prior of thresholds\n",
    "\n",
    "Before we fit the sequential model, it's worth mentioning that the default priors for the thresholds in a sequential model are different than the cumulative model. In the cumulative model, the default prior for the thresholds is a Normal distribution with a grid of evenly spaced $\\mu$ where an ordered transformation is applied to ensure the ordering of the values. However, in the sequential model, the ordering of the thresholds does not matter. Thus, the default prior for the thresholds is a Normal distribution with a zero $\\mu$ vector of length $K-1$. Refer to the [getting started](https://bambinos.github.io/bambi/notebooks/getting_started.html#specifying-priors) docs if you need a refresher on priors in Bambi. \n",
    "\n",
    "Subsequently, fitting a sequential model is similar to fitting a cumulative model. The only difference is that we pass `family=\"sratio\"` to the `bambi.Model` constructor. "
   ]
  },
  {
   "cell_type": "code",
   "execution_count": 4,
   "metadata": {},
   "outputs": [],
   "source": [
    "sequence_model = bmb.Model(\n",
    "    \"YearsAtCompany ~ 0 + TotalWorkingYears\", \n",
    "    data=attrition, \n",
    "    family=\"sratio\"\n",
    ")\n",
    "sequence_idata = sequence_model.fit(random_seed=1234)"
   ]
  },
  {
   "cell_type": "code",
   "execution_count": 6,
   "metadata": {},
   "outputs": [
    {
     "data": {
      "text/plain": [
       "       Formula: YearsAtCompany ~ 0 + TotalWorkingYears\n",
       "        Family: sratio\n",
       "          Link: p = logit\n",
       "  Observations: 1233\n",
       "        Priors: \n",
       "    target = p\n",
       "        Common-level effects\n",
       "            TotalWorkingYears ~ Normal(mu: 0.0, sigma: 0.3223)\n",
       "        \n",
       "        Auxiliary parameters\n",
       "            threshold ~ Normal(mu: [0. 0. 0. 0. 0. 0. 0. 0. 0. 0. 0. 0. 0. 0. 0. 0. 0. 0. 0. 0. 0. 0. 0. 0.\n",
       "             0. 0. 0. 0. 0. 0. 0. 0. 0. 0. 0.], sigma: 1.0)"
      ]
     },
     "execution_count": 6,
     "metadata": {},
     "output_type": "execute_result"
    }
   ],
   "source": [
    "sequence_model"
   ]
  },
  {
   "cell_type": "code",
   "execution_count": 44,
   "metadata": {},
   "outputs": [
    {
     "data": {
      "text/html": [
       "<div>\n",
       "<style scoped>\n",
       "    .dataframe tbody tr th:only-of-type {\n",
       "        vertical-align: middle;\n",
       "    }\n",
       "\n",
       "    .dataframe tbody tr th {\n",
       "        vertical-align: top;\n",
       "    }\n",
       "\n",
       "    .dataframe thead th {\n",
       "        text-align: right;\n",
       "    }\n",
       "</style>\n",
       "<table border=\"1\" class=\"dataframe\">\n",
       "  <thead>\n",
       "    <tr style=\"text-align: right;\">\n",
       "      <th></th>\n",
       "      <th>mean</th>\n",
       "      <th>sd</th>\n",
       "      <th>hdi_3%</th>\n",
       "      <th>hdi_97%</th>\n",
       "      <th>mcse_mean</th>\n",
       "      <th>mcse_sd</th>\n",
       "      <th>ess_bulk</th>\n",
       "      <th>ess_tail</th>\n",
       "      <th>r_hat</th>\n",
       "    </tr>\n",
       "  </thead>\n",
       "  <tbody>\n",
       "    <tr>\n",
       "      <th>YearsAtCompany_threshold[0]</th>\n",
       "      <td>-2.521</td>\n",
       "      <td>0.185</td>\n",
       "      <td>-2.865</td>\n",
       "      <td>-2.176</td>\n",
       "      <td>0.003</td>\n",
       "      <td>0.002</td>\n",
       "      <td>4693.0</td>\n",
       "      <td>3047.0</td>\n",
       "      <td>1.0</td>\n",
       "    </tr>\n",
       "    <tr>\n",
       "      <th>YearsAtCompany_threshold[1]</th>\n",
       "      <td>-1.054</td>\n",
       "      <td>0.111</td>\n",
       "      <td>-1.263</td>\n",
       "      <td>-0.847</td>\n",
       "      <td>0.002</td>\n",
       "      <td>0.001</td>\n",
       "      <td>2939.0</td>\n",
       "      <td>2937.0</td>\n",
       "      <td>1.0</td>\n",
       "    </tr>\n",
       "    <tr>\n",
       "      <th>YearsAtCompany_threshold[2]</th>\n",
       "      <td>-1.016</td>\n",
       "      <td>0.117</td>\n",
       "      <td>-1.235</td>\n",
       "      <td>-0.798</td>\n",
       "      <td>0.002</td>\n",
       "      <td>0.002</td>\n",
       "      <td>2746.0</td>\n",
       "      <td>2884.0</td>\n",
       "      <td>1.0</td>\n",
       "    </tr>\n",
       "    <tr>\n",
       "      <th>YearsAtCompany_threshold[3]</th>\n",
       "      <td>-0.761</td>\n",
       "      <td>0.114</td>\n",
       "      <td>-0.980</td>\n",
       "      <td>-0.555</td>\n",
       "      <td>0.002</td>\n",
       "      <td>0.002</td>\n",
       "      <td>2578.0</td>\n",
       "      <td>2651.0</td>\n",
       "      <td>1.0</td>\n",
       "    </tr>\n",
       "    <tr>\n",
       "      <th>YearsAtCompany_threshold[4]</th>\n",
       "      <td>-0.757</td>\n",
       "      <td>0.126</td>\n",
       "      <td>-0.986</td>\n",
       "      <td>-0.515</td>\n",
       "      <td>0.002</td>\n",
       "      <td>0.002</td>\n",
       "      <td>2657.0</td>\n",
       "      <td>2766.0</td>\n",
       "      <td>1.0</td>\n",
       "    </tr>\n",
       "    <tr>\n",
       "      <th>YearsAtCompany_threshold[5]</th>\n",
       "      <td>0.249</td>\n",
       "      <td>0.107</td>\n",
       "      <td>0.043</td>\n",
       "      <td>0.448</td>\n",
       "      <td>0.003</td>\n",
       "      <td>0.002</td>\n",
       "      <td>1819.0</td>\n",
       "      <td>2318.0</td>\n",
       "      <td>1.0</td>\n",
       "    </tr>\n",
       "    <tr>\n",
       "      <th>YearsAtCompany_threshold[6]</th>\n",
       "      <td>-0.508</td>\n",
       "      <td>0.143</td>\n",
       "      <td>-0.771</td>\n",
       "      <td>-0.237</td>\n",
       "      <td>0.003</td>\n",
       "      <td>0.002</td>\n",
       "      <td>2619.0</td>\n",
       "      <td>2668.0</td>\n",
       "      <td>1.0</td>\n",
       "    </tr>\n",
       "    <tr>\n",
       "      <th>YearsAtCompany_threshold[7]</th>\n",
       "      <td>-0.088</td>\n",
       "      <td>0.141</td>\n",
       "      <td>-0.360</td>\n",
       "      <td>0.168</td>\n",
       "      <td>0.003</td>\n",
       "      <td>0.002</td>\n",
       "      <td>2886.0</td>\n",
       "      <td>2952.0</td>\n",
       "      <td>1.0</td>\n",
       "    </tr>\n",
       "    <tr>\n",
       "      <th>YearsAtCompany_threshold[8]</th>\n",
       "      <td>0.030</td>\n",
       "      <td>0.144</td>\n",
       "      <td>-0.236</td>\n",
       "      <td>0.303</td>\n",
       "      <td>0.003</td>\n",
       "      <td>0.002</td>\n",
       "      <td>2678.0</td>\n",
       "      <td>2740.0</td>\n",
       "      <td>1.0</td>\n",
       "    </tr>\n",
       "    <tr>\n",
       "      <th>YearsAtCompany_threshold[9]</th>\n",
       "      <td>0.386</td>\n",
       "      <td>0.149</td>\n",
       "      <td>0.117</td>\n",
       "      <td>0.665</td>\n",
       "      <td>0.003</td>\n",
       "      <td>0.002</td>\n",
       "      <td>2525.0</td>\n",
       "      <td>2372.0</td>\n",
       "      <td>1.0</td>\n",
       "    </tr>\n",
       "    <tr>\n",
       "      <th>YearsAtCompany_threshold[10]</th>\n",
       "      <td>1.268</td>\n",
       "      <td>0.150</td>\n",
       "      <td>0.992</td>\n",
       "      <td>1.540</td>\n",
       "      <td>0.004</td>\n",
       "      <td>0.002</td>\n",
       "      <td>1794.0</td>\n",
       "      <td>2562.0</td>\n",
       "      <td>1.0</td>\n",
       "    </tr>\n",
       "    <tr>\n",
       "      <th>YearsAtCompany_threshold[11]</th>\n",
       "      <td>0.437</td>\n",
       "      <td>0.219</td>\n",
       "      <td>0.040</td>\n",
       "      <td>0.852</td>\n",
       "      <td>0.004</td>\n",
       "      <td>0.003</td>\n",
       "      <td>2626.0</td>\n",
       "      <td>3164.0</td>\n",
       "      <td>1.0</td>\n",
       "    </tr>\n",
       "    <tr>\n",
       "      <th>YearsAtCompany_threshold[12]</th>\n",
       "      <td>-0.108</td>\n",
       "      <td>0.296</td>\n",
       "      <td>-0.635</td>\n",
       "      <td>0.470</td>\n",
       "      <td>0.005</td>\n",
       "      <td>0.005</td>\n",
       "      <td>3531.0</td>\n",
       "      <td>2796.0</td>\n",
       "      <td>1.0</td>\n",
       "    </tr>\n",
       "    <tr>\n",
       "      <th>YearsAtCompany_threshold[13]</th>\n",
       "      <td>0.513</td>\n",
       "      <td>0.254</td>\n",
       "      <td>0.035</td>\n",
       "      <td>0.983</td>\n",
       "      <td>0.005</td>\n",
       "      <td>0.003</td>\n",
       "      <td>2934.0</td>\n",
       "      <td>2621.0</td>\n",
       "      <td>1.0</td>\n",
       "    </tr>\n",
       "    <tr>\n",
       "      <th>YearsAtCompany_threshold[14]</th>\n",
       "      <td>0.394</td>\n",
       "      <td>0.285</td>\n",
       "      <td>-0.171</td>\n",
       "      <td>0.910</td>\n",
       "      <td>0.005</td>\n",
       "      <td>0.004</td>\n",
       "      <td>3363.0</td>\n",
       "      <td>2791.0</td>\n",
       "      <td>1.0</td>\n",
       "    </tr>\n",
       "    <tr>\n",
       "      <th>YearsAtCompany_threshold[15]</th>\n",
       "      <td>0.793</td>\n",
       "      <td>0.264</td>\n",
       "      <td>0.268</td>\n",
       "      <td>1.253</td>\n",
       "      <td>0.005</td>\n",
       "      <td>0.003</td>\n",
       "      <td>2885.0</td>\n",
       "      <td>3035.0</td>\n",
       "      <td>1.0</td>\n",
       "    </tr>\n",
       "    <tr>\n",
       "      <th>YearsAtCompany_threshold[16]</th>\n",
       "      <td>0.431</td>\n",
       "      <td>0.335</td>\n",
       "      <td>-0.229</td>\n",
       "      <td>1.033</td>\n",
       "      <td>0.005</td>\n",
       "      <td>0.004</td>\n",
       "      <td>4075.0</td>\n",
       "      <td>2936.0</td>\n",
       "      <td>1.0</td>\n",
       "    </tr>\n",
       "    <tr>\n",
       "      <th>YearsAtCompany_threshold[17]</th>\n",
       "      <td>0.246</td>\n",
       "      <td>0.383</td>\n",
       "      <td>-0.455</td>\n",
       "      <td>0.958</td>\n",
       "      <td>0.006</td>\n",
       "      <td>0.005</td>\n",
       "      <td>4258.0</td>\n",
       "      <td>3055.0</td>\n",
       "      <td>1.0</td>\n",
       "    </tr>\n",
       "    <tr>\n",
       "      <th>YearsAtCompany_threshold[18]</th>\n",
       "      <td>0.801</td>\n",
       "      <td>0.328</td>\n",
       "      <td>0.182</td>\n",
       "      <td>1.402</td>\n",
       "      <td>0.006</td>\n",
       "      <td>0.004</td>\n",
       "      <td>3185.0</td>\n",
       "      <td>3306.0</td>\n",
       "      <td>1.0</td>\n",
       "    </tr>\n",
       "    <tr>\n",
       "      <th>YearsAtCompany_threshold[19]</th>\n",
       "      <td>0.798</td>\n",
       "      <td>0.350</td>\n",
       "      <td>0.147</td>\n",
       "      <td>1.452</td>\n",
       "      <td>0.006</td>\n",
       "      <td>0.005</td>\n",
       "      <td>3066.0</td>\n",
       "      <td>2756.0</td>\n",
       "      <td>1.0</td>\n",
       "    </tr>\n",
       "    <tr>\n",
       "      <th>YearsAtCompany_threshold[20]</th>\n",
       "      <td>2.199</td>\n",
       "      <td>0.277</td>\n",
       "      <td>1.688</td>\n",
       "      <td>2.728</td>\n",
       "      <td>0.006</td>\n",
       "      <td>0.004</td>\n",
       "      <td>2254.0</td>\n",
       "      <td>2483.0</td>\n",
       "      <td>1.0</td>\n",
       "    </tr>\n",
       "    <tr>\n",
       "      <th>YearsAtCompany_threshold[21]</th>\n",
       "      <td>1.841</td>\n",
       "      <td>0.345</td>\n",
       "      <td>1.241</td>\n",
       "      <td>2.536</td>\n",
       "      <td>0.006</td>\n",
       "      <td>0.004</td>\n",
       "      <td>3367.0</td>\n",
       "      <td>2923.0</td>\n",
       "      <td>1.0</td>\n",
       "    </tr>\n",
       "    <tr>\n",
       "      <th>YearsAtCompany_threshold[22]</th>\n",
       "      <td>2.432</td>\n",
       "      <td>0.361</td>\n",
       "      <td>1.690</td>\n",
       "      <td>3.054</td>\n",
       "      <td>0.007</td>\n",
       "      <td>0.005</td>\n",
       "      <td>3032.0</td>\n",
       "      <td>2780.0</td>\n",
       "      <td>1.0</td>\n",
       "    </tr>\n",
       "    <tr>\n",
       "      <th>YearsAtCompany_threshold[23]</th>\n",
       "      <td>0.025</td>\n",
       "      <td>0.734</td>\n",
       "      <td>-1.405</td>\n",
       "      <td>1.354</td>\n",
       "      <td>0.010</td>\n",
       "      <td>0.012</td>\n",
       "      <td>5666.0</td>\n",
       "      <td>2933.0</td>\n",
       "      <td>1.0</td>\n",
       "    </tr>\n",
       "    <tr>\n",
       "      <th>YearsAtCompany_threshold[24]</th>\n",
       "      <td>1.594</td>\n",
       "      <td>0.529</td>\n",
       "      <td>0.602</td>\n",
       "      <td>2.555</td>\n",
       "      <td>0.008</td>\n",
       "      <td>0.005</td>\n",
       "      <td>4998.0</td>\n",
       "      <td>2865.0</td>\n",
       "      <td>1.0</td>\n",
       "    </tr>\n",
       "    <tr>\n",
       "      <th>YearsAtCompany_threshold[25]</th>\n",
       "      <td>1.529</td>\n",
       "      <td>0.580</td>\n",
       "      <td>0.379</td>\n",
       "      <td>2.556</td>\n",
       "      <td>0.009</td>\n",
       "      <td>0.006</td>\n",
       "      <td>4642.0</td>\n",
       "      <td>2944.0</td>\n",
       "      <td>1.0</td>\n",
       "    </tr>\n",
       "    <tr>\n",
       "      <th>YearsAtCompany_threshold[26]</th>\n",
       "      <td>1.746</td>\n",
       "      <td>0.603</td>\n",
       "      <td>0.601</td>\n",
       "      <td>2.868</td>\n",
       "      <td>0.009</td>\n",
       "      <td>0.006</td>\n",
       "      <td>5042.0</td>\n",
       "      <td>3080.0</td>\n",
       "      <td>1.0</td>\n",
       "    </tr>\n",
       "    <tr>\n",
       "      <th>YearsAtCompany_threshold[27]</th>\n",
       "      <td>1.060</td>\n",
       "      <td>0.761</td>\n",
       "      <td>-0.476</td>\n",
       "      <td>2.406</td>\n",
       "      <td>0.009</td>\n",
       "      <td>0.008</td>\n",
       "      <td>6828.0</td>\n",
       "      <td>2783.0</td>\n",
       "      <td>1.0</td>\n",
       "    </tr>\n",
       "    <tr>\n",
       "      <th>YearsAtCompany_threshold[28]</th>\n",
       "      <td>1.141</td>\n",
       "      <td>0.790</td>\n",
       "      <td>-0.360</td>\n",
       "      <td>2.566</td>\n",
       "      <td>0.011</td>\n",
       "      <td>0.008</td>\n",
       "      <td>5847.0</td>\n",
       "      <td>2871.0</td>\n",
       "      <td>1.0</td>\n",
       "    </tr>\n",
       "    <tr>\n",
       "      <th>YearsAtCompany_threshold[29]</th>\n",
       "      <td>0.561</td>\n",
       "      <td>0.856</td>\n",
       "      <td>-1.088</td>\n",
       "      <td>2.090</td>\n",
       "      <td>0.010</td>\n",
       "      <td>0.011</td>\n",
       "      <td>7709.0</td>\n",
       "      <td>3190.0</td>\n",
       "      <td>1.0</td>\n",
       "    </tr>\n",
       "    <tr>\n",
       "      <th>YearsAtCompany_threshold[30]</th>\n",
       "      <td>1.267</td>\n",
       "      <td>0.781</td>\n",
       "      <td>-0.244</td>\n",
       "      <td>2.684</td>\n",
       "      <td>0.010</td>\n",
       "      <td>0.008</td>\n",
       "      <td>5645.0</td>\n",
       "      <td>3055.0</td>\n",
       "      <td>1.0</td>\n",
       "    </tr>\n",
       "    <tr>\n",
       "      <th>YearsAtCompany_threshold[31]</th>\n",
       "      <td>1.372</td>\n",
       "      <td>0.796</td>\n",
       "      <td>-0.121</td>\n",
       "      <td>2.832</td>\n",
       "      <td>0.010</td>\n",
       "      <td>0.008</td>\n",
       "      <td>6632.0</td>\n",
       "      <td>2663.0</td>\n",
       "      <td>1.0</td>\n",
       "    </tr>\n",
       "    <tr>\n",
       "      <th>YearsAtCompany_threshold[32]</th>\n",
       "      <td>2.654</td>\n",
       "      <td>0.726</td>\n",
       "      <td>1.285</td>\n",
       "      <td>4.005</td>\n",
       "      <td>0.010</td>\n",
       "      <td>0.007</td>\n",
       "      <td>5443.0</td>\n",
       "      <td>2777.0</td>\n",
       "      <td>1.0</td>\n",
       "    </tr>\n",
       "    <tr>\n",
       "      <th>YearsAtCompany_threshold[33]</th>\n",
       "      <td>0.872</td>\n",
       "      <td>0.927</td>\n",
       "      <td>-0.888</td>\n",
       "      <td>2.581</td>\n",
       "      <td>0.011</td>\n",
       "      <td>0.011</td>\n",
       "      <td>6702.0</td>\n",
       "      <td>2934.0</td>\n",
       "      <td>1.0</td>\n",
       "    </tr>\n",
       "    <tr>\n",
       "      <th>YearsAtCompany_threshold[34]</th>\n",
       "      <td>1.770</td>\n",
       "      <td>0.905</td>\n",
       "      <td>0.009</td>\n",
       "      <td>3.394</td>\n",
       "      <td>0.012</td>\n",
       "      <td>0.008</td>\n",
       "      <td>6067.0</td>\n",
       "      <td>2884.0</td>\n",
       "      <td>1.0</td>\n",
       "    </tr>\n",
       "    <tr>\n",
       "      <th>TotalWorkingYears</th>\n",
       "      <td>0.127</td>\n",
       "      <td>0.006</td>\n",
       "      <td>0.117</td>\n",
       "      <td>0.137</td>\n",
       "      <td>0.000</td>\n",
       "      <td>0.000</td>\n",
       "      <td>878.0</td>\n",
       "      <td>1520.0</td>\n",
       "      <td>1.0</td>\n",
       "    </tr>\n",
       "  </tbody>\n",
       "</table>\n",
       "</div>"
      ],
      "text/plain": [
       "                               mean     sd  hdi_3%  hdi_97%  mcse_mean  \\\n",
       "YearsAtCompany_threshold[0]  -2.521  0.185  -2.865   -2.176      0.003   \n",
       "YearsAtCompany_threshold[1]  -1.054  0.111  -1.263   -0.847      0.002   \n",
       "YearsAtCompany_threshold[2]  -1.016  0.117  -1.235   -0.798      0.002   \n",
       "YearsAtCompany_threshold[3]  -0.761  0.114  -0.980   -0.555      0.002   \n",
       "YearsAtCompany_threshold[4]  -0.757  0.126  -0.986   -0.515      0.002   \n",
       "YearsAtCompany_threshold[5]   0.249  0.107   0.043    0.448      0.003   \n",
       "YearsAtCompany_threshold[6]  -0.508  0.143  -0.771   -0.237      0.003   \n",
       "YearsAtCompany_threshold[7]  -0.088  0.141  -0.360    0.168      0.003   \n",
       "YearsAtCompany_threshold[8]   0.030  0.144  -0.236    0.303      0.003   \n",
       "YearsAtCompany_threshold[9]   0.386  0.149   0.117    0.665      0.003   \n",
       "YearsAtCompany_threshold[10]  1.268  0.150   0.992    1.540      0.004   \n",
       "YearsAtCompany_threshold[11]  0.437  0.219   0.040    0.852      0.004   \n",
       "YearsAtCompany_threshold[12] -0.108  0.296  -0.635    0.470      0.005   \n",
       "YearsAtCompany_threshold[13]  0.513  0.254   0.035    0.983      0.005   \n",
       "YearsAtCompany_threshold[14]  0.394  0.285  -0.171    0.910      0.005   \n",
       "YearsAtCompany_threshold[15]  0.793  0.264   0.268    1.253      0.005   \n",
       "YearsAtCompany_threshold[16]  0.431  0.335  -0.229    1.033      0.005   \n",
       "YearsAtCompany_threshold[17]  0.246  0.383  -0.455    0.958      0.006   \n",
       "YearsAtCompany_threshold[18]  0.801  0.328   0.182    1.402      0.006   \n",
       "YearsAtCompany_threshold[19]  0.798  0.350   0.147    1.452      0.006   \n",
       "YearsAtCompany_threshold[20]  2.199  0.277   1.688    2.728      0.006   \n",
       "YearsAtCompany_threshold[21]  1.841  0.345   1.241    2.536      0.006   \n",
       "YearsAtCompany_threshold[22]  2.432  0.361   1.690    3.054      0.007   \n",
       "YearsAtCompany_threshold[23]  0.025  0.734  -1.405    1.354      0.010   \n",
       "YearsAtCompany_threshold[24]  1.594  0.529   0.602    2.555      0.008   \n",
       "YearsAtCompany_threshold[25]  1.529  0.580   0.379    2.556      0.009   \n",
       "YearsAtCompany_threshold[26]  1.746  0.603   0.601    2.868      0.009   \n",
       "YearsAtCompany_threshold[27]  1.060  0.761  -0.476    2.406      0.009   \n",
       "YearsAtCompany_threshold[28]  1.141  0.790  -0.360    2.566      0.011   \n",
       "YearsAtCompany_threshold[29]  0.561  0.856  -1.088    2.090      0.010   \n",
       "YearsAtCompany_threshold[30]  1.267  0.781  -0.244    2.684      0.010   \n",
       "YearsAtCompany_threshold[31]  1.372  0.796  -0.121    2.832      0.010   \n",
       "YearsAtCompany_threshold[32]  2.654  0.726   1.285    4.005      0.010   \n",
       "YearsAtCompany_threshold[33]  0.872  0.927  -0.888    2.581      0.011   \n",
       "YearsAtCompany_threshold[34]  1.770  0.905   0.009    3.394      0.012   \n",
       "TotalWorkingYears             0.127  0.006   0.117    0.137      0.000   \n",
       "\n",
       "                              mcse_sd  ess_bulk  ess_tail  r_hat  \n",
       "YearsAtCompany_threshold[0]     0.002    4693.0    3047.0    1.0  \n",
       "YearsAtCompany_threshold[1]     0.001    2939.0    2937.0    1.0  \n",
       "YearsAtCompany_threshold[2]     0.002    2746.0    2884.0    1.0  \n",
       "YearsAtCompany_threshold[3]     0.002    2578.0    2651.0    1.0  \n",
       "YearsAtCompany_threshold[4]     0.002    2657.0    2766.0    1.0  \n",
       "YearsAtCompany_threshold[5]     0.002    1819.0    2318.0    1.0  \n",
       "YearsAtCompany_threshold[6]     0.002    2619.0    2668.0    1.0  \n",
       "YearsAtCompany_threshold[7]     0.002    2886.0    2952.0    1.0  \n",
       "YearsAtCompany_threshold[8]     0.002    2678.0    2740.0    1.0  \n",
       "YearsAtCompany_threshold[9]     0.002    2525.0    2372.0    1.0  \n",
       "YearsAtCompany_threshold[10]    0.002    1794.0    2562.0    1.0  \n",
       "YearsAtCompany_threshold[11]    0.003    2626.0    3164.0    1.0  \n",
       "YearsAtCompany_threshold[12]    0.005    3531.0    2796.0    1.0  \n",
       "YearsAtCompany_threshold[13]    0.003    2934.0    2621.0    1.0  \n",
       "YearsAtCompany_threshold[14]    0.004    3363.0    2791.0    1.0  \n",
       "YearsAtCompany_threshold[15]    0.003    2885.0    3035.0    1.0  \n",
       "YearsAtCompany_threshold[16]    0.004    4075.0    2936.0    1.0  \n",
       "YearsAtCompany_threshold[17]    0.005    4258.0    3055.0    1.0  \n",
       "YearsAtCompany_threshold[18]    0.004    3185.0    3306.0    1.0  \n",
       "YearsAtCompany_threshold[19]    0.005    3066.0    2756.0    1.0  \n",
       "YearsAtCompany_threshold[20]    0.004    2254.0    2483.0    1.0  \n",
       "YearsAtCompany_threshold[21]    0.004    3367.0    2923.0    1.0  \n",
       "YearsAtCompany_threshold[22]    0.005    3032.0    2780.0    1.0  \n",
       "YearsAtCompany_threshold[23]    0.012    5666.0    2933.0    1.0  \n",
       "YearsAtCompany_threshold[24]    0.005    4998.0    2865.0    1.0  \n",
       "YearsAtCompany_threshold[25]    0.006    4642.0    2944.0    1.0  \n",
       "YearsAtCompany_threshold[26]    0.006    5042.0    3080.0    1.0  \n",
       "YearsAtCompany_threshold[27]    0.008    6828.0    2783.0    1.0  \n",
       "YearsAtCompany_threshold[28]    0.008    5847.0    2871.0    1.0  \n",
       "YearsAtCompany_threshold[29]    0.011    7709.0    3190.0    1.0  \n",
       "YearsAtCompany_threshold[30]    0.008    5645.0    3055.0    1.0  \n",
       "YearsAtCompany_threshold[31]    0.008    6632.0    2663.0    1.0  \n",
       "YearsAtCompany_threshold[32]    0.007    5443.0    2777.0    1.0  \n",
       "YearsAtCompany_threshold[33]    0.011    6702.0    2934.0    1.0  \n",
       "YearsAtCompany_threshold[34]    0.008    6067.0    2884.0    1.0  \n",
       "TotalWorkingYears               0.000     878.0    1520.0    1.0  "
      ]
     },
     "execution_count": 44,
     "metadata": {},
     "output_type": "execute_result"
    }
   ],
   "source": [
    "az.summary(sequence_idata)"
   ]
  },
  {
   "cell_type": "markdown",
   "metadata": {},
   "source": [
    "The coefficients are still on the logits scale, so we need to apply the inverse of the logit function to transform back to probabilities. Below, we plot the probabilities for each category."
   ]
  },
  {
   "cell_type": "code",
   "execution_count": 45,
   "metadata": {},
   "outputs": [
    {
     "data": {
      "image/png": "[encoded data removed]",
      "text/plain": [
       "<Figure size 700x300 with 1 Axes>"
      ]
     },
     "metadata": {},
     "output_type": "display_data"
    }
   ],
   "source": [
    "probs = expit_func(sequence_idata.posterior.YearsAtCompany_threshold).mean((\"chain\", \"draw\"))\n",
    "probs = np.append(probs, 1)\n",
    "\n",
    "plt.figure(figsize=(7, 3))\n",
    "plt.plot(sorted(attrition.YearsAtCompany.unique()), probs, marker='o')\n",
    "plt.ylabel(\"Probability\")\n",
    "plt.xlabel(\"Response category\");"
   ]
  },
  {
   "cell_type": "markdown",
   "metadata": {},
   "source": [
    "This plot can seem confusing at first. Remember, the sequential model is a product of probabilities, i.e., the probability that $Y$ is equal to category $k$ is equal to the probability that it did not fall in one of the former categories $1: k-1$ multiplied by the probability that the sequential process stopped at $k$. Thus, the probability of category 5 is the probability that the sequential process did not fall in 0, 1, 2, 3, or 4 multiplied by the probability that the sequential process stopped at 5. This makes sense why the probability of category 37 is 1. There is no category after 37, so once you multiply all of the previous probabilities with the current category, you get 1. This is the reason for the \"cumulative-like\" shape of the plot. But if the coefficients were truly cumulative, you could not have decreases as $k$ increases. "
   ]
  },
  {
   "cell_type": "markdown",
   "metadata": {},
   "source": [
    "### Posterior predictive samples\n",
    "\n",
    "Again, using the posterior predictive samples, we can visualize the model fit against the observed data. In the case of the sequential model, the model does an alright job of capturing the observed frequencies of the categories. For pedagogical purposes, this fit is sufficient."
   ]
  },
  {
   "cell_type": "code",
   "execution_count": 49,
   "metadata": {},
   "outputs": [
    {
     "data": {
      "image/png": "[encoded data removed]",
      "text/plain": [
       "<Figure size 700x300 with 1 Axes>"
      ]
     },
     "metadata": {},
     "output_type": "display_data"
    }
   ],
   "source": [
    "sequence_idata_pps = sequence_model.predict(idata=sequence_idata, kind=\"pps\", inplace=False)\n",
    "\n",
    "az.plot_ppc(sequence_idata_pps, figsize=(7, 3), textsize=11)"
   ]
  },
  {
   "cell_type": "code",
   "execution_count": null,
   "metadata": {},
   "outputs": [
    {
     "name": "stdout",
     "output_type": "stream",
     "text": [
      "Last updated: Fri Sep 15 2023\n",
      "\n",
      "Python implementation: CPython\n",
      "Python version       : 3.11.0\n",
      "IPython version      : 8.13.2\n",
      "\n",
      "bambi     : 0.13.0.dev0\n",
      "arviz     : 0.15.1\n",
      "numpy     : 1.24.2\n",
      "pandas    : 2.0.1\n",
      "matplotlib: 3.7.1\n",
      "\n",
      "Watermark: 2.3.1\n",
      "\n"
     ]
    }
   ],
   "source": [
    "%load_ext watermark\n",
    "%watermark -n -u -v -iv -w"
   ]
  }
 ],
 "metadata": {
  "kernelspec": {
   "display_name": "bambinos",
   "language": "python",
   "name": "python3"
  },
  "language_info": {
   "codemirror_mode": {
    "name": "ipython",
    "version": 3
   },
   "file_extension": ".py",
   "mimetype": "text/x-python",
   "name": "python",
   "nbconvert_exporter": "python",
   "pygments_lexer": "ipython3",
   "version": "3.11.0"
  },
  "orig_nbformat": 4
 },
 "nbformat": 4,
 "nbformat_minor": 2
}
