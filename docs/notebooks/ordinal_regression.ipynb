{
 "cells": [
  {
   "cell_type": "code",
   "execution_count": 35,
   "metadata": {},
   "outputs": [],
   "source": [
    "import arviz as az\n",
    "import matplotlib.pyplot as plt\n",
    "import numpy as np\n",
    "import pandas as pd\n",
    "\n",
    "import bambi as bmb"
   ]
  },
  {
   "cell_type": "markdown",
   "metadata": {},
   "source": [
    "# Ordinal Regression\n",
    "\n",
    "- section on changing the default prior of cutpoints."
   ]
  },
  {
   "cell_type": "markdown",
   "metadata": {},
   "source": [
    "## Cumulative link model"
   ]
  },
  {
   "cell_type": "code",
   "execution_count": 65,
   "metadata": {},
   "outputs": [],
   "source": [
    "trolly = pd.read_csv(\"https://raw.githubusercontent.com/rmcelreath/rethinking/master/data/Trolley.csv\", sep=\";\")\n",
    "cols = [\"response\", \"action\", \"intention\", \"contact\"]\n",
    "trolly = trolly[cols]\n",
    "trolly[\"action\"] = pd.Categorical(trolly[\"action\"], ordered=False)\n",
    "trolly[\"intention\"] = pd.Categorical(trolly[\"intention\"], ordered=False)\n",
    "trolly[\"contact\"] = pd.Categorical(trolly[\"contact\"], ordered=False)\n",
    "trolly[\"response\"] = pd.Categorical(trolly[\"response\"], ordered=True)"
   ]
  },
  {
   "cell_type": "code",
   "execution_count": 24,
   "metadata": {},
   "outputs": [
    {
     "data": {
      "text/plain": [
       "[4, 3, 5, 2, 1, 7, 6]\n",
       "Categories (7, int64): [1 < 2 < 3 < 4 < 5 < 6 < 7]"
      ]
     },
     "execution_count": 24,
     "metadata": {},
     "output_type": "execute_result"
    }
   ],
   "source": [
    "trolly.response.unique()"
   ]
  },
  {
   "cell_type": "markdown",
   "metadata": {},
   "source": [
    "### Intercept only model"
   ]
  },
  {
   "cell_type": "code",
   "execution_count": null,
   "metadata": {},
   "outputs": [],
   "source": [
    "model = bmb.Model(\"response ~ 1\", data=trolly, family=\"cumulative\")\n",
    "idata = model.fit()"
   ]
  },
  {
   "cell_type": "code",
   "execution_count": 23,
   "metadata": {},
   "outputs": [
    {
     "data": {
      "text/html": [
       "<div>\n",
       "<style scoped>\n",
       "    .dataframe tbody tr th:only-of-type {\n",
       "        vertical-align: middle;\n",
       "    }\n",
       "\n",
       "    .dataframe tbody tr th {\n",
       "        vertical-align: top;\n",
       "    }\n",
       "\n",
       "    .dataframe thead th {\n",
       "        text-align: right;\n",
       "    }\n",
       "</style>\n",
       "<table border=\"1\" class=\"dataframe\">\n",
       "  <thead>\n",
       "    <tr style=\"text-align: right;\">\n",
       "      <th></th>\n",
       "      <th>mean</th>\n",
       "      <th>sd</th>\n",
       "      <th>hdi_3%</th>\n",
       "      <th>hdi_97%</th>\n",
       "      <th>mcse_mean</th>\n",
       "      <th>mcse_sd</th>\n",
       "      <th>ess_bulk</th>\n",
       "      <th>ess_tail</th>\n",
       "      <th>r_hat</th>\n",
       "    </tr>\n",
       "  </thead>\n",
       "  <tbody>\n",
       "    <tr>\n",
       "      <th>response_threshold[0]</th>\n",
       "      <td>-1.923</td>\n",
       "      <td>0.030</td>\n",
       "      <td>-1.978</td>\n",
       "      <td>-1.868</td>\n",
       "      <td>0.0</td>\n",
       "      <td>0.0</td>\n",
       "      <td>3964.0</td>\n",
       "      <td>2831.0</td>\n",
       "      <td>1.0</td>\n",
       "    </tr>\n",
       "    <tr>\n",
       "      <th>response_threshold[1]</th>\n",
       "      <td>-1.269</td>\n",
       "      <td>0.024</td>\n",
       "      <td>-1.313</td>\n",
       "      <td>-1.226</td>\n",
       "      <td>0.0</td>\n",
       "      <td>0.0</td>\n",
       "      <td>4710.0</td>\n",
       "      <td>3680.0</td>\n",
       "      <td>1.0</td>\n",
       "    </tr>\n",
       "    <tr>\n",
       "      <th>response_threshold[2]</th>\n",
       "      <td>-0.719</td>\n",
       "      <td>0.021</td>\n",
       "      <td>-0.759</td>\n",
       "      <td>-0.679</td>\n",
       "      <td>0.0</td>\n",
       "      <td>0.0</td>\n",
       "      <td>4719.0</td>\n",
       "      <td>2947.0</td>\n",
       "      <td>1.0</td>\n",
       "    </tr>\n",
       "    <tr>\n",
       "      <th>response_threshold[3]</th>\n",
       "      <td>0.249</td>\n",
       "      <td>0.020</td>\n",
       "      <td>0.213</td>\n",
       "      <td>0.288</td>\n",
       "      <td>0.0</td>\n",
       "      <td>0.0</td>\n",
       "      <td>4610.0</td>\n",
       "      <td>3557.0</td>\n",
       "      <td>1.0</td>\n",
       "    </tr>\n",
       "    <tr>\n",
       "      <th>response_threshold[4]</th>\n",
       "      <td>0.893</td>\n",
       "      <td>0.022</td>\n",
       "      <td>0.852</td>\n",
       "      <td>0.934</td>\n",
       "      <td>0.0</td>\n",
       "      <td>0.0</td>\n",
       "      <td>5110.0</td>\n",
       "      <td>3338.0</td>\n",
       "      <td>1.0</td>\n",
       "    </tr>\n",
       "    <tr>\n",
       "      <th>response_threshold[5]</th>\n",
       "      <td>1.776</td>\n",
       "      <td>0.028</td>\n",
       "      <td>1.721</td>\n",
       "      <td>1.826</td>\n",
       "      <td>0.0</td>\n",
       "      <td>0.0</td>\n",
       "      <td>4841.0</td>\n",
       "      <td>3760.0</td>\n",
       "      <td>1.0</td>\n",
       "    </tr>\n",
       "  </tbody>\n",
       "</table>\n",
       "</div>"
      ],
      "text/plain": [
       "                        mean     sd  hdi_3%  hdi_97%  mcse_mean  mcse_sd   \n",
       "response_threshold[0] -1.923  0.030  -1.978   -1.868        0.0      0.0  \\\n",
       "response_threshold[1] -1.269  0.024  -1.313   -1.226        0.0      0.0   \n",
       "response_threshold[2] -0.719  0.021  -0.759   -0.679        0.0      0.0   \n",
       "response_threshold[3]  0.249  0.020   0.213    0.288        0.0      0.0   \n",
       "response_threshold[4]  0.893  0.022   0.852    0.934        0.0      0.0   \n",
       "response_threshold[5]  1.776  0.028   1.721    1.826        0.0      0.0   \n",
       "\n",
       "                       ess_bulk  ess_tail  r_hat  \n",
       "response_threshold[0]    3964.0    2831.0    1.0  \n",
       "response_threshold[1]    4710.0    3680.0    1.0  \n",
       "response_threshold[2]    4719.0    2947.0    1.0  \n",
       "response_threshold[3]    4610.0    3557.0    1.0  \n",
       "response_threshold[4]    5110.0    3338.0    1.0  \n",
       "response_threshold[5]    4841.0    3760.0    1.0  "
      ]
     },
     "execution_count": 23,
     "metadata": {},
     "output_type": "execute_result"
    }
   ],
   "source": [
    "az.summary(idata)"
   ]
  },
  {
   "cell_type": "markdown",
   "metadata": {},
   "source": [
    "As the the cumalative link is used, we need to apply the logistic sigmoid function to transform back to cumulative probabilities."
   ]
  },
  {
   "cell_type": "code",
   "execution_count": 50,
   "metadata": {},
   "outputs": [],
   "source": [
    "expit_func = lambda x: 1 / (1 + np.exp(-x))\n",
    "cumprobs = expit_func(idata.posterior.response_threshold).mean((\"chain\", \"draw\"))\n",
    "cumprobs = np.append(cumprobs, 1)"
   ]
  },
  {
   "cell_type": "code",
   "execution_count": 62,
   "metadata": {},
   "outputs": [
    {
     "data": {
      "image/png": "[encoded data removed]",
      "text/plain": [
       "<Figure size 700x300 with 1 Axes>"
      ]
     },
     "metadata": {},
     "output_type": "display_data"
    }
   ],
   "source": [
    "plt.figure(figsize=(7, 3))\n",
    "plt.plot(sorted(trolly.response.unique()), cumprobs, marker='o')\n",
    "plt.ylabel(\"Cumulative probability\")\n",
    "plt.xlabel(\"Response category\");"
   ]
  },
  {
   "cell_type": "markdown",
   "metadata": {},
   "source": [
    "The intercept only model above..."
   ]
  },
  {
   "cell_type": "markdown",
   "metadata": {},
   "source": [
    "### Adding predictors\n",
    "\n",
    "\n",
    "To include predictor variables, we define the log-cumulative-odds of each response $k$ as a sum of its intercept $\\alpha_k$ and a linear model $\\phi$ where $\\phi_i = \\beta x_i$\n",
    "\n",
    "$$\\text{log} \\frac{Pr(y_i \\le k)}{1 - Pr(y_i \\le k)} = \\alpha_k - \\phi_i$$\n",
    "\n",
    "The linear model $\\phi$ is subtracted from each intercept because if we decrease the log-cumulative- odds of every outcome value $k$ below the maximum, this shifts probability mass upwards towards higher outcome values. Thus, positive $\\beta$ values correspond to increasing $x$, which is associated with an increase in the mean $y$.\n",
    "\n",
    "To add predictors for ordinal models in Bambi, we continue to use the familiar syntax."
   ]
  },
  {
   "cell_type": "code",
   "execution_count": 68,
   "metadata": {},
   "outputs": [
    {
     "name": "stderr",
     "output_type": "stream",
     "text": [
      "/Users/gabestechschulte/Documents/repos/bambi/bambi/formula.py:111: UserWarning: The intercept is omitted in ordinal families\n",
      "  warnings.warn(\"The intercept is omitted in ordinal families\")\n",
      "Auto-assigning NUTS sampler...\n",
      "Initializing NUTS using jitter+adapt_diag...\n",
      "Multiprocess sampling (4 chains in 4 jobs)\n",
      "NUTS: [response_threshold, action, intention, contact, action:intention, contact:intention]\n"
     ]
    },
    {
     "data": {
      "text/html": [
       "\n",
       "<style>\n",
       "    /* Turns off some styling */\n",
       "    progress {\n",
       "        /* gets rid of default border in Firefox and Opera. */\n",
       "        border: none;\n",
       "        /* Needs to be in here for Safari polyfill so background images work as expected. */\n",
       "        background-size: auto;\n",
       "    }\n",
       "    progress:not([value]), progress:not([value])::-webkit-progress-bar {\n",
       "        background: repeating-linear-gradient(45deg, #7e7e7e, #7e7e7e 10px, #5c5c5c 10px, #5c5c5c 20px);\n",
       "    }\n",
       "    .progress-bar-interrupted, .progress-bar-interrupted::-webkit-progress-bar {\n",
       "        background: #F44336;\n",
       "    }\n",
       "</style>\n"
      ],
      "text/plain": [
       "<IPython.core.display.HTML object>"
      ]
     },
     "metadata": {},
     "output_type": "display_data"
    },
    {
     "data": {
      "text/html": [
       "\n",
       "    <div>\n",
       "      <progress value='8000' class='' max='8000' style='width:300px; height:20px; vertical-align: middle;'></progress>\n",
       "      100.00% [8000/8000 01:19&lt;00:00 Sampling 4 chains, 0 divergences]\n",
       "    </div>\n",
       "    "
      ],
      "text/plain": [
       "<IPython.core.display.HTML object>"
      ]
     },
     "metadata": {},
     "output_type": "display_data"
    },
    {
     "name": "stderr",
     "output_type": "stream",
     "text": [
      "/Users/gabestechschulte/miniforge3/envs/bambinos/lib/python3.11/site-packages/pytensor/compile/function/types.py:970: RuntimeWarning: invalid value encountered in accumulate\n",
      "  self.vm()\n",
      "Sampling 4 chains for 1_000 tune and 1_000 draw iterations (4_000 + 4_000 draws total) took 79 seconds.\n"
     ]
    }
   ],
   "source": [
    "model = bmb.Model(\n",
    "    \"response ~ action + intention + contact + action:intention + contact:intention\", \n",
    "    data=trolly, \n",
    "    family=\"cumulative\"\n",
    ")\n",
    "idata = model.fit()"
   ]
  },
  {
   "cell_type": "code",
   "execution_count": 73,
   "metadata": {},
   "outputs": [
    {
     "data": {
      "text/html": [
       "<div>\n",
       "<style scoped>\n",
       "    .dataframe tbody tr th:only-of-type {\n",
       "        vertical-align: middle;\n",
       "    }\n",
       "\n",
       "    .dataframe tbody tr th {\n",
       "        vertical-align: top;\n",
       "    }\n",
       "\n",
       "    .dataframe thead th {\n",
       "        text-align: right;\n",
       "    }\n",
       "</style>\n",
       "<table border=\"1\" class=\"dataframe\">\n",
       "  <thead>\n",
       "    <tr style=\"text-align: right;\">\n",
       "      <th></th>\n",
       "      <th>mean</th>\n",
       "      <th>sd</th>\n",
       "      <th>hdi_3%</th>\n",
       "      <th>hdi_97%</th>\n",
       "      <th>mcse_mean</th>\n",
       "      <th>mcse_sd</th>\n",
       "      <th>ess_bulk</th>\n",
       "      <th>ess_tail</th>\n",
       "      <th>r_hat</th>\n",
       "    </tr>\n",
       "  </thead>\n",
       "  <tbody>\n",
       "    <tr>\n",
       "      <th>action[1]</th>\n",
       "      <td>-0.465</td>\n",
       "      <td>0.055</td>\n",
       "      <td>-0.567</td>\n",
       "      <td>-0.363</td>\n",
       "      <td>0.001</td>\n",
       "      <td>0.001</td>\n",
       "      <td>2617.0</td>\n",
       "      <td>2808.0</td>\n",
       "      <td>1.0</td>\n",
       "    </tr>\n",
       "    <tr>\n",
       "      <th>intention[1]</th>\n",
       "      <td>-0.274</td>\n",
       "      <td>0.058</td>\n",
       "      <td>-0.385</td>\n",
       "      <td>-0.168</td>\n",
       "      <td>0.001</td>\n",
       "      <td>0.001</td>\n",
       "      <td>2436.0</td>\n",
       "      <td>2892.0</td>\n",
       "      <td>1.0</td>\n",
       "    </tr>\n",
       "    <tr>\n",
       "      <th>contact[1]</th>\n",
       "      <td>-0.323</td>\n",
       "      <td>0.069</td>\n",
       "      <td>-0.448</td>\n",
       "      <td>-0.192</td>\n",
       "      <td>0.001</td>\n",
       "      <td>0.001</td>\n",
       "      <td>2633.0</td>\n",
       "      <td>3029.0</td>\n",
       "      <td>1.0</td>\n",
       "    </tr>\n",
       "    <tr>\n",
       "      <th>action:intention[1, 1]</th>\n",
       "      <td>-0.456</td>\n",
       "      <td>0.082</td>\n",
       "      <td>-0.604</td>\n",
       "      <td>-0.301</td>\n",
       "      <td>0.002</td>\n",
       "      <td>0.001</td>\n",
       "      <td>2666.0</td>\n",
       "      <td>2890.0</td>\n",
       "      <td>1.0</td>\n",
       "    </tr>\n",
       "    <tr>\n",
       "      <th>contact:intention[1, 1]</th>\n",
       "      <td>-1.286</td>\n",
       "      <td>0.100</td>\n",
       "      <td>-1.479</td>\n",
       "      <td>-1.107</td>\n",
       "      <td>0.002</td>\n",
       "      <td>0.001</td>\n",
       "      <td>2676.0</td>\n",
       "      <td>3062.0</td>\n",
       "      <td>1.0</td>\n",
       "    </tr>\n",
       "  </tbody>\n",
       "</table>\n",
       "</div>"
      ],
      "text/plain": [
       "                          mean     sd  hdi_3%  hdi_97%  mcse_mean  mcse_sd   \n",
       "action[1]               -0.465  0.055  -0.567   -0.363      0.001    0.001  \\\n",
       "intention[1]            -0.274  0.058  -0.385   -0.168      0.001    0.001   \n",
       "contact[1]              -0.323  0.069  -0.448   -0.192      0.001    0.001   \n",
       "action:intention[1, 1]  -0.456  0.082  -0.604   -0.301      0.002    0.001   \n",
       "contact:intention[1, 1] -1.286  0.100  -1.479   -1.107      0.002    0.001   \n",
       "\n",
       "                         ess_bulk  ess_tail  r_hat  \n",
       "action[1]                  2617.0    2808.0    1.0  \n",
       "intention[1]               2436.0    2892.0    1.0  \n",
       "contact[1]                 2633.0    3029.0    1.0  \n",
       "action:intention[1, 1]     2666.0    2890.0    1.0  \n",
       "contact:intention[1, 1]    2676.0    3062.0    1.0  "
      ]
     },
     "execution_count": 73,
     "metadata": {},
     "output_type": "execute_result"
    }
   ],
   "source": [
    "az.summary(\n",
    "    idata, \n",
    "    var_names=[\"action\", \"intention\", \"contact\", \n",
    "               \"action:intention\", \"contact:intention\"]\n",
    ")"
   ]
  },
  {
   "cell_type": "code",
   "execution_count": 82,
   "metadata": {},
   "outputs": [
    {
     "data": {
      "image/png": "[encoded data removed]",
      "text/plain": [
       "<Figure size 700x300 with 1 Axes>"
      ]
     },
     "metadata": {},
     "output_type": "display_data"
    }
   ],
   "source": [
    "az.plot_forest(\n",
    "    idata,\n",
    "    combined=True,\n",
    "    var_names=[\"action\", \"intention\", \"contact\", \n",
    "               \"action:intention\", \"contact:intention\"],\n",
    "    figsize=(7, 3),\n",
    "    textsize=11\n",
    ");"
   ]
  },
  {
   "cell_type": "code",
   "execution_count": null,
   "metadata": {},
   "outputs": [],
   "source": []
  }
 ],
 "metadata": {
  "kernelspec": {
   "display_name": "bambinos",
   "language": "python",
   "name": "python3"
  },
  "language_info": {
   "codemirror_mode": {
    "name": "ipython",
    "version": 3
   },
   "file_extension": ".py",
   "mimetype": "text/x-python",
   "name": "python",
   "nbconvert_exporter": "python",
   "pygments_lexer": "ipython3",
   "version": "3.11.0"
  },
  "orig_nbformat": 4
 },
 "nbformat": 4,
 "nbformat_minor": 2
}
