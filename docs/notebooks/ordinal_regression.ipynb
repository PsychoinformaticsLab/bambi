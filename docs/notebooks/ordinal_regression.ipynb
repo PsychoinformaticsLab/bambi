{
 "cells": [
  {
   "cell_type": "code",
   "execution_count": 1,
   "metadata": {},
   "outputs": [
    {
     "name": "stderr",
     "output_type": "stream",
     "text": [
      "WARNING (pytensor.configdefaults): g++ not available, if using conda: `conda install m2w64-toolchain`\n",
      "WARNING (pytensor.configdefaults): g++ not detected!  PyTensor will be unable to compile C-implementations and will default to Python. Performance may be severely degraded. To remove this warning, set PyTensor flags cxx to an empty string.\n",
      "WARNING (pytensor.tensor.blas): Using NumPy C-API based implementation for BLAS functions.\n"
     ]
    }
   ],
   "source": [
    "import arviz as az\n",
    "import matplotlib.pyplot as plt\n",
    "import numpy as np\n",
    "import pandas as pd\n",
    "\n",
    "import bambi as bmb\n",
    "\n",
    "%load_ext autoreload\n",
    "%autoreload 2"
   ]
  },
  {
   "cell_type": "markdown",
   "metadata": {},
   "source": [
    "# Ordinal Regression\n",
    "\n",
    "In some scenarios, the response variable is discrete, like a count, and ordered. For example, a rating from 1 to 5. The result is a set of **ordered categories**. Ordered category data presents three challenges when modelling:\n",
    "\n",
    "1. Unlike a count, the differences in the values are not necessarily equidistant. For example, it may be much harder for a restuarant to go from 4 to 5 stars than from 2 to 3 stars. \n",
    "2. The distribution of ordinal responses may be nonnormal, particularly if very low or high values are infrequently chosen.\n",
    "3. The variances of the unobserved variables that underlie the observed ordered category may differ between the category, time points, etc. \n",
    "\n",
    "Thus, treating ordered categories as continuous is not appropriate. To this extent, Bambi supports two classes of ordinal regression models: (1) cumulative link, and (2) sequential link. Below, it is demonstrated how to fit these two models using Bambi to overcome the challenges of ordered category response data."
   ]
  },
  {
   "cell_type": "markdown",
   "metadata": {},
   "source": [
    "## Cumulative model\n",
    "\n",
    "A cumulative model assumes that the observed ordinal variable $Y$ originates from the \"categorization\" of a latent continuous variable $\\hat{Y}$. To model the categorization process, the model assumes that there are $K$ thresholds (cutpoints) $\\tau_k$ that partition $\\hat{Y}$ into $K+1$ observable, ordered categories. Additionally, if we assume $\\hat{Y}$ to have a certain distribution (e.g., Normal) with a cumulative distribution function $F$, the probability of $Y$ being equal to category $k$ is\n",
    "\n",
    "$$Pr(Y = k) = F(\\tau_k) - F(\\tau_{k-1})$$\n",
    "\n",
    "where each $F(\\tau)$ is a cumulative probability. For example, suppose we have 3 categories and we are interested in the probability of $k=3$, and have thresholds $\\tau_0 = -1, \\tau_1 = 0, \\tau_2 = 1$. Additionally, if we assume $\\hat{Y}$ to be normally distributed with $\\sigma = 1$ then\n",
    "\n",
    "$$Pr(Y = 3) = \\Phi(\\tau_2) - \\Phi(\\tau_1) - \\Phi(\\tau_0)$$\n",
    "\n",
    "How to set the thresholds? By default, Bambi uses a Normal distribution with a grid of evenly spaced $\\mu$'s that depends on the number of $k$ as the prior for the thresholds. Furthermore, the model specification for ordinal regression typically transforms the cumulative probabilities using the log-cumulative-odds (logit) transformation. Therefore, the learned parameters for the thresholds $\\tau$ will be logits.\n",
    "\n",
    "Lastly, as each $F(\\tau)$ implies a cumulative probability for each $k$, the largest response value always has a cumulative probability of 1. Thus, we effectively do not need a parameter for it due to the law of total probability. For example, for $K = 3$ response values, we only need $K − 1 = 2$ intercepts."
   ]
  },
  {
   "cell_type": "markdown",
   "metadata": {},
   "source": [
    "### The moral intuition dataset\n",
    "\n",
    "To illustrate an ordinal model with a cumulative link function, we will model data from a series of experiments conducted by philsophers (this example comes from Richard McElreath's [Statistical Rethinking](https://xcelab.net/rm/statistical-rethinking/)). The experiments aim to collect empirical evidence relevant to debates about moral intuition, the forms of reasoning through which people develop judgments about the moral goodness and badness of actions. \n",
    "\n",
    "In the dataset there are 12 columns and 9930 rows, comprising data for 331 unique individuals. The response we are interested in `response`, is an integer from 1 to 7 indicating how morally permissible the participant found the action to be taken (or not) in the story. The predictors are as follows:\n",
    "\n",
    "- `action`: a factor with levels 0 and 1 where 1 indicates that the story contained \"harm caused by action is morally worse than equivalent harm caused by omission\".\n",
    "- `intention`: a factor with levels 0 and 1 where 1 indicates that the story contained \"harm intended as the means to a goal is morally worse than equivalent harm foreseen as the side effect of a goal\".\n",
    "- `contact`: a factor with levels 0 and 1 where 1 indicates that the story contained \"using physical contact to cause harm to a victim is morally worse than causing equivalent harm to a victim without using physical contact\"."
   ]
  },
  {
   "cell_type": "code",
   "execution_count": 2,
   "metadata": {},
   "outputs": [],
   "source": [
    "trolly = pd.read_csv(\"https://raw.githubusercontent.com/rmcelreath/rethinking/master/data/Trolley.csv\", sep=\";\")\n",
    "trolly = trolly[[\"response\", \"action\", \"intention\", \"contact\"]]\n",
    "trolly[\"action\"] = pd.Categorical(trolly[\"action\"], ordered=False)\n",
    "trolly[\"intention\"] = pd.Categorical(trolly[\"intention\"], ordered=False)\n",
    "trolly[\"contact\"] = pd.Categorical(trolly[\"contact\"], ordered=False)\n",
    "trolly[\"response\"] = pd.Categorical(trolly[\"response\"], ordered=True)"
   ]
  },
  {
   "cell_type": "code",
   "execution_count": 6,
   "metadata": {},
   "outputs": [
    {
     "data": {
      "text/plain": [
       "[4, 3, 5, 2, 1, 7, 6]\n",
       "Categories (7, int64): [1 < 2 < 3 < 4 < 5 < 6 < 7]"
      ]
     },
     "execution_count": 6,
     "metadata": {},
     "output_type": "execute_result"
    }
   ],
   "source": [
    "# 7 ordered categories from 1-7\n",
    "trolly.response.unique()"
   ]
  },
  {
   "cell_type": "markdown",
   "metadata": {},
   "source": [
    "### Intercept only model\n",
    "\n",
    "Before we fit a model with predictors, let's attempt to recover the parameters of an ordered distribution with an intercepts only model to get a feel for the cumulative link function. First, to compare the intercepts only model, we compute the empirical log-cumulative-odds of the categories directly from the data below. "
   ]
  },
  {
   "cell_type": "code",
   "execution_count": 7,
   "metadata": {},
   "outputs": [
    {
     "name": "stderr",
     "output_type": "stream",
     "text": [
      "C:\\Users\\stechsga\\AppData\\Local\\Temp\\ipykernel_9160\\1548491577.py:3: RuntimeWarning: invalid value encountered in log\n",
      "  logit_func = lambda x: np.log(x / (1 - x))\n"
     ]
    },
    {
     "data": {
      "text/plain": [
       "array([-1.91609116, -1.26660559, -0.718634  ,  0.24778573,  0.88986365,\n",
       "        1.76938091,         nan])"
      ]
     },
     "execution_count": 7,
     "metadata": {},
     "output_type": "execute_result"
    }
   ],
   "source": [
    "pr_k = trolly.response.value_counts().sort_index().values / trolly.shape[0]\n",
    "cum_pr_k = np.cumsum(pr_k)\n",
    "logit_func = lambda x: np.log(x / (1 - x))\n",
    "cum_logit = logit_func(cum_pr_k)\n",
    "cum_logit"
   ]
  },
  {
   "cell_type": "code",
   "execution_count": 5,
   "metadata": {},
   "outputs": [
    {
     "name": "stderr",
     "output_type": "stream",
     "text": [
      "c:\\Users\\stechsga\\Miniconda3\\envs\\bambi\\Lib\\site-packages\\bambi\\formula.py:111: UserWarning: The intercept is omitted in ordinal families\n",
      "  warnings.warn(\"The intercept is omitted in ordinal families\")\n",
      "c:\\Users\\stechsga\\Miniconda3\\envs\\bambi\\Lib\\site-packages\\formulae\\terms\\variable.py:87: FutureWarning: is_categorical_dtype is deprecated and will be removed in a future version. Use isinstance(dtype, CategoricalDtype) instead\n",
      "  elif is_string_dtype(x) or is_categorical_dtype(x):\n",
      "Auto-assigning NUTS sampler...\n",
      "Initializing NUTS using jitter+adapt_diag...\n",
      "Multiprocess sampling (4 chains in 4 jobs)\n",
      "NUTS: [response_threshold]\n"
     ]
    },
    {
     "data": {
      "text/html": [
       "\n",
       "<style>\n",
       "    /* Turns off some styling */\n",
       "    progress {\n",
       "        /* gets rid of default border in Firefox and Opera. */\n",
       "        border: none;\n",
       "        /* Needs to be in here for Safari polyfill so background images work as expected. */\n",
       "        background-size: auto;\n",
       "    }\n",
       "    progress:not([value]), progress:not([value])::-webkit-progress-bar {\n",
       "        background: repeating-linear-gradient(45deg, #7e7e7e, #7e7e7e 10px, #5c5c5c 10px, #5c5c5c 20px);\n",
       "    }\n",
       "    .progress-bar-interrupted, .progress-bar-interrupted::-webkit-progress-bar {\n",
       "        background: #F44336;\n",
       "    }\n",
       "</style>\n"
      ],
      "text/plain": [
       "<IPython.core.display.HTML object>"
      ]
     },
     "metadata": {},
     "output_type": "display_data"
    },
    {
     "data": {
      "text/html": [
       "\n",
       "    <div>\n",
       "      <progress value='8000' class='' max='8000' style='width:300px; height:20px; vertical-align: middle;'></progress>\n",
       "      100.00% [8000/8000 19:14&lt;00:00 Sampling 4 chains, 0 divergences]\n",
       "    </div>\n",
       "    "
      ],
      "text/plain": [
       "<IPython.core.display.HTML object>"
      ]
     },
     "metadata": {},
     "output_type": "display_data"
    },
    {
     "name": "stderr",
     "output_type": "stream",
     "text": [
      "Sampling 4 chains for 1_000 tune and 1_000 draw iterations (4_000 + 4_000 draws total) took 1174 seconds.\n"
     ]
    }
   ],
   "source": [
    "model = bmb.Model(\"response ~ 1\", data=trolly, family=\"cumulative\")\n",
    "idata = model.fit()"
   ]
  },
  {
   "cell_type": "code",
   "execution_count": 8,
   "metadata": {},
   "outputs": [
    {
     "data": {
      "text/html": [
       "<div>\n",
       "<style scoped>\n",
       "    .dataframe tbody tr th:only-of-type {\n",
       "        vertical-align: middle;\n",
       "    }\n",
       "\n",
       "    .dataframe tbody tr th {\n",
       "        vertical-align: top;\n",
       "    }\n",
       "\n",
       "    .dataframe thead th {\n",
       "        text-align: right;\n",
       "    }\n",
       "</style>\n",
       "<table border=\"1\" class=\"dataframe\">\n",
       "  <thead>\n",
       "    <tr style=\"text-align: right;\">\n",
       "      <th></th>\n",
       "      <th>mean</th>\n",
       "      <th>sd</th>\n",
       "      <th>hdi_3%</th>\n",
       "      <th>hdi_97%</th>\n",
       "      <th>mcse_mean</th>\n",
       "      <th>mcse_sd</th>\n",
       "      <th>ess_bulk</th>\n",
       "      <th>ess_tail</th>\n",
       "      <th>r_hat</th>\n",
       "    </tr>\n",
       "  </thead>\n",
       "  <tbody>\n",
       "    <tr>\n",
       "      <th>response_threshold[0]</th>\n",
       "      <td>-1.923</td>\n",
       "      <td>0.030</td>\n",
       "      <td>-1.979</td>\n",
       "      <td>-1.868</td>\n",
       "      <td>0.0</td>\n",
       "      <td>0.0</td>\n",
       "      <td>4152.0</td>\n",
       "      <td>3065.0</td>\n",
       "      <td>1.0</td>\n",
       "    </tr>\n",
       "    <tr>\n",
       "      <th>response_threshold[1]</th>\n",
       "      <td>-1.270</td>\n",
       "      <td>0.024</td>\n",
       "      <td>-1.315</td>\n",
       "      <td>-1.223</td>\n",
       "      <td>0.0</td>\n",
       "      <td>0.0</td>\n",
       "      <td>5031.0</td>\n",
       "      <td>3389.0</td>\n",
       "      <td>1.0</td>\n",
       "    </tr>\n",
       "    <tr>\n",
       "      <th>response_threshold[2]</th>\n",
       "      <td>-0.719</td>\n",
       "      <td>0.021</td>\n",
       "      <td>-0.758</td>\n",
       "      <td>-0.678</td>\n",
       "      <td>0.0</td>\n",
       "      <td>0.0</td>\n",
       "      <td>5272.0</td>\n",
       "      <td>3462.0</td>\n",
       "      <td>1.0</td>\n",
       "    </tr>\n",
       "    <tr>\n",
       "      <th>response_threshold[3]</th>\n",
       "      <td>0.248</td>\n",
       "      <td>0.020</td>\n",
       "      <td>0.208</td>\n",
       "      <td>0.285</td>\n",
       "      <td>0.0</td>\n",
       "      <td>0.0</td>\n",
       "      <td>4636.0</td>\n",
       "      <td>3102.0</td>\n",
       "      <td>1.0</td>\n",
       "    </tr>\n",
       "    <tr>\n",
       "      <th>response_threshold[4]</th>\n",
       "      <td>0.892</td>\n",
       "      <td>0.022</td>\n",
       "      <td>0.852</td>\n",
       "      <td>0.935</td>\n",
       "      <td>0.0</td>\n",
       "      <td>0.0</td>\n",
       "      <td>4861.0</td>\n",
       "      <td>3639.0</td>\n",
       "      <td>1.0</td>\n",
       "    </tr>\n",
       "    <tr>\n",
       "      <th>response_threshold[5]</th>\n",
       "      <td>1.774</td>\n",
       "      <td>0.029</td>\n",
       "      <td>1.721</td>\n",
       "      <td>1.829</td>\n",
       "      <td>0.0</td>\n",
       "      <td>0.0</td>\n",
       "      <td>5602.0</td>\n",
       "      <td>3655.0</td>\n",
       "      <td>1.0</td>\n",
       "    </tr>\n",
       "  </tbody>\n",
       "</table>\n",
       "</div>"
      ],
      "text/plain": [
       "                        mean     sd  hdi_3%  hdi_97%  mcse_mean  mcse_sd  \\\n",
       "response_threshold[0] -1.923  0.030  -1.979   -1.868        0.0      0.0   \n",
       "response_threshold[1] -1.270  0.024  -1.315   -1.223        0.0      0.0   \n",
       "response_threshold[2] -0.719  0.021  -0.758   -0.678        0.0      0.0   \n",
       "response_threshold[3]  0.248  0.020   0.208    0.285        0.0      0.0   \n",
       "response_threshold[4]  0.892  0.022   0.852    0.935        0.0      0.0   \n",
       "response_threshold[5]  1.774  0.029   1.721    1.829        0.0      0.0   \n",
       "\n",
       "                       ess_bulk  ess_tail  r_hat  \n",
       "response_threshold[0]    4152.0    3065.0    1.0  \n",
       "response_threshold[1]    5031.0    3389.0    1.0  \n",
       "response_threshold[2]    5272.0    3462.0    1.0  \n",
       "response_threshold[3]    4636.0    3102.0    1.0  \n",
       "response_threshold[4]    4861.0    3639.0    1.0  \n",
       "response_threshold[5]    5602.0    3655.0    1.0  "
      ]
     },
     "execution_count": 8,
     "metadata": {},
     "output_type": "execute_result"
    }
   ],
   "source": [
    "az.summary(idata)"
   ]
  },
  {
   "cell_type": "markdown",
   "metadata": {},
   "source": [
    "Viewing the summary dataframe, we see a total of six cutpoints (`response_threshold`) coefficients. Why six? Remember, we get the last parameter for free, so we only need $K-1$ cutpoints. The index (using zero based indexing) of the `response_threshold` indicates the category that the cutpoint is associated with. Comparing to the empirical log-cumulative-odds computation above, the mean of the posterior distribution for each category is close to the empirical value.\n",
    "\n",
    "As the the log cumalative link is used, we need to apply the inverse of the logit function to transform back to cumulative probabilities. Below, we plot the cumulative probabilities for each category. "
   ]
  },
  {
   "cell_type": "code",
   "execution_count": 9,
   "metadata": {},
   "outputs": [
    {
     "data": {
      "image/png": "[encoded data removed]",
      "text/plain": [
       "<Figure size 504x216 with 1 Axes>"
      ]
     },
     "metadata": {
      "needs_background": "light"
     },
     "output_type": "display_data"
    }
   ],
   "source": [
    "expit_func = lambda x: 1 / (1 + np.exp(-x))\n",
    "cumprobs = expit_func(idata.posterior.response_threshold).mean((\"chain\", \"draw\"))\n",
    "cumprobs = np.append(cumprobs, 1)\n",
    "\n",
    "plt.figure(figsize=(7, 3))\n",
    "plt.plot(sorted(trolly.response.unique()), cumprobs, marker='o')\n",
    "plt.ylabel(\"Cumulative probability\")\n",
    "plt.xlabel(\"Response category\");"
   ]
  },
  {
   "cell_type": "code",
   "execution_count": 10,
   "metadata": {},
   "outputs": [
    {
     "data": {
      "image/png": "[encoded data removed]",
      "text/plain": [
       "<Figure size 504x216 with 1 Axes>"
      ]
     },
     "metadata": {
      "needs_background": "light"
     },
     "output_type": "display_data"
    }
   ],
   "source": [
    "fig, ax = plt.subplots(figsize=(7, 3))\n",
    "for i in range(6):\n",
    "    outcome = expit_func(idata.posterior.response_threshold).sel(response_threshold_dim=i).to_numpy().flatten()\n",
    "    ax.hist(outcome, bins=15, alpha=0.5, label=f\"Category: {i}\")\n",
    "ax.set_xlabel(\"Probability\")\n",
    "ax.set_ylabel(\"Count\")\n",
    "ax.set_title(\"Cumulative Probability by Category\")\n",
    "ax.legend(bbox_to_anchor=(1.04, 1), loc=\"upper left\");"
   ]
  },
  {
   "cell_type": "markdown",
   "metadata": {},
   "source": [
    "Notice in both plots above, the jump in cumulative probability from category 3 to 4. Additionally, the estimates of the coefficients is precise for each category. Now that we have an understanding how the cumulative link function is applied to produce ordered cumulative outcomes, we will add predictors to the model. "
   ]
  },
  {
   "cell_type": "markdown",
   "metadata": {},
   "source": [
    "### Adding predictors\n",
    "\n",
    "In the cumulative model described above, adding predictors was explicitly left out. In this section, it is described how predictors are added to ordinal cumulative models. When adding predictor variables, what we would like is for any predictor, as it increases, predictions are moved progressively (increased) through the categories in sequence. A predictor term $\\eta$ is defined as\n",
    "\n",
    "$$\\eta = \\beta_1 x_1 + \\beta_2 x_2 +, . . ., \\beta_n x_n + \\epsilon$$\n",
    "\n",
    "Note how similar this looks to an ordinary linear model. However, there is no intercept term. This is because the intercept is replaced by the threshold $\\tau$. Putting the predictor term together with the thresholds and cumulative distribution function, we obtain the probability of $Y$ being equal to a category $k$ as\n",
    "\n",
    "$$Pr(Y = k | \\eta) = F(\\tau_k - \\eta) - F(\\tau_{k-1} - \\eta)$$\n",
    "\n",
    "The same predictor term $\\eta$ is subtracted from each threshold because if we decrease the log-cumulative-odds of every outcome value $k$ below the maximum, this shifts probability mass upwards towards higher outcome values. Thus, positive $\\beta$ values correspond to increasing $x$, which is associated with an increase in the mean response $Y$. The parameters to be estimated from the model are the thresholds $\\tau$ and the predictor terms $\\eta$ coefficients.  \n",
    "\n",
    "To add predictors for ordinal models in Bambi, we continue to use the familiar syntax."
   ]
  },
  {
   "cell_type": "code",
   "execution_count": 97,
   "metadata": {},
   "outputs": [
    {
     "name": "stderr",
     "output_type": "stream",
     "text": [
      "/Users/gabestechschulte/Documents/repos/bambi/bambi/formula.py:111: UserWarning: The intercept is omitted in ordinal families\n",
      "  warnings.warn(\"The intercept is omitted in ordinal families\")\n",
      "Auto-assigning NUTS sampler...\n",
      "Initializing NUTS using jitter+adapt_diag...\n",
      "Multiprocess sampling (4 chains in 4 jobs)\n",
      "NUTS: [response_threshold, action, intention, contact, action:intention, contact:intention]\n"
     ]
    },
    {
     "data": {
      "text/html": [
       "\n",
       "<style>\n",
       "    /* Turns off some styling */\n",
       "    progress {\n",
       "        /* gets rid of default border in Firefox and Opera. */\n",
       "        border: none;\n",
       "        /* Needs to be in here for Safari polyfill so background images work as expected. */\n",
       "        background-size: auto;\n",
       "    }\n",
       "    progress:not([value]), progress:not([value])::-webkit-progress-bar {\n",
       "        background: repeating-linear-gradient(45deg, #7e7e7e, #7e7e7e 10px, #5c5c5c 10px, #5c5c5c 20px);\n",
       "    }\n",
       "    .progress-bar-interrupted, .progress-bar-interrupted::-webkit-progress-bar {\n",
       "        background: #F44336;\n",
       "    }\n",
       "</style>\n"
      ],
      "text/plain": [
       "<IPython.core.display.HTML object>"
      ]
     },
     "metadata": {},
     "output_type": "display_data"
    },
    {
     "data": {
      "text/html": [
       "\n",
       "    <div>\n",
       "      <progress value='8000' class='' max='8000' style='width:300px; height:20px; vertical-align: middle;'></progress>\n",
       "      100.00% [8000/8000 01:19&lt;00:00 Sampling 4 chains, 0 divergences]\n",
       "    </div>\n",
       "    "
      ],
      "text/plain": [
       "<IPython.core.display.HTML object>"
      ]
     },
     "metadata": {},
     "output_type": "display_data"
    },
    {
     "name": "stderr",
     "output_type": "stream",
     "text": [
      "/Users/gabestechschulte/miniforge3/envs/bambinos/lib/python3.11/site-packages/pytensor/compile/function/types.py:970: RuntimeWarning: invalid value encountered in accumulate\n",
      "  self.vm()\n",
      "/Users/gabestechschulte/miniforge3/envs/bambinos/lib/python3.11/site-packages/pytensor/compile/function/types.py:970: RuntimeWarning: invalid value encountered in accumulate\n",
      "  self.vm()\n",
      "Sampling 4 chains for 1_000 tune and 1_000 draw iterations (4_000 + 4_000 draws total) took 79 seconds.\n"
     ]
    }
   ],
   "source": [
    "model = bmb.Model(\n",
    "    \"response ~ action + intention + contact + action:intention + contact:intention\", \n",
    "    data=trolly, \n",
    "    family=\"cumulative\"\n",
    ")\n",
    "idata = model.fit()"
   ]
  },
  {
   "cell_type": "markdown",
   "metadata": {},
   "source": [
    "In the summary dataframe below, we only select the predictor variables as the cutpoints are not of interest at the moment."
   ]
  },
  {
   "cell_type": "code",
   "execution_count": 54,
   "metadata": {},
   "outputs": [
    {
     "data": {
      "text/html": [
       "<div>\n",
       "<style scoped>\n",
       "    .dataframe tbody tr th:only-of-type {\n",
       "        vertical-align: middle;\n",
       "    }\n",
       "\n",
       "    .dataframe tbody tr th {\n",
       "        vertical-align: top;\n",
       "    }\n",
       "\n",
       "    .dataframe thead th {\n",
       "        text-align: right;\n",
       "    }\n",
       "</style>\n",
       "<table border=\"1\" class=\"dataframe\">\n",
       "  <thead>\n",
       "    <tr style=\"text-align: right;\">\n",
       "      <th></th>\n",
       "      <th>mean</th>\n",
       "      <th>sd</th>\n",
       "      <th>hdi_3%</th>\n",
       "      <th>hdi_97%</th>\n",
       "      <th>mcse_mean</th>\n",
       "      <th>mcse_sd</th>\n",
       "      <th>ess_bulk</th>\n",
       "      <th>ess_tail</th>\n",
       "      <th>r_hat</th>\n",
       "    </tr>\n",
       "  </thead>\n",
       "  <tbody>\n",
       "    <tr>\n",
       "      <th>action[1]</th>\n",
       "      <td>-0.466</td>\n",
       "      <td>0.055</td>\n",
       "      <td>-0.567</td>\n",
       "      <td>-0.361</td>\n",
       "      <td>0.001</td>\n",
       "      <td>0.001</td>\n",
       "      <td>2387.0</td>\n",
       "      <td>2733.0</td>\n",
       "      <td>1.0</td>\n",
       "    </tr>\n",
       "    <tr>\n",
       "      <th>intention[1]</th>\n",
       "      <td>-0.276</td>\n",
       "      <td>0.058</td>\n",
       "      <td>-0.392</td>\n",
       "      <td>-0.174</td>\n",
       "      <td>0.001</td>\n",
       "      <td>0.001</td>\n",
       "      <td>2376.0</td>\n",
       "      <td>2645.0</td>\n",
       "      <td>1.0</td>\n",
       "    </tr>\n",
       "    <tr>\n",
       "      <th>contact[1]</th>\n",
       "      <td>-0.325</td>\n",
       "      <td>0.071</td>\n",
       "      <td>-0.459</td>\n",
       "      <td>-0.195</td>\n",
       "      <td>0.001</td>\n",
       "      <td>0.001</td>\n",
       "      <td>2709.0</td>\n",
       "      <td>2889.0</td>\n",
       "      <td>1.0</td>\n",
       "    </tr>\n",
       "    <tr>\n",
       "      <th>action:intention[1, 1]</th>\n",
       "      <td>-0.455</td>\n",
       "      <td>0.080</td>\n",
       "      <td>-0.600</td>\n",
       "      <td>-0.299</td>\n",
       "      <td>0.002</td>\n",
       "      <td>0.001</td>\n",
       "      <td>2483.0</td>\n",
       "      <td>2882.0</td>\n",
       "      <td>1.0</td>\n",
       "    </tr>\n",
       "    <tr>\n",
       "      <th>contact:intention[1, 1]</th>\n",
       "      <td>-1.284</td>\n",
       "      <td>0.102</td>\n",
       "      <td>-1.461</td>\n",
       "      <td>-1.078</td>\n",
       "      <td>0.002</td>\n",
       "      <td>0.001</td>\n",
       "      <td>2759.0</td>\n",
       "      <td>2926.0</td>\n",
       "      <td>1.0</td>\n",
       "    </tr>\n",
       "  </tbody>\n",
       "</table>\n",
       "</div>"
      ],
      "text/plain": [
       "                          mean     sd  hdi_3%  hdi_97%  mcse_mean  mcse_sd   \n",
       "action[1]               -0.466  0.055  -0.567   -0.361      0.001    0.001  \\\n",
       "intention[1]            -0.276  0.058  -0.392   -0.174      0.001    0.001   \n",
       "contact[1]              -0.325  0.071  -0.459   -0.195      0.001    0.001   \n",
       "action:intention[1, 1]  -0.455  0.080  -0.600   -0.299      0.002    0.001   \n",
       "contact:intention[1, 1] -1.284  0.102  -1.461   -1.078      0.002    0.001   \n",
       "\n",
       "                         ess_bulk  ess_tail  r_hat  \n",
       "action[1]                  2387.0    2733.0    1.0  \n",
       "intention[1]               2376.0    2645.0    1.0  \n",
       "contact[1]                 2709.0    2889.0    1.0  \n",
       "action:intention[1, 1]     2483.0    2882.0    1.0  \n",
       "contact:intention[1, 1]    2759.0    2926.0    1.0  "
      ]
     },
     "execution_count": 54,
     "metadata": {},
     "output_type": "execute_result"
    }
   ],
   "source": [
    "az.summary(\n",
    "    idata, \n",
    "    var_names=[\"action\", \"intention\", \"contact\", \n",
    "               \"action:intention\", \"contact:intention\"]\n",
    ")"
   ]
  },
  {
   "cell_type": "markdown",
   "metadata": {},
   "source": [
    "The posterior distribution of the slopes are all negative indicating that each of these story features reduces the rating—the acceptability of the story. Below, a forest plot is used to make this insight more clear."
   ]
  },
  {
   "cell_type": "code",
   "execution_count": 55,
   "metadata": {},
   "outputs": [
    {
     "data": {
      "image/png": "[encoded data removed]",
      "text/plain": [
       "<Figure size 700x300 with 1 Axes>"
      ]
     },
     "metadata": {},
     "output_type": "display_data"
    }
   ],
   "source": [
    "az.plot_forest(\n",
    "    idata,\n",
    "    combined=True,\n",
    "    var_names=[\"action\", \"intention\", \"contact\", \n",
    "               \"action:intention\", \"contact:intention\"],\n",
    "    figsize=(7, 3),\n",
    "    textsize=11\n",
    ");"
   ]
  },
  {
   "cell_type": "markdown",
   "metadata": {},
   "source": [
    "Again, we can plot the cumulative probability of each category. Compared to the same plot above, notice how most of the category probabilities have been shifted to the left. Additionally, there is more uncertainty for category 3, 4, and 5."
   ]
  },
  {
   "cell_type": "code",
   "execution_count": 98,
   "metadata": {},
   "outputs": [
    {
     "data": {
      "image/png": "[encoded data removed]",
      "text/plain": [
       "<Figure size 700x300 with 1 Axes>"
      ]
     },
     "metadata": {},
     "output_type": "display_data"
    }
   ],
   "source": [
    "fig, ax = plt.subplots(figsize=(7, 3))\n",
    "for i in range(6):\n",
    "    outcome = expit_func(idata.posterior.response_threshold).sel(response_threshold_dim=i).to_numpy().flatten()\n",
    "    ax.hist(outcome, bins=15, alpha=0.5, label=f\"Category: {i}\")\n",
    "ax.set_xlabel(\"Probability\")\n",
    "ax.set_ylabel(\"Count\")\n",
    "ax.set_title(\"Cumulative Probability by Category\")\n",
    "ax.legend(bbox_to_anchor=(1.04, 1), loc=\"upper left\");"
   ]
  },
  {
   "cell_type": "markdown",
   "metadata": {},
   "source": [
    "#### Posterior predictive distribution\n",
    "\n",
    "To get a sense of how well the ordinal model fits the data, we can plot samples from the posterior predictive distribution. "
   ]
  },
  {
   "cell_type": "code",
   "execution_count": 105,
   "metadata": {},
   "outputs": [
    {
     "data": {
      "image/png": "[encoded data removed]",
      "text/plain": [
       "<Figure size 700x300 with 1 Axes>"
      ]
     },
     "metadata": {},
     "output_type": "display_data"
    }
   ],
   "source": [
    "idata_pps = model.predict(idata=idata, kind=\"pps\", inplace=False)\n",
    "\n",
    "ax = az.plot_ppc(idata_pps, figsize=(7, 3), textsize=11)\n",
    "ax.set_xticks(np.linspace(0.2, 7, 7))\n",
    "ax.set_xticklabels(model.response_component.response_term.levels);"
   ]
  },
  {
   "cell_type": "markdown",
   "metadata": {},
   "source": [
    "Looking at the observed and posterior predictive mean, the model captures the observed frequencies of the categories well. "
   ]
  },
  {
   "cell_type": "code",
   "execution_count": null,
   "metadata": {},
   "outputs": [],
   "source": [
    "# does not work because predictions are a vector of probabilities\n",
    "bmb.interpret.predictions(\n",
    "    model=model,\n",
    "    idata=idata,\n",
    "    covariates=\"action\"\n",
    ")"
   ]
  },
  {
   "cell_type": "markdown",
   "metadata": {},
   "source": [
    "### Changing the default prior of cutpoints\n",
    "\n",
    "\n",
    "**TO DO**"
   ]
  },
  {
   "cell_type": "code",
   "execution_count": null,
   "metadata": {},
   "outputs": [],
   "source": []
  },
  {
   "cell_type": "markdown",
   "metadata": {},
   "source": [
    "## Sequential Model\n",
    "\n",
    "For some ordinal variables, the assumption of a **single** underlying continuous variable (as in cumulative models) may not be appropriate. If the response can be understood as being the result of a sequential process, such that a higher response category is possible only after all lower categories are achieved, then a sequential model may be more appropriate than a cumulative model.\n",
    "\n",
    "Sequential models assume that for **every** category $k$ there is latent continuous variable $\\hat{Y_k}$ that determines the transition between categories $k$ and $k+1$. Now, a threshold $\\tau$ belongs to each latent process. If there are 3 categories, then there are 3 latent processes. If $\\hat{Y}_k$ is greater than the threshold $\\tau_k$, the sequential process continues, otherwise it stops at category $k$. As with the cumulative model, we still assume a distribution for $\\hat{Y}_k$ with a cumulative distribution function $F$.\n",
    "\n",
    "As an example, lets suppose we are interested in modeling the probability a boxer makes it to round 3. This implies that the particular boxer in question survived round 1 $\\hat{Y}_1 > \\tau_1$ , 2 $\\hat{Y}_2 > \\tau_2$, and 3 $\\hat{Y}_3 > \\tau_3$. This can be written as \n",
    "\n",
    "$$Pr(Y = 3) = (1 - Pr(\\hat{Y_1})(1 - Pr(\\hat{Y_2}))(1 - Pr(\\hat{Y_3})$$\n",
    "\n",
    "As in the cumulative model above, if we assume $Y$ to be normally distributed with the thresholds $\\tau_0 = -1, \\tau_1 = 0, \\tau_2 = 1$ and cumulative distribution function $\\Phi$ then\n",
    "\n",
    "$$Pr(Y = 3) = (1 - \\Phi(\\tau_0))(1 - \\Phi(\\tau_1))(1 - \\Phi(\\tau_2))$$\n",
    "\n",
    "To add predictors to this sequential model, we follow the same specification in the _Adding Predictors_ section above. Thus, the sequential model with predictor terms becomes\n",
    "\n",
    "$$P(Y = k) = F(\\tau_k - \\eta) * \\prod_{j=1}^{k-1}{(1 - F(\\tau_j - \\eta))}$$\n",
    "\n",
    "Thus, the probability that $Y$ is equal to category $k$ is equal to the probability that it did not fall in one of the former categories $1: k-1$ multiplied by the probability that the sequential process stopped at $k$ rather than continuing past it."
   ]
  },
  {
   "cell_type": "code",
   "execution_count": null,
   "metadata": {},
   "outputs": [],
   "source": []
  },
  {
   "cell_type": "code",
   "execution_count": null,
   "metadata": {},
   "outputs": [],
   "source": []
  }
 ],
 "metadata": {
  "kernelspec": {
   "display_name": "bambinos",
   "language": "python",
   "name": "python3"
  },
  "language_info": {
   "codemirror_mode": {
    "name": "ipython",
    "version": 3
   },
   "file_extension": ".py",
   "mimetype": "text/x-python",
   "name": "python",
   "nbconvert_exporter": "python",
   "pygments_lexer": "ipython3",
   "version": "3.11.5"
  },
  "orig_nbformat": 4
 },
 "nbformat": 4,
 "nbformat_minor": 2
}
