{
 "cells": [
  {
   "attachments": {},
   "cell_type": "markdown",
   "metadata": {},
   "source": [
    "# Plot Comparisons\n",
    "\n",
    "`comparisons` and `plot_comparisons` are a part of Bambi's sub-package `plots` that feature a set of functions used to interpret complex regression models. This sub-package is inspired by the R package [marginaleffects](https://vincentarelbundock.github.io/marginaleffects/articles/predictions.html#conditional-adjusted-predictions-plot). These two functions allow the modeler to **compare** the predictions made by a model for different contrast and covariate values. Below, it is described why comparing predictions is useful in interpreting generalized linear models (GLMs), how this methodology is implemented in Bambi, and how to use `comparisons` and `plot_comparisons`. It is assumed that the reader is familiar with the basics of GLMs. If not, refer to the Bambi [Basic Building Blocks](https://bambinos.github.io/bambi/notebooks/how_bambi_works.html#Link-functions) example.\n",
    "\n",
    "Due to the link function in a GLM, there are typically three quantities of interest to interpret:\n",
    "\n",
    "1. the linear predictor $\\eta = X\\beta$ where $X$ is an $n$ x $p$ matrix of explanatory variables.\n",
    "2. the mean $\\mu = g^{-1}(\\eta)$ where the link function $g(\\cdot)$ relates the linear predictor to the mean of the outcome variable $\\mu = g^{-1}(\\eta) = g^{-1}(X\\beta)$\n",
    "3. the response variable $Y \\sim \\mathcal{D}(\\mu, \\theta)$ where $\\mu$ is the mean parameter and $\\theta$ is (possibly) a vector that contains all the other \"auxillary\" parameters of the distribution.\n",
    " \n",
    "Often, with GLMs, $\\eta$ is linear in the parameters, but nonlinear in relation of inputs to the outcome $Y$ due to the link function $g$. Thus, as modelers, we are usually more interested in interpreting (2) and (3). For example, in logistic regression, the linear predictor is on the log-odds scale, but the response variable is on the probability scale. In Poisson regression, the linear predictor is on the log-scale, but the response variable is on the count scale. Referring back to logistic regression, a specified difference in one of the $x$ variables does _not_ correspond to a constant difference in the the probability of the outcome.\n",
    "\n",
    "It is often helpful with GLMs, to the modeler and audience, to have a summary that gives the expected difference in the outcome corresponding to a unit difference in each of the input variables. Thus, the goal of `comparisons` and `plot_comparisons` is to provide the modeler with a summary and visualization of the average predicted comparisons."
   ]
  },
  {
   "attachments": {},
   "cell_type": "markdown",
   "metadata": {},
   "source": [
    "## Average Predictive Comparisons\n",
    "\n",
    "Here, we adopt the notation from Chapter 14.4 of [Regression and Other Stories](https://avehtari.github.io/ROS-Examples/) to describe average predictive comparisons. Assume we have fit a Bambi model predicting an outcome $Y$ based on inputs $X$ and parameters $\\theta$. Consider the following scalar inputs:\n",
    "\n",
    "$$u: \\text{the input of interest}$$\n",
    "$$v: \\text{all the other inputs}$$\n",
    "$$X = (u, v)$$\n",
    "\n",
    "Suppose for the input of interest, we are interested in comparing $u^{\\text{high}}$ to $u^{\\text{low}}$ (perhaps age = $60$ and $40$ respectively) with all other inputs $v$ held constant. The _predictive difference_ in the outcome changing **only** $u$ is:\n",
    "\n",
    "$$\\text{predictive difference (comparison)} = \\mathbb{E}(y|u^{\\text{high}}, v, \\theta) - \\mathbb{E}(y|u^{\\text{low}}, v, \\theta)$$\n",
    "\n",
    "Selecting the maximum and minimum values of $u$ and averaging over all other inputs $v$ in the data gives you a new \"hypothetical\" dataset and corresponds to counting all pairs of transitions of $(u^\\text{low})$ to $(u^\\text{high})$, i.e., differences in $u$ with $v$ held constant. The difference between these two terms is the average predictive comparison."
   ]
  },
  {
   "attachments": {},
   "cell_type": "markdown",
   "metadata": {},
   "source": [
    "### Computing Average Predictive Comparisons\n",
    "\n",
    "The objective of average predictive comparisons is to compute the expected difference in the outcome corresponding to three different scenarios for $u$ and $v$ where $u$ is either provided by the user, else a default value is computed by Bambi (described in the default values section). The three scenarios are:\n",
    "\n",
    "1. user provided values for $v$.\n",
    "2. a grid of equally spaced and central values for $v$.\n",
    "3. empirical distribution (original data used to fit the model) for $v$. \n",
    "\n",
    "In the case of (1) and (2) above, Bambi assembles all pairwise combinations (transitions) of $u$ and $v$ into a new \"hypothetical\" dataset. In (3), Bambi uses the original $v$, but replaces $u$ with the user provided value or the default value computed by Bambi. In each scenario, predictions are made on the data using the fitted model. Once the predictions are made, comparisons are computed using the postrior chains and draws by taking the difference in the predicted outcome for each pair of transitions. The average of these differences is the average predictive comparison. \n",
    "\n",
    "Thus, the goal of `comparisons` and `plot_comparisons` is to provide the modeler with a summary and visualization of the average predicted comparisons. Below, we demonstrate how to compute and plot _average predictive comparisons_ with `comparisons` and `plot_comparions` using several examples."
   ]
  },
  {
   "cell_type": "code",
   "execution_count": 2,
   "metadata": {},
   "outputs": [],
   "source": [
    "import arviz as az\n",
    "import numpy as np\n",
    "import pandas as pd\n",
    "\n",
    "import bambi as bmb\n",
    "from bambi.plots import plot_comparison, comparisons"
   ]
  },
  {
   "attachments": {},
   "cell_type": "markdown",
   "metadata": {},
   "source": [
    "## Zero Inflated Poisson"
   ]
  },
  {
   "attachments": {},
   "cell_type": "markdown",
   "metadata": {},
   "source": [
    "We model and predict how many fish are caught by visitors at a state park. Many visitors catch zero fish, either because they did not fish at all, or because they were unlucky. We would like to explicitly model this bimodal behavior (zero versus non-zero) using a Zero Inflated Poisson model, and to compare how different inputs of interest $u$ and other covariate values $v$ are associated with the number of fish caught. A description of the data can be found below:\n",
    "\n",
    "**todo: add data description**"
   ]
  },
  {
   "cell_type": "code",
   "execution_count": 3,
   "metadata": {},
   "outputs": [],
   "source": [
    "fish_data = pd.read_stata(\"http://www.stata-press.com/data/r11/fish.dta\")\n",
    "cols = [\"count\", \"livebait\", \"camper\", \"persons\", \"child\"]\n",
    "fish_data = fish_data[cols]\n",
    "fish_data[\"livebait\"] = fish_data[\"livebait\"].astype(\"category\")\n",
    "fish_data[\"camper\"] = fish_data[\"camper\"].astype(\"category\")"
   ]
  },
  {
   "cell_type": "code",
   "execution_count": 4,
   "metadata": {},
   "outputs": [
    {
     "name": "stderr",
     "output_type": "stream",
     "text": [
      "Auto-assigning NUTS sampler...\n",
      "Initializing NUTS using jitter+adapt_diag...\n",
      "Multiprocess sampling (4 chains in 4 jobs)\n",
      "NUTS: [count_psi, Intercept, livebait, camper, persons, child]\n"
     ]
    },
    {
     "data": {
      "text/html": [
       "\n",
       "<style>\n",
       "    /* Turns off some styling */\n",
       "    progress {\n",
       "        /* gets rid of default border in Firefox and Opera. */\n",
       "        border: none;\n",
       "        /* Needs to be in here for Safari polyfill so background images work as expected. */\n",
       "        background-size: auto;\n",
       "    }\n",
       "    progress:not([value]), progress:not([value])::-webkit-progress-bar {\n",
       "        background: repeating-linear-gradient(45deg, #7e7e7e, #7e7e7e 10px, #5c5c5c 10px, #5c5c5c 20px);\n",
       "    }\n",
       "    .progress-bar-interrupted, .progress-bar-interrupted::-webkit-progress-bar {\n",
       "        background: #F44336;\n",
       "    }\n",
       "</style>\n"
      ],
      "text/plain": [
       "<IPython.core.display.HTML object>"
      ]
     },
     "metadata": {},
     "output_type": "display_data"
    },
    {
     "data": {
      "text/html": [
       "\n",
       "    <div>\n",
       "      <progress value='8000' class='' max='8000' style='width:300px; height:20px; vertical-align: middle;'></progress>\n",
       "      100.00% [8000/8000 00:03&lt;00:00 Sampling 4 chains, 0 divergences]\n",
       "    </div>\n",
       "    "
      ],
      "text/plain": [
       "<IPython.core.display.HTML object>"
      ]
     },
     "metadata": {},
     "output_type": "display_data"
    },
    {
     "name": "stderr",
     "output_type": "stream",
     "text": [
      "Sampling 4 chains for 1_000 tune and 1_000 draw iterations (4_000 + 4_000 draws total) took 4 seconds.\n"
     ]
    }
   ],
   "source": [
    "fish_model = bmb.Model(\n",
    "    \"count ~ livebait + camper + persons + child\", \n",
    "    fish_data, \n",
    "    family='zero_inflated_poisson'\n",
    ")\n",
    "\n",
    "fish_idata = fish_model.fit(\n",
    "    draws=1000, \n",
    "    target_accept=0.95, \n",
    "    random_seed=1234, \n",
    "    chains=4\n",
    ")"
   ]
  },
  {
   "attachments": {},
   "cell_type": "markdown",
   "metadata": {},
   "source": [
    "### User Provided Values\n",
    "\n",
    "First, an example of scenario 1 (user provided values) is given below. In both `plot_comparisons` and `comparisons`, $u$ and $v$ are represented by `contrast` and `conditional`, respectively. The modeler has the ability to pass their own values for `contrast` and `conditional` by using a dictionary where the key, value pairs are the covariate and value(s) to use. For example, if we wanted to compare the number of fish caught for $4$ versus $1$ `persons` conditional on a range of `child` and `livebait` values, we would pass the following dictionary. However, the user is not limited to passing a list for the values. A `np.array` can also be used."
   ]
  },
  {
   "cell_type": "code",
   "execution_count": 5,
   "metadata": {},
   "outputs": [
    {
     "data": {
      "image/png": "[encoded data removed]",
      "text/plain": [
       "<Figure size 700x300 with 1 Axes>"
      ]
     },
     "metadata": {},
     "output_type": "display_data"
    }
   ],
   "source": [
    "fig, ax = plot_comparison(\n",
    "    model=fish_model,\n",
    "    idata=fish_idata,\n",
    "    contrast={\"persons\": [1, 4]},\n",
    "    conditional={\"child\": [0, 1, 2], \"livebait\": [0, 1]},\n",
    ") \n",
    "fig.set_size_inches(7, 3)"
   ]
  },
  {
   "attachments": {},
   "cell_type": "markdown",
   "metadata": {},
   "source": [
    "The plot above shows that, comparing $4$ to $1$ persons given $0$ children and using livebait, the expected difference is about $26$ fish. When not using livebait, the expected difference decreases substantially to about $5$ fish. Using livebait with a group of people is associated with a much larger expected difference in the number of fish caught. Oh, and don't bring children fishing if you have plans to catch dinner."
   ]
  },
  {
   "attachments": {},
   "cell_type": "markdown",
   "metadata": {},
   "source": [
    "### Multiple contrast values\n",
    "\n",
    "Users can also perform comparisons on multiple contrast values. For example, if we wanted to compare the number of fish caught between $(1, 2)$, $(1, 4)$, and $(2, 4)$ `persons` conditional on a range of values for `child` and `livebait`."
   ]
  },
  {
   "cell_type": "code",
   "execution_count": null,
   "metadata": {},
   "outputs": [],
   "source": [
    "comparisons(\n",
    "    model=fish_model,\n",
    "    idata=fish_idata,\n",
    "    contrast={\"persons\": [1, 2, 4]},\n",
    "    conditional={\"child\": [0, 1, 2], \"livebait\": [0, 1]}\n",
    ")"
   ]
  },
  {
   "attachments": {},
   "cell_type": "markdown",
   "metadata": {},
   "source": [
    "### Default contrast and conditional values\n",
    "\n",
    "You are not required to pass values for `contrast` and `conditional`. If you do not pass values for `contrast` and `conditional`, Bambi will compute default values for you. \n",
    "\n",
    "The default value for `contrast` is a _centered difference_ at the mean for a contrast variable with a numeric dtype, and _unique levels_ for a contrast varaible with a categorical dtype. The default values for `conditional` depend on the order of the covariates passed. \n",
    "\n",
    "**todo: add more details about default values**\n",
    "\n",
    "Lets say we are interested in comparing the number of fish caught for `livebait` = [0, 1] conditional on the number of people."
   ]
  },
  {
   "cell_type": "code",
   "execution_count": null,
   "metadata": {},
   "outputs": [],
   "source": [
    "fig, ax = plot_comparison(\n",
    "    model=fish_model,\n",
    "    idata=fish_idata,\n",
    "    contrast=\"livebait\",\n",
    "    conditional=\"persons\",\n",
    ") \n",
    "fig.set_size_inches(7, 3)"
   ]
  },
  {
   "attachments": {},
   "cell_type": "markdown",
   "metadata": {},
   "source": [
    "By default, if no value is passed with `contrast`, then the mean or mode is computed (depending on the data type used to fit the model) as the contrast value. As live bait is category data type and no value was passed, the contrast value is [0, 1]. By default, `comparisons` compares $u^\\text{high}$ to $u^\\text{low}$. Thus, in this example, $u^\\text{high}$ = 1 and $u^\\text{low}$ = 0. The plot shows us that comparing a group of two people who used live bait and no live bait, the expected difference in the number of fish caught is about $2$. As the number of people in the group increases, the expected difference also increases. \n",
    "\n",
    "We can call `comparisons` directly to view a summary dataframe that includes the term $u$ and its contrast, the specified `conditional` covariate, and the expected difference in the outcome with the uncertainty interval (by default the 94% highest density interval is computed). We see that `camper` and `child` are also in the summary dataframe. This is because for unspecified covariates, `comparisons` and `plot_comparisons` computes a default value (mean or mode based on the data type of the covariate). Thus, $v$ = `persons`, `camper`, `child`."
   ]
  },
  {
   "cell_type": "code",
   "execution_count": null,
   "metadata": {},
   "outputs": [],
   "source": [
    "comparisons_df = comparisons(\n",
    "    model=fish_model,\n",
    "    idata=fish_idata,\n",
    "    contrast=\"livebait\",\n",
    "    conditional=\"persons\",\n",
    ")\n",
    "comparisons_df.head(10)"
   ]
  },
  {
   "attachments": {},
   "cell_type": "markdown",
   "metadata": {},
   "source": [
    "Furthermore, `conditional` is not limited to one covariate. We can pass a list of covariates to condition on. For example, we can also include `camper`."
   ]
  },
  {
   "cell_type": "code",
   "execution_count": null,
   "metadata": {},
   "outputs": [],
   "source": [
    "fig, ax = plot_comparison(\n",
    "    model=fish_model,\n",
    "    idata=fish_idata,\n",
    "    contrast=\"livebait\",\n",
    "    conditional=[\"persons\", \"camper\"],\n",
    ") \n",
    "fig.set_size_inches(7, 3)"
   ]
  },
  {
   "attachments": {},
   "cell_type": "markdown",
   "metadata": {},
   "source": [
    "### Unit level contrasts\n",
    "\n",
    "Evaluating average predictive comparisons at central values for the conditional covariates $v$ can be problematic when the inputs have a large variance since no single central value (mean, median, etc.) is representative of the covariate. This is especially true when $v$ exhibits bi or multimodality. Thus, it may be desireable to use the empirical distribution of $v$ to compute the predictive comparisons, and then average over a specific or set of covariates to obtain the average predictive comparisons. To achieve unit level contrasts, do not pass a parameter into `conditional` and or specify `None`."
   ]
  },
  {
   "cell_type": "code",
   "execution_count": null,
   "metadata": {},
   "outputs": [],
   "source": [
    "unit_level = comparisons(\n",
    "    model=fish_model,\n",
    "    idata=fish_idata,\n",
    "    contrast=\"livebait\",\n",
    "    conditional=None,\n",
    ")\n",
    "\n",
    "# empirical distribution\n",
    "print(unit_level.shape[0] == fish_model.data.shape[0])\n",
    "unit_level.head(10)"
   ]
  },
  {
   "attachments": {},
   "cell_type": "markdown",
   "metadata": {},
   "source": [
    "#### Marginalizing over covariates"
   ]
  },
  {
   "attachments": {},
   "cell_type": "markdown",
   "metadata": {},
   "source": [
    "Since the empirical distrubution is used for computing the average predictive comparisons, the same number of rows (250) is returned as the data used to fit the model. To average over a covariate, use the `average_by` argument. If `True` is passed, then `comparisons` averages over all covariates. Else, if a single or list of covariates are passed, then `comparisons` averages by the covariates passed."
   ]
  },
  {
   "cell_type": "code",
   "execution_count": null,
   "metadata": {},
   "outputs": [],
   "source": [
    "# marginalize over all covariates\n",
    "comparisons(\n",
    "    model=fish_model,\n",
    "    idata=fish_idata,\n",
    "    contrast=\"livebait\",\n",
    "    conditional=None,\n",
    "    average_by=True\n",
    ")"
   ]
  },
  {
   "cell_type": "code",
   "execution_count": null,
   "metadata": {},
   "outputs": [],
   "source": [
    "# average by number of persons\n",
    "comparisons(\n",
    "    model=fish_model,\n",
    "    idata=fish_idata,\n",
    "    contrast=\"livebait\",\n",
    "    conditional=None,\n",
    "    average_by=\"persons\"\n",
    ")"
   ]
  },
  {
   "cell_type": "code",
   "execution_count": null,
   "metadata": {},
   "outputs": [],
   "source": [
    "# average by number of persons and camper\n",
    "comparisons(\n",
    "    model=fish_model,\n",
    "    idata=fish_idata,\n",
    "    contrast=\"livebait\",\n",
    "    conditional=None,\n",
    "    average_by=[\"persons\", \"camper\"]\n",
    ")"
   ]
  },
  {
   "attachments": {},
   "cell_type": "markdown",
   "metadata": {},
   "source": [
    "It is still possible to use `plot_comparisons` when passing an argument to `average_by`. In the plot below, the empirical distribution is used to compute unit level contrasts for `livebait` and then averaged over `persons` to obtain the average predictive comparisons. The plot below is similar to the second plot in this notebook. The differences being that: (1) a pairwise transition grid is defined for the second plot above, whereas the empirical distribution is used in the plot below, and (2) in the plot below, we marginalized over the other covariates in the model (thus the reason for not having a camper group, and a reduction in the uncertainty interval)."
   ]
  },
  {
   "cell_type": "code",
   "execution_count": null,
   "metadata": {},
   "outputs": [],
   "source": [
    "fig, ax = plot_comparison(\n",
    "    model=fish_model,\n",
    "    idata=fish_idata,\n",
    "    contrast=\"livebait\",\n",
    "    conditional=None,\n",
    "    average_by=\"persons\"\n",
    ")\n",
    "fig.set_size_inches(7, 3)"
   ]
  },
  {
   "attachments": {},
   "cell_type": "markdown",
   "metadata": {},
   "source": [
    "Notice how the contrast $u$ varies while the covariates $v$ are held constant. Currently, however, plotting multiple contrast values can be difficult to interpret since the contrast is \"abstracted\" away onto the y-axis. Thus, it would be difficult to interpret which portion of the plot corresponds to which contrast value. This is something I am still working on."
   ]
  },
  {
   "cell_type": "code",
   "execution_count": null,
   "metadata": {},
   "outputs": [],
   "source": []
  },
  {
   "cell_type": "code",
   "execution_count": null,
   "metadata": {},
   "outputs": [],
   "source": []
  },
  {
   "cell_type": "code",
   "execution_count": null,
   "metadata": {},
   "outputs": [],
   "source": []
  },
  {
   "cell_type": "code",
   "execution_count": null,
   "metadata": {},
   "outputs": [],
   "source": []
  },
  {
   "cell_type": "code",
   "execution_count": null,
   "metadata": {},
   "outputs": [],
   "source": [
    "wells = pd.read_csv(\"http://www.stat.columbia.edu/~gelman/arm/examples/arsenic/wells.dat\", delimiter=\"\\s+\")\n",
    "wells.dtypes"
   ]
  },
  {
   "cell_type": "code",
   "execution_count": null,
   "metadata": {},
   "outputs": [],
   "source": [
    "wells[\"switch\"] = pd.Categorical(wells[\"switch\"])\n",
    "wells[\"assoc\"] = pd.Categorical(wells[\"assoc\"])\n",
    "wells[\"educ4\"] = wells[\"educ\"] // 4\n",
    "wells[\"educ4\"] = pd.Categorical(wells[\"educ4\"], ordered=True)\n",
    "wells[\"dist100\"] = wells[\"dist\"] / 100"
   ]
  },
  {
   "cell_type": "code",
   "execution_count": null,
   "metadata": {},
   "outputs": [],
   "source": [
    "wells_model = bmb.Model(\n",
    "    \"switch ~ dist100 + arsenic + educ\",\n",
    "    wells,\n",
    "    family=\"bernoulli\",\n",
    "    link=\"logit\"\n",
    ")\n",
    "\n",
    "wells_idata = wells_model.fit(\n",
    "    draws=1000,\n",
    "    target_accept=0.95,\n",
    "    random_seed=1234,\n",
    "    chains=4\n",
    ")"
   ]
  },
  {
   "cell_type": "code",
   "execution_count": null,
   "metadata": {},
   "outputs": [],
   "source": [
    "az.summary(wells_idata)"
   ]
  },
  {
   "cell_type": "code",
   "execution_count": null,
   "metadata": {},
   "outputs": [],
   "source": [
    "comparisons(\n",
    "    model=wells_model,\n",
    "    idata=wells_idata,\n",
    "    contrast={\"dist100\": [0, 1]},\n",
    "    average_by=True\n",
    ")"
   ]
  },
  {
   "cell_type": "code",
   "execution_count": null,
   "metadata": {},
   "outputs": [],
   "source": []
  }
 ],
 "metadata": {
  "kernelspec": {
   "display_name": "bambinos",
   "language": "python",
   "name": "python3"
  },
  "language_info": {
   "codemirror_mode": {
    "name": "ipython",
    "version": 3
   },
   "file_extension": ".py",
   "mimetype": "text/x-python",
   "name": "python",
   "nbconvert_exporter": "python",
   "pygments_lexer": "ipython3",
   "version": "3.11.0"
  },
  "orig_nbformat": 4
 },
 "nbformat": 4,
 "nbformat_minor": 2
}
