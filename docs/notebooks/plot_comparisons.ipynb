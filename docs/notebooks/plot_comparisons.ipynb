{
 "cells": [
  {
   "cell_type": "code",
   "execution_count": 3,
   "metadata": {},
   "outputs": [],
   "source": [
    "import arviz as az\n",
    "import itertools\n",
    "import bambi as bmb\n",
    "import numpy as np\n",
    "import matplotlib.pyplot as plt\n",
    "import seaborn.objects as so\n",
    "import seaborn as sns\n",
    "import pandas as pd\n",
    "\n",
    "from bambi.plots import plot_cap\n",
    "from bambi.plots.plot_cap import make_main_values, make_group_values\n",
    "from bambi.plots.plot_comparisons import plot_comparison\n",
    "from bambi.utils import listify, clean_formula_lhs, get_aliased_name\n",
    "\n",
    "%load_ext autoreload\n",
    "%autoreload 2"
   ]
  },
  {
   "attachments": {},
   "cell_type": "markdown",
   "metadata": {},
   "source": [
    "## Gaussian Linear Model\n",
    "\n",
    "For the first demonstration, we will use a Gaussian linear regression model to better understand the `plot_cap` function and its arguments. "
   ]
  },
  {
   "cell_type": "code",
   "execution_count": 329,
   "metadata": {},
   "outputs": [
    {
     "name": "stderr",
     "output_type": "stream",
     "text": [
      "Auto-assigning NUTS sampler...\n",
      "Initializing NUTS using jitter+adapt_diag...\n",
      "Multiprocess sampling (4 chains in 4 jobs)\n",
      "NUTS: [mpg_sigma, Intercept, hp, drat, hp:drat, am, hp:am, drat:am, hp:drat:am]\n"
     ]
    },
    {
     "name": "stderr",
     "output_type": "stream",
     "text": [
      "Sampling 4 chains for 1_000 tune and 1_000 draw iterations (4_000 + 4_000 draws total) took 23 seconds.\n"
     ]
    }
   ],
   "source": [
    "# Load data\n",
    "data = bmb.load_data('mtcars')\n",
    "data[\"cyl\"] = data[\"cyl\"].replace({4: \"low\", 6: \"medium\", 8: \"high\"})\n",
    "data[\"gear\"] = data[\"gear\"].replace({3: \"A\", 4: \"B\", 5: \"C\"})\n",
    "data[\"cyl\"] = pd.Categorical(data[\"cyl\"], categories=[\"low\", \"medium\", \"high\"], ordered=True)\n",
    "#data[\"drat\"] = pd.Categorical(data[\"drat\"], ordered=True).codes\n",
    "\n",
    "# Define and fit the Bambi model\n",
    "model = bmb.Model(\"mpg ~ hp * drat * am\", data)\n",
    "idata = model.fit(draws=1000, target_accept=0.95, random_seed=1234)"
   ]
  },
  {
   "cell_type": "code",
   "execution_count": 330,
   "metadata": {},
   "outputs": [
    {
     "data": {
      "text/html": [
       "<div>\n",
       "<style scoped>\n",
       "    .dataframe tbody tr th:only-of-type {\n",
       "        vertical-align: middle;\n",
       "    }\n",
       "\n",
       "    .dataframe tbody tr th {\n",
       "        vertical-align: top;\n",
       "    }\n",
       "\n",
       "    .dataframe thead th {\n",
       "        text-align: right;\n",
       "    }\n",
       "</style>\n",
       "<table border=\"1\" class=\"dataframe\">\n",
       "  <thead>\n",
       "    <tr style=\"text-align: right;\">\n",
       "      <th></th>\n",
       "      <th>mean</th>\n",
       "      <th>sd</th>\n",
       "      <th>hdi_3%</th>\n",
       "      <th>hdi_97%</th>\n",
       "      <th>mcse_mean</th>\n",
       "      <th>mcse_sd</th>\n",
       "      <th>ess_bulk</th>\n",
       "      <th>ess_tail</th>\n",
       "      <th>r_hat</th>\n",
       "    </tr>\n",
       "  </thead>\n",
       "  <tbody>\n",
       "    <tr>\n",
       "      <th>Intercept</th>\n",
       "      <td>13.199</td>\n",
       "      <td>13.415</td>\n",
       "      <td>-13.335</td>\n",
       "      <td>37.366</td>\n",
       "      <td>0.354</td>\n",
       "      <td>0.251</td>\n",
       "      <td>1435.0</td>\n",
       "      <td>1685.0</td>\n",
       "      <td>1.00</td>\n",
       "    </tr>\n",
       "    <tr>\n",
       "      <th>hp</th>\n",
       "      <td>-0.014</td>\n",
       "      <td>0.084</td>\n",
       "      <td>-0.179</td>\n",
       "      <td>0.141</td>\n",
       "      <td>0.002</td>\n",
       "      <td>0.002</td>\n",
       "      <td>1331.0</td>\n",
       "      <td>1775.0</td>\n",
       "      <td>1.01</td>\n",
       "    </tr>\n",
       "    <tr>\n",
       "      <th>drat</th>\n",
       "      <td>3.735</td>\n",
       "      <td>3.797</td>\n",
       "      <td>-3.023</td>\n",
       "      <td>11.266</td>\n",
       "      <td>0.101</td>\n",
       "      <td>0.073</td>\n",
       "      <td>1410.0</td>\n",
       "      <td>1726.0</td>\n",
       "      <td>1.00</td>\n",
       "    </tr>\n",
       "    <tr>\n",
       "      <th>hp:drat</th>\n",
       "      <td>-0.012</td>\n",
       "      <td>0.025</td>\n",
       "      <td>-0.057</td>\n",
       "      <td>0.037</td>\n",
       "      <td>0.001</td>\n",
       "      <td>0.000</td>\n",
       "      <td>1348.0</td>\n",
       "      <td>1806.0</td>\n",
       "      <td>1.00</td>\n",
       "    </tr>\n",
       "    <tr>\n",
       "      <th>am</th>\n",
       "      <td>2.029</td>\n",
       "      <td>14.087</td>\n",
       "      <td>-22.234</td>\n",
       "      <td>30.039</td>\n",
       "      <td>0.358</td>\n",
       "      <td>0.253</td>\n",
       "      <td>1550.0</td>\n",
       "      <td>2032.0</td>\n",
       "      <td>1.00</td>\n",
       "    </tr>\n",
       "    <tr>\n",
       "      <th>hp:am</th>\n",
       "      <td>0.055</td>\n",
       "      <td>0.089</td>\n",
       "      <td>-0.112</td>\n",
       "      <td>0.220</td>\n",
       "      <td>0.002</td>\n",
       "      <td>0.002</td>\n",
       "      <td>1469.0</td>\n",
       "      <td>2046.0</td>\n",
       "      <td>1.00</td>\n",
       "    </tr>\n",
       "    <tr>\n",
       "      <th>drat:am</th>\n",
       "      <td>0.357</td>\n",
       "      <td>3.614</td>\n",
       "      <td>-6.505</td>\n",
       "      <td>6.869</td>\n",
       "      <td>0.098</td>\n",
       "      <td>0.069</td>\n",
       "      <td>1357.0</td>\n",
       "      <td>1737.0</td>\n",
       "      <td>1.00</td>\n",
       "    </tr>\n",
       "    <tr>\n",
       "      <th>hp:drat:am</th>\n",
       "      <td>-0.013</td>\n",
       "      <td>0.025</td>\n",
       "      <td>-0.056</td>\n",
       "      <td>0.035</td>\n",
       "      <td>0.001</td>\n",
       "      <td>0.000</td>\n",
       "      <td>1378.0</td>\n",
       "      <td>2069.0</td>\n",
       "      <td>1.00</td>\n",
       "    </tr>\n",
       "    <tr>\n",
       "      <th>mpg_sigma</th>\n",
       "      <td>3.079</td>\n",
       "      <td>0.449</td>\n",
       "      <td>2.311</td>\n",
       "      <td>3.940</td>\n",
       "      <td>0.009</td>\n",
       "      <td>0.006</td>\n",
       "      <td>2715.0</td>\n",
       "      <td>2410.0</td>\n",
       "      <td>1.00</td>\n",
       "    </tr>\n",
       "  </tbody>\n",
       "</table>\n",
       "</div>"
      ],
      "text/plain": [
       "              mean      sd  hdi_3%  hdi_97%  mcse_mean  mcse_sd  ess_bulk   \n",
       "Intercept   13.199  13.415 -13.335   37.366      0.354    0.251    1435.0  \\\n",
       "hp          -0.014   0.084  -0.179    0.141      0.002    0.002    1331.0   \n",
       "drat         3.735   3.797  -3.023   11.266      0.101    0.073    1410.0   \n",
       "hp:drat     -0.012   0.025  -0.057    0.037      0.001    0.000    1348.0   \n",
       "am           2.029  14.087 -22.234   30.039      0.358    0.253    1550.0   \n",
       "hp:am        0.055   0.089  -0.112    0.220      0.002    0.002    1469.0   \n",
       "drat:am      0.357   3.614  -6.505    6.869      0.098    0.069    1357.0   \n",
       "hp:drat:am  -0.013   0.025  -0.056    0.035      0.001    0.000    1378.0   \n",
       "mpg_sigma    3.079   0.449   2.311    3.940      0.009    0.006    2715.0   \n",
       "\n",
       "            ess_tail  r_hat  \n",
       "Intercept     1685.0   1.00  \n",
       "hp            1775.0   1.01  \n",
       "drat          1726.0   1.00  \n",
       "hp:drat       1806.0   1.00  \n",
       "am            2032.0   1.00  \n",
       "hp:am         2046.0   1.00  \n",
       "drat:am       1737.0   1.00  \n",
       "hp:drat:am    2069.0   1.00  \n",
       "mpg_sigma     2410.0   1.00  "
      ]
     },
     "execution_count": 330,
     "metadata": {},
     "output_type": "execute_result"
    }
   ],
   "source": [
    "az.summary(idata)"
   ]
  },
  {
   "cell_type": "code",
   "execution_count": 331,
   "metadata": {},
   "outputs": [],
   "source": [
    "datagrid_1 = pd.DataFrame({\n",
    "    \"hp\": data.hp,\n",
    "    \"drat\": data.drat,\n",
    "    \"am\": data.am\n",
    "})\n",
    "\n",
    "datagrid_2 = pd.DataFrame({\n",
    "    \"hp\": data.hp + 0.01,\n",
    "    \"drat\": data.drat,\n",
    "    \"am\": data.am\n",
    "})"
   ]
  },
  {
   "cell_type": "code",
   "execution_count": 332,
   "metadata": {},
   "outputs": [],
   "source": [
    "# original\n",
    "preds = model.predict(idata, data=datagrid_1, kind=\"mean\", inplace=False)\n",
    "preds_mu = preds.posterior.mpg_mean.mean((\"chain\", \"draw\"))\n",
    "\n",
    "# datagrid preds\n",
    "grid_preds = model.predict(idata, data=datagrid_2, kind=\"mean\", inplace=False)\n",
    "grid_preds_mu = grid_preds.posterior.mpg_mean.mean((\"chain\", \"draw\"))\n",
    "\n",
    "# comparisons\n",
    "comparisons = preds_mu - grid_preds_mu\n",
    "comparisons_std = np.std(comparisons).to_numpy()"
   ]
  },
  {
   "cell_type": "code",
   "execution_count": 333,
   "metadata": {},
   "outputs": [],
   "source": [
    "comparisons_df = pd.DataFrame({\n",
    "    \"drat\": data.drat,\n",
    "    \"upper\": comparisons + comparisons_std,\n",
    "    \"lower\": comparisons - comparisons_std,\n",
    "    \"am\": data.am,\n",
    "    \"comparisons\": comparisons,\n",
    "    \"preds_mu\": preds_mu,\n",
    "    \"grid_preds_mu\": grid_preds_mu\n",
    "})\n",
    "\n",
    "comparisons_df = comparisons_df.sort_values(by=\"drat\").reset_index(drop=True)"
   ]
  },
  {
   "cell_type": "code",
   "execution_count": 334,
   "metadata": {},
   "outputs": [
    {
     "data": {
      "text/plain": [
       "<matplotlib.collections.PolyCollection at 0x2ac932890>"
      ]
     },
     "execution_count": 334,
     "metadata": {},
     "output_type": "execute_result"
    },
    {
     "data": {
      "image/png": "[encoded data removed]",
      "text/plain": [
       "<Figure size 700x300 with 1 Axes>"
      ]
     },
     "metadata": {},
     "output_type": "display_data"
    }
   ],
   "source": [
    "plt.figure(figsize=(7, 3))\n",
    "sns.lineplot(x=comparisons_df.drat, y=comparisons_df.comparisons)\n",
    "plt.fill_between(comparisons_df.drat, comparisons_df.upper, comparisons_df.lower, alpha=0.2)"
   ]
  },
  {
   "cell_type": "code",
   "execution_count": 102,
   "metadata": {},
   "outputs": [
    {
     "name": "stderr",
     "output_type": "stream",
     "text": [
      "Auto-assigning NUTS sampler...\n",
      "Initializing NUTS using jitter+adapt_diag...\n",
      "Initializing NUTS using jitter+adapt_diag...\n",
      "Multiprocess sampling (4 chains in 4 jobs)\n",
      "NUTS: [mpg_sigma, Intercept, hp, wt, hp:wt]\n"
     ]
    },
    {
     "name": "stderr",
     "output_type": "stream",
     "text": [
      "Sampling 4 chains for 1_000 tune and 1_000 draw iterations (4_000 + 4_000 draws total) took 6 seconds.\n"
     ]
    }
   ],
   "source": [
    "# Define and fit the Bambi model\n",
    "model = bmb.Model(\"mpg ~ hp * wt\", data)\n",
    "idata = model.fit(draws=1000, target_accept=0.95, random_seed=1234)"
   ]
  },
  {
   "cell_type": "code",
   "execution_count": 103,
   "metadata": {},
   "outputs": [],
   "source": [
    "# original\n",
    "preds = model.predict(idata, kind=\"mean\", inplace=False)\n",
    "mean_preds = preds.posterior.mpg_mean.mean((\"chain\", \"draw\"))\n",
    "mean_std = preds.posterior.mpg_mean.std((\"chain\", \"draw\"))"
   ]
  },
  {
   "cell_type": "code",
   "execution_count": 106,
   "metadata": {},
   "outputs": [],
   "source": [
    "new_grid = {\n",
    "    'hp': data.hp + 10, \n",
    "    'wt': data.wt\n",
    "    }\n",
    "new_grid = pd.DataFrame.from_dict(new_grid)\n",
    "\n",
    "preds_new = model.predict(\n",
    "    idata,\n",
    "    \"mean\",\n",
    "    new_grid,\n",
    "    inplace=False\n",
    ")\n",
    "\n",
    "mean_preds_new = preds_new.posterior.mpg_mean.mean((\"chain\", \"draw\"))\n",
    "mean_std_new = preds_new.posterior.mpg_mean.std((\"chain\", \"draw\"))"
   ]
  },
  {
   "cell_type": "code",
   "execution_count": 143,
   "metadata": {},
   "outputs": [],
   "source": [
    "diff = mean_preds_new - mean_preds\n",
    "std = np.std(diff) # really the average std"
   ]
  },
  {
   "cell_type": "code",
   "execution_count": 135,
   "metadata": {},
   "outputs": [],
   "source": [
    "comparison_df = pd.DataFrame({\n",
    "    \"diff\": diff,\n",
    "    \"upper\": diff + std.to_numpy(),\n",
    "    \"lower\": diff - std.to_numpy(),\n",
    "    \"wt\": data.wt\n",
    "})\n",
    "comparison_df = comparison_df.sort_values(by=\"wt\").reset_index(drop=True)"
   ]
  },
  {
   "cell_type": "code",
   "execution_count": 137,
   "metadata": {},
   "outputs": [
    {
     "data": {
      "image/png": "[encoded data removed]",
      "text/plain": [
       "<Figure size 700x300 with 1 Axes>"
      ]
     },
     "metadata": {},
     "output_type": "display_data"
    }
   ],
   "source": [
    "plt.figure(figsize=(7, 3))\n",
    "plt.plot(comparison_df.wt, comparison_df[\"diff\"])\n",
    "plt.fill_between(\n",
    "    comparison_df.wt,\n",
    "    comparison_df[\"upper\"],\n",
    "    comparison_df[\"lower\"],\n",
    "    alpha=0.2\n",
    ")\n",
    "plt.xlabel(\"Weight\")\n",
    "plt.ylabel(\"Expected difference in MPG\");"
   ]
  },
  {
   "attachments": {},
   "cell_type": "markdown",
   "metadata": {},
   "source": [
    "### Palmer penguins"
   ]
  },
  {
   "cell_type": "code",
   "execution_count": 138,
   "metadata": {},
   "outputs": [],
   "source": [
    "data = pd.read_csv(\"https://vincentarelbundock.github.io/Rdatasets/csv/palmerpenguins/penguins.csv\", index_col=0)\n",
    "data = data.dropna(axis=0, how=\"any\")"
   ]
  },
  {
   "cell_type": "code",
   "execution_count": 139,
   "metadata": {},
   "outputs": [
    {
     "name": "stderr",
     "output_type": "stream",
     "text": [
      "Auto-assigning NUTS sampler...\n",
      "Initializing NUTS using jitter+adapt_diag...\n",
      "Initializing NUTS using jitter+adapt_diag...\n",
      "Multiprocess sampling (4 chains in 4 jobs)\n",
      "NUTS: [body_mass_g_sigma, Intercept, flipper_length_mm, species, flipper_length_mm:species, bill_length_mm, flipper_length_mm:bill_length_mm, species:bill_length_mm, flipper_length_mm:species:bill_length_mm, island]\n"
     ]
    },
    {
     "name": "stderr",
     "output_type": "stream",
     "text": [
      "Sampling 4 chains for 1_000 tune and 1_000 draw iterations (4_000 + 4_000 draws total) took 146 seconds.\n"
     ]
    }
   ],
   "source": [
    "model = bmb.Model(\n",
    "    \"body_mass_g ~ flipper_length_mm * species * bill_length_mm + island\",\n",
    "    data, family=\"gaussian\"\n",
    ")\n",
    "idata = model.fit(draws=1000, target_accept=0.95, random_seed=1234)"
   ]
  },
  {
   "cell_type": "code",
   "execution_count": 142,
   "metadata": {},
   "outputs": [
    {
     "data": {
      "image/png": "[encoded data removed]",
      "text/plain": [
       "<Figure size 700x300 with 1 Axes>"
      ]
     },
     "metadata": {},
     "output_type": "display_data"
    }
   ],
   "source": [
    "# Not specified:\n",
    "# bill_length_mm --> held at mean\n",
    "# island --> held at mode\n",
    "(fig, axes), contrasts_df = plot_comparison(\n",
    "    model=model,\n",
    "    idata=idata,\n",
    "    contrast_predictor={\"flipper_length_mm\": [172, 231]},\n",
    "    conditional=[\"species\"]\n",
    ")\n",
    "fig.set_size_inches(7, 3)\n",
    "plt.title(\"Difference in body mass for flipper length contrast (172, 231)\");"
   ]
  },
  {
   "cell_type": "code",
   "execution_count": 143,
   "metadata": {},
   "outputs": [
    {
     "data": {
      "text/html": [
       "<div>\n",
       "<style scoped>\n",
       "    .dataframe tbody tr th:only-of-type {\n",
       "        vertical-align: middle;\n",
       "    }\n",
       "\n",
       "    .dataframe tbody tr th {\n",
       "        vertical-align: top;\n",
       "    }\n",
       "\n",
       "    .dataframe thead th {\n",
       "        text-align: right;\n",
       "    }\n",
       "</style>\n",
       "<table border=\"1\" class=\"dataframe\">\n",
       "  <thead>\n",
       "    <tr style=\"text-align: right;\">\n",
       "      <th></th>\n",
       "      <th>contrast_comparison</th>\n",
       "      <th>contrast_comparison_lower</th>\n",
       "      <th>contrast_comparison_upper</th>\n",
       "      <th>species</th>\n",
       "    </tr>\n",
       "  </thead>\n",
       "  <tbody>\n",
       "    <tr>\n",
       "      <th>0</th>\n",
       "      <td>1330.530474</td>\n",
       "      <td>1182.123293</td>\n",
       "      <td>1497.208213</td>\n",
       "      <td>Adelie</td>\n",
       "    </tr>\n",
       "    <tr>\n",
       "      <th>1</th>\n",
       "      <td>1711.700323</td>\n",
       "      <td>1459.059133</td>\n",
       "      <td>1930.503742</td>\n",
       "      <td>Chinstrap</td>\n",
       "    </tr>\n",
       "    <tr>\n",
       "      <th>2</th>\n",
       "      <td>2121.640397</td>\n",
       "      <td>2342.619614</td>\n",
       "      <td>1887.174858</td>\n",
       "      <td>Gentoo</td>\n",
       "    </tr>\n",
       "  </tbody>\n",
       "</table>\n",
       "</div>"
      ],
      "text/plain": [
       "   contrast_comparison  contrast_comparison_lower  contrast_comparison_upper   \n",
       "0          1330.530474                1182.123293                1497.208213  \\\n",
       "1          1711.700323                1459.059133                1930.503742   \n",
       "2          2121.640397                2342.619614                1887.174858   \n",
       "\n",
       "     species  \n",
       "0     Adelie  \n",
       "1  Chinstrap  \n",
       "2     Gentoo  "
      ]
     },
     "execution_count": 143,
     "metadata": {},
     "output_type": "execute_result"
    }
   ],
   "source": [
    "contrasts_df"
   ]
  },
  {
   "attachments": {},
   "cell_type": "markdown",
   "metadata": {},
   "source": [
    "### Titanic"
   ]
  },
  {
   "cell_type": "code",
   "execution_count": 112,
   "metadata": {},
   "outputs": [],
   "source": [
    "dat = pd.read_csv(\"https://vincentarelbundock.github.io/Rdatasets/csv/Stat2Data/Titanic.csv\", index_col=0)"
   ]
  },
  {
   "cell_type": "code",
   "execution_count": 113,
   "metadata": {},
   "outputs": [],
   "source": [
    "dat[\"PClass\"] = dat[\"PClass\"].str.replace(\"[st, nd, rd]\", \"\", regex=True)\n",
    "dat[\"PClass\"] = dat[\"PClass\"].str.replace(\"*\", \"0\").astype(int)\n",
    "dat[\"PClass\"] = dat[\"PClass\"].replace(0, np.nan)\n",
    "dat[\"PClass\"] = pd.Categorical(dat[\"PClass\"], ordered=True)\n",
    "dat[\"Sex\"] = pd.Categorical(dat[\"Sex\"]).codes"
   ]
  },
  {
   "cell_type": "code",
   "execution_count": 114,
   "metadata": {},
   "outputs": [],
   "source": [
    "dat = dat.dropna(axis=0, how=\"any\")"
   ]
  },
  {
   "cell_type": "code",
   "execution_count": 115,
   "metadata": {},
   "outputs": [
    {
     "name": "stderr",
     "output_type": "stream",
     "text": [
      "Modeling the probability that Survived==1\n",
      "Auto-assigning NUTS sampler...\n",
      "Initializing NUTS using jitter+adapt_diag...\n",
      "Multiprocess sampling (4 chains in 4 jobs)\n",
      "NUTS: [Intercept, PClass, SexCode, PClass:SexCode, Age, PClass:Age, SexCode:Age, PClass:SexCode:Age]\n"
     ]
    },
    {
     "name": "stderr",
     "output_type": "stream",
     "text": [
      "Sampling 4 chains for 1_000 tune and 1_000 draw iterations (4_000 + 4_000 draws total) took 16 seconds.\n"
     ]
    }
   ],
   "source": [
    "titanic_model = bmb.Model(\n",
    "    \"Survived ~ PClass * SexCode * Age\", \n",
    "    data=dat, \n",
    "    family=\"bernoulli\"\n",
    ")\n",
    "\n",
    "idata = titanic_model.fit(draws=1000, target_accept=0.95, random_seed=1234)"
   ]
  },
  {
   "cell_type": "code",
   "execution_count": 136,
   "metadata": {},
   "outputs": [
    {
     "data": {
      "image/png": "[encoded data removed]",
      "text/plain": [
       "<Figure size 700x300 with 1 Axes>"
      ]
     },
     "metadata": {},
     "output_type": "display_data"
    }
   ],
   "source": [
    "# user specifies the contrast predictor, value and condition variable and value\n",
    "predictor_contrast = {\"PClass\": [1, 3]}\n",
    "conditional = {\"Age\": [50], \"SexCode\": [0, 1]}\n",
    "#conditional = [\"Age\", \"SexCode\"]\n",
    "\n",
    "(fig, axes), contrast_df = plot_comparison(\n",
    "    model=titanic_model,\n",
    "    idata=idata,\n",
    "    contrast_predictor=predictor_contrast,\n",
    "    conditional=conditional\n",
    ")\n",
    "fig.set_size_inches(7, 3)\n",
    "plt.title(\"Difference in survival probs. for PClass contrast [1, 3] given Age=50 and SexCode=[0, 1]\");"
   ]
  },
  {
   "cell_type": "code",
   "execution_count": 137,
   "metadata": {},
   "outputs": [
    {
     "data": {
      "text/html": [
       "<div>\n",
       "<style scoped>\n",
       "    .dataframe tbody tr th:only-of-type {\n",
       "        vertical-align: middle;\n",
       "    }\n",
       "\n",
       "    .dataframe tbody tr th {\n",
       "        vertical-align: top;\n",
       "    }\n",
       "\n",
       "    .dataframe thead th {\n",
       "        text-align: right;\n",
       "    }\n",
       "</style>\n",
       "<table border=\"1\" class=\"dataframe\">\n",
       "  <thead>\n",
       "    <tr style=\"text-align: right;\">\n",
       "      <th></th>\n",
       "      <th>contrast_comparison</th>\n",
       "      <th>contrast_comparison_lower</th>\n",
       "      <th>contrast_comparison_upper</th>\n",
       "      <th>Age</th>\n",
       "      <th>SexCode</th>\n",
       "    </tr>\n",
       "  </thead>\n",
       "  <tbody>\n",
       "    <tr>\n",
       "      <th>0</th>\n",
       "      <td>-0.180118</td>\n",
       "      <td>-0.141043</td>\n",
       "      <td>-0.219347</td>\n",
       "      <td>50</td>\n",
       "      <td>0</td>\n",
       "    </tr>\n",
       "    <tr>\n",
       "      <th>1</th>\n",
       "      <td>-0.507946</td>\n",
       "      <td>-0.686037</td>\n",
       "      <td>-0.339970</td>\n",
       "      <td>50</td>\n",
       "      <td>1</td>\n",
       "    </tr>\n",
       "  </tbody>\n",
       "</table>\n",
       "</div>"
      ],
      "text/plain": [
       "   contrast_comparison  contrast_comparison_lower  contrast_comparison_upper   \n",
       "0            -0.180118                  -0.141043                  -0.219347  \\\n",
       "1            -0.507946                  -0.686037                  -0.339970   \n",
       "\n",
       "   Age  SexCode  \n",
       "0   50        0  \n",
       "1   50        1  "
      ]
     },
     "execution_count": 137,
     "metadata": {},
     "output_type": "execute_result"
    }
   ],
   "source": [
    "contrast_df"
   ]
  }
 ],
 "metadata": {
  "kernelspec": {
   "display_name": "bambinos",
   "language": "python",
   "name": "python3"
  },
  "language_info": {
   "codemirror_mode": {
    "name": "ipython",
    "version": 3
   },
   "file_extension": ".py",
   "mimetype": "text/x-python",
   "name": "python",
   "nbconvert_exporter": "python",
   "pygments_lexer": "ipython3",
   "version": "3.11.0"
  },
  "orig_nbformat": 4
 },
 "nbformat": 4,
 "nbformat_minor": 2
}
