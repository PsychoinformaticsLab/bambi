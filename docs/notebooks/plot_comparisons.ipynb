{
 "cells": [
  {
   "attachments": {},
   "cell_type": "markdown",
   "metadata": {},
   "source": [
    "# Plot Comparisons\n",
    "\n",
    "`comparisons` and `plot_comparisons` are a part of Bambi's sub-package `plots` that feature a set of functions used to interpret complex regression models. This sub-package is inspired by the R package [marginaleffects](https://vincentarelbundock.github.io/marginaleffects/articles/predictions.html#conditional-adjusted-predictions-plot). These two functions allow the modeler to **compare** the predictions made by a model for different contrast and covariate values. Below, it is described why comparing predictions is useful in interpreting generalized linear models (GLMs), how this methodology is implemented in Bambi, and how to use `comparisons` and `plot_comparisons`. It is assumed that the reader is familiar with the basics of GLMs. If not, refer to the Bambi [Basic Building Blocks](https://bambinos.github.io/bambi/notebooks/how_bambi_works.html#Link-functions) example.\n",
    "\n",
    "Due to the link function in a GLM, there are typically three quantities of interest to interpret:\n",
    "\n",
    "1. the linear predictor $\\eta = X\\beta$ where $X$ is an $n$ x $p$ matrix of explanatory variables.\n",
    "2. the mean $\\mu = g^{-1}(\\eta)$ where the link function $g(\\cdot)$ relates the linear predictor to the mean of the outcome variable $\\mu = g^{-1}(\\eta) = g^{-1}(X\\beta)$\n",
    "3. the response variable $Y \\sim \\mathcal{D}(\\mu, \\theta)$ where $\\mu$ is the mean parameter and $\\theta$ is (possibly) a vector that contains all the other \"auxillary\" parameters of the distribution.\n",
    " \n",
    "Often, with GLMs, $\\eta$ is linear in the parameters, but nonlinear in relation of inputs to the outcome $Y$ due to the link function $g$. Thus, as modelers, we are usually more interested in interpreting (2) and (3). For example, in logistic regression, the linear predictor is on the log-odds scale, but the response variable is on the probability scale. In Poisson regression, the linear predictor is on the log-scale, but the response variable is on the count scale. Referring back to logistic regression, a specified difference in one of the $x$ variables does _not_ correspond to a constant difference in the the probability of the outcome.\n",
    "\n",
    "It is often helpful with GLMs, to the modeler and audience, to have a summary that gives the expected difference in the outcome corresponding to a unit difference in each of the input variables. Thus, the goal of `comparisons` and `plot_comparisons` is to provide the modeler with a summary and visualization of the average predicted comparisons."
   ]
  },
  {
   "attachments": {},
   "cell_type": "markdown",
   "metadata": {},
   "source": [
    "## Average Predictive Comparisons\n",
    "\n",
    "Here, we adopt the notation from Chapter 14.4 of [Regression and Other Stories](https://avehtari.github.io/ROS-Examples/) to describe average predictive comparisons. Assume we have fit a Bambi model predicting an outcome $Y$ based on inputs $X$ and parameters $\\theta$. Consider the following scalar inputs:\n",
    "\n",
    "$$u: \\text{the input of interest}$$\n",
    "$$v: \\text{all the other inputs}$$\n",
    "$$X = (u, v)$$\n",
    "\n",
    "Suppose for the input of interest, we are interested in comparing $u^{\\text{high}}$ to $u^{\\text{low}}$ (perhaps age = $60$ and $40$ respectively) with all other inputs $v$ held constant. The _predictive difference_ in the outcome changing **only** $u$ is:\n",
    "\n",
    "$$\\text{predictive difference (comparison)} = \\mathbb{E}(y|u^{\\text{high}}, v, \\theta) - \\mathbb{E}(y|u^{\\text{low}}, v, \\theta)$$\n",
    "\n",
    "Selecting the maximum and minimum values of $u$ and averaging over all other inputs $v$ in the data gives you a new \"hypothetical\" dataset and corresponds to counting all pairs of transitions of $(u^\\text{low})$ to $(u^\\text{high})$, i.e., differences in $u$ with $v$ held constant. The difference between these two terms is the average predictive comparison."
   ]
  },
  {
   "attachments": {},
   "cell_type": "markdown",
   "metadata": {},
   "source": [
    "### Computing Average Predictive Comparisons\n",
    "\n",
    "The objective of average predictive comparisons is to compute the expected difference in the outcome corresponding to three different scenarios for $u$ and $v$ where $u$ is either provided by the user, else a default value is computed by Bambi (described in the default values section). The three scenarios are:\n",
    "\n",
    "1. user provided values for $v$.\n",
    "2. a grid of equally spaced and central values for $v$.\n",
    "3. empirical distribution (original data used to fit the model) for $v$. \n",
    "\n",
    "In the case of (1) and (2) above, Bambi assembles all pairwise combinations (transitions) of $u$ and $v$ into a new \"hypothetical\" dataset. In (3), Bambi uses the original $v$, but replaces $u$ with the user provided value or the default value computed by Bambi. In each scenario, predictions are made on the data using the fitted model. Once the predictions are made, comparisons are computed using the postrior chains and draws by taking the difference in the predicted outcome for each pair of transitions. The average of these differences is the average predictive comparison. \n",
    "\n",
    "Thus, the goal of `comparisons` and `plot_comparisons` is to provide the modeler with a summary and visualization of the average predicted comparisons. Below, we demonstrate how to compute and plot _average predictive comparisons_ with `comparisons` and `plot_comparions` using several examples."
   ]
  },
  {
   "cell_type": "code",
   "execution_count": 2,
   "metadata": {},
   "outputs": [],
   "source": [
    "import arviz as az\n",
    "import numpy as np\n",
    "import pandas as pd\n",
    "\n",
    "import bambi as bmb\n",
    "from bambi.plots import plot_comparison, comparisons"
   ]
  },
  {
   "attachments": {},
   "cell_type": "markdown",
   "metadata": {},
   "source": [
    "## Zero Inflated Poisson"
   ]
  },
  {
   "attachments": {},
   "cell_type": "markdown",
   "metadata": {},
   "source": [
    "We model and predict how many fish are caught by visitors at a state park. Many visitors catch zero fish, either because they did not fish at all, or because they were unlucky. We would like to explicitly model this bimodal behavior (zero versus non-zero) using a Zero Inflated Poisson model, and to compare how different inputs of interest $u$ and other covariate values $v$ are associated with the number of fish caught. A description of the data can be found below:\n",
    "\n",
    "**todo: add data description**"
   ]
  },
  {
   "cell_type": "code",
   "execution_count": 3,
   "metadata": {},
   "outputs": [],
   "source": [
    "fish_data = pd.read_stata(\"http://www.stata-press.com/data/r11/fish.dta\")\n",
    "cols = [\"count\", \"livebait\", \"camper\", \"persons\", \"child\"]\n",
    "fish_data = fish_data[cols]\n",
    "fish_data[\"livebait\"] = fish_data[\"livebait\"].astype(\"category\")\n",
    "fish_data[\"camper\"] = fish_data[\"camper\"].astype(\"category\")"
   ]
  },
  {
   "cell_type": "code",
   "execution_count": 4,
   "metadata": {},
   "outputs": [
    {
     "name": "stderr",
     "output_type": "stream",
     "text": [
      "Auto-assigning NUTS sampler...\n",
      "Initializing NUTS using jitter+adapt_diag...\n",
      "Multiprocess sampling (4 chains in 4 jobs)\n",
      "NUTS: [count_psi, Intercept, livebait, camper, persons, child]\n"
     ]
    },
    {
     "data": {
      "text/html": [
       "\n",
       "<style>\n",
       "    /* Turns off some styling */\n",
       "    progress {\n",
       "        /* gets rid of default border in Firefox and Opera. */\n",
       "        border: none;\n",
       "        /* Needs to be in here for Safari polyfill so background images work as expected. */\n",
       "        background-size: auto;\n",
       "    }\n",
       "    progress:not([value]), progress:not([value])::-webkit-progress-bar {\n",
       "        background: repeating-linear-gradient(45deg, #7e7e7e, #7e7e7e 10px, #5c5c5c 10px, #5c5c5c 20px);\n",
       "    }\n",
       "    .progress-bar-interrupted, .progress-bar-interrupted::-webkit-progress-bar {\n",
       "        background: #F44336;\n",
       "    }\n",
       "</style>\n"
      ],
      "text/plain": [
       "<IPython.core.display.HTML object>"
      ]
     },
     "metadata": {},
     "output_type": "display_data"
    },
    {
     "data": {
      "text/html": [
       "\n",
       "    <div>\n",
       "      <progress value='8000' class='' max='8000' style='width:300px; height:20px; vertical-align: middle;'></progress>\n",
       "      100.00% [8000/8000 00:03&lt;00:00 Sampling 4 chains, 0 divergences]\n",
       "    </div>\n",
       "    "
      ],
      "text/plain": [
       "<IPython.core.display.HTML object>"
      ]
     },
     "metadata": {},
     "output_type": "display_data"
    },
    {
     "name": "stderr",
     "output_type": "stream",
     "text": [
      "Sampling 4 chains for 1_000 tune and 1_000 draw iterations (4_000 + 4_000 draws total) took 4 seconds.\n"
     ]
    }
   ],
   "source": [
    "fish_model = bmb.Model(\n",
    "    \"count ~ livebait + camper + persons + child\", \n",
    "    fish_data, \n",
    "    family='zero_inflated_poisson'\n",
    ")\n",
    "\n",
    "fish_idata = fish_model.fit(\n",
    "    draws=1000, \n",
    "    target_accept=0.95, \n",
    "    random_seed=1234, \n",
    "    chains=4\n",
    ")"
   ]
  },
  {
   "attachments": {},
   "cell_type": "markdown",
   "metadata": {},
   "source": [
    "### User Provided Values\n",
    "\n",
    "First, an example of scenario 1 (user provided values) is given below. In both `plot_comparisons` and `comparisons`, $u$ and $v$ are represented by `contrast` and `conditional`, respectively. The modeler has the ability to pass their own values for `contrast` and `conditional` by using a dictionary where the key, value pairs are the covariate and value(s) to use. For example, if we wanted to compare the number of fish caught for $4$ versus $1$ `persons` conditional on a range of `child` and `livebait` values, we would pass the following dictionary. However, the user is not limited to passing a list for the values. A `np.array` can also be used. Furthermore, Bambi by default, maps the order of the dict keys to the main, group, and panel of the matplotlib figure. Below, since `child` is the first key, this is used for the x-axis, and `livebait` is used for the group (color). If a third key was passed, it would be used for the panel (facet)."
   ]
  },
  {
   "cell_type": "code",
   "execution_count": 5,
   "metadata": {},
   "outputs": [
    {
     "data": {
      "image/png": "[encoded data removed]",
      "text/plain": [
       "<Figure size 700x300 with 1 Axes>"
      ]
     },
     "metadata": {},
     "output_type": "display_data"
    }
   ],
   "source": [
    "fig, ax = plot_comparison(\n",
    "    model=fish_model,\n",
    "    idata=fish_idata,\n",
    "    contrast={\"persons\": [1, 4]},\n",
    "    conditional={\"child\": [0, 1, 2], \"livebait\": [0, 1]},\n",
    ") \n",
    "fig.set_size_inches(7, 3)"
   ]
  },
  {
   "attachments": {},
   "cell_type": "markdown",
   "metadata": {},
   "source": [
    "The plot above shows that, comparing $4$ to $1$ persons given $0$ children and using livebait, the expected difference is about $26$ fish. When not using livebait, the expected difference decreases substantially to about $5$ fish. Using livebait with a group of people is associated with a much larger expected difference in the number of fish caught. \n",
    "\n",
    "`comparisons` can be called to view a summary dataframe that includes the term $u$ and its contrast, the specified `conditional` covariate, and the expected difference in the outcome with the uncertainty interval (by default the 94% highest density interval is computed). "
   ]
  },
  {
   "cell_type": "code",
   "execution_count": 6,
   "metadata": {},
   "outputs": [
    {
     "data": {
      "text/html": [
       "<div>\n",
       "<style scoped>\n",
       "    .dataframe tbody tr th:only-of-type {\n",
       "        vertical-align: middle;\n",
       "    }\n",
       "\n",
       "    .dataframe tbody tr th {\n",
       "        vertical-align: top;\n",
       "    }\n",
       "\n",
       "    .dataframe thead th {\n",
       "        text-align: right;\n",
       "    }\n",
       "</style>\n",
       "<table border=\"1\" class=\"dataframe\">\n",
       "  <thead>\n",
       "    <tr style=\"text-align: right;\">\n",
       "      <th></th>\n",
       "      <th>term</th>\n",
       "      <th>contrast</th>\n",
       "      <th>child</th>\n",
       "      <th>livebait</th>\n",
       "      <th>camper</th>\n",
       "      <th>estimate</th>\n",
       "      <th>lower_3.0%</th>\n",
       "      <th>upper_97.0%</th>\n",
       "    </tr>\n",
       "  </thead>\n",
       "  <tbody>\n",
       "    <tr>\n",
       "      <th>0</th>\n",
       "      <td>persons</td>\n",
       "      <td>(1, 4)</td>\n",
       "      <td>0.0</td>\n",
       "      <td>0.0</td>\n",
       "      <td>1.0</td>\n",
       "      <td>4.834472</td>\n",
       "      <td>2.563472</td>\n",
       "      <td>7.037150</td>\n",
       "    </tr>\n",
       "    <tr>\n",
       "      <th>1</th>\n",
       "      <td>persons</td>\n",
       "      <td>(1, 4)</td>\n",
       "      <td>0.0</td>\n",
       "      <td>1.0</td>\n",
       "      <td>1.0</td>\n",
       "      <td>26.423188</td>\n",
       "      <td>23.739729</td>\n",
       "      <td>29.072748</td>\n",
       "    </tr>\n",
       "    <tr>\n",
       "      <th>2</th>\n",
       "      <td>persons</td>\n",
       "      <td>(1, 4)</td>\n",
       "      <td>1.0</td>\n",
       "      <td>0.0</td>\n",
       "      <td>1.0</td>\n",
       "      <td>1.202003</td>\n",
       "      <td>0.631629</td>\n",
       "      <td>1.780965</td>\n",
       "    </tr>\n",
       "    <tr>\n",
       "      <th>3</th>\n",
       "      <td>persons</td>\n",
       "      <td>(1, 4)</td>\n",
       "      <td>1.0</td>\n",
       "      <td>1.0</td>\n",
       "      <td>1.0</td>\n",
       "      <td>6.571943</td>\n",
       "      <td>5.469275</td>\n",
       "      <td>7.642248</td>\n",
       "    </tr>\n",
       "    <tr>\n",
       "      <th>4</th>\n",
       "      <td>persons</td>\n",
       "      <td>(1, 4)</td>\n",
       "      <td>2.0</td>\n",
       "      <td>0.0</td>\n",
       "      <td>1.0</td>\n",
       "      <td>0.301384</td>\n",
       "      <td>0.143676</td>\n",
       "      <td>0.467608</td>\n",
       "    </tr>\n",
       "    <tr>\n",
       "      <th>5</th>\n",
       "      <td>persons</td>\n",
       "      <td>(1, 4)</td>\n",
       "      <td>2.0</td>\n",
       "      <td>1.0</td>\n",
       "      <td>1.0</td>\n",
       "      <td>1.648417</td>\n",
       "      <td>1.140415</td>\n",
       "      <td>2.187190</td>\n",
       "    </tr>\n",
       "  </tbody>\n",
       "</table>\n",
       "</div>"
      ],
      "text/plain": [
       "      term contrast  child livebait camper   estimate  lower_3.0%  upper_97.0%\n",
       "0  persons   (1, 4)    0.0      0.0    1.0   4.834472    2.563472     7.037150\n",
       "1  persons   (1, 4)    0.0      1.0    1.0  26.423188   23.739729    29.072748\n",
       "2  persons   (1, 4)    1.0      0.0    1.0   1.202003    0.631629     1.780965\n",
       "3  persons   (1, 4)    1.0      1.0    1.0   6.571943    5.469275     7.642248\n",
       "4  persons   (1, 4)    2.0      0.0    1.0   0.301384    0.143676     0.467608\n",
       "5  persons   (1, 4)    2.0      1.0    1.0   1.648417    1.140415     2.187190"
      ]
     },
     "execution_count": 6,
     "metadata": {},
     "output_type": "execute_result"
    }
   ],
   "source": [
    "comparisons(\n",
    "    model=fish_model,\n",
    "    idata=fish_idata,\n",
    "    contrast={\"persons\": [1, 4]},\n",
    "    conditional={\"child\": [0, 1, 2], \"livebait\": [0, 1]},\n",
    ") "
   ]
  },
  {
   "attachments": {},
   "cell_type": "markdown",
   "metadata": {},
   "source": [
    "But why is `camper` also in the summary dataframe? This is because in order to peform predictions, Bambi is expecting a value for each covariate used to fit the model. Additionally, with GLM models, average predictive comparisons are conditional in the sense that the estimate depends on the values of all the covariates in the model. Thus, for unspecified covariates, `comparisons` and `plot_comparisons` computes a default value (mean or mode based on the data type of the covariate). Thus, $v$ = `child`, `livebait`, `camper`. Each row in the summary dataframe is read as \"comparing $4$ to $1$ persons conditional on $v$, the expected difference in the outcome is $y$.\""
   ]
  },
  {
   "attachments": {},
   "cell_type": "markdown",
   "metadata": {},
   "source": [
    "### Multiple contrast values\n",
    "\n",
    "**I don't think this is being computed right!!!**\n",
    "\n",
    "Users can also perform comparisons on multiple contrast values. For example, if we wanted to compare the number of fish caught between $(1, 2)$, $(1, 4)$, and $(2, 4)$ `persons` conditional on a range of values for `child` and `livebait`."
   ]
  },
  {
   "cell_type": "code",
   "execution_count": 8,
   "metadata": {},
   "outputs": [
    {
     "data": {
      "text/html": [
       "<div>\n",
       "<style scoped>\n",
       "    .dataframe tbody tr th:only-of-type {\n",
       "        vertical-align: middle;\n",
       "    }\n",
       "\n",
       "    .dataframe tbody tr th {\n",
       "        vertical-align: top;\n",
       "    }\n",
       "\n",
       "    .dataframe thead th {\n",
       "        text-align: right;\n",
       "    }\n",
       "</style>\n",
       "<table border=\"1\" class=\"dataframe\">\n",
       "  <thead>\n",
       "    <tr style=\"text-align: right;\">\n",
       "      <th></th>\n",
       "      <th>term</th>\n",
       "      <th>contrast</th>\n",
       "      <th>child</th>\n",
       "      <th>livebait</th>\n",
       "      <th>camper</th>\n",
       "      <th>estimate</th>\n",
       "      <th>lower_3.0%</th>\n",
       "      <th>upper_97.0%</th>\n",
       "    </tr>\n",
       "  </thead>\n",
       "  <tbody>\n",
       "    <tr>\n",
       "      <th>0</th>\n",
       "      <td>persons</td>\n",
       "      <td>(1, 2)</td>\n",
       "      <td>0.0</td>\n",
       "      <td>0.0</td>\n",
       "      <td>1.0</td>\n",
       "      <td>0.527627</td>\n",
       "      <td>0.295451</td>\n",
       "      <td>0.775465</td>\n",
       "    </tr>\n",
       "    <tr>\n",
       "      <th>1</th>\n",
       "      <td>persons</td>\n",
       "      <td>(1, 4)</td>\n",
       "      <td>0.0</td>\n",
       "      <td>0.0</td>\n",
       "      <td>1.0</td>\n",
       "      <td>2.883694</td>\n",
       "      <td>2.605690</td>\n",
       "      <td>3.177685</td>\n",
       "    </tr>\n",
       "    <tr>\n",
       "      <th>2</th>\n",
       "      <td>persons</td>\n",
       "      <td>(2, 4)</td>\n",
       "      <td>0.0</td>\n",
       "      <td>0.0</td>\n",
       "      <td>1.0</td>\n",
       "      <td>0.131319</td>\n",
       "      <td>0.067339</td>\n",
       "      <td>0.195132</td>\n",
       "    </tr>\n",
       "    <tr>\n",
       "      <th>3</th>\n",
       "      <td>persons</td>\n",
       "      <td>(1, 2)</td>\n",
       "      <td>0.0</td>\n",
       "      <td>1.0</td>\n",
       "      <td>1.0</td>\n",
       "      <td>0.717965</td>\n",
       "      <td>0.592968</td>\n",
       "      <td>0.857893</td>\n",
       "    </tr>\n",
       "    <tr>\n",
       "      <th>4</th>\n",
       "      <td>persons</td>\n",
       "      <td>(1, 4)</td>\n",
       "      <td>0.0</td>\n",
       "      <td>1.0</td>\n",
       "      <td>1.0</td>\n",
       "      <td>0.032960</td>\n",
       "      <td>0.015212</td>\n",
       "      <td>0.052075</td>\n",
       "    </tr>\n",
       "    <tr>\n",
       "      <th>5</th>\n",
       "      <td>persons</td>\n",
       "      <td>(2, 4)</td>\n",
       "      <td>0.0</td>\n",
       "      <td>1.0</td>\n",
       "      <td>1.0</td>\n",
       "      <td>0.180270</td>\n",
       "      <td>0.123173</td>\n",
       "      <td>0.244695</td>\n",
       "    </tr>\n",
       "    <tr>\n",
       "      <th>6</th>\n",
       "      <td>persons</td>\n",
       "      <td>(1, 2)</td>\n",
       "      <td>1.0</td>\n",
       "      <td>0.0</td>\n",
       "      <td>1.0</td>\n",
       "      <td>4.834472</td>\n",
       "      <td>2.563472</td>\n",
       "      <td>7.037150</td>\n",
       "    </tr>\n",
       "    <tr>\n",
       "      <th>7</th>\n",
       "      <td>persons</td>\n",
       "      <td>(1, 4)</td>\n",
       "      <td>1.0</td>\n",
       "      <td>0.0</td>\n",
       "      <td>1.0</td>\n",
       "      <td>26.423188</td>\n",
       "      <td>23.739729</td>\n",
       "      <td>29.072748</td>\n",
       "    </tr>\n",
       "    <tr>\n",
       "      <th>8</th>\n",
       "      <td>persons</td>\n",
       "      <td>(2, 4)</td>\n",
       "      <td>1.0</td>\n",
       "      <td>0.0</td>\n",
       "      <td>1.0</td>\n",
       "      <td>1.202003</td>\n",
       "      <td>0.631629</td>\n",
       "      <td>1.780965</td>\n",
       "    </tr>\n",
       "    <tr>\n",
       "      <th>9</th>\n",
       "      <td>persons</td>\n",
       "      <td>(1, 2)</td>\n",
       "      <td>1.0</td>\n",
       "      <td>1.0</td>\n",
       "      <td>1.0</td>\n",
       "      <td>6.571943</td>\n",
       "      <td>5.469275</td>\n",
       "      <td>7.642248</td>\n",
       "    </tr>\n",
       "  </tbody>\n",
       "</table>\n",
       "</div>"
      ],
      "text/plain": [
       "      term contrast  child livebait camper   estimate  lower_3.0%  upper_97.0%\n",
       "0  persons   (1, 2)    0.0      0.0    1.0   0.527627    0.295451     0.775465\n",
       "1  persons   (1, 4)    0.0      0.0    1.0   2.883694    2.605690     3.177685\n",
       "2  persons   (2, 4)    0.0      0.0    1.0   0.131319    0.067339     0.195132\n",
       "3  persons   (1, 2)    0.0      1.0    1.0   0.717965    0.592968     0.857893\n",
       "4  persons   (1, 4)    0.0      1.0    1.0   0.032960    0.015212     0.052075\n",
       "5  persons   (2, 4)    0.0      1.0    1.0   0.180270    0.123173     0.244695\n",
       "6  persons   (1, 2)    1.0      0.0    1.0   4.834472    2.563472     7.037150\n",
       "7  persons   (1, 4)    1.0      0.0    1.0  26.423188   23.739729    29.072748\n",
       "8  persons   (2, 4)    1.0      0.0    1.0   1.202003    0.631629     1.780965\n",
       "9  persons   (1, 2)    1.0      1.0    1.0   6.571943    5.469275     7.642248"
      ]
     },
     "execution_count": 8,
     "metadata": {},
     "output_type": "execute_result"
    }
   ],
   "source": [
    "multiple_values = comparisons(\n",
    "    model=fish_model,\n",
    "    idata=fish_idata,\n",
    "    contrast={\"persons\": [1, 2, 4]},\n",
    "    conditional={\"child\": [0, 1, 2], \"livebait\": [0, 1]}\n",
    ")\n",
    "\n",
    "multiple_values.head(10)"
   ]
  },
  {
   "attachments": {},
   "cell_type": "markdown",
   "metadata": {},
   "source": [
    "### Default contrast and conditional values\n",
    "\n",
    "Now, we move onto scenario 2 described above (grid of equally spaced and central values) in computing average predictive comparisons. You are not required to pass values for `contrast` and `conditional`. If you do not pass values, Bambi will compute default values for you. Below, it is described how these default values are computed.\n",
    "\n",
    "The default value for `contrast` is a _centered difference_ at the mean for a contrast variable with a numeric dtype, and _unique levels_ for a contrast varaible with a categorical dtype. For example, if the modeler is interested in the comparison of a $5$ unit increase in $u$ where $u$ is a numeric variable, Bambi computes the mean of $u$ and then subtracts and adds $2.5$ units to the mean to obtain a _centered difference_. If $u$ is a categorical variable, Bambi computes and returns the unique levels. For example, if $u$ has levels [\"high scool\", \"vocational\", \"university\"], Bambi computes and returns the unique values of this variable.\n",
    "\n",
    "The default values for `conditional` are more involved. Currently, by default, if a dict or list is passed to `conditional`, Bambi uses the ordering (keys if dict and elements if list) to determine which covariate to use as the main, group (color), and panel (facet) variable. This is the same logic used in `plot_comparisons` described above. Subsequently, the default values used for the `conditional` covariates depend on their dtype. \n",
    "\n",
    "**TO DO!!!**\n",
    "\n",
    "If numeric, a grid of...\n",
    "\n",
    "Lets say we are interested in comparing the number of fish caught for the contrast `livebait` conditional on the number of people. This time, lets call `comparisons` first to gain a an understanding of the data generating the plot."
   ]
  },
  {
   "cell_type": "code",
   "execution_count": 11,
   "metadata": {},
   "outputs": [
    {
     "data": {
      "text/html": [
       "<div>\n",
       "<style scoped>\n",
       "    .dataframe tbody tr th:only-of-type {\n",
       "        vertical-align: middle;\n",
       "    }\n",
       "\n",
       "    .dataframe tbody tr th {\n",
       "        vertical-align: top;\n",
       "    }\n",
       "\n",
       "    .dataframe thead th {\n",
       "        text-align: right;\n",
       "    }\n",
       "</style>\n",
       "<table border=\"1\" class=\"dataframe\">\n",
       "  <thead>\n",
       "    <tr style=\"text-align: right;\">\n",
       "      <th></th>\n",
       "      <th>term</th>\n",
       "      <th>contrast</th>\n",
       "      <th>persons</th>\n",
       "      <th>camper</th>\n",
       "      <th>child</th>\n",
       "      <th>estimate</th>\n",
       "      <th>lower_3.0%</th>\n",
       "      <th>upper_97.0%</th>\n",
       "    </tr>\n",
       "  </thead>\n",
       "  <tbody>\n",
       "    <tr>\n",
       "      <th>0</th>\n",
       "      <td>livebait</td>\n",
       "      <td>(0.0, 1.0)</td>\n",
       "      <td>1.000000</td>\n",
       "      <td>1.0</td>\n",
       "      <td>0.684</td>\n",
       "      <td>0.654667</td>\n",
       "      <td>0.483362</td>\n",
       "      <td>0.838686</td>\n",
       "    </tr>\n",
       "    <tr>\n",
       "      <th>1</th>\n",
       "      <td>livebait</td>\n",
       "      <td>(0.0, 1.0)</td>\n",
       "      <td>1.061224</td>\n",
       "      <td>1.0</td>\n",
       "      <td>0.684</td>\n",
       "      <td>0.690484</td>\n",
       "      <td>0.512999</td>\n",
       "      <td>0.883717</td>\n",
       "    </tr>\n",
       "    <tr>\n",
       "      <th>2</th>\n",
       "      <td>livebait</td>\n",
       "      <td>(0.0, 1.0)</td>\n",
       "      <td>1.122449</td>\n",
       "      <td>1.0</td>\n",
       "      <td>0.684</td>\n",
       "      <td>0.728266</td>\n",
       "      <td>0.544810</td>\n",
       "      <td>0.930400</td>\n",
       "    </tr>\n",
       "    <tr>\n",
       "      <th>3</th>\n",
       "      <td>livebait</td>\n",
       "      <td>(0.0, 1.0)</td>\n",
       "      <td>1.183674</td>\n",
       "      <td>1.0</td>\n",
       "      <td>0.684</td>\n",
       "      <td>0.768122</td>\n",
       "      <td>0.583730</td>\n",
       "      <td>0.984383</td>\n",
       "    </tr>\n",
       "    <tr>\n",
       "      <th>4</th>\n",
       "      <td>livebait</td>\n",
       "      <td>(0.0, 1.0)</td>\n",
       "      <td>1.244898</td>\n",
       "      <td>1.0</td>\n",
       "      <td>0.684</td>\n",
       "      <td>0.810164</td>\n",
       "      <td>0.607509</td>\n",
       "      <td>1.024170</td>\n",
       "    </tr>\n",
       "    <tr>\n",
       "      <th>5</th>\n",
       "      <td>livebait</td>\n",
       "      <td>(0.0, 1.0)</td>\n",
       "      <td>1.306122</td>\n",
       "      <td>1.0</td>\n",
       "      <td>0.684</td>\n",
       "      <td>0.854514</td>\n",
       "      <td>0.642664</td>\n",
       "      <td>1.076049</td>\n",
       "    </tr>\n",
       "    <tr>\n",
       "      <th>6</th>\n",
       "      <td>livebait</td>\n",
       "      <td>(0.0, 1.0)</td>\n",
       "      <td>1.367347</td>\n",
       "      <td>1.0</td>\n",
       "      <td>0.684</td>\n",
       "      <td>0.901299</td>\n",
       "      <td>0.695035</td>\n",
       "      <td>1.146263</td>\n",
       "    </tr>\n",
       "    <tr>\n",
       "      <th>7</th>\n",
       "      <td>livebait</td>\n",
       "      <td>(0.0, 1.0)</td>\n",
       "      <td>1.428571</td>\n",
       "      <td>1.0</td>\n",
       "      <td>0.684</td>\n",
       "      <td>0.950652</td>\n",
       "      <td>0.737713</td>\n",
       "      <td>1.206457</td>\n",
       "    </tr>\n",
       "    <tr>\n",
       "      <th>8</th>\n",
       "      <td>livebait</td>\n",
       "      <td>(0.0, 1.0)</td>\n",
       "      <td>1.489796</td>\n",
       "      <td>1.0</td>\n",
       "      <td>0.684</td>\n",
       "      <td>1.002716</td>\n",
       "      <td>0.758100</td>\n",
       "      <td>1.245945</td>\n",
       "    </tr>\n",
       "    <tr>\n",
       "      <th>9</th>\n",
       "      <td>livebait</td>\n",
       "      <td>(0.0, 1.0)</td>\n",
       "      <td>1.551020</td>\n",
       "      <td>1.0</td>\n",
       "      <td>0.684</td>\n",
       "      <td>1.057638</td>\n",
       "      <td>0.825102</td>\n",
       "      <td>1.332072</td>\n",
       "    </tr>\n",
       "  </tbody>\n",
       "</table>\n",
       "</div>"
      ],
      "text/plain": [
       "       term    contrast   persons camper  child  estimate  lower_3.0%   \n",
       "0  livebait  (0.0, 1.0)  1.000000    1.0  0.684  0.654667    0.483362  \\\n",
       "1  livebait  (0.0, 1.0)  1.061224    1.0  0.684  0.690484    0.512999   \n",
       "2  livebait  (0.0, 1.0)  1.122449    1.0  0.684  0.728266    0.544810   \n",
       "3  livebait  (0.0, 1.0)  1.183674    1.0  0.684  0.768122    0.583730   \n",
       "4  livebait  (0.0, 1.0)  1.244898    1.0  0.684  0.810164    0.607509   \n",
       "5  livebait  (0.0, 1.0)  1.306122    1.0  0.684  0.854514    0.642664   \n",
       "6  livebait  (0.0, 1.0)  1.367347    1.0  0.684  0.901299    0.695035   \n",
       "7  livebait  (0.0, 1.0)  1.428571    1.0  0.684  0.950652    0.737713   \n",
       "8  livebait  (0.0, 1.0)  1.489796    1.0  0.684  1.002716    0.758100   \n",
       "9  livebait  (0.0, 1.0)  1.551020    1.0  0.684  1.057638    0.825102   \n",
       "\n",
       "   upper_97.0%  \n",
       "0     0.838686  \n",
       "1     0.883717  \n",
       "2     0.930400  \n",
       "3     0.984383  \n",
       "4     1.024170  \n",
       "5     1.076049  \n",
       "6     1.146263  \n",
       "7     1.206457  \n",
       "8     1.245945  \n",
       "9     1.332072  "
      ]
     },
     "execution_count": 11,
     "metadata": {},
     "output_type": "execute_result"
    }
   ],
   "source": [
    "contrast_df = comparisons(\n",
    "    model=fish_model,\n",
    "    idata=fish_idata,\n",
    "    contrast=\"livebait\",\n",
    "    conditional=\"persons\",\n",
    ")\n",
    "\n",
    "contrast_df.head(10)"
   ]
  },
  {
   "attachments": {},
   "cell_type": "markdown",
   "metadata": {},
   "source": [
    "As `livebait` was encoded as a categorical dtype, Bambi returned the unique values of $[0, 1]$ for the contrast. In this example, `persons`was the only covariate passed, and thus acts as the main covariate."
   ]
  },
  {
   "cell_type": "code",
   "execution_count": 9,
   "metadata": {},
   "outputs": [
    {
     "data": {
      "image/png": "[encoded data removed]",
      "text/plain": [
       "<Figure size 700x300 with 1 Axes>"
      ]
     },
     "metadata": {},
     "output_type": "display_data"
    }
   ],
   "source": [
    "fig, ax = plot_comparison(\n",
    "    model=fish_model,\n",
    "    idata=fish_idata,\n",
    "    contrast=\"livebait\",\n",
    "    conditional=\"persons\",\n",
    ") \n",
    "fig.set_size_inches(7, 3)"
   ]
  },
  {
   "attachments": {},
   "cell_type": "markdown",
   "metadata": {},
   "source": [
    "By default, if no value is passed with `contrast`, then the mean or mode is computed (depending on the data type used to fit the model) as the contrast value. As live bait is category data type and no value was passed, the contrast value is [0, 1]. By default, `comparisons` compares $u^\\text{high}$ to $u^\\text{low}$. Thus, in this example, $u^\\text{high}$ = 1 and $u^\\text{low}$ = 0. The plot shows us that comparing a group of two people who used live bait and no live bait, the expected difference in the number of fish caught is about $2$. As the number of people in the group increases, the expected difference also increases. \n",
    "\n",
    "We can call `comparisons` directly to view a summary dataframe that includes the term $u$ and its contrast, the specified `conditional` covariate, and the expected difference in the outcome with the uncertainty interval (by default the 94% highest density interval is computed). We see that `camper` and `child` are also in the summary dataframe. This is because for unspecified covariates, `comparisons` and `plot_comparisons` computes a default value (mean or mode based on the data type of the covariate). Thus, $v$ = `persons`, `camper`, `child`."
   ]
  },
  {
   "cell_type": "code",
   "execution_count": null,
   "metadata": {},
   "outputs": [],
   "source": [
    "comparisons_df = comparisons(\n",
    "    model=fish_model,\n",
    "    idata=fish_idata,\n",
    "    contrast=\"livebait\",\n",
    "    conditional=\"persons\",\n",
    ")\n",
    "comparisons_df.head(10)"
   ]
  },
  {
   "attachments": {},
   "cell_type": "markdown",
   "metadata": {},
   "source": [
    "Furthermore, `conditional` is not limited to one covariate. We can pass a list of covariates to condition on. For example, we can also include `camper`."
   ]
  },
  {
   "cell_type": "code",
   "execution_count": null,
   "metadata": {},
   "outputs": [],
   "source": [
    "fig, ax = plot_comparison(\n",
    "    model=fish_model,\n",
    "    idata=fish_idata,\n",
    "    contrast=\"livebait\",\n",
    "    conditional=[\"persons\", \"camper\"],\n",
    ") \n",
    "fig.set_size_inches(7, 3)"
   ]
  },
  {
   "attachments": {},
   "cell_type": "markdown",
   "metadata": {},
   "source": [
    "### Unit level contrasts\n",
    "\n",
    "Evaluating average predictive comparisons at central values for the conditional covariates $v$ can be problematic when the inputs have a large variance since no single central value (mean, median, etc.) is representative of the covariate. This is especially true when $v$ exhibits bi or multimodality. Thus, it may be desireable to use the empirical distribution of $v$ to compute the predictive comparisons, and then average over a specific or set of covariates to obtain the average predictive comparisons. To achieve unit level contrasts, do not pass a parameter into `conditional` and or specify `None`."
   ]
  },
  {
   "cell_type": "code",
   "execution_count": null,
   "metadata": {},
   "outputs": [],
   "source": [
    "unit_level = comparisons(\n",
    "    model=fish_model,\n",
    "    idata=fish_idata,\n",
    "    contrast=\"livebait\",\n",
    "    conditional=None,\n",
    ")\n",
    "\n",
    "# empirical distribution\n",
    "print(unit_level.shape[0] == fish_model.data.shape[0])\n",
    "unit_level.head(10)"
   ]
  },
  {
   "attachments": {},
   "cell_type": "markdown",
   "metadata": {},
   "source": [
    "#### Marginalizing over covariates"
   ]
  },
  {
   "attachments": {},
   "cell_type": "markdown",
   "metadata": {},
   "source": [
    "Since the empirical distrubution is used for computing the average predictive comparisons, the same number of rows (250) is returned as the data used to fit the model. To average over a covariate, use the `average_by` argument. If `True` is passed, then `comparisons` averages over all covariates. Else, if a single or list of covariates are passed, then `comparisons` averages by the covariates passed."
   ]
  },
  {
   "cell_type": "code",
   "execution_count": null,
   "metadata": {},
   "outputs": [],
   "source": [
    "# marginalize over all covariates\n",
    "comparisons(\n",
    "    model=fish_model,\n",
    "    idata=fish_idata,\n",
    "    contrast=\"livebait\",\n",
    "    conditional=None,\n",
    "    average_by=True\n",
    ")"
   ]
  },
  {
   "cell_type": "code",
   "execution_count": null,
   "metadata": {},
   "outputs": [],
   "source": [
    "# average by number of persons\n",
    "comparisons(\n",
    "    model=fish_model,\n",
    "    idata=fish_idata,\n",
    "    contrast=\"livebait\",\n",
    "    conditional=None,\n",
    "    average_by=\"persons\"\n",
    ")"
   ]
  },
  {
   "cell_type": "code",
   "execution_count": null,
   "metadata": {},
   "outputs": [],
   "source": [
    "# average by number of persons and camper\n",
    "comparisons(\n",
    "    model=fish_model,\n",
    "    idata=fish_idata,\n",
    "    contrast=\"livebait\",\n",
    "    conditional=None,\n",
    "    average_by=[\"persons\", \"camper\"]\n",
    ")"
   ]
  },
  {
   "attachments": {},
   "cell_type": "markdown",
   "metadata": {},
   "source": [
    "It is still possible to use `plot_comparisons` when passing an argument to `average_by`. In the plot below, the empirical distribution is used to compute unit level contrasts for `livebait` and then averaged over `persons` to obtain the average predictive comparisons. The plot below is similar to the second plot in this notebook. The differences being that: (1) a pairwise transition grid is defined for the second plot above, whereas the empirical distribution is used in the plot below, and (2) in the plot below, we marginalized over the other covariates in the model (thus the reason for not having a camper group, and a reduction in the uncertainty interval)."
   ]
  },
  {
   "cell_type": "code",
   "execution_count": null,
   "metadata": {},
   "outputs": [],
   "source": [
    "fig, ax = plot_comparison(\n",
    "    model=fish_model,\n",
    "    idata=fish_idata,\n",
    "    contrast=\"livebait\",\n",
    "    conditional=None,\n",
    "    average_by=\"persons\"\n",
    ")\n",
    "fig.set_size_inches(7, 3)"
   ]
  },
  {
   "attachments": {},
   "cell_type": "markdown",
   "metadata": {},
   "source": [
    "Notice how the contrast $u$ varies while the covariates $v$ are held constant. Currently, however, plotting multiple contrast values can be difficult to interpret since the contrast is \"abstracted\" away onto the y-axis. Thus, it would be difficult to interpret which portion of the plot corresponds to which contrast value. This is something I am still working on."
   ]
  },
  {
   "cell_type": "code",
   "execution_count": null,
   "metadata": {},
   "outputs": [],
   "source": []
  },
  {
   "cell_type": "code",
   "execution_count": null,
   "metadata": {},
   "outputs": [],
   "source": []
  },
  {
   "cell_type": "code",
   "execution_count": null,
   "metadata": {},
   "outputs": [],
   "source": []
  },
  {
   "cell_type": "code",
   "execution_count": null,
   "metadata": {},
   "outputs": [],
   "source": []
  },
  {
   "attachments": {},
   "cell_type": "markdown",
   "metadata": {},
   "source": [
    "## Well Switching"
   ]
  },
  {
   "cell_type": "code",
   "execution_count": null,
   "metadata": {},
   "outputs": [],
   "source": [
    "wells = pd.read_csv(\"http://www.stat.columbia.edu/~gelman/arm/examples/arsenic/wells.dat\", delimiter=\"\\s+\")\n",
    "wells.dtypes"
   ]
  },
  {
   "cell_type": "code",
   "execution_count": null,
   "metadata": {},
   "outputs": [],
   "source": [
    "wells[\"switch\"] = pd.Categorical(wells[\"switch\"])\n",
    "wells[\"assoc\"] = pd.Categorical(wells[\"assoc\"])\n",
    "wells[\"educ4\"] = wells[\"educ\"] // 4\n",
    "wells[\"educ4\"] = pd.Categorical(wells[\"educ4\"], ordered=True)\n",
    "wells[\"dist100\"] = wells[\"dist\"] / 100"
   ]
  },
  {
   "cell_type": "code",
   "execution_count": null,
   "metadata": {},
   "outputs": [],
   "source": [
    "wells_model = bmb.Model(\n",
    "    \"switch ~ dist100 + arsenic + educ\",\n",
    "    wells,\n",
    "    family=\"bernoulli\",\n",
    "    link=\"logit\"\n",
    ")\n",
    "\n",
    "wells_idata = wells_model.fit(\n",
    "    draws=1000,\n",
    "    target_accept=0.95,\n",
    "    random_seed=1234,\n",
    "    chains=4\n",
    ")"
   ]
  },
  {
   "cell_type": "code",
   "execution_count": null,
   "metadata": {},
   "outputs": [],
   "source": [
    "az.summary(wells_idata)"
   ]
  },
  {
   "cell_type": "code",
   "execution_count": null,
   "metadata": {},
   "outputs": [],
   "source": [
    "comparisons(\n",
    "    model=wells_model,\n",
    "    idata=wells_idata,\n",
    "    contrast={\"dist100\": [0, 1]},\n",
    "    average_by=True\n",
    ")"
   ]
  },
  {
   "cell_type": "code",
   "execution_count": null,
   "metadata": {},
   "outputs": [],
   "source": []
  }
 ],
 "metadata": {
  "kernelspec": {
   "display_name": "bambinos",
   "language": "python",
   "name": "python3"
  },
  "language_info": {
   "codemirror_mode": {
    "name": "ipython",
    "version": 3
   },
   "file_extension": ".py",
   "mimetype": "text/x-python",
   "name": "python",
   "nbconvert_exporter": "python",
   "pygments_lexer": "ipython3",
   "version": "3.11.0"
  },
  "orig_nbformat": 4
 },
 "nbformat": 4,
 "nbformat_minor": 2
}
