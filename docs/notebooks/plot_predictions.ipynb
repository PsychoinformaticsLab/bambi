{
 "cells": [
  {
   "attachments": {},
   "cell_type": "markdown",
   "metadata": {},
   "source": [
    "# Plot Conditional Adjusted Predictions\n",
    "\n",
    "This notebook shows how to use, and the capabilities, of the `plot_cap` function. The `plot_cap` function is a part of Bambi's sub-package `plots` that features a set of tools used to interpret complex regression models that is inspired by the R package [marginaleffects](https://vincentarelbundock.github.io/marginaleffects/articles/predictions.html#conditional-adjusted-predictions-plot). "
   ]
  },
  {
   "attachments": {},
   "cell_type": "markdown",
   "metadata": {},
   "source": [
    "## Interpreting Generalized Linear Models\n",
    "\n",
    "Generalized linear models (GLMs) are a broad family of models where the response variable $y_i$ is assumed to follow an exponential family distribution with mean $\\mu_i$, which itself is assumed to be some linear function of $x_{i}^T\\beta$. The mean output $\\mu_i$, depending on the response distribution, is then \"pushed\" through a link function, which is then used as the parameter for the output distribution (likelihood). The job of the link function is often to _bound_ the parameter between some range or to make it more _plausible_.\n",
    "\n",
    "\n",
    "**To do**\n",
    "- generally speaking what is a GLM and GLMM\n",
    "- why are GLMs and GLMMs difficult to interpet\n",
    "- state the link functions\n",
    "- state why link functions make the interpretation of these models more difficult\n",
    "- give a short example on difficuly of parameter interpretation?"
   ]
  },
  {
   "attachments": {},
   "cell_type": "markdown",
   "metadata": {},
   "source": [
    "## Using `plot_cap`\n",
    "\n",
    "**To Do**\n",
    "- `plot_cap` objective\n",
    "- motivation from marginaleffects\n",
    "\n",
    "Demos:\n",
    "- use demos from Tomas or Gabriel's Gist\n",
    "- `pps=True` functionality\n",
    "- subplots\n",
    "- different groups, etc."
   ]
  },
  {
   "cell_type": "code",
   "execution_count": null,
   "metadata": {},
   "outputs": [],
   "source": []
  },
  {
   "attachments": {},
   "cell_type": "markdown",
   "metadata": {},
   "source": [
    "## Under the Hood\n",
    "\n",
    "**To Do**\n",
    "- Add explanation on what is going on in the source code\n",
    "- What is `cap_data` and how is it used?\n",
    "- What are the default values for computing adjusted predictions\n",
    "- State what the conditonal adjusted means in _conditional adjusted predictions_"
   ]
  },
  {
   "cell_type": "code",
   "execution_count": null,
   "metadata": {},
   "outputs": [],
   "source": []
  }
 ],
 "metadata": {
  "kernelspec": {
   "display_name": "bambinos",
   "language": "python",
   "name": "python3"
  },
  "language_info": {
   "name": "python",
   "version": "3.11.0"
  },
  "orig_nbformat": 4
 },
 "nbformat": 4,
 "nbformat_minor": 2
}
