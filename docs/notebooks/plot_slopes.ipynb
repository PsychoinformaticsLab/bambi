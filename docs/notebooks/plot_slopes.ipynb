{
 "cells": [
  {
   "cell_type": "markdown",
   "metadata": {},
   "source": [
    "# Plot Slopes\n",
    "\n",
    "Bambi's sub-package `interpret` features a set of functions to help interpret complex regression models. The sub-package is inspired by the R package [marginaleffects](https://vincentarelbundock.github.io/marginaleffects/articles/predictions.html#conditional-adjusted-predictions-plot). In this notebook we will discuss two functions `slopes` and `plot_slopes`. These two functions allow the modeler to easier interpret slopes, either by a inspecting a summary output or plotting them.\n",
    "\n",
    "Below, it is described why estimating the slope of the prediction function is useful in interpreting generalized linear models (GLMs), how this methodology is implemented in Bambi, and how to use `slopes` and `plot_slopes`. It is assumed that the reader is familiar with the basics of GLMs. If not, refer to the Bambi [Basic Building Blocks](https://bambinos.github.io/bambi/notebooks/how_bambi_works.html#Link-functions) example."
   ]
  },
  {
   "cell_type": "markdown",
   "metadata": {},
   "source": [
    "## Interpretation of Regression Coefficients\n",
    "\n",
    "Assuming we have fit a linear regression model of the form\n",
    "\n",
    "$$y = \\beta_0 + \\beta_1 x_1 + \\beta_2 x_2 + \\dots + \\beta_k x_k + \\epsilon$$\n",
    "\n",
    "the \"safest\" interpretation of the regression coefficients $\\beta$ is as a comparison between two groups of items that differ by $1$ in the relevant predictor variable $x_i$ while being identical in all the other predictors. Formally, the predicted difference between two items $i$ and $j$ that differ by an amount $n$ on predictor $k$, but are identical on all other predictors, the predicted difference is $y_i - y_j$ is $\\beta_kx$, on average.\n",
    "\n",
    "However, once we move away from a regression model with a Gaussian response, the identity function, and no interaction terms, the interpretation of the coefficients are not as straightforward. For example, in a logistic regression model, the coefficients are on a different scale and are measured in logits (log odds), not probabilities or percentage points. Thus, you cannot interpret the coefficents as a \"one unit increase in $x_k$ is associated with an $n$ percentage point decrease in $y$\". First, the logits must be converted to the probability scale. Secondly, a one unit change in $x_k$ may produce a larger or smaller change in the outcome, depending upon how far away from zero the logits are. \n",
    "\n",
    "`slopes` and `plot_slopes`, by default, computes quantities of interest on the response scale for GLMs. For example, for a logistic regression model, this is the probability scale, and for a Poisson regression model, this is the count scale."
   ]
  },
  {
   "cell_type": "markdown",
   "metadata": {},
   "source": [
    "### Interpreting interaction effects\n",
    "\n",
    "Specifying interactions in a regression model is a way of allowing parameters to be conditional on certain aspects of the data. By contrast, for a model with no interactions, the parameters are **not** conditional and thus, the value of one parameter is not dependent on the value of another covariate. However, once interactions exist, multiple parameters are always in play at the same time. Additionally, interactions can be specified for either categorical, continuous, or both types of covariates. Thus, making the interpretation of the parameters more difficult.\n",
    "\n",
    "With GLMs, every covariate essentially interacts with itself because of the link function. To demonstrate parameters interacting with themselves, consider the mean of a Gaussian linear model with an identity link function\n",
    "\n",
    "$$\\mu = \\alpha + \\beta x$$\n",
    "\n",
    "where the rate of change in $\\mu$ with respect to $x$ is just $\\beta$, i.e., the rate of change is constant no matter what the value of $x$ is. But when we consider GLMs with link functions used to map outputs to exponential family distribution parameters, calculating the derivative of the mean output $\\mu$ with respect to the predictor is not as straightforward as in the Gaussian linear model. For example, computing the rate of change in a binomial probability $p$ with respect to $x$\n",
    "\n",
    "$$p = \\frac{exp(\\alpha + \\beta x)}{1 + exp(\\alpha + \\beta x)}$$\n",
    "\n",
    "And taking the derivative of $p$ with respect to $x$ yields\n",
    "\n",
    "$$\\frac{\\partial p}{\\partial x} = \\frac{\\beta}{2(1 + cosh(\\alpha + \\beta x))}$$\n",
    "\n",
    "Since $x$ appears in the derivative, the impact of a change in $x$ depends upon $x$, i.e., an interaction with itself even though no interaction term was specified in the model.Thus, visualizing the rate of change in the mean response with respect to a covariate $x$ becomes a useful tool in interpreting GLMs."
   ]
  },
  {
   "cell_type": "markdown",
   "metadata": {},
   "source": [
    "## Average Predictive Slopes\n",
    "\n",
    "Here, we adopt the notation from Chapter 14.4 of [Regression and Other Stories](https://avehtari.github.io/ROS-Examples/) to first describe average predictive differences which is essential to computing `slopes`, and then secondly, average predictive slopes. Assume we have fit a Bambi model predicting an outcome $Y$ based on inputs $X$ and parameters $\\theta$. Consider the following scalar inputs:\n",
    "\n",
    "$$w: \\text{the input of interest}$$\n",
    "$$c: \\text{all the other inputs}$$\n",
    "$$X = (w, c)$$\n",
    "\n",
    "In contrast to `comparisons`, for `slopes` we are interested in comparing $w^{\\text{value}}$ to $w^{\\text{value}+\\epsilon}$ (perhaps age = 60 and 60.0001 respectively) with all other inputs $c$ held constant. The _predictive difference_ in the outcome changing **only** $w$ is:\n",
    "\n",
    "$$\\text{average predictive difference} = \\mathbb{E}(y|w^{\\text{value}+\\epsilon}, c, \\theta) - \\mathbb{E}(y|w^{\\text{value}}, c, \\theta)$$\n",
    "\n",
    "Selecting $w$ and $w^{\\text{value}+\\epsilon}$ and averaging over all other inputs $c$ in the data gives you a new \"hypothetical\" dataset and corresponds to counting all pairs of transitions of $(w^\\text{value})$ to $(w^{\\text{value}+\\epsilon})$, i.e., differences in $w$ with $c$ held constant. The difference between these two terms is the average predictive difference.\n",
    "\n",
    "However, to obtain the slope estimate, we need to take the above formula and divide by $\\epsilon$ to obtain the _average predictive slope_:\n",
    "\n",
    "$$\\text{average predictive slope} = \\frac{\\mathbb{E}(y|w^{\\text{value}+\\epsilon}, c, \\theta) - \\mathbb{E}(y|w^{\\text{value}}, c, \\theta)}{\\epsilon}$$"
   ]
  },
  {
   "cell_type": "markdown",
   "metadata": {},
   "source": [
    "## Computing Slopes\n",
    "\n",
    "The objective of `slopes` and `plot_slopes` is to compute the rate of change (slope) in the mean of the response $y$ with respect to a small change $\\epsilon$ in the predictor $x$ conditional on other covariates $c$ specified in the model. $w$ is specified by the user and the original value is either provided by the user, else a default value (the mean) is computed by Bambi. The values for the other covariates $c$ specified in the model can be determined under the following three scenarios:\n",
    "\n",
    "1. user provided values \n",
    "2. a grid of equally spaced and central values\n",
    "3. empirical distribution (original data used to fit the model)\n",
    "\n",
    "In the case of (1) and (2) above, Bambi assembles all pairwise combinations (transitions) of $w$ and $c$ into a new \"hypothetical\" dataset. In (3), Bambi uses the original $c$, and adds a small amount $\\epsilon$ to each unit of observation's $w$. In each scenario, predictions are made on the data using the fitted model. Once the predictions are made, comparisons are computed using the posterior samples by taking the difference in the predicted outcome for each pair of transitions and dividing by $\\epsilon$. The average of these slopes is the average predictive slopes.\n",
    "\n",
    "For variables $w$ with a string or categorical data type, the `comparisons` function is called to compute the expected difference in group means. Please refer to the [comparisons](https://bambinos.github.io/bambi/notebooks/plot_comparisons.html) documentation for more details.\n",
    "\n",
    "Below, we present several examples showing how to use Bambi to perform these computations for us, and to return either a summary dataframe, or a visualization of the results."
   ]
  },
  {
   "cell_type": "code",
   "execution_count": 4,
   "metadata": {},
   "outputs": [],
   "source": [
    "import arviz as az\n",
    "import pandas as pd\n",
    "import warnings\n",
    "\n",
    "import bambi as bmb\n",
    "\n",
    "warnings.simplefilter(action=\"ignore\", category=FutureWarning)"
   ]
  },
  {
   "cell_type": "markdown",
   "metadata": {},
   "source": [
    "## Logistic Regression\n",
    "\n",
    "To demonstrate `slopes` and `plot_slopes`, we will use the [well switching dataset](https://vincentarelbundock.github.io/Rdatasets/doc/carData/Wells.html) to model the probability a household in Bangladesh switches water wells. The data are for an area of Arahazar Upazila, Bangladesh. The researchers labelled each well with its level of arsenic and an indication of whether the well was “safe” or “unsafe”. Those using unsafe wells were encouraged to switch. After several years, it was determined whether each household using an unsafe well had changed its well. The data contains $3020$ observations on the following five variables:\n",
    "\n",
    "- `switch`: a factor with levels `no` and `yes` indicating whether the household switched to a new well\n",
    "- `arsenic`: the level of arsenic in the old well (measured in micrograms per liter)\n",
    "- `dist`: the distance to the nearest safe well (measured in meters)\n",
    "- `assoc`: a factor with levels `no` and `yes` indicating whether the household is a member of an arsenic education group\n",
    "- `educ`: years of education of the household head\n",
    "\n",
    "First, a logistic regression model with no interactions is fit to the data. Subsequently, to demonstrate the benefits of `plot_slopes` in interpreting interactions, we will fit a logistic regression model with an interaction term."
   ]
  },
  {
   "cell_type": "code",
   "execution_count": 5,
   "metadata": {},
   "outputs": [
    {
     "data": {
      "text/html": [
       "<div>\n",
       "<style scoped>\n",
       "    .dataframe tbody tr th:only-of-type {\n",
       "        vertical-align: middle;\n",
       "    }\n",
       "\n",
       "    .dataframe tbody tr th {\n",
       "        vertical-align: top;\n",
       "    }\n",
       "\n",
       "    .dataframe thead th {\n",
       "        text-align: right;\n",
       "    }\n",
       "</style>\n",
       "<table border=\"1\" class=\"dataframe\">\n",
       "  <thead>\n",
       "    <tr style=\"text-align: right;\">\n",
       "      <th></th>\n",
       "      <th>switch</th>\n",
       "      <th>arsenic</th>\n",
       "      <th>dist</th>\n",
       "      <th>assoc</th>\n",
       "      <th>educ</th>\n",
       "      <th>dist100</th>\n",
       "      <th>educ4</th>\n",
       "    </tr>\n",
       "  </thead>\n",
       "  <tbody>\n",
       "    <tr>\n",
       "      <th>1</th>\n",
       "      <td>1</td>\n",
       "      <td>2.36</td>\n",
       "      <td>16.826000</td>\n",
       "      <td>0</td>\n",
       "      <td>0</td>\n",
       "      <td>0.16826</td>\n",
       "      <td>0.0</td>\n",
       "    </tr>\n",
       "    <tr>\n",
       "      <th>2</th>\n",
       "      <td>1</td>\n",
       "      <td>0.71</td>\n",
       "      <td>47.321999</td>\n",
       "      <td>0</td>\n",
       "      <td>0</td>\n",
       "      <td>0.47322</td>\n",
       "      <td>0.0</td>\n",
       "    </tr>\n",
       "    <tr>\n",
       "      <th>3</th>\n",
       "      <td>0</td>\n",
       "      <td>2.07</td>\n",
       "      <td>20.966999</td>\n",
       "      <td>0</td>\n",
       "      <td>10</td>\n",
       "      <td>0.20967</td>\n",
       "      <td>2.5</td>\n",
       "    </tr>\n",
       "    <tr>\n",
       "      <th>4</th>\n",
       "      <td>1</td>\n",
       "      <td>1.15</td>\n",
       "      <td>21.486000</td>\n",
       "      <td>0</td>\n",
       "      <td>12</td>\n",
       "      <td>0.21486</td>\n",
       "      <td>3.0</td>\n",
       "    </tr>\n",
       "    <tr>\n",
       "      <th>5</th>\n",
       "      <td>1</td>\n",
       "      <td>1.10</td>\n",
       "      <td>40.874001</td>\n",
       "      <td>1</td>\n",
       "      <td>14</td>\n",
       "      <td>0.40874</td>\n",
       "      <td>3.5</td>\n",
       "    </tr>\n",
       "  </tbody>\n",
       "</table>\n",
       "</div>"
      ],
      "text/plain": [
       "  switch  arsenic       dist  assoc  educ  dist100  educ4\n",
       "1      1     2.36  16.826000      0     0  0.16826    0.0\n",
       "2      1     0.71  47.321999      0     0  0.47322    0.0\n",
       "3      0     2.07  20.966999      0    10  0.20967    2.5\n",
       "4      1     1.15  21.486000      0    12  0.21486    3.0\n",
       "5      1     1.10  40.874001      1    14  0.40874    3.5"
      ]
     },
     "execution_count": 5,
     "metadata": {},
     "output_type": "execute_result"
    }
   ],
   "source": [
    "data = pd.read_csv(\"http://www.stat.columbia.edu/~gelman/arm/examples/arsenic/wells.dat\", sep=\" \")\n",
    "data[\"switch\"] = pd.Categorical(data[\"switch\"])\n",
    "data[\"dist100\"] = data[\"dist\"] / 100\n",
    "data[\"educ4\"] = data[\"educ\"] / 4\n",
    "data.head()"
   ]
  },
  {
   "cell_type": "code",
   "execution_count": 6,
   "metadata": {},
   "outputs": [
    {
     "name": "stderr",
     "output_type": "stream",
     "text": [
      "Modeling the probability that switch==0\n",
      "Auto-assigning NUTS sampler...\n",
      "Initializing NUTS using jitter+adapt_diag...\n",
      "Multiprocess sampling (4 chains in 4 jobs)\n",
      "NUTS: [Intercept, dist100, arsenic, educ4]\n"
     ]
    },
    {
     "data": {
      "text/html": [
       "\n",
       "<style>\n",
       "    /* Turns off some styling */\n",
       "    progress {\n",
       "        /* gets rid of default border in Firefox and Opera. */\n",
       "        border: none;\n",
       "        /* Needs to be in here for Safari polyfill so background images work as expected. */\n",
       "        background-size: auto;\n",
       "    }\n",
       "    progress:not([value]), progress:not([value])::-webkit-progress-bar {\n",
       "        background: repeating-linear-gradient(45deg, #7e7e7e, #7e7e7e 10px, #5c5c5c 10px, #5c5c5c 20px);\n",
       "    }\n",
       "    .progress-bar-interrupted, .progress-bar-interrupted::-webkit-progress-bar {\n",
       "        background: #F44336;\n",
       "    }\n",
       "</style>\n"
      ],
      "text/plain": [
       "<IPython.core.display.HTML object>"
      ]
     },
     "metadata": {},
     "output_type": "display_data"
    },
    {
     "data": {
      "text/html": [
       "\n",
       "    <div>\n",
       "      <progress value='8000' class='' max='8000' style='width:300px; height:20px; vertical-align: middle;'></progress>\n",
       "      100.00% [8000/8000 00:02&lt;00:00 Sampling 4 chains, 0 divergences]\n",
       "    </div>\n",
       "    "
      ],
      "text/plain": [
       "<IPython.core.display.HTML object>"
      ]
     },
     "metadata": {},
     "output_type": "display_data"
    },
    {
     "name": "stderr",
     "output_type": "stream",
     "text": [
      "Sampling 4 chains for 1_000 tune and 1_000 draw iterations (4_000 + 4_000 draws total) took 3 seconds.\n"
     ]
    }
   ],
   "source": [
    "well_model = bmb.Model(\n",
    "    \"switch ~ dist100 + arsenic + educ4\",\n",
    "    data,\n",
    "    family=\"bernoulli\"\n",
    ")\n",
    "\n",
    "well_idata = well_model.fit(\n",
    "    draws=1000, \n",
    "    target_accept=0.95, \n",
    "    random_seed=1234, \n",
    "    chains=4\n",
    ")"
   ]
  },
  {
   "cell_type": "markdown",
   "metadata": {},
   "source": [
    "### User provided values\n",
    "\n",
    "First, an example of scenario 1 (user provided values) is given below. In both `plot_slopes` and `slopes`, $w$ and $c$ are represented by `wrt` (with respect to) and `conditional`, respectively. The modeler has the ability to pass their own values for `wrt` and `conditional` by using a dictionary where the key-value pairs are the covariate and value(s) of interest.\n",
    "\n",
    "For example, if we wanted to compute the slope of the probability of switching wells for a typical `arsenic` value of $1.3$ conditional on a range of `dist` and `educ` values, we would pass the following dictionary in the code block below. By default, for $w$, Bambi compares $w^\\text{value}$ to $w^{\\text{value} + \\epsilon}$ where $\\epsilon =$ `1e-4`. However, the value for $\\epsilon$ can be changed by passing a value to the argument `eps`. \n",
    "\n",
    "Thus, in this example, $w^\\text{value} = 1.3$ and $w^{\\text{value} + \\epsilon} = 1.3001$. The user is not limited to passing a list for the values. A `np.array` can also be used. Furthermore, Bambi by default, maps the order of the dict keys to the main, group, and panel of the matplotlib figure. Below, since `dist100` is the first key, this is used for the x-axis, and `educ4` is used for the group (color). If a third key was passed, it would be used for the panel (facet)."
   ]
  },
  {
   "cell_type": "code",
   "execution_count": 7,
   "metadata": {},
   "outputs": [
    {
     "data": {
      "image/png": "[encoded data removed]",
      "text/plain": [
       "<Figure size 700x300 with 1 Axes>"
      ]
     },
     "metadata": {},
     "output_type": "display_data"
    }
   ],
   "source": [
    "fig, ax = bmb.interpret.plot_slopes(\n",
    "    well_model,\n",
    "    well_idata,\n",
    "    wrt={\"arsenic\": 1.3},\n",
    "    conditional={\"dist100\": [0.20, 0.50, 0.80], \"educ4\": [1.00, 1.20, 2.00]},\n",
    ")\n",
    "fig.set_size_inches(7, 3)\n",
    "fig.axes[0].set_ylabel(\"Slope of Well Switching Probability\");"
   ]
  },
  {
   "cell_type": "markdown",
   "metadata": {},
   "source": [
    "The plot above shows that, for example, conditional on `dist100` $= 0.2$ and `educ4` $= 1.0$ a unit increase in `arsenic` is associated with households being $11$% less likely to switch wells. Notice that even though we fit a logistic regression model where the coefficients are on the log-odds scale, the `slopes` function returns the slope on the probability scale. Thus, we can interpret the y-axis (slope) as the expected change in the probability of switching wells for a unit increase in `arsenic` conditional on the specified covariates.\n",
    "\n",
    "`slopes` can be called directly to view a summary dataframe that includes the term name, estimate type (discussed in detail in the _interpreting coefficients as an elasticity_ section), values $w$ used to compute the estimate, the specified conditional covariates $c$, and the expected slope of the outcome with the uncertainty interval (by default the $94$% highest density interval is computed)."
   ]
  },
  {
   "cell_type": "code",
   "execution_count": 8,
   "metadata": {},
   "outputs": [
    {
     "data": {
      "text/html": [
       "<div>\n",
       "<style scoped>\n",
       "    .dataframe tbody tr th:only-of-type {\n",
       "        vertical-align: middle;\n",
       "    }\n",
       "\n",
       "    .dataframe tbody tr th {\n",
       "        vertical-align: top;\n",
       "    }\n",
       "\n",
       "    .dataframe thead th {\n",
       "        text-align: right;\n",
       "    }\n",
       "</style>\n",
       "<table border=\"1\" class=\"dataframe\">\n",
       "  <thead>\n",
       "    <tr style=\"text-align: right;\">\n",
       "      <th></th>\n",
       "      <th>term</th>\n",
       "      <th>estimate_type</th>\n",
       "      <th>value</th>\n",
       "      <th>dist100</th>\n",
       "      <th>educ4</th>\n",
       "      <th>estimate</th>\n",
       "      <th>lower_3.0%</th>\n",
       "      <th>upper_97.0%</th>\n",
       "    </tr>\n",
       "  </thead>\n",
       "  <tbody>\n",
       "    <tr>\n",
       "      <th>0</th>\n",
       "      <td>arsenic</td>\n",
       "      <td>dydx</td>\n",
       "      <td>(1.5, 1.5001)</td>\n",
       "      <td>0.2</td>\n",
       "      <td>1.0</td>\n",
       "      <td>-0.110797</td>\n",
       "      <td>-0.128775</td>\n",
       "      <td>-0.092806</td>\n",
       "    </tr>\n",
       "    <tr>\n",
       "      <th>1</th>\n",
       "      <td>arsenic</td>\n",
       "      <td>dydx</td>\n",
       "      <td>(1.5, 1.5001)</td>\n",
       "      <td>0.2</td>\n",
       "      <td>1.2</td>\n",
       "      <td>-0.109867</td>\n",
       "      <td>-0.126725</td>\n",
       "      <td>-0.091065</td>\n",
       "    </tr>\n",
       "    <tr>\n",
       "      <th>2</th>\n",
       "      <td>arsenic</td>\n",
       "      <td>dydx</td>\n",
       "      <td>(1.5, 1.5001)</td>\n",
       "      <td>0.2</td>\n",
       "      <td>2.0</td>\n",
       "      <td>-0.105618</td>\n",
       "      <td>-0.122685</td>\n",
       "      <td>-0.088383</td>\n",
       "    </tr>\n",
       "    <tr>\n",
       "      <th>3</th>\n",
       "      <td>arsenic</td>\n",
       "      <td>dydx</td>\n",
       "      <td>(1.5, 1.5001)</td>\n",
       "      <td>0.5</td>\n",
       "      <td>1.0</td>\n",
       "      <td>-0.116087</td>\n",
       "      <td>-0.134965</td>\n",
       "      <td>-0.096843</td>\n",
       "    </tr>\n",
       "    <tr>\n",
       "      <th>4</th>\n",
       "      <td>arsenic</td>\n",
       "      <td>dydx</td>\n",
       "      <td>(1.5, 1.5001)</td>\n",
       "      <td>0.5</td>\n",
       "      <td>1.2</td>\n",
       "      <td>-0.115632</td>\n",
       "      <td>-0.134562</td>\n",
       "      <td>-0.096543</td>\n",
       "    </tr>\n",
       "    <tr>\n",
       "      <th>5</th>\n",
       "      <td>arsenic</td>\n",
       "      <td>dydx</td>\n",
       "      <td>(1.5, 1.5001)</td>\n",
       "      <td>0.5</td>\n",
       "      <td>2.0</td>\n",
       "      <td>-0.113140</td>\n",
       "      <td>-0.130448</td>\n",
       "      <td>-0.093209</td>\n",
       "    </tr>\n",
       "    <tr>\n",
       "      <th>6</th>\n",
       "      <td>arsenic</td>\n",
       "      <td>dydx</td>\n",
       "      <td>(1.5, 1.5001)</td>\n",
       "      <td>0.8</td>\n",
       "      <td>1.0</td>\n",
       "      <td>-0.117262</td>\n",
       "      <td>-0.136850</td>\n",
       "      <td>-0.098549</td>\n",
       "    </tr>\n",
       "    <tr>\n",
       "      <th>7</th>\n",
       "      <td>arsenic</td>\n",
       "      <td>dydx</td>\n",
       "      <td>(1.5, 1.5001)</td>\n",
       "      <td>0.8</td>\n",
       "      <td>1.2</td>\n",
       "      <td>-0.117347</td>\n",
       "      <td>-0.136475</td>\n",
       "      <td>-0.098044</td>\n",
       "    </tr>\n",
       "    <tr>\n",
       "      <th>8</th>\n",
       "      <td>arsenic</td>\n",
       "      <td>dydx</td>\n",
       "      <td>(1.5, 1.5001)</td>\n",
       "      <td>0.8</td>\n",
       "      <td>2.0</td>\n",
       "      <td>-0.116957</td>\n",
       "      <td>-0.135079</td>\n",
       "      <td>-0.096476</td>\n",
       "    </tr>\n",
       "  </tbody>\n",
       "</table>\n",
       "</div>"
      ],
      "text/plain": [
       "      term estimate_type          value  dist100  educ4  estimate  lower_3.0%   \n",
       "0  arsenic          dydx  (1.5, 1.5001)      0.2    1.0 -0.110797   -0.128775  \\\n",
       "1  arsenic          dydx  (1.5, 1.5001)      0.2    1.2 -0.109867   -0.126725   \n",
       "2  arsenic          dydx  (1.5, 1.5001)      0.2    2.0 -0.105618   -0.122685   \n",
       "3  arsenic          dydx  (1.5, 1.5001)      0.5    1.0 -0.116087   -0.134965   \n",
       "4  arsenic          dydx  (1.5, 1.5001)      0.5    1.2 -0.115632   -0.134562   \n",
       "5  arsenic          dydx  (1.5, 1.5001)      0.5    2.0 -0.113140   -0.130448   \n",
       "6  arsenic          dydx  (1.5, 1.5001)      0.8    1.0 -0.117262   -0.136850   \n",
       "7  arsenic          dydx  (1.5, 1.5001)      0.8    1.2 -0.117347   -0.136475   \n",
       "8  arsenic          dydx  (1.5, 1.5001)      0.8    2.0 -0.116957   -0.135079   \n",
       "\n",
       "   upper_97.0%  \n",
       "0    -0.092806  \n",
       "1    -0.091065  \n",
       "2    -0.088383  \n",
       "3    -0.096843  \n",
       "4    -0.096543  \n",
       "5    -0.093209  \n",
       "6    -0.098549  \n",
       "7    -0.098044  \n",
       "8    -0.096476  "
      ]
     },
     "execution_count": 8,
     "metadata": {},
     "output_type": "execute_result"
    }
   ],
   "source": [
    "bmb.interpret.slopes(\n",
    "    well_model,\n",
    "    well_idata,\n",
    "    wrt={\"arsenic\": 1.5},\n",
    "    conditional={\n",
    "        \"dist100\": [0.20, 0.50, 0.80], \n",
    "        \"educ4\": [1.00, 1.20, 2.00]\n",
    "        }\n",
    ")"
   ]
  },
  {
   "cell_type": "markdown",
   "metadata": {},
   "source": [
    "Since all covariates used to fit the model were also specified to compute the slopes, no default value is used for unspecified covariates. A default value is computed for the unspecified covariates because in order to peform predictions, Bambi is expecting a value for each covariate used to fit the model. Additionally, with GLM models, average predictive slopes are conditional in the sense that the estimate depends on the values of **all** the covariates in the model. Thus, for unspecified covariates, `slopes` and `plot_slopes` computes a default value (mean or mode based on the data type of the covariate). Each row in the summary dataframe is read as \"the slope (or rate of change) of the probability of switching wells with respect to a small change in $w$ conditional on $c$ is $y$\"."
   ]
  },
  {
   "cell_type": "markdown",
   "metadata": {},
   "source": [
    "### Multiple slope values\n",
    "\n",
    "Users can also compute slopes on multiple values for `wrt`. For example, if we want to compute the slope of $y$ with respect to `arsenic` $= 1.5$, $2.0$, and $2.5$, simply pass a list or numpy array as the dictionary values for `wrt`. Keeping the conditional covariate and values the same, the following slope estimates are computed below."
   ]
  },
  {
   "cell_type": "code",
   "execution_count": 8,
   "metadata": {},
   "outputs": [
    {
     "data": {
      "text/html": [
       "<div>\n",
       "<style scoped>\n",
       "    .dataframe tbody tr th:only-of-type {\n",
       "        vertical-align: middle;\n",
       "    }\n",
       "\n",
       "    .dataframe tbody tr th {\n",
       "        vertical-align: top;\n",
       "    }\n",
       "\n",
       "    .dataframe thead th {\n",
       "        text-align: right;\n",
       "    }\n",
       "</style>\n",
       "<table border=\"1\" class=\"dataframe\">\n",
       "  <thead>\n",
       "    <tr style=\"text-align: right;\">\n",
       "      <th></th>\n",
       "      <th>term</th>\n",
       "      <th>estimate_type</th>\n",
       "      <th>value</th>\n",
       "      <th>dist100</th>\n",
       "      <th>educ4</th>\n",
       "      <th>estimate</th>\n",
       "      <th>lower_3.0%</th>\n",
       "      <th>upper_97.0%</th>\n",
       "    </tr>\n",
       "  </thead>\n",
       "  <tbody>\n",
       "    <tr>\n",
       "      <th>0</th>\n",
       "      <td>arsenic</td>\n",
       "      <td>dydx</td>\n",
       "      <td>(1.5, 1.5001)</td>\n",
       "      <td>0.2</td>\n",
       "      <td>1.0</td>\n",
       "      <td>-0.110797</td>\n",
       "      <td>-0.128775</td>\n",
       "      <td>-0.092806</td>\n",
       "    </tr>\n",
       "    <tr>\n",
       "      <th>1</th>\n",
       "      <td>arsenic</td>\n",
       "      <td>dydx</td>\n",
       "      <td>(2.0, 2.0001)</td>\n",
       "      <td>0.2</td>\n",
       "      <td>1.0</td>\n",
       "      <td>-0.109867</td>\n",
       "      <td>-0.126725</td>\n",
       "      <td>-0.091065</td>\n",
       "    </tr>\n",
       "    <tr>\n",
       "      <th>2</th>\n",
       "      <td>arsenic</td>\n",
       "      <td>dydx</td>\n",
       "      <td>(2.5, 2.5001)</td>\n",
       "      <td>0.2</td>\n",
       "      <td>1.0</td>\n",
       "      <td>-0.105618</td>\n",
       "      <td>-0.122685</td>\n",
       "      <td>-0.088383</td>\n",
       "    </tr>\n",
       "    <tr>\n",
       "      <th>3</th>\n",
       "      <td>arsenic</td>\n",
       "      <td>dydx</td>\n",
       "      <td>(1.5, 1.5001)</td>\n",
       "      <td>0.2</td>\n",
       "      <td>1.2</td>\n",
       "      <td>-0.116087</td>\n",
       "      <td>-0.134965</td>\n",
       "      <td>-0.096843</td>\n",
       "    </tr>\n",
       "    <tr>\n",
       "      <th>4</th>\n",
       "      <td>arsenic</td>\n",
       "      <td>dydx</td>\n",
       "      <td>(2.0, 2.0001)</td>\n",
       "      <td>0.2</td>\n",
       "      <td>1.2</td>\n",
       "      <td>-0.115632</td>\n",
       "      <td>-0.134562</td>\n",
       "      <td>-0.096543</td>\n",
       "    </tr>\n",
       "    <tr>\n",
       "      <th>5</th>\n",
       "      <td>arsenic</td>\n",
       "      <td>dydx</td>\n",
       "      <td>(2.5, 2.5001)</td>\n",
       "      <td>0.2</td>\n",
       "      <td>1.2</td>\n",
       "      <td>-0.113140</td>\n",
       "      <td>-0.130448</td>\n",
       "      <td>-0.093209</td>\n",
       "    </tr>\n",
       "  </tbody>\n",
       "</table>\n",
       "</div>"
      ],
      "text/plain": [
       "      term estimate_type          value  dist100  educ4  estimate  lower_3.0%  \\\n",
       "0  arsenic          dydx  (1.5, 1.5001)      0.2    1.0 -0.110797   -0.128775   \n",
       "1  arsenic          dydx  (2.0, 2.0001)      0.2    1.0 -0.109867   -0.126725   \n",
       "2  arsenic          dydx  (2.5, 2.5001)      0.2    1.0 -0.105618   -0.122685   \n",
       "3  arsenic          dydx  (1.5, 1.5001)      0.2    1.2 -0.116087   -0.134965   \n",
       "4  arsenic          dydx  (2.0, 2.0001)      0.2    1.2 -0.115632   -0.134562   \n",
       "5  arsenic          dydx  (2.5, 2.5001)      0.2    1.2 -0.113140   -0.130448   \n",
       "\n",
       "   upper_97.0%  \n",
       "0    -0.092806  \n",
       "1    -0.091065  \n",
       "2    -0.088383  \n",
       "3    -0.096843  \n",
       "4    -0.096543  \n",
       "5    -0.093209  "
      ]
     },
     "execution_count": 8,
     "metadata": {},
     "output_type": "execute_result"
    }
   ],
   "source": [
    "multiple_values = bmb.interpret.slopes(\n",
    "    well_model,\n",
    "    well_idata,\n",
    "    wrt={\"arsenic\": [1.5, 2.0, 2.5]},\n",
    "    conditional={\n",
    "        \"dist100\": [0.20, 0.50, 0.80], \n",
    "        \"educ4\": [1.00, 1.20, 2.00]\n",
    "        }\n",
    ")\n",
    "\n",
    "multiple_values.head(6)"
   ]
  },
  {
   "cell_type": "markdown",
   "metadata": {},
   "source": [
    "The output above is essentially the same as the summary dataframe when we only passed one value to `wrt`. However, now each element (value) in the list gets a small amount $\\epsilon$ added to it, and the slope is calculated for each of these values."
   ]
  },
  {
   "cell_type": "markdown",
   "metadata": {},
   "source": [
    "### Conditional slopes\n",
    "\n",
    "As stated in the _interpreting interaction effects_ section, interpreting coefficients of multiple interaction terms can be difficult and cumbersome. Thus, `plot_slopes` provides an effective way to visualize the conditional slopes of the interaction effects. Below, we will use the same well switching dataset, but with interaction terms. Specifically, one interaction is added between `dist100` and `educ4`, and another between `arsenic` and `educ4`."
   ]
  },
  {
   "cell_type": "code",
   "execution_count": 10,
   "metadata": {},
   "outputs": [
    {
     "name": "stderr",
     "output_type": "stream",
     "text": [
      "Modeling the probability that switch==0\n",
      "Auto-assigning NUTS sampler...\n",
      "Initializing NUTS using jitter+adapt_diag...\n",
      "Multiprocess sampling (4 chains in 4 jobs)\n",
      "NUTS: [Intercept, dist100, arsenic, educ4, dist100:educ4, arsenic:educ4]\n"
     ]
    },
    {
     "data": {
      "text/html": [
       "\n",
       "<style>\n",
       "    /* Turns off some styling */\n",
       "    progress {\n",
       "        /* gets rid of default border in Firefox and Opera. */\n",
       "        border: none;\n",
       "        /* Needs to be in here for Safari polyfill so background images work as expected. */\n",
       "        background-size: auto;\n",
       "    }\n",
       "    progress:not([value]), progress:not([value])::-webkit-progress-bar {\n",
       "        background: repeating-linear-gradient(45deg, #7e7e7e, #7e7e7e 10px, #5c5c5c 10px, #5c5c5c 20px);\n",
       "    }\n",
       "    .progress-bar-interrupted, .progress-bar-interrupted::-webkit-progress-bar {\n",
       "        background: #F44336;\n",
       "    }\n",
       "</style>\n"
      ],
      "text/plain": [
       "<IPython.core.display.HTML object>"
      ]
     },
     "metadata": {},
     "output_type": "display_data"
    },
    {
     "data": {
      "text/html": [
       "\n",
       "    <div>\n",
       "      <progress value='4000' class='' max='4000' style='width:300px; height:20px; vertical-align: middle;'></progress>\n",
       "      100.00% [4000/4000 00:02&lt;00:00 Sampling 4 chains, 0 divergences]\n",
       "    </div>\n",
       "    "
      ],
      "text/plain": [
       "<IPython.core.display.HTML object>"
      ]
     },
     "metadata": {},
     "output_type": "display_data"
    },
    {
     "name": "stderr",
     "output_type": "stream",
     "text": [
      "Sampling 4 chains for 500 tune and 500 draw iterations (2_000 + 2_000 draws total) took 2 seconds.\n"
     ]
    }
   ],
   "source": [
    "well_model_interact = bmb.Model(\n",
    "    \"switch ~ dist100 + arsenic + educ4 + dist100:educ4 + arsenic:educ4\",\n",
    "    data,\n",
    "    family=\"bernoulli\"\n",
    ")\n",
    "\n",
    "well_idata_interact = well_model_interact.fit(\n",
    "    draws=500, \n",
    "    tune=500,\n",
    "    target_accept=0.95, \n",
    "    random_seed=1234, \n",
    "    chains=4\n",
    ")"
   ]
  },
  {
   "cell_type": "code",
   "execution_count": 11,
   "metadata": {},
   "outputs": [
    {
     "data": {
      "text/html": [
       "<div>\n",
       "<style scoped>\n",
       "    .dataframe tbody tr th:only-of-type {\n",
       "        vertical-align: middle;\n",
       "    }\n",
       "\n",
       "    .dataframe tbody tr th {\n",
       "        vertical-align: top;\n",
       "    }\n",
       "\n",
       "    .dataframe thead th {\n",
       "        text-align: right;\n",
       "    }\n",
       "</style>\n",
       "<table border=\"1\" class=\"dataframe\">\n",
       "  <thead>\n",
       "    <tr style=\"text-align: right;\">\n",
       "      <th></th>\n",
       "      <th>mean</th>\n",
       "      <th>sd</th>\n",
       "      <th>hdi_3%</th>\n",
       "      <th>hdi_97%</th>\n",
       "      <th>mcse_mean</th>\n",
       "      <th>mcse_sd</th>\n",
       "      <th>ess_bulk</th>\n",
       "      <th>ess_tail</th>\n",
       "      <th>r_hat</th>\n",
       "    </tr>\n",
       "  </thead>\n",
       "  <tbody>\n",
       "    <tr>\n",
       "      <th>Intercept</th>\n",
       "      <td>-0.097</td>\n",
       "      <td>0.122</td>\n",
       "      <td>-0.322</td>\n",
       "      <td>0.137</td>\n",
       "      <td>0.003</td>\n",
       "      <td>0.002</td>\n",
       "      <td>2259.0</td>\n",
       "      <td>2203.0</td>\n",
       "      <td>1.0</td>\n",
       "    </tr>\n",
       "    <tr>\n",
       "      <th>dist100</th>\n",
       "      <td>1.320</td>\n",
       "      <td>0.175</td>\n",
       "      <td>0.982</td>\n",
       "      <td>1.640</td>\n",
       "      <td>0.004</td>\n",
       "      <td>0.003</td>\n",
       "      <td>2085.0</td>\n",
       "      <td>2457.0</td>\n",
       "      <td>1.0</td>\n",
       "    </tr>\n",
       "    <tr>\n",
       "      <th>arsenic</th>\n",
       "      <td>-0.398</td>\n",
       "      <td>0.061</td>\n",
       "      <td>-0.521</td>\n",
       "      <td>-0.291</td>\n",
       "      <td>0.001</td>\n",
       "      <td>0.001</td>\n",
       "      <td>2141.0</td>\n",
       "      <td>2558.0</td>\n",
       "      <td>1.0</td>\n",
       "    </tr>\n",
       "    <tr>\n",
       "      <th>educ4</th>\n",
       "      <td>0.102</td>\n",
       "      <td>0.080</td>\n",
       "      <td>-0.053</td>\n",
       "      <td>0.246</td>\n",
       "      <td>0.002</td>\n",
       "      <td>0.001</td>\n",
       "      <td>1935.0</td>\n",
       "      <td>2184.0</td>\n",
       "      <td>1.0</td>\n",
       "    </tr>\n",
       "    <tr>\n",
       "      <th>dist100:educ4</th>\n",
       "      <td>-0.330</td>\n",
       "      <td>0.106</td>\n",
       "      <td>-0.528</td>\n",
       "      <td>-0.136</td>\n",
       "      <td>0.002</td>\n",
       "      <td>0.002</td>\n",
       "      <td>2070.0</td>\n",
       "      <td>2331.0</td>\n",
       "      <td>1.0</td>\n",
       "    </tr>\n",
       "    <tr>\n",
       "      <th>arsenic:educ4</th>\n",
       "      <td>-0.079</td>\n",
       "      <td>0.043</td>\n",
       "      <td>-0.161</td>\n",
       "      <td>-0.000</td>\n",
       "      <td>0.001</td>\n",
       "      <td>0.001</td>\n",
       "      <td>2006.0</td>\n",
       "      <td>2348.0</td>\n",
       "      <td>1.0</td>\n",
       "    </tr>\n",
       "  </tbody>\n",
       "</table>\n",
       "</div>"
      ],
      "text/plain": [
       "                mean     sd  hdi_3%  hdi_97%  mcse_mean  mcse_sd  ess_bulk   \n",
       "Intercept     -0.097  0.122  -0.322    0.137      0.003    0.002    2259.0  \\\n",
       "dist100        1.320  0.175   0.982    1.640      0.004    0.003    2085.0   \n",
       "arsenic       -0.398  0.061  -0.521   -0.291      0.001    0.001    2141.0   \n",
       "educ4          0.102  0.080  -0.053    0.246      0.002    0.001    1935.0   \n",
       "dist100:educ4 -0.330  0.106  -0.528   -0.136      0.002    0.002    2070.0   \n",
       "arsenic:educ4 -0.079  0.043  -0.161   -0.000      0.001    0.001    2006.0   \n",
       "\n",
       "               ess_tail  r_hat  \n",
       "Intercept        2203.0    1.0  \n",
       "dist100          2457.0    1.0  \n",
       "arsenic          2558.0    1.0  \n",
       "educ4            2184.0    1.0  \n",
       "dist100:educ4    2331.0    1.0  \n",
       "arsenic:educ4    2348.0    1.0  "
      ]
     },
     "execution_count": 11,
     "metadata": {},
     "output_type": "execute_result"
    }
   ],
   "source": [
    "# summary of coefficients\n",
    "az.summary(well_idata_interact)"
   ]
  },
  {
   "cell_type": "markdown",
   "metadata": {},
   "source": [
    "The coefficients of the linear model are shown in the table above. The interaction coefficents indicate the slope varies in a continuous fashion with the continuous variable.\n",
    "\n",
    "A negative value for `arsenic:dist100` indicates that the \"effect\" of arsenic on the outcome is less negative as distance from the well increases. Similarly, a negative value for `arsenic:educ4` indicates that the \"effect\" of arsenic on the outcome is more negative as education increases. Remember, these coefficients are still on the logit scale. Furthermore, as more variables and interaction terms are added to the model, interpreting these coefficients becomes more difficult. \n",
    "\n",
    "Thus, lets use `plot_slopes` to visually see how the slope changes with respect to `arsenic` conditional on `dist100` and `educ4` changing. Notice in the code block below how parameters are passed to the `subplot_kwargs` and `fig_kwargs` arguments. At times, it can be useful to pass specific `group` and `panel` arguments to aid in the interpretation of the plot. Therefore, `subplot_kwargs` allows the user to manipulate the plotting by passing a dictionary where the keys are `{\"main\": ..., \"group\": ..., \"panel\": ...}` and the values are the names of the covariates to be plotted. `fig_kwargs` are figure level key word arguments such as `figsize` and `sharey`."
   ]
  },
  {
   "cell_type": "code",
   "execution_count": 11,
   "metadata": {},
   "outputs": [
    {
     "name": "stderr",
     "output_type": "stream",
     "text": [
      "Default computed for wrt variable: arsenic\n",
      "Default computed for main variable: dist100\n",
      "Default computed for group/panel variable: educ4\n"
     ]
    },
    {
     "data": {
      "image/png": "[encoded data removed]",
      "text/plain": [
       "<Figure size 1600x400 with 4 Axes>"
      ]
     },
     "metadata": {},
     "output_type": "display_data"
    }
   ],
   "source": [
    "fig, ax = bmb.interpret.plot_slopes(\n",
    "    well_model_interact,\n",
    "    well_idata_interact,\n",
    "    wrt=\"arsenic\",\n",
    "    conditional=[\"dist100\", \"educ4\"],\n",
    "    subplot_kwargs={\"main\": \"dist100\", \"group\": \"educ4\", \"panel\": \"educ4\"},\n",
    "    fig_kwargs={\"figsize\": (16, 4), \"sharey\": True},\n",
    "    legend=False\n",
    ")"
   ]
  },
  {
   "cell_type": "markdown",
   "metadata": {},
   "source": [
    "Before we talk about the plot, you will notice that some messages have been logged to the console. By default `interpret` is _verbose_ and logs a message to the console if a default value is computed for covariates in `conditional` and `wrt`. This is useful because unless the documentation is read, it can be difficult to tell which covariates are having default values computed for. Thus, Bambi has a config file `bmb.config[\"INTERPRET_VERBOSE\"]` where we can specify whether or not to log messages. By default, this is set to true. To turn off logging, set `bmb.config[\"INTERPRET_VERBOSE\"] = False`. From here on, we will turn off logging.\n",
    "\n",
    "With interaction terms now defined, it can be seen how the slope of the outcome with respect to `arsenic` differ depending on the value of `educ4`. Especially in the case of `educ4` $= 4.25$, the slope is more \"constant\", but with greater uncertainty. Lets compare this with the model that does not include any interaction terms."
   ]
  },
  {
   "cell_type": "code",
   "execution_count": 12,
   "metadata": {},
   "outputs": [],
   "source": [
    "bmb.config[\"INTERPRET_VERBOSE\"] = False"
   ]
  },
  {
   "cell_type": "code",
   "execution_count": 13,
   "metadata": {},
   "outputs": [
    {
     "data": {
      "image/png": "[encoded data removed]",
      "text/plain": [
       "<Figure size 1600x400 with 4 Axes>"
      ]
     },
     "metadata": {},
     "output_type": "display_data"
    }
   ],
   "source": [
    "fig, ax = bmb.interpret.plot_slopes(\n",
    "    well_model,\n",
    "    well_idata,\n",
    "    wrt=\"arsenic\",\n",
    "    conditional=[\"dist100\", \"educ4\"],\n",
    "    subplot_kwargs={\"main\": \"dist100\", \"group\": \"educ4\", \"panel\": \"educ4\"},\n",
    "    fig_kwargs={\"figsize\": (16, 4), \"sharey\": True},\n",
    "    legend=False\n",
    ")"
   ]
  },
  {
   "cell_type": "markdown",
   "metadata": {},
   "source": [
    "For the non-interaction model, conditional on a range of values for `educ4` and `dist100`, the slopes of the outcome are nearly identical."
   ]
  },
  {
   "cell_type": "markdown",
   "metadata": {},
   "source": [
    "### Unit level slopes\n",
    "\n",
    "Evaluating average predictive slopes at central values for the conditional covariates $c$ can be problematic when the inputs have a large variance since no single central value (mean, median, etc.) is representative of the covariate. This is especially true when $c$ exhibits bi or multimodality. Thus, it may be desireable to use the empirical distribution of $c$ to compute the predictive slopes, and then average over a specific or set of covariates to obtain average slopes. To achieve unit level slopes, do not pass a parameter into `conditional` and or specify `None`."
   ]
  },
  {
   "cell_type": "code",
   "execution_count": 14,
   "metadata": {},
   "outputs": [
    {
     "name": "stdout",
     "output_type": "stream",
     "text": [
      "True\n"
     ]
    },
    {
     "data": {
      "text/html": [
       "<div>\n",
       "<style scoped>\n",
       "    .dataframe tbody tr th:only-of-type {\n",
       "        vertical-align: middle;\n",
       "    }\n",
       "\n",
       "    .dataframe tbody tr th {\n",
       "        vertical-align: top;\n",
       "    }\n",
       "\n",
       "    .dataframe thead th {\n",
       "        text-align: right;\n",
       "    }\n",
       "</style>\n",
       "<table border=\"1\" class=\"dataframe\">\n",
       "  <thead>\n",
       "    <tr style=\"text-align: right;\">\n",
       "      <th></th>\n",
       "      <th>term</th>\n",
       "      <th>estimate_type</th>\n",
       "      <th>value</th>\n",
       "      <th>dist100</th>\n",
       "      <th>educ4</th>\n",
       "      <th>estimate</th>\n",
       "      <th>lower_3.0%</th>\n",
       "      <th>upper_97.0%</th>\n",
       "    </tr>\n",
       "  </thead>\n",
       "  <tbody>\n",
       "    <tr>\n",
       "      <th>0</th>\n",
       "      <td>arsenic</td>\n",
       "      <td>dydx</td>\n",
       "      <td>(2.36, 2.3601)</td>\n",
       "      <td>0.16826</td>\n",
       "      <td>0.00</td>\n",
       "      <td>-0.084280</td>\n",
       "      <td>-0.105566</td>\n",
       "      <td>-0.063403</td>\n",
       "    </tr>\n",
       "    <tr>\n",
       "      <th>1</th>\n",
       "      <td>arsenic</td>\n",
       "      <td>dydx</td>\n",
       "      <td>(0.71, 0.7101)</td>\n",
       "      <td>0.47322</td>\n",
       "      <td>0.00</td>\n",
       "      <td>-0.097837</td>\n",
       "      <td>-0.125057</td>\n",
       "      <td>-0.070959</td>\n",
       "    </tr>\n",
       "    <tr>\n",
       "      <th>2</th>\n",
       "      <td>arsenic</td>\n",
       "      <td>dydx</td>\n",
       "      <td>(2.07, 2.0701)</td>\n",
       "      <td>0.20967</td>\n",
       "      <td>2.50</td>\n",
       "      <td>-0.118093</td>\n",
       "      <td>-0.139848</td>\n",
       "      <td>-0.093442</td>\n",
       "    </tr>\n",
       "    <tr>\n",
       "      <th>3</th>\n",
       "      <td>arsenic</td>\n",
       "      <td>dydx</td>\n",
       "      <td>(1.15, 1.1501)</td>\n",
       "      <td>0.21486</td>\n",
       "      <td>3.00</td>\n",
       "      <td>-0.150638</td>\n",
       "      <td>-0.194765</td>\n",
       "      <td>-0.108946</td>\n",
       "    </tr>\n",
       "    <tr>\n",
       "      <th>4</th>\n",
       "      <td>arsenic</td>\n",
       "      <td>dydx</td>\n",
       "      <td>(1.1, 1.1001)</td>\n",
       "      <td>0.40874</td>\n",
       "      <td>3.50</td>\n",
       "      <td>-0.161272</td>\n",
       "      <td>-0.214761</td>\n",
       "      <td>-0.108663</td>\n",
       "    </tr>\n",
       "    <tr>\n",
       "      <th>5</th>\n",
       "      <td>arsenic</td>\n",
       "      <td>dydx</td>\n",
       "      <td>(3.9, 3.9001)</td>\n",
       "      <td>0.69518</td>\n",
       "      <td>2.25</td>\n",
       "      <td>-0.073908</td>\n",
       "      <td>-0.080525</td>\n",
       "      <td>-0.067493</td>\n",
       "    </tr>\n",
       "    <tr>\n",
       "      <th>6</th>\n",
       "      <td>arsenic</td>\n",
       "      <td>dydx</td>\n",
       "      <td>(2.97, 2.9701000000000004)</td>\n",
       "      <td>0.80711</td>\n",
       "      <td>1.00</td>\n",
       "      <td>-0.108482</td>\n",
       "      <td>-0.123517</td>\n",
       "      <td>-0.093042</td>\n",
       "    </tr>\n",
       "    <tr>\n",
       "      <th>7</th>\n",
       "      <td>arsenic</td>\n",
       "      <td>dydx</td>\n",
       "      <td>(3.24, 3.2401000000000004)</td>\n",
       "      <td>0.55146</td>\n",
       "      <td>2.50</td>\n",
       "      <td>-0.088049</td>\n",
       "      <td>-0.097939</td>\n",
       "      <td>-0.078020</td>\n",
       "    </tr>\n",
       "    <tr>\n",
       "      <th>8</th>\n",
       "      <td>arsenic</td>\n",
       "      <td>dydx</td>\n",
       "      <td>(3.28, 3.2801)</td>\n",
       "      <td>0.52647</td>\n",
       "      <td>0.00</td>\n",
       "      <td>-0.087388</td>\n",
       "      <td>-0.107331</td>\n",
       "      <td>-0.068076</td>\n",
       "    </tr>\n",
       "    <tr>\n",
       "      <th>9</th>\n",
       "      <td>arsenic</td>\n",
       "      <td>dydx</td>\n",
       "      <td>(2.52, 2.5201000000000002)</td>\n",
       "      <td>0.75072</td>\n",
       "      <td>0.00</td>\n",
       "      <td>-0.099035</td>\n",
       "      <td>-0.129517</td>\n",
       "      <td>-0.073222</td>\n",
       "    </tr>\n",
       "  </tbody>\n",
       "</table>\n",
       "</div>"
      ],
      "text/plain": [
       "      term estimate_type                       value  dist100  educ4   \n",
       "0  arsenic          dydx              (2.36, 2.3601)  0.16826   0.00  \\\n",
       "1  arsenic          dydx              (0.71, 0.7101)  0.47322   0.00   \n",
       "2  arsenic          dydx              (2.07, 2.0701)  0.20967   2.50   \n",
       "3  arsenic          dydx              (1.15, 1.1501)  0.21486   3.00   \n",
       "4  arsenic          dydx               (1.1, 1.1001)  0.40874   3.50   \n",
       "5  arsenic          dydx               (3.9, 3.9001)  0.69518   2.25   \n",
       "6  arsenic          dydx  (2.97, 2.9701000000000004)  0.80711   1.00   \n",
       "7  arsenic          dydx  (3.24, 3.2401000000000004)  0.55146   2.50   \n",
       "8  arsenic          dydx              (3.28, 3.2801)  0.52647   0.00   \n",
       "9  arsenic          dydx  (2.52, 2.5201000000000002)  0.75072   0.00   \n",
       "\n",
       "   estimate  lower_3.0%  upper_97.0%  \n",
       "0 -0.084280   -0.105566    -0.063403  \n",
       "1 -0.097837   -0.125057    -0.070959  \n",
       "2 -0.118093   -0.139848    -0.093442  \n",
       "3 -0.150638   -0.194765    -0.108946  \n",
       "4 -0.161272   -0.214761    -0.108663  \n",
       "5 -0.073908   -0.080525    -0.067493  \n",
       "6 -0.108482   -0.123517    -0.093042  \n",
       "7 -0.088049   -0.097939    -0.078020  \n",
       "8 -0.087388   -0.107331    -0.068076  \n",
       "9 -0.099035   -0.129517    -0.073222  "
      ]
     },
     "execution_count": 14,
     "metadata": {},
     "output_type": "execute_result"
    }
   ],
   "source": [
    "unit_level = bmb.interpret.slopes(\n",
    "    well_model_interact,\n",
    "    well_idata_interact,\n",
    "    wrt=\"arsenic\",\n",
    "    conditional=None\n",
    ")\n",
    "\n",
    "# empirical distribution\n",
    "print(unit_level.shape[0] == well_model_interact.data.shape[0])\n",
    "unit_level.head(10)"
   ]
  },
  {
   "cell_type": "code",
   "execution_count": 12,
   "metadata": {},
   "outputs": [
    {
     "data": {
      "text/html": [
       "<div>\n",
       "<style scoped>\n",
       "    .dataframe tbody tr th:only-of-type {\n",
       "        vertical-align: middle;\n",
       "    }\n",
       "\n",
       "    .dataframe tbody tr th {\n",
       "        vertical-align: top;\n",
       "    }\n",
       "\n",
       "    .dataframe thead th {\n",
       "        text-align: right;\n",
       "    }\n",
       "</style>\n",
       "<table border=\"1\" class=\"dataframe\">\n",
       "  <thead>\n",
       "    <tr style=\"text-align: right;\">\n",
       "      <th></th>\n",
       "      <th>switch</th>\n",
       "      <th>arsenic</th>\n",
       "      <th>dist</th>\n",
       "      <th>assoc</th>\n",
       "      <th>educ</th>\n",
       "      <th>dist100</th>\n",
       "      <th>educ4</th>\n",
       "    </tr>\n",
       "  </thead>\n",
       "  <tbody>\n",
       "    <tr>\n",
       "      <th>1</th>\n",
       "      <td>1</td>\n",
       "      <td>2.36</td>\n",
       "      <td>16.826000</td>\n",
       "      <td>0</td>\n",
       "      <td>0</td>\n",
       "      <td>0.16826</td>\n",
       "      <td>0.00</td>\n",
       "    </tr>\n",
       "    <tr>\n",
       "      <th>2</th>\n",
       "      <td>1</td>\n",
       "      <td>0.71</td>\n",
       "      <td>47.321999</td>\n",
       "      <td>0</td>\n",
       "      <td>0</td>\n",
       "      <td>0.47322</td>\n",
       "      <td>0.00</td>\n",
       "    </tr>\n",
       "    <tr>\n",
       "      <th>3</th>\n",
       "      <td>0</td>\n",
       "      <td>2.07</td>\n",
       "      <td>20.966999</td>\n",
       "      <td>0</td>\n",
       "      <td>10</td>\n",
       "      <td>0.20967</td>\n",
       "      <td>2.50</td>\n",
       "    </tr>\n",
       "    <tr>\n",
       "      <th>4</th>\n",
       "      <td>1</td>\n",
       "      <td>1.15</td>\n",
       "      <td>21.486000</td>\n",
       "      <td>0</td>\n",
       "      <td>12</td>\n",
       "      <td>0.21486</td>\n",
       "      <td>3.00</td>\n",
       "    </tr>\n",
       "    <tr>\n",
       "      <th>5</th>\n",
       "      <td>1</td>\n",
       "      <td>1.10</td>\n",
       "      <td>40.874001</td>\n",
       "      <td>1</td>\n",
       "      <td>14</td>\n",
       "      <td>0.40874</td>\n",
       "      <td>3.50</td>\n",
       "    </tr>\n",
       "    <tr>\n",
       "      <th>6</th>\n",
       "      <td>1</td>\n",
       "      <td>3.90</td>\n",
       "      <td>69.517998</td>\n",
       "      <td>1</td>\n",
       "      <td>9</td>\n",
       "      <td>0.69518</td>\n",
       "      <td>2.25</td>\n",
       "    </tr>\n",
       "    <tr>\n",
       "      <th>7</th>\n",
       "      <td>1</td>\n",
       "      <td>2.97</td>\n",
       "      <td>80.710999</td>\n",
       "      <td>1</td>\n",
       "      <td>4</td>\n",
       "      <td>0.80711</td>\n",
       "      <td>1.00</td>\n",
       "    </tr>\n",
       "    <tr>\n",
       "      <th>8</th>\n",
       "      <td>1</td>\n",
       "      <td>3.24</td>\n",
       "      <td>55.146000</td>\n",
       "      <td>0</td>\n",
       "      <td>10</td>\n",
       "      <td>0.55146</td>\n",
       "      <td>2.50</td>\n",
       "    </tr>\n",
       "    <tr>\n",
       "      <th>9</th>\n",
       "      <td>1</td>\n",
       "      <td>3.28</td>\n",
       "      <td>52.646999</td>\n",
       "      <td>1</td>\n",
       "      <td>0</td>\n",
       "      <td>0.52647</td>\n",
       "      <td>0.00</td>\n",
       "    </tr>\n",
       "    <tr>\n",
       "      <th>10</th>\n",
       "      <td>1</td>\n",
       "      <td>2.52</td>\n",
       "      <td>75.071999</td>\n",
       "      <td>1</td>\n",
       "      <td>0</td>\n",
       "      <td>0.75072</td>\n",
       "      <td>0.00</td>\n",
       "    </tr>\n",
       "  </tbody>\n",
       "</table>\n",
       "</div>"
      ],
      "text/plain": [
       "   switch  arsenic       dist  assoc  educ  dist100  educ4\n",
       "1       1     2.36  16.826000      0     0  0.16826   0.00\n",
       "2       1     0.71  47.321999      0     0  0.47322   0.00\n",
       "3       0     2.07  20.966999      0    10  0.20967   2.50\n",
       "4       1     1.15  21.486000      0    12  0.21486   3.00\n",
       "5       1     1.10  40.874001      1    14  0.40874   3.50\n",
       "6       1     3.90  69.517998      1     9  0.69518   2.25\n",
       "7       1     2.97  80.710999      1     4  0.80711   1.00\n",
       "8       1     3.24  55.146000      0    10  0.55146   2.50\n",
       "9       1     3.28  52.646999      1     0  0.52647   0.00\n",
       "10      1     2.52  75.071999      1     0  0.75072   0.00"
      ]
     },
     "execution_count": 12,
     "metadata": {},
     "output_type": "execute_result"
    }
   ],
   "source": [
    "well_model_interact.data.head(10)"
   ]
  },
  {
   "cell_type": "markdown",
   "metadata": {},
   "source": [
    "Above, `unit_level` is the slopes summary dataframe and `well_model_interact.data` is the empirical data used to fit the model. Notice how the values for $c$ are identical in both dataframes. However, for $w$, the values are the original $w$ value plus $\\epsilon$. Thus, the `estimate` value represents the instantaneous rate of change for that unit of observation. However, these unit level slopes are difficult to interpret since each row may have a different slope estimate. Therefore, it is useful to average over (marginalize) the estimates to summarize the unit level predictive slopes."
   ]
  },
  {
   "cell_type": "markdown",
   "metadata": {},
   "source": [
    "#### Marginalizing over covariates\n",
    "\n",
    "Since the empirical distrubution is used for computing the average predictive slopes, the same number of rows ($3020$) is returned as the data used to fit the model. To average over a covariate, use the `average_by` argument. If `True` is passed, then `slopes` averages over all covariates. Else, if a single or list of covariates are passed, then `slopes` averages by the covariates passed."
   ]
  },
  {
   "cell_type": "code",
   "execution_count": 15,
   "metadata": {},
   "outputs": [
    {
     "data": {
      "text/html": [
       "<div>\n",
       "<style scoped>\n",
       "    .dataframe tbody tr th:only-of-type {\n",
       "        vertical-align: middle;\n",
       "    }\n",
       "\n",
       "    .dataframe tbody tr th {\n",
       "        vertical-align: top;\n",
       "    }\n",
       "\n",
       "    .dataframe thead th {\n",
       "        text-align: right;\n",
       "    }\n",
       "</style>\n",
       "<table border=\"1\" class=\"dataframe\">\n",
       "  <thead>\n",
       "    <tr style=\"text-align: right;\">\n",
       "      <th></th>\n",
       "      <th>term</th>\n",
       "      <th>estimate_type</th>\n",
       "      <th>estimate</th>\n",
       "      <th>lower_3.0%</th>\n",
       "      <th>upper_97.0%</th>\n",
       "    </tr>\n",
       "  </thead>\n",
       "  <tbody>\n",
       "    <tr>\n",
       "      <th>0</th>\n",
       "      <td>arsenic</td>\n",
       "      <td>dydx</td>\n",
       "      <td>-0.111342</td>\n",
       "      <td>-0.134846</td>\n",
       "      <td>-0.088171</td>\n",
       "    </tr>\n",
       "  </tbody>\n",
       "</table>\n",
       "</div>"
      ],
      "text/plain": [
       "      term estimate_type  estimate  lower_3.0%  upper_97.0%\n",
       "0  arsenic          dydx -0.111342   -0.134846    -0.088171"
      ]
     },
     "execution_count": 15,
     "metadata": {},
     "output_type": "execute_result"
    }
   ],
   "source": [
    "bmb.interpret.slopes(\n",
    "    well_model_interact,\n",
    "    well_idata_interact,\n",
    "    wrt=\"arsenic\",\n",
    "    conditional=None,\n",
    "    average_by=True\n",
    ")"
   ]
  },
  {
   "cell_type": "markdown",
   "metadata": {},
   "source": [
    "The code block above is equivalent to taking the mean of the `estimate` and uncertainty columns. For example:"
   ]
  },
  {
   "cell_type": "code",
   "execution_count": 14,
   "metadata": {},
   "outputs": [
    {
     "data": {
      "text/plain": [
       "estimate      -0.111342\n",
       "lower_3.0%    -0.134846\n",
       "upper_97.0%   -0.088171\n",
       "dtype: float64"
      ]
     },
     "execution_count": 14,
     "metadata": {},
     "output_type": "execute_result"
    }
   ],
   "source": [
    "unit_level[[\"estimate\", \"lower_3.0%\", \"upper_97.0%\"]].mean()"
   ]
  },
  {
   "cell_type": "markdown",
   "metadata": {},
   "source": [
    "#### Average by subgroups\n",
    "\n",
    "Averaging over all covariates may not be desired, and you would rather average by a group or specific covariate. To perform averaging by subgroups, users can pass a single or list of covariates to `average_by` to average over specific covariates. For example, if we wanted to average by `educ4`:"
   ]
  },
  {
   "cell_type": "code",
   "execution_count": 16,
   "metadata": {},
   "outputs": [
    {
     "data": {
      "text/html": [
       "<div>\n",
       "<style scoped>\n",
       "    .dataframe tbody tr th:only-of-type {\n",
       "        vertical-align: middle;\n",
       "    }\n",
       "\n",
       "    .dataframe tbody tr th {\n",
       "        vertical-align: top;\n",
       "    }\n",
       "\n",
       "    .dataframe thead th {\n",
       "        text-align: right;\n",
       "    }\n",
       "</style>\n",
       "<table border=\"1\" class=\"dataframe\">\n",
       "  <thead>\n",
       "    <tr style=\"text-align: right;\">\n",
       "      <th></th>\n",
       "      <th>term</th>\n",
       "      <th>estimate_type</th>\n",
       "      <th>educ4</th>\n",
       "      <th>estimate</th>\n",
       "      <th>lower_3.0%</th>\n",
       "      <th>upper_97.0%</th>\n",
       "    </tr>\n",
       "  </thead>\n",
       "  <tbody>\n",
       "    <tr>\n",
       "      <th>0</th>\n",
       "      <td>arsenic</td>\n",
       "      <td>dydx</td>\n",
       "      <td>0.00</td>\n",
       "      <td>-0.092389</td>\n",
       "      <td>-0.119320</td>\n",
       "      <td>-0.068167</td>\n",
       "    </tr>\n",
       "    <tr>\n",
       "      <th>1</th>\n",
       "      <td>arsenic</td>\n",
       "      <td>dydx</td>\n",
       "      <td>0.25</td>\n",
       "      <td>-0.101704</td>\n",
       "      <td>-0.126096</td>\n",
       "      <td>-0.076910</td>\n",
       "    </tr>\n",
       "    <tr>\n",
       "      <th>2</th>\n",
       "      <td>arsenic</td>\n",
       "      <td>dydx</td>\n",
       "      <td>0.50</td>\n",
       "      <td>-0.102112</td>\n",
       "      <td>-0.122443</td>\n",
       "      <td>-0.082142</td>\n",
       "    </tr>\n",
       "    <tr>\n",
       "      <th>3</th>\n",
       "      <td>arsenic</td>\n",
       "      <td>dydx</td>\n",
       "      <td>0.75</td>\n",
       "      <td>-0.106004</td>\n",
       "      <td>-0.124247</td>\n",
       "      <td>-0.088132</td>\n",
       "    </tr>\n",
       "    <tr>\n",
       "      <th>4</th>\n",
       "      <td>arsenic</td>\n",
       "      <td>dydx</td>\n",
       "      <td>1.00</td>\n",
       "      <td>-0.110580</td>\n",
       "      <td>-0.127803</td>\n",
       "      <td>-0.093221</td>\n",
       "    </tr>\n",
       "    <tr>\n",
       "      <th>5</th>\n",
       "      <td>arsenic</td>\n",
       "      <td>dydx</td>\n",
       "      <td>1.25</td>\n",
       "      <td>-0.112334</td>\n",
       "      <td>-0.128771</td>\n",
       "      <td>-0.094870</td>\n",
       "    </tr>\n",
       "    <tr>\n",
       "      <th>6</th>\n",
       "      <td>arsenic</td>\n",
       "      <td>dydx</td>\n",
       "      <td>1.50</td>\n",
       "      <td>-0.114875</td>\n",
       "      <td>-0.132652</td>\n",
       "      <td>-0.096790</td>\n",
       "    </tr>\n",
       "    <tr>\n",
       "      <th>7</th>\n",
       "      <td>arsenic</td>\n",
       "      <td>dydx</td>\n",
       "      <td>1.75</td>\n",
       "      <td>-0.122557</td>\n",
       "      <td>-0.142921</td>\n",
       "      <td>-0.101423</td>\n",
       "    </tr>\n",
       "    <tr>\n",
       "      <th>8</th>\n",
       "      <td>arsenic</td>\n",
       "      <td>dydx</td>\n",
       "      <td>2.00</td>\n",
       "      <td>-0.125187</td>\n",
       "      <td>-0.148096</td>\n",
       "      <td>-0.101350</td>\n",
       "    </tr>\n",
       "    <tr>\n",
       "      <th>9</th>\n",
       "      <td>arsenic</td>\n",
       "      <td>dydx</td>\n",
       "      <td>2.25</td>\n",
       "      <td>-0.125367</td>\n",
       "      <td>-0.150676</td>\n",
       "      <td>-0.099852</td>\n",
       "    </tr>\n",
       "    <tr>\n",
       "      <th>10</th>\n",
       "      <td>arsenic</td>\n",
       "      <td>dydx</td>\n",
       "      <td>2.50</td>\n",
       "      <td>-0.130748</td>\n",
       "      <td>-0.159912</td>\n",
       "      <td>-0.101058</td>\n",
       "    </tr>\n",
       "    <tr>\n",
       "      <th>11</th>\n",
       "      <td>arsenic</td>\n",
       "      <td>dydx</td>\n",
       "      <td>2.75</td>\n",
       "      <td>-0.137422</td>\n",
       "      <td>-0.170662</td>\n",
       "      <td>-0.102995</td>\n",
       "    </tr>\n",
       "    <tr>\n",
       "      <th>12</th>\n",
       "      <td>arsenic</td>\n",
       "      <td>dydx</td>\n",
       "      <td>3.00</td>\n",
       "      <td>-0.136103</td>\n",
       "      <td>-0.172119</td>\n",
       "      <td>-0.099548</td>\n",
       "    </tr>\n",
       "    <tr>\n",
       "      <th>13</th>\n",
       "      <td>arsenic</td>\n",
       "      <td>dydx</td>\n",
       "      <td>3.25</td>\n",
       "      <td>-0.156941</td>\n",
       "      <td>-0.202215</td>\n",
       "      <td>-0.107625</td>\n",
       "    </tr>\n",
       "    <tr>\n",
       "      <th>14</th>\n",
       "      <td>arsenic</td>\n",
       "      <td>dydx</td>\n",
       "      <td>3.50</td>\n",
       "      <td>-0.142571</td>\n",
       "      <td>-0.186079</td>\n",
       "      <td>-0.098362</td>\n",
       "    </tr>\n",
       "    <tr>\n",
       "      <th>15</th>\n",
       "      <td>arsenic</td>\n",
       "      <td>dydx</td>\n",
       "      <td>3.75</td>\n",
       "      <td>-0.138336</td>\n",
       "      <td>-0.181042</td>\n",
       "      <td>-0.093120</td>\n",
       "    </tr>\n",
       "    <tr>\n",
       "      <th>16</th>\n",
       "      <td>arsenic</td>\n",
       "      <td>dydx</td>\n",
       "      <td>4.00</td>\n",
       "      <td>-0.138152</td>\n",
       "      <td>-0.185974</td>\n",
       "      <td>-0.089611</td>\n",
       "    </tr>\n",
       "    <tr>\n",
       "      <th>17</th>\n",
       "      <td>arsenic</td>\n",
       "      <td>dydx</td>\n",
       "      <td>4.25</td>\n",
       "      <td>-0.176623</td>\n",
       "      <td>-0.244273</td>\n",
       "      <td>-0.107141</td>\n",
       "    </tr>\n",
       "  </tbody>\n",
       "</table>\n",
       "</div>"
      ],
      "text/plain": [
       "       term estimate_type  educ4  estimate  lower_3.0%  upper_97.0%\n",
       "0   arsenic          dydx   0.00 -0.092389   -0.119320    -0.068167\n",
       "1   arsenic          dydx   0.25 -0.101704   -0.126096    -0.076910\n",
       "2   arsenic          dydx   0.50 -0.102112   -0.122443    -0.082142\n",
       "3   arsenic          dydx   0.75 -0.106004   -0.124247    -0.088132\n",
       "4   arsenic          dydx   1.00 -0.110580   -0.127803    -0.093221\n",
       "5   arsenic          dydx   1.25 -0.112334   -0.128771    -0.094870\n",
       "6   arsenic          dydx   1.50 -0.114875   -0.132652    -0.096790\n",
       "7   arsenic          dydx   1.75 -0.122557   -0.142921    -0.101423\n",
       "8   arsenic          dydx   2.00 -0.125187   -0.148096    -0.101350\n",
       "9   arsenic          dydx   2.25 -0.125367   -0.150676    -0.099852\n",
       "10  arsenic          dydx   2.50 -0.130748   -0.159912    -0.101058\n",
       "11  arsenic          dydx   2.75 -0.137422   -0.170662    -0.102995\n",
       "12  arsenic          dydx   3.00 -0.136103   -0.172119    -0.099548\n",
       "13  arsenic          dydx   3.25 -0.156941   -0.202215    -0.107625\n",
       "14  arsenic          dydx   3.50 -0.142571   -0.186079    -0.098362\n",
       "15  arsenic          dydx   3.75 -0.138336   -0.181042    -0.093120\n",
       "16  arsenic          dydx   4.00 -0.138152   -0.185974    -0.089611\n",
       "17  arsenic          dydx   4.25 -0.176623   -0.244273    -0.107141"
      ]
     },
     "execution_count": 16,
     "metadata": {},
     "output_type": "execute_result"
    }
   ],
   "source": [
    "# average by educ4\n",
    "bmb.interpret.slopes(\n",
    "    well_model_interact,\n",
    "    well_idata_interact,\n",
    "    wrt=\"arsenic\",\n",
    "    conditional=None,\n",
    "    average_by=\"educ4\"\n",
    ")"
   ]
  },
  {
   "cell_type": "code",
   "execution_count": 17,
   "metadata": {},
   "outputs": [
    {
     "data": {
      "text/html": [
       "<div>\n",
       "<style scoped>\n",
       "    .dataframe tbody tr th:only-of-type {\n",
       "        vertical-align: middle;\n",
       "    }\n",
       "\n",
       "    .dataframe tbody tr th {\n",
       "        vertical-align: top;\n",
       "    }\n",
       "\n",
       "    .dataframe thead th {\n",
       "        text-align: right;\n",
       "    }\n",
       "</style>\n",
       "<table border=\"1\" class=\"dataframe\">\n",
       "  <thead>\n",
       "    <tr style=\"text-align: right;\">\n",
       "      <th></th>\n",
       "      <th>term</th>\n",
       "      <th>estimate_type</th>\n",
       "      <th>educ4</th>\n",
       "      <th>dist100</th>\n",
       "      <th>estimate</th>\n",
       "      <th>lower_3.0%</th>\n",
       "      <th>upper_97.0%</th>\n",
       "    </tr>\n",
       "  </thead>\n",
       "  <tbody>\n",
       "    <tr>\n",
       "      <th>0</th>\n",
       "      <td>arsenic</td>\n",
       "      <td>dydx</td>\n",
       "      <td>0.00</td>\n",
       "      <td>0.00591</td>\n",
       "      <td>-0.085861</td>\n",
       "      <td>-0.109133</td>\n",
       "      <td>-0.061614</td>\n",
       "    </tr>\n",
       "    <tr>\n",
       "      <th>1</th>\n",
       "      <td>arsenic</td>\n",
       "      <td>dydx</td>\n",
       "      <td>0.00</td>\n",
       "      <td>0.02409</td>\n",
       "      <td>-0.096272</td>\n",
       "      <td>-0.127518</td>\n",
       "      <td>-0.069670</td>\n",
       "    </tr>\n",
       "    <tr>\n",
       "      <th>2</th>\n",
       "      <td>arsenic</td>\n",
       "      <td>dydx</td>\n",
       "      <td>0.00</td>\n",
       "      <td>0.02454</td>\n",
       "      <td>-0.056617</td>\n",
       "      <td>-0.065433</td>\n",
       "      <td>-0.046970</td>\n",
       "    </tr>\n",
       "    <tr>\n",
       "      <th>3</th>\n",
       "      <td>arsenic</td>\n",
       "      <td>dydx</td>\n",
       "      <td>0.00</td>\n",
       "      <td>0.02791</td>\n",
       "      <td>-0.097646</td>\n",
       "      <td>-0.128131</td>\n",
       "      <td>-0.069660</td>\n",
       "    </tr>\n",
       "    <tr>\n",
       "      <th>4</th>\n",
       "      <td>arsenic</td>\n",
       "      <td>dydx</td>\n",
       "      <td>0.00</td>\n",
       "      <td>0.03252</td>\n",
       "      <td>-0.076300</td>\n",
       "      <td>-0.095832</td>\n",
       "      <td>-0.057900</td>\n",
       "    </tr>\n",
       "    <tr>\n",
       "      <th>...</th>\n",
       "      <td>...</td>\n",
       "      <td>...</td>\n",
       "      <td>...</td>\n",
       "      <td>...</td>\n",
       "      <td>...</td>\n",
       "      <td>...</td>\n",
       "      <td>...</td>\n",
       "    </tr>\n",
       "    <tr>\n",
       "      <th>2992</th>\n",
       "      <td>arsenic</td>\n",
       "      <td>dydx</td>\n",
       "      <td>4.00</td>\n",
       "      <td>1.13727</td>\n",
       "      <td>-0.070078</td>\n",
       "      <td>-0.094698</td>\n",
       "      <td>-0.046623</td>\n",
       "    </tr>\n",
       "    <tr>\n",
       "      <th>2993</th>\n",
       "      <td>arsenic</td>\n",
       "      <td>dydx</td>\n",
       "      <td>4.00</td>\n",
       "      <td>1.14418</td>\n",
       "      <td>-0.125547</td>\n",
       "      <td>-0.172943</td>\n",
       "      <td>-0.075368</td>\n",
       "    </tr>\n",
       "    <tr>\n",
       "      <th>2994</th>\n",
       "      <td>arsenic</td>\n",
       "      <td>dydx</td>\n",
       "      <td>4.00</td>\n",
       "      <td>1.25308</td>\n",
       "      <td>-0.156780</td>\n",
       "      <td>-0.218836</td>\n",
       "      <td>-0.088258</td>\n",
       "    </tr>\n",
       "    <tr>\n",
       "      <th>2995</th>\n",
       "      <td>arsenic</td>\n",
       "      <td>dydx</td>\n",
       "      <td>4.00</td>\n",
       "      <td>1.67025</td>\n",
       "      <td>-0.161465</td>\n",
       "      <td>-0.227211</td>\n",
       "      <td>-0.085394</td>\n",
       "    </tr>\n",
       "    <tr>\n",
       "      <th>2996</th>\n",
       "      <td>arsenic</td>\n",
       "      <td>dydx</td>\n",
       "      <td>4.25</td>\n",
       "      <td>0.29633</td>\n",
       "      <td>-0.176623</td>\n",
       "      <td>-0.244273</td>\n",
       "      <td>-0.107141</td>\n",
       "    </tr>\n",
       "  </tbody>\n",
       "</table>\n",
       "<p>2997 rows × 7 columns</p>\n",
       "</div>"
      ],
      "text/plain": [
       "         term estimate_type  educ4  dist100  estimate  lower_3.0%  upper_97.0%\n",
       "0     arsenic          dydx   0.00  0.00591 -0.085861   -0.109133    -0.061614\n",
       "1     arsenic          dydx   0.00  0.02409 -0.096272   -0.127518    -0.069670\n",
       "2     arsenic          dydx   0.00  0.02454 -0.056617   -0.065433    -0.046970\n",
       "3     arsenic          dydx   0.00  0.02791 -0.097646   -0.128131    -0.069660\n",
       "4     arsenic          dydx   0.00  0.03252 -0.076300   -0.095832    -0.057900\n",
       "...       ...           ...    ...      ...       ...         ...          ...\n",
       "2992  arsenic          dydx   4.00  1.13727 -0.070078   -0.094698    -0.046623\n",
       "2993  arsenic          dydx   4.00  1.14418 -0.125547   -0.172943    -0.075368\n",
       "2994  arsenic          dydx   4.00  1.25308 -0.156780   -0.218836    -0.088258\n",
       "2995  arsenic          dydx   4.00  1.67025 -0.161465   -0.227211    -0.085394\n",
       "2996  arsenic          dydx   4.25  0.29633 -0.176623   -0.244273    -0.107141\n",
       "\n",
       "[2997 rows x 7 columns]"
      ]
     },
     "execution_count": 17,
     "metadata": {},
     "output_type": "execute_result"
    }
   ],
   "source": [
    "# average by both educ4 and dist100\n",
    "bmb.interpret.slopes(\n",
    "    well_model_interact,\n",
    "    well_idata_interact,\n",
    "    wrt=\"arsenic\",\n",
    "    conditional=None,\n",
    "    average_by=[\"educ4\", \"dist100\"]\n",
    ")"
   ]
  },
  {
   "cell_type": "markdown",
   "metadata": {},
   "source": [
    "It is still possible to use `plot_slopes` when passing an argument to `average_by`. In the plot below, the empirical distribution is used to compute unit level slopes with respect to `arsenic` and then averaged over `educ4` to obtain the average predictive slopes."
   ]
  },
  {
   "cell_type": "code",
   "execution_count": 18,
   "metadata": {},
   "outputs": [
    {
     "data": {
      "image/png": "[encoded data removed]",
      "text/plain": [
       "<Figure size 700x300 with 1 Axes>"
      ]
     },
     "metadata": {},
     "output_type": "display_data"
    }
   ],
   "source": [
    "fig, ax = bmb.interpret.plot_slopes(\n",
    "    well_model_interact,\n",
    "    well_idata_interact,\n",
    "    wrt=\"arsenic\",\n",
    "    conditional=None,\n",
    "    average_by=\"educ4\"\n",
    ")\n",
    "fig.set_size_inches(7, 3)"
   ]
  },
  {
   "cell_type": "markdown",
   "metadata": {},
   "source": [
    "### Interpreting coefficients as an elasticity\n",
    "\n",
    "In some fields, such as economics, it is useful to interpret the results of a regression model in terms of an elasticity (a percent change in $x$ is associated with a percent change in $y$) or semi-elasticity (a unit change in $x$ is associated with a percent change in $y$, or vice versa). Typically, this is achieved by fitting a model where either the outcome and or the covariates are log-transformed. However, since the log transformation is performed by the modeler, to compute elasticities for `slopes` and `plot_slopes`, Bambi \"post-processes\" the predictions to compute the elasticities. Below, it is shown the possible elasticity arguments and how they are computed for `slopes` and `plot_slopes`:\n",
    "\n",
    "- `eyex`: a percentage point increase in $x_1$ is associated with an $n$ percentage point increase in $y$\n",
    "\n",
    "$$\\frac{\\partial \\hat{y}}{\\partial x_1} * \\frac{x_1}{\\hat{y}}$$\n",
    "\n",
    "- `eydx`: a unit increase in $x_1$ is associated with an $n$ percentage point increase in $y$\n",
    "\n",
    "$$\\frac{\\partial \\hat{y}}{\\partial x_1} * \\frac{1}{\\hat{y}}$$\n",
    "\n",
    "- `dyex`: a percentage point increase in $x_1$ is associated with an $n$ unit increase in $y$\n",
    "\n",
    "$$\\frac{\\partial \\hat{y}}{\\partial x_1} * x_1$$\n",
    "\n",
    "Below, each code cell shows the same model, and `wrt` and `conditional` argument, but with a different elasticity (`slope`) argument. By default, `dydx` (a derivative with no post-processing) is used."
   ]
  },
  {
   "cell_type": "code",
   "execution_count": 19,
   "metadata": {},
   "outputs": [
    {
     "data": {
      "text/html": [
       "<div>\n",
       "<style scoped>\n",
       "    .dataframe tbody tr th:only-of-type {\n",
       "        vertical-align: middle;\n",
       "    }\n",
       "\n",
       "    .dataframe tbody tr th {\n",
       "        vertical-align: top;\n",
       "    }\n",
       "\n",
       "    .dataframe thead th {\n",
       "        text-align: right;\n",
       "    }\n",
       "</style>\n",
       "<table border=\"1\" class=\"dataframe\">\n",
       "  <thead>\n",
       "    <tr style=\"text-align: right;\">\n",
       "      <th></th>\n",
       "      <th>term</th>\n",
       "      <th>estimate_type</th>\n",
       "      <th>estimate</th>\n",
       "      <th>lower_3.0%</th>\n",
       "      <th>upper_97.0%</th>\n",
       "    </tr>\n",
       "  </thead>\n",
       "  <tbody>\n",
       "    <tr>\n",
       "      <th>0</th>\n",
       "      <td>arsenic</td>\n",
       "      <td>eyex</td>\n",
       "      <td>-0.525124</td>\n",
       "      <td>-0.652708</td>\n",
       "      <td>-0.396082</td>\n",
       "    </tr>\n",
       "  </tbody>\n",
       "</table>\n",
       "</div>"
      ],
      "text/plain": [
       "      term estimate_type  estimate  lower_3.0%  upper_97.0%\n",
       "0  arsenic          eyex -0.525124   -0.652708    -0.396082"
      ]
     },
     "execution_count": 19,
     "metadata": {},
     "output_type": "execute_result"
    }
   ],
   "source": [
    "bmb.interpret.slopes(\n",
    "    well_model_interact,\n",
    "    well_idata_interact,\n",
    "    wrt=\"arsenic\",\n",
    "    slope=\"eyex\",\n",
    "    conditional=None,\n",
    "    average_by=True\n",
    ")"
   ]
  },
  {
   "cell_type": "code",
   "execution_count": 20,
   "metadata": {},
   "outputs": [
    {
     "data": {
      "text/html": [
       "<div>\n",
       "<style scoped>\n",
       "    .dataframe tbody tr th:only-of-type {\n",
       "        vertical-align: middle;\n",
       "    }\n",
       "\n",
       "    .dataframe tbody tr th {\n",
       "        vertical-align: top;\n",
       "    }\n",
       "\n",
       "    .dataframe thead th {\n",
       "        text-align: right;\n",
       "    }\n",
       "</style>\n",
       "<table border=\"1\" class=\"dataframe\">\n",
       "  <thead>\n",
       "    <tr style=\"text-align: right;\">\n",
       "      <th></th>\n",
       "      <th>term</th>\n",
       "      <th>estimate_type</th>\n",
       "      <th>estimate</th>\n",
       "      <th>lower_3.0%</th>\n",
       "      <th>upper_97.0%</th>\n",
       "    </tr>\n",
       "  </thead>\n",
       "  <tbody>\n",
       "    <tr>\n",
       "      <th>0</th>\n",
       "      <td>arsenic</td>\n",
       "      <td>eydx</td>\n",
       "      <td>-0.286753</td>\n",
       "      <td>-0.351592</td>\n",
       "      <td>-0.220459</td>\n",
       "    </tr>\n",
       "  </tbody>\n",
       "</table>\n",
       "</div>"
      ],
      "text/plain": [
       "      term estimate_type  estimate  lower_3.0%  upper_97.0%\n",
       "0  arsenic          eydx -0.286753   -0.351592    -0.220459"
      ]
     },
     "execution_count": 20,
     "metadata": {},
     "output_type": "execute_result"
    }
   ],
   "source": [
    "bmb.interpret.slopes(\n",
    "    well_model_interact,\n",
    "    well_idata_interact,\n",
    "    wrt=\"arsenic\",\n",
    "    slope=\"eydx\",\n",
    "    conditional=None,\n",
    "    average_by=True\n",
    ")"
   ]
  },
  {
   "cell_type": "code",
   "execution_count": 21,
   "metadata": {},
   "outputs": [
    {
     "data": {
      "text/html": [
       "<div>\n",
       "<style scoped>\n",
       "    .dataframe tbody tr th:only-of-type {\n",
       "        vertical-align: middle;\n",
       "    }\n",
       "\n",
       "    .dataframe tbody tr th {\n",
       "        vertical-align: top;\n",
       "    }\n",
       "\n",
       "    .dataframe thead th {\n",
       "        text-align: right;\n",
       "    }\n",
       "</style>\n",
       "<table border=\"1\" class=\"dataframe\">\n",
       "  <thead>\n",
       "    <tr style=\"text-align: right;\">\n",
       "      <th></th>\n",
       "      <th>term</th>\n",
       "      <th>estimate_type</th>\n",
       "      <th>estimate</th>\n",
       "      <th>lower_3.0%</th>\n",
       "      <th>upper_97.0%</th>\n",
       "    </tr>\n",
       "  </thead>\n",
       "  <tbody>\n",
       "    <tr>\n",
       "      <th>0</th>\n",
       "      <td>arsenic</td>\n",
       "      <td>dyex</td>\n",
       "      <td>-0.167616</td>\n",
       "      <td>-0.201147</td>\n",
       "      <td>-0.134605</td>\n",
       "    </tr>\n",
       "  </tbody>\n",
       "</table>\n",
       "</div>"
      ],
      "text/plain": [
       "      term estimate_type  estimate  lower_3.0%  upper_97.0%\n",
       "0  arsenic          dyex -0.167616   -0.201147    -0.134605"
      ]
     },
     "execution_count": 21,
     "metadata": {},
     "output_type": "execute_result"
    }
   ],
   "source": [
    "bmb.interpret.slopes(\n",
    "    well_model_interact,\n",
    "    well_idata_interact,\n",
    "    wrt=\"arsenic\",\n",
    "    slope=\"dyex\",\n",
    "    conditional=None,\n",
    "    average_by=True\n",
    ")"
   ]
  },
  {
   "cell_type": "markdown",
   "metadata": {},
   "source": [
    "`slope` is also an argument for `plot_slopes`. Below, we visualize the elasticity with respect to `arsenic` conditional on a range of `dist100` and `educ4` values (notice this is the same plot as in the _conditional slopes_ section)."
   ]
  },
  {
   "cell_type": "code",
   "execution_count": 22,
   "metadata": {},
   "outputs": [
    {
     "data": {
      "image/png": "[encoded data removed]",
      "text/plain": [
       "<Figure size 1600x400 with 4 Axes>"
      ]
     },
     "metadata": {},
     "output_type": "display_data"
    }
   ],
   "source": [
    "fig, ax = bmb.interpret.plot_slopes(\n",
    "    well_model_interact,\n",
    "    well_idata_interact,\n",
    "    wrt=\"arsenic\",\n",
    "    conditional=[\"dist100\", \"educ4\"],\n",
    "    slope=\"eyex\",\n",
    "    subplot_kwargs={\"main\": \"dist100\", \"group\": \"educ4\", \"panel\": \"educ4\"},\n",
    "    fig_kwargs={\"figsize\": (16, 4), \"sharey\": True},\n",
    "    legend=False\n",
    ")"
   ]
  },
  {
   "cell_type": "markdown",
   "metadata": {},
   "source": [
    "### Categorical covariates\n",
    "\n",
    "As mentioned in the _computing slopes_ section, if you pass a variable with a string or categorical data type, the `comparisons` function will be called to compute the expected difference in group means. Here, we fit the same interaction model as above, albeit, by specifying `educ4` as an ordinal data type."
   ]
  },
  {
   "cell_type": "code",
   "execution_count": 23,
   "metadata": {},
   "outputs": [],
   "source": [
    "data = pd.read_csv(\"http://www.stat.columbia.edu/~gelman/arm/examples/arsenic/wells.dat\", sep=\" \")\n",
    "data[\"switch\"] = pd.Categorical(data[\"switch\"])\n",
    "data[\"dist100\"] = data[\"dist\"] / 100\n",
    "data[\"educ4\"] = pd.Categorical(data[\"educ\"] / 4, ordered=True)"
   ]
  },
  {
   "cell_type": "code",
   "execution_count": 24,
   "metadata": {},
   "outputs": [
    {
     "name": "stderr",
     "output_type": "stream",
     "text": [
      "Modeling the probability that switch==0\n",
      "Auto-assigning NUTS sampler...\n",
      "Initializing NUTS using jitter+adapt_diag...\n",
      "Multiprocess sampling (4 chains in 4 jobs)\n",
      "NUTS: [Intercept, dist100, arsenic, educ4, dist100:educ4, arsenic:educ4]\n"
     ]
    },
    {
     "data": {
      "text/html": [
       "\n",
       "<style>\n",
       "    /* Turns off some styling */\n",
       "    progress {\n",
       "        /* gets rid of default border in Firefox and Opera. */\n",
       "        border: none;\n",
       "        /* Needs to be in here for Safari polyfill so background images work as expected. */\n",
       "        background-size: auto;\n",
       "    }\n",
       "    progress:not([value]), progress:not([value])::-webkit-progress-bar {\n",
       "        background: repeating-linear-gradient(45deg, #7e7e7e, #7e7e7e 10px, #5c5c5c 10px, #5c5c5c 20px);\n",
       "    }\n",
       "    .progress-bar-interrupted, .progress-bar-interrupted::-webkit-progress-bar {\n",
       "        background: #F44336;\n",
       "    }\n",
       "</style>\n"
      ],
      "text/plain": [
       "<IPython.core.display.HTML object>"
      ]
     },
     "metadata": {},
     "output_type": "display_data"
    },
    {
     "data": {
      "text/html": [
       "\n",
       "    <div>\n",
       "      <progress value='8000' class='' max='8000' style='width:300px; height:20px; vertical-align: middle;'></progress>\n",
       "      100.00% [8000/8000 05:18&lt;00:00 Sampling 4 chains, 0 divergences]\n",
       "    </div>\n",
       "    "
      ],
      "text/plain": [
       "<IPython.core.display.HTML object>"
      ]
     },
     "metadata": {},
     "output_type": "display_data"
    },
    {
     "name": "stderr",
     "output_type": "stream",
     "text": [
      "Sampling 4 chains for 1_000 tune and 1_000 draw iterations (4_000 + 4_000 draws total) took 319 seconds.\n"
     ]
    }
   ],
   "source": [
    "well_model_interact = bmb.Model(\n",
    "    \"switch ~ dist100 + arsenic + educ4 + dist100:educ4 + arsenic:educ4\",\n",
    "    data,\n",
    "    family=\"bernoulli\"\n",
    ")\n",
    "\n",
    "well_idata_interact = well_model_interact.fit(\n",
    "    draws=1000, \n",
    "    target_accept=0.95, \n",
    "    random_seed=1234, \n",
    "    chains=4\n",
    ")"
   ]
  },
  {
   "cell_type": "code",
   "execution_count": 25,
   "metadata": {},
   "outputs": [
    {
     "data": {
      "image/png": "[encoded data removed]",
      "text/plain": [
       "<Figure size 700x300 with 1 Axes>"
      ]
     },
     "metadata": {},
     "output_type": "display_data"
    }
   ],
   "source": [
    "fig, ax = bmb.interpret.plot_slopes(\n",
    "    well_model_interact,\n",
    "    well_idata_interact,\n",
    "    wrt=\"educ4\",\n",
    "    conditional=\"dist100\",\n",
    "    average_by=\"dist100\"\n",
    ")\n",
    "fig.set_size_inches(7, 3)"
   ]
  },
  {
   "cell_type": "markdown",
   "metadata": {},
   "source": [
    "As the model was fit with `educ4` as a categorical data type, Bambi recognized this, and calls `comparisons` to compute the differences between each level of `educ4`. As `educ4` contains many category levels, a covariate must be passed to `average_by` in order to perform plotting. Below, we can see this plot is equivalent to `plot_comparisons`."
   ]
  },
  {
   "cell_type": "code",
   "execution_count": 26,
   "metadata": {},
   "outputs": [
    {
     "data": {
      "image/png": "[encoded data removed]",
      "text/plain": [
       "<Figure size 700x300 with 1 Axes>"
      ]
     },
     "metadata": {},
     "output_type": "display_data"
    }
   ],
   "source": [
    "fig, ax = bmb.interpret.plot_comparisons(\n",
    "    well_model_interact,\n",
    "    well_idata_interact,\n",
    "    contrast=\"educ4\",\n",
    "    conditional=\"dist100\",\n",
    "    average_by=\"dist100\"\n",
    ")\n",
    "fig.set_size_inches(7, 3)"
   ]
  },
  {
   "cell_type": "markdown",
   "metadata": {},
   "source": [
    "However, computing the predictive difference between each `educ4` level may not be desired. Thus, in `plot_slopes`, as in `plot_comparisons`, if `wrt` is a categorical or string data type, it is possible to specify the `wrt` values. For example, if we wanted to compute the expected difference in probability of switching wells for when `educ4` is $4$ versus $1$ conditional on a range of `dist100` and `arsenic` values, we would pass the following dictionary in the code block below. Please refer to the [comparisons](https://bambinos.github.io/bambi/notebooks/plot_comparisons.html) documentation for more details."
   ]
  },
  {
   "cell_type": "code",
   "execution_count": 27,
   "metadata": {},
   "outputs": [
    {
     "data": {
      "image/png": "[encoded data removed]",
      "text/plain": [
       "<Figure size 700x300 with 1 Axes>"
      ]
     },
     "metadata": {},
     "output_type": "display_data"
    }
   ],
   "source": [
    "fig, ax = bmb.interpret.plot_slopes(\n",
    "    well_model_interact,\n",
    "    well_idata_interact,\n",
    "    wrt={\"educ4\": [1, 4]},\n",
    "    conditional=\"dist100\",\n",
    "    average_by=\"dist100\"\n",
    ")\n",
    "fig.set_size_inches(7, 3)"
   ]
  },
  {
   "cell_type": "code",
   "execution_count": 1,
   "metadata": {},
   "outputs": [
    {
     "name": "stdout",
     "output_type": "stream",
     "text": [
      "Last updated: Mon Nov 06 2023\n",
      "\n",
      "Python implementation: CPython\n",
      "Python version       : 3.11.0\n",
      "IPython version      : 8.13.2\n",
      "\n",
      "Watermark: 2.3.1\n",
      "\n"
     ]
    }
   ],
   "source": [
    "%load_ext watermark\n",
    "%watermark -n -u -v -iv -w"
   ]
  }
 ],
 "metadata": {
  "kernelspec": {
   "display_name": "bambinos",
   "language": "python",
   "name": "python3"
  },
  "language_info": {
   "codemirror_mode": {
    "name": "ipython",
    "version": 3
   },
   "file_extension": ".py",
   "mimetype": "text/x-python",
   "name": "python",
   "nbconvert_exporter": "python",
   "pygments_lexer": "ipython3",
   "version": "3.11.0"
  },
  "orig_nbformat": 4
 },
 "nbformat": 4,
 "nbformat_minor": 2
}
