{
 "cells": [
  {
   "cell_type": "markdown",
   "id": "c59bbab2-ccbc-47bc-b35c-ad5264761bce",
   "metadata": {},
   "source": [
    "# Survival Analysis\n",
    "\n",
    "This example notebook shows how to use the functionalities for survival analysis. The examples in this notebook were contributed by Iwan Paolucci ([\\@ipa](https://github.com/ipa) on GitHub).\n",
    "\n",
    "*This example notebook shall not be an introduction into survival analysis but rather a showcase for the funcionality in bambi.*"
   ]
  },
  {
   "cell_type": "code",
   "execution_count": null,
   "id": "ddf07d53-1a26-4cdc-8192-9386417cb10d",
   "metadata": {},
   "outputs": [],
   "source": [
    "import bambi as bmb\n",
    "import arviz as az\n",
    "import pandas as pd\n",
    "import os\n",
    "import matplotlib.pyplot as plt\n",
    "import scipy as sp\n",
    "import numpy as np\n",
    "import seaborn as sns"
   ]
  },
  {
   "cell_type": "markdown",
   "id": "454cd3f9-5830-41c4-abf2-19381f4ce884",
   "metadata": {},
   "source": [
    "## Prepare data\n",
    "\n",
    "For this example we will use the veterans data set included in the R survival package.\n",
    "\n",
    "https://www.rdocumentation.org/packages/survival/versions/3.3-1/topics/veteran"
   ]
  },
  {
   "cell_type": "code",
   "execution_count": 2,
   "id": "571c5f77-2a80-437d-ba69-f238d71e21d7",
   "metadata": {},
   "outputs": [],
   "source": [
    "data = pd.read_csv(os.path.join(\"data\", \"veteran.csv\"))"
   ]
  },
  {
   "cell_type": "markdown",
   "id": "450adf18-a96c-454d-9cff-e7ce1c82521b",
   "metadata": {},
   "source": [
    "Let's first add the labels to the treatment and celltype column"
   ]
  },
  {
   "cell_type": "code",
   "execution_count": 3,
   "id": "49d93785-baeb-48e6-b0f5-e5a46f9a9ad0",
   "metadata": {},
   "outputs": [],
   "source": [
    "lookup_table = {\n",
    "    'trt': {1: 'Standard', 2: 'Test'},\n",
    "    'celltype': {1: 'Squamous', 2: 'Smallcell', 3: 'Adeno', 4: 'Large'},\n",
    "}"
   ]
  },
  {
   "cell_type": "code",
   "execution_count": 4,
   "id": "7562587f-16f1-4b48-9816-1e3ff9d03c65",
   "metadata": {},
   "outputs": [],
   "source": [
    "data['trt_str'] = [lookup_table['trt'][x] for x in data['trt']]\n",
    "data['celltype_str'] = [lookup_table['celltype'][x] for x in data['celltype']]"
   ]
  },
  {
   "cell_type": "code",
   "execution_count": 5,
   "id": "2612b925-d824-4735-8cd5-e0a4bb0760c4",
   "metadata": {},
   "outputs": [
    {
     "data": {
      "text/html": [
       "<div>\n",
       "<style scoped>\n",
       "    .dataframe tbody tr th:only-of-type {\n",
       "        vertical-align: middle;\n",
       "    }\n",
       "\n",
       "    .dataframe tbody tr th {\n",
       "        vertical-align: top;\n",
       "    }\n",
       "\n",
       "    .dataframe thead th {\n",
       "        text-align: right;\n",
       "    }\n",
       "</style>\n",
       "<table border=\"1\" class=\"dataframe\">\n",
       "  <thead>\n",
       "    <tr style=\"text-align: right;\">\n",
       "      <th></th>\n",
       "      <th>time</th>\n",
       "      <th>status</th>\n",
       "      <th>karno</th>\n",
       "      <th>diagtime</th>\n",
       "      <th>age</th>\n",
       "      <th>prior</th>\n",
       "      <th>trt</th>\n",
       "      <th>celltype</th>\n",
       "      <th>trt_str</th>\n",
       "      <th>celltype_str</th>\n",
       "    </tr>\n",
       "  </thead>\n",
       "  <tbody>\n",
       "    <tr>\n",
       "      <th>0</th>\n",
       "      <td>72</td>\n",
       "      <td>1</td>\n",
       "      <td>60</td>\n",
       "      <td>7</td>\n",
       "      <td>69</td>\n",
       "      <td>0</td>\n",
       "      <td>1</td>\n",
       "      <td>1</td>\n",
       "      <td>Standard</td>\n",
       "      <td>Squamous</td>\n",
       "    </tr>\n",
       "    <tr>\n",
       "      <th>1</th>\n",
       "      <td>411</td>\n",
       "      <td>1</td>\n",
       "      <td>70</td>\n",
       "      <td>5</td>\n",
       "      <td>64</td>\n",
       "      <td>10</td>\n",
       "      <td>1</td>\n",
       "      <td>1</td>\n",
       "      <td>Standard</td>\n",
       "      <td>Squamous</td>\n",
       "    </tr>\n",
       "    <tr>\n",
       "      <th>2</th>\n",
       "      <td>228</td>\n",
       "      <td>1</td>\n",
       "      <td>60</td>\n",
       "      <td>3</td>\n",
       "      <td>38</td>\n",
       "      <td>0</td>\n",
       "      <td>1</td>\n",
       "      <td>1</td>\n",
       "      <td>Standard</td>\n",
       "      <td>Squamous</td>\n",
       "    </tr>\n",
       "    <tr>\n",
       "      <th>3</th>\n",
       "      <td>126</td>\n",
       "      <td>1</td>\n",
       "      <td>60</td>\n",
       "      <td>9</td>\n",
       "      <td>63</td>\n",
       "      <td>10</td>\n",
       "      <td>1</td>\n",
       "      <td>1</td>\n",
       "      <td>Standard</td>\n",
       "      <td>Squamous</td>\n",
       "    </tr>\n",
       "    <tr>\n",
       "      <th>4</th>\n",
       "      <td>118</td>\n",
       "      <td>1</td>\n",
       "      <td>70</td>\n",
       "      <td>11</td>\n",
       "      <td>65</td>\n",
       "      <td>10</td>\n",
       "      <td>1</td>\n",
       "      <td>1</td>\n",
       "      <td>Standard</td>\n",
       "      <td>Squamous</td>\n",
       "    </tr>\n",
       "    <tr>\n",
       "      <th>...</th>\n",
       "      <td>...</td>\n",
       "      <td>...</td>\n",
       "      <td>...</td>\n",
       "      <td>...</td>\n",
       "      <td>...</td>\n",
       "      <td>...</td>\n",
       "      <td>...</td>\n",
       "      <td>...</td>\n",
       "      <td>...</td>\n",
       "      <td>...</td>\n",
       "    </tr>\n",
       "    <tr>\n",
       "      <th>132</th>\n",
       "      <td>133</td>\n",
       "      <td>1</td>\n",
       "      <td>75</td>\n",
       "      <td>1</td>\n",
       "      <td>65</td>\n",
       "      <td>0</td>\n",
       "      <td>2</td>\n",
       "      <td>4</td>\n",
       "      <td>Test</td>\n",
       "      <td>Large</td>\n",
       "    </tr>\n",
       "    <tr>\n",
       "      <th>133</th>\n",
       "      <td>111</td>\n",
       "      <td>1</td>\n",
       "      <td>60</td>\n",
       "      <td>5</td>\n",
       "      <td>64</td>\n",
       "      <td>0</td>\n",
       "      <td>2</td>\n",
       "      <td>4</td>\n",
       "      <td>Test</td>\n",
       "      <td>Large</td>\n",
       "    </tr>\n",
       "    <tr>\n",
       "      <th>134</th>\n",
       "      <td>231</td>\n",
       "      <td>1</td>\n",
       "      <td>70</td>\n",
       "      <td>18</td>\n",
       "      <td>67</td>\n",
       "      <td>10</td>\n",
       "      <td>2</td>\n",
       "      <td>4</td>\n",
       "      <td>Test</td>\n",
       "      <td>Large</td>\n",
       "    </tr>\n",
       "    <tr>\n",
       "      <th>135</th>\n",
       "      <td>378</td>\n",
       "      <td>1</td>\n",
       "      <td>80</td>\n",
       "      <td>4</td>\n",
       "      <td>65</td>\n",
       "      <td>0</td>\n",
       "      <td>2</td>\n",
       "      <td>4</td>\n",
       "      <td>Test</td>\n",
       "      <td>Large</td>\n",
       "    </tr>\n",
       "    <tr>\n",
       "      <th>136</th>\n",
       "      <td>49</td>\n",
       "      <td>1</td>\n",
       "      <td>30</td>\n",
       "      <td>3</td>\n",
       "      <td>37</td>\n",
       "      <td>0</td>\n",
       "      <td>2</td>\n",
       "      <td>4</td>\n",
       "      <td>Test</td>\n",
       "      <td>Large</td>\n",
       "    </tr>\n",
       "  </tbody>\n",
       "</table>\n",
       "<p>137 rows × 10 columns</p>\n",
       "</div>"
      ],
      "text/plain": [
       "     time  status  karno  diagtime  age  prior  trt  celltype   trt_str  \\\n",
       "0      72       1     60         7   69      0    1         1  Standard   \n",
       "1     411       1     70         5   64     10    1         1  Standard   \n",
       "2     228       1     60         3   38      0    1         1  Standard   \n",
       "3     126       1     60         9   63     10    1         1  Standard   \n",
       "4     118       1     70        11   65     10    1         1  Standard   \n",
       "..    ...     ...    ...       ...  ...    ...  ...       ...       ...   \n",
       "132   133       1     75         1   65      0    2         4      Test   \n",
       "133   111       1     60         5   64      0    2         4      Test   \n",
       "134   231       1     70        18   67     10    2         4      Test   \n",
       "135   378       1     80         4   65      0    2         4      Test   \n",
       "136    49       1     30         3   37      0    2         4      Test   \n",
       "\n",
       "    celltype_str  \n",
       "0       Squamous  \n",
       "1       Squamous  \n",
       "2       Squamous  \n",
       "3       Squamous  \n",
       "4       Squamous  \n",
       "..           ...  \n",
       "132        Large  \n",
       "133        Large  \n",
       "134        Large  \n",
       "135        Large  \n",
       "136        Large  \n",
       "\n",
       "[137 rows x 10 columns]"
      ]
     },
     "execution_count": 5,
     "metadata": {},
     "output_type": "execute_result"
    }
   ],
   "source": [
    "data"
   ]
  },
  {
   "cell_type": "markdown",
   "id": "f39bae75-c358-46fd-98db-aee655e9e6b1",
   "metadata": {},
   "source": [
    "## Survival analysis using the Exponential distribution"
   ]
  },
  {
   "cell_type": "markdown",
   "id": "67184a8d-3121-452f-aa2b-bf453caffa6f",
   "metadata": {},
   "source": [
    "In this chapter we will use a parametric survival model using the Exponential distribution. Thus, we assume that the survival times follow an exponential distribution. Therefore, we should first have a look at this distribution. "
   ]
  },
  {
   "cell_type": "code",
   "execution_count": 6,
   "id": "c3e73fc6-6160-4159-8b46-9ba8198191e2",
   "metadata": {},
   "outputs": [
    {
     "data": {
      "image/png": "[encoded data removed]",
      "text/plain": [
       "<Figure size 402.375x360 with 1 Axes>"
      ]
     },
     "metadata": {
      "needs_background": "light"
     },
     "output_type": "display_data"
    }
   ],
   "source": [
    "sns.displot(data=data, x='time', hue='status', kind='hist');"
   ]
  },
  {
   "cell_type": "markdown",
   "id": "4c9e57ac-2b88-4de4-b1bb-5a17d827ef5a",
   "metadata": {},
   "source": [
    "Based on the histogram the assumption that the survival times follow an exponential distribution seems to hold."
   ]
  },
  {
   "cell_type": "markdown",
   "id": "fc93215e-b069-4f87-a4a8-755369f1bbe5",
   "metadata": {},
   "source": [
    "### Intercept only model\n",
    "\n",
    "Let's first fit a model with the intercept only to estimate the average survival in the study cohort."
   ]
  },
  {
   "cell_type": "code",
   "execution_count": 7,
   "id": "c0484b72-9dbe-43b7-9c21-5c9ec9e13f0a",
   "metadata": {},
   "outputs": [
    {
     "name": "stderr",
     "output_type": "stream",
     "text": [
      "Auto-assigning NUTS sampler...\n",
      "Initializing NUTS using jitter+adapt_diag...\n",
      "Sequential sampling (2 chains in 1 job)\n",
      "NUTS: [Intercept]\n"
     ]
    },
    {
     "data": {
      "text/html": [
       "\n",
       "<style>\n",
       "    /* Turns off some styling */\n",
       "    progress {\n",
       "        /* gets rid of default border in Firefox and Opera. */\n",
       "        border: none;\n",
       "        /* Needs to be in here for Safari polyfill so background images work as expected. */\n",
       "        background-size: auto;\n",
       "    }\n",
       "    .progress-bar-interrupted, .progress-bar-interrupted::-webkit-progress-bar {\n",
       "        background: #F44336;\n",
       "    }\n",
       "</style>\n"
      ],
      "text/plain": [
       "<IPython.core.display.HTML object>"
      ]
     },
     "metadata": {},
     "output_type": "display_data"
    },
    {
     "data": {
      "text/html": [
       "\n",
       "    <div>\n",
       "      <progress value='2000' class='' max='2000' style='width:300px; height:20px; vertical-align: middle;'></progress>\n",
       "      100.00% [2000/2000 00:05<00:00 Sampling chain 0, 0 divergences]\n",
       "    </div>\n",
       "    "
      ],
      "text/plain": [
       "<IPython.core.display.HTML object>"
      ]
     },
     "metadata": {},
     "output_type": "display_data"
    },
    {
     "data": {
      "text/html": [
       "\n",
       "<style>\n",
       "    /* Turns off some styling */\n",
       "    progress {\n",
       "        /* gets rid of default border in Firefox and Opera. */\n",
       "        border: none;\n",
       "        /* Needs to be in here for Safari polyfill so background images work as expected. */\n",
       "        background-size: auto;\n",
       "    }\n",
       "    .progress-bar-interrupted, .progress-bar-interrupted::-webkit-progress-bar {\n",
       "        background: #F44336;\n",
       "    }\n",
       "</style>\n"
      ],
      "text/plain": [
       "<IPython.core.display.HTML object>"
      ]
     },
     "metadata": {},
     "output_type": "display_data"
    },
    {
     "data": {
      "text/html": [
       "\n",
       "    <div>\n",
       "      <progress value='2000' class='' max='2000' style='width:300px; height:20px; vertical-align: middle;'></progress>\n",
       "      100.00% [2000/2000 00:01<00:00 Sampling chain 1, 0 divergences]\n",
       "    </div>\n",
       "    "
      ],
      "text/plain": [
       "<IPython.core.display.HTML object>"
      ]
     },
     "metadata": {},
     "output_type": "display_data"
    },
    {
     "name": "stderr",
     "output_type": "stream",
     "text": [
      "Sampling 2 chains for 1_000 tune and 1_000 draw iterations (2_000 + 2_000 draws total) took 7 seconds.\n",
      "The acceptance probability does not match the target. It is 0.8824, but should be close to 0.8. Try to increase the number of tuning steps.\n"
     ]
    }
   ],
   "source": [
    "model = bmb.Model(\n",
    "    \"Surv(time,status) ~ 1 \",\n",
    "    data,\n",
    "    family=\"exponential\"\n",
    ")\n",
    "\n",
    "idata = model.fit(cores=1)"
   ]
  },
  {
   "cell_type": "code",
   "execution_count": 8,
   "id": "e7a909b9-403e-43cb-b73d-8ee1e7c93c8b",
   "metadata": {},
   "outputs": [
    {
     "data": {
      "text/html": [
       "<div>\n",
       "<style scoped>\n",
       "    .dataframe tbody tr th:only-of-type {\n",
       "        vertical-align: middle;\n",
       "    }\n",
       "\n",
       "    .dataframe tbody tr th {\n",
       "        vertical-align: top;\n",
       "    }\n",
       "\n",
       "    .dataframe thead th {\n",
       "        text-align: right;\n",
       "    }\n",
       "</style>\n",
       "<table border=\"1\" class=\"dataframe\">\n",
       "  <thead>\n",
       "    <tr style=\"text-align: right;\">\n",
       "      <th></th>\n",
       "      <th>mean</th>\n",
       "      <th>sd</th>\n",
       "      <th>hdi_3%</th>\n",
       "      <th>hdi_97%</th>\n",
       "      <th>mcse_mean</th>\n",
       "      <th>mcse_sd</th>\n",
       "      <th>ess_bulk</th>\n",
       "      <th>ess_tail</th>\n",
       "      <th>r_hat</th>\n",
       "    </tr>\n",
       "  </thead>\n",
       "  <tbody>\n",
       "    <tr>\n",
       "      <th>Intercept</th>\n",
       "      <td>4.866</td>\n",
       "      <td>0.089</td>\n",
       "      <td>4.708</td>\n",
       "      <td>5.047</td>\n",
       "      <td>0.003</td>\n",
       "      <td>0.002</td>\n",
       "      <td>1108.0</td>\n",
       "      <td>1354.0</td>\n",
       "      <td>1.01</td>\n",
       "    </tr>\n",
       "  </tbody>\n",
       "</table>\n",
       "</div>"
      ],
      "text/plain": [
       "            mean     sd  hdi_3%  hdi_97%  mcse_mean  mcse_sd  ess_bulk  \\\n",
       "Intercept  4.866  0.089   4.708    5.047      0.003    0.002    1108.0   \n",
       "\n",
       "           ess_tail  r_hat  \n",
       "Intercept    1354.0   1.01  "
      ]
     },
     "execution_count": 8,
     "metadata": {},
     "output_type": "execute_result"
    }
   ],
   "source": [
    "az.summary(idata)"
   ]
  },
  {
   "cell_type": "markdown",
   "id": "32f875a1-b7c5-4f28-8db7-503acd07cd56",
   "metadata": {},
   "source": [
    "The estimates $\\lambda$ have to be transformed using $1/exp(\\lambda)$ to convert them into a failure rate. We extract the estimates and the uncertainty from the summary table and plot the survival function.\n",
    "Additionally, we also extract the median survival time."
   ]
  },
  {
   "cell_type": "code",
   "execution_count": 9,
   "id": "76600e45-7af5-4043-92a1-867f631246b4",
   "metadata": {},
   "outputs": [],
   "source": [
    "def median_survival(surv_prob, t):\n",
    "    median_survival_idx = np.where(surv_prob <= 0.5)[0][0]\n",
    "    return t[median_survival_idx]"
   ]
  },
  {
   "cell_type": "code",
   "execution_count": 10,
   "id": "a77d8203-ff8b-4600-8827-4387d83bd809",
   "metadata": {},
   "outputs": [
    {
     "data": {
      "image/png": "[encoded data removed]",
      "text/plain": [
       "<Figure size 640x480 with 1 Axes>"
      ]
     },
     "metadata": {},
     "output_type": "display_data"
    }
   ],
   "source": [
    "lam = 1/np.exp(az.summary(idata)[\"mean\"][\"Intercept\"])\n",
    "lam_lower = 1/np.exp(az.summary(idata)[\"hdi_3%\"][\"Intercept\"])\n",
    "lam_upper = 1/np.exp(az.summary(idata)[\"hdi_97%\"][\"Intercept\"])\n",
    "\n",
    "t = np.linspace(0, max(data[\"time\"]))\n",
    "S0 = sp.stats.expon.sf\n",
    "\n",
    "plt.plot(t, S0(lam * t));\n",
    "plt.fill_between(t, S0(lam_lower * t), S0(lam_upper * t), alpha=0.25);\n",
    "\n",
    "med_surv = median_survival(S0(lam * t), t)\n",
    "plt.hlines(y=0.5, xmin=0, xmax=med_surv, linestyles='dashed', color='black');\n",
    "plt.vlines(x=med_surv, ymin=0, ymax=0.5, linestyles='dashed', color='black');\n"
   ]
  },
  {
   "cell_type": "code",
   "execution_count": 11,
   "id": "2a319710-180f-41e1-9ac5-0ca78f27e052",
   "metadata": {},
   "outputs": [
    {
     "name": "stdout",
     "output_type": "stream",
     "text": [
      "Median survival at 101.9 days, CI [81.6, 122.3]\n"
     ]
    }
   ],
   "source": [
    "print(\"Median survival at {:.1f} days, CI [{:.1f}, {:.1f}]\".format(median_survival(S0(lam * t), t), median_survival(S0(lam_lower * t), t), median_survival(S0(lam_upper * t), t)))"
   ]
  },
  {
   "cell_type": "markdown",
   "id": "962740c5-1564-4bc4-811b-3426723c0137",
   "metadata": {},
   "source": [
    "### Treatment and celltype model\n",
    "\n",
    "Next let's build a model with the treatment and the celltype."
   ]
  },
  {
   "cell_type": "code",
   "execution_count": 12,
   "id": "99c07004-eb1a-49f5-9ef3-db5c23cd1ba3",
   "metadata": {},
   "outputs": [
    {
     "name": "stderr",
     "output_type": "stream",
     "text": [
      "Auto-assigning NUTS sampler...\n",
      "Initializing NUTS using jitter+adapt_diag...\n",
      "Sequential sampling (2 chains in 1 job)\n",
      "NUTS: [Intercept, B(trt_str, success = Test), T(celltype_str, ref = Squamous)]\n"
     ]
    },
    {
     "data": {
      "text/html": [
       "\n",
       "<style>\n",
       "    /* Turns off some styling */\n",
       "    progress {\n",
       "        /* gets rid of default border in Firefox and Opera. */\n",
       "        border: none;\n",
       "        /* Needs to be in here for Safari polyfill so background images work as expected. */\n",
       "        background-size: auto;\n",
       "    }\n",
       "    .progress-bar-interrupted, .progress-bar-interrupted::-webkit-progress-bar {\n",
       "        background: #F44336;\n",
       "    }\n",
       "</style>\n"
      ],
      "text/plain": [
       "<IPython.core.display.HTML object>"
      ]
     },
     "metadata": {},
     "output_type": "display_data"
    },
    {
     "data": {
      "text/html": [
       "\n",
       "    <div>\n",
       "      <progress value='2000' class='' max='2000' style='width:300px; height:20px; vertical-align: middle;'></progress>\n",
       "      100.00% [2000/2000 00:03<00:00 Sampling chain 0, 0 divergences]\n",
       "    </div>\n",
       "    "
      ],
      "text/plain": [
       "<IPython.core.display.HTML object>"
      ]
     },
     "metadata": {},
     "output_type": "display_data"
    },
    {
     "data": {
      "text/html": [
       "\n",
       "<style>\n",
       "    /* Turns off some styling */\n",
       "    progress {\n",
       "        /* gets rid of default border in Firefox and Opera. */\n",
       "        border: none;\n",
       "        /* Needs to be in here for Safari polyfill so background images work as expected. */\n",
       "        background-size: auto;\n",
       "    }\n",
       "    .progress-bar-interrupted, .progress-bar-interrupted::-webkit-progress-bar {\n",
       "        background: #F44336;\n",
       "    }\n",
       "</style>\n"
      ],
      "text/plain": [
       "<IPython.core.display.HTML object>"
      ]
     },
     "metadata": {},
     "output_type": "display_data"
    },
    {
     "data": {
      "text/html": [
       "\n",
       "    <div>\n",
       "      <progress value='2000' class='' max='2000' style='width:300px; height:20px; vertical-align: middle;'></progress>\n",
       "      100.00% [2000/2000 00:03<00:00 Sampling chain 1, 0 divergences]\n",
       "    </div>\n",
       "    "
      ],
      "text/plain": [
       "<IPython.core.display.HTML object>"
      ]
     },
     "metadata": {},
     "output_type": "display_data"
    },
    {
     "name": "stderr",
     "output_type": "stream",
     "text": [
      "Sampling 2 chains for 1_000 tune and 1_000 draw iterations (2_000 + 2_000 draws total) took 7 seconds.\n"
     ]
    }
   ],
   "source": [
    "model = bmb.Model(\n",
    "    \"Surv(time,status) ~ 1 + B(trt_str, success='Test') + T(celltype_str, ref='Squamous')\",\n",
    "    data,\n",
    "    family=\"exponential\"\n",
    ")\n",
    "\n",
    "idata = model.fit(cores=1)"
   ]
  },
  {
   "cell_type": "code",
   "execution_count": 13,
   "id": "668a9c61-8ef9-40ed-a5e7-12789b4688cb",
   "metadata": {},
   "outputs": [
    {
     "data": {
      "text/html": [
       "<div>\n",
       "<style scoped>\n",
       "    .dataframe tbody tr th:only-of-type {\n",
       "        vertical-align: middle;\n",
       "    }\n",
       "\n",
       "    .dataframe tbody tr th {\n",
       "        vertical-align: top;\n",
       "    }\n",
       "\n",
       "    .dataframe thead th {\n",
       "        text-align: right;\n",
       "    }\n",
       "</style>\n",
       "<table border=\"1\" class=\"dataframe\">\n",
       "  <thead>\n",
       "    <tr style=\"text-align: right;\">\n",
       "      <th></th>\n",
       "      <th>mean</th>\n",
       "      <th>sd</th>\n",
       "      <th>hdi_3%</th>\n",
       "      <th>hdi_97%</th>\n",
       "      <th>mcse_mean</th>\n",
       "      <th>mcse_sd</th>\n",
       "      <th>ess_bulk</th>\n",
       "      <th>ess_tail</th>\n",
       "      <th>r_hat</th>\n",
       "    </tr>\n",
       "  </thead>\n",
       "  <tbody>\n",
       "    <tr>\n",
       "      <th>Intercept</th>\n",
       "      <td>5.552</td>\n",
       "      <td>0.234</td>\n",
       "      <td>5.097</td>\n",
       "      <td>5.967</td>\n",
       "      <td>0.008</td>\n",
       "      <td>0.005</td>\n",
       "      <td>961.0</td>\n",
       "      <td>1026.0</td>\n",
       "      <td>1.0</td>\n",
       "    </tr>\n",
       "    <tr>\n",
       "      <th>B(trt_str, success = Test)</th>\n",
       "      <td>-0.164</td>\n",
       "      <td>0.194</td>\n",
       "      <td>-0.509</td>\n",
       "      <td>0.208</td>\n",
       "      <td>0.005</td>\n",
       "      <td>0.004</td>\n",
       "      <td>1388.0</td>\n",
       "      <td>1626.0</td>\n",
       "      <td>1.0</td>\n",
       "    </tr>\n",
       "    <tr>\n",
       "      <th>T(celltype_str, ref = Squamous)[Adeno]</th>\n",
       "      <td>-1.226</td>\n",
       "      <td>0.270</td>\n",
       "      <td>-1.711</td>\n",
       "      <td>-0.703</td>\n",
       "      <td>0.008</td>\n",
       "      <td>0.006</td>\n",
       "      <td>1212.0</td>\n",
       "      <td>1359.0</td>\n",
       "      <td>1.0</td>\n",
       "    </tr>\n",
       "    <tr>\n",
       "      <th>T(celltype_str, ref = Squamous)[Large]</th>\n",
       "      <td>-0.319</td>\n",
       "      <td>0.277</td>\n",
       "      <td>-0.824</td>\n",
       "      <td>0.226</td>\n",
       "      <td>0.008</td>\n",
       "      <td>0.006</td>\n",
       "      <td>1197.0</td>\n",
       "      <td>1165.0</td>\n",
       "      <td>1.0</td>\n",
       "    </tr>\n",
       "    <tr>\n",
       "      <th>T(celltype_str, ref = Squamous)[Smallcell]</th>\n",
       "      <td>-1.161</td>\n",
       "      <td>0.255</td>\n",
       "      <td>-1.592</td>\n",
       "      <td>-0.641</td>\n",
       "      <td>0.008</td>\n",
       "      <td>0.006</td>\n",
       "      <td>955.0</td>\n",
       "      <td>1218.0</td>\n",
       "      <td>1.0</td>\n",
       "    </tr>\n",
       "  </tbody>\n",
       "</table>\n",
       "</div>"
      ],
      "text/plain": [
       "                                             mean     sd  hdi_3%  hdi_97%  \\\n",
       "Intercept                                   5.552  0.234   5.097    5.967   \n",
       "B(trt_str, success = Test)                 -0.164  0.194  -0.509    0.208   \n",
       "T(celltype_str, ref = Squamous)[Adeno]     -1.226  0.270  -1.711   -0.703   \n",
       "T(celltype_str, ref = Squamous)[Large]     -0.319  0.277  -0.824    0.226   \n",
       "T(celltype_str, ref = Squamous)[Smallcell] -1.161  0.255  -1.592   -0.641   \n",
       "\n",
       "                                            mcse_mean  mcse_sd  ess_bulk  \\\n",
       "Intercept                                       0.008    0.005     961.0   \n",
       "B(trt_str, success = Test)                      0.005    0.004    1388.0   \n",
       "T(celltype_str, ref = Squamous)[Adeno]          0.008    0.006    1212.0   \n",
       "T(celltype_str, ref = Squamous)[Large]          0.008    0.006    1197.0   \n",
       "T(celltype_str, ref = Squamous)[Smallcell]      0.008    0.006     955.0   \n",
       "\n",
       "                                            ess_tail  r_hat  \n",
       "Intercept                                     1026.0    1.0  \n",
       "B(trt_str, success = Test)                    1626.0    1.0  \n",
       "T(celltype_str, ref = Squamous)[Adeno]        1359.0    1.0  \n",
       "T(celltype_str, ref = Squamous)[Large]        1165.0    1.0  \n",
       "T(celltype_str, ref = Squamous)[Smallcell]    1218.0    1.0  "
      ]
     },
     "execution_count": 13,
     "metadata": {},
     "output_type": "execute_result"
    }
   ],
   "source": [
    "az.summary(idata)"
   ]
  },
  {
   "cell_type": "markdown",
   "id": "50828df1-5985-43f4-a26f-9a8a9f23298f",
   "metadata": {},
   "source": [
    "#### Interpretation\n",
    "\n",
    "Based on these results we can conclude that:\n",
    "* The treatment does not have a significant effect on the outcome since 0 is included in the HDI.\n",
    "* The celltypes 'Adeno' and 'Smallcell' have significant worse survival (higher rate of death) compared to celltypes 'Squamous' and 'Large'.\n",
    "* Celltype 'Large' has worse survival than celltype 'Squamous' but this is not significant since 0 (reference rate for 'Squamous') is included in the HDI\n",
    "* The celltypes 'Adeno' and 'Smallcell' can be considered equivalent in terms of survival"
   ]
  },
  {
   "cell_type": "markdown",
   "id": "e6522e9b-e12a-4752-a6cb-befbc3b590c1",
   "metadata": {},
   "source": [
    "Next we will plot the differenct survival functions for the different celltypes and treatments. Therefore, we create a new dataset to do these predictions."
   ]
  },
  {
   "cell_type": "code",
   "execution_count": 14,
   "id": "c24da90b-4533-440b-b9c4-6f5011da59b3",
   "metadata": {},
   "outputs": [
    {
     "data": {
      "text/html": [
       "<div>\n",
       "<style scoped>\n",
       "    .dataframe tbody tr th:only-of-type {\n",
       "        vertical-align: middle;\n",
       "    }\n",
       "\n",
       "    .dataframe tbody tr th {\n",
       "        vertical-align: top;\n",
       "    }\n",
       "\n",
       "    .dataframe thead th {\n",
       "        text-align: right;\n",
       "    }\n",
       "</style>\n",
       "<table border=\"1\" class=\"dataframe\">\n",
       "  <thead>\n",
       "    <tr style=\"text-align: right;\">\n",
       "      <th></th>\n",
       "      <th>trt_str</th>\n",
       "      <th>celltype_str</th>\n",
       "    </tr>\n",
       "  </thead>\n",
       "  <tbody>\n",
       "    <tr>\n",
       "      <th>0</th>\n",
       "      <td>Standard</td>\n",
       "      <td>Squamous</td>\n",
       "    </tr>\n",
       "    <tr>\n",
       "      <th>1</th>\n",
       "      <td>Test</td>\n",
       "      <td>Squamous</td>\n",
       "    </tr>\n",
       "    <tr>\n",
       "      <th>2</th>\n",
       "      <td>Standard</td>\n",
       "      <td>Smallcell</td>\n",
       "    </tr>\n",
       "    <tr>\n",
       "      <th>3</th>\n",
       "      <td>Test</td>\n",
       "      <td>Smallcell</td>\n",
       "    </tr>\n",
       "    <tr>\n",
       "      <th>4</th>\n",
       "      <td>Standard</td>\n",
       "      <td>Adeno</td>\n",
       "    </tr>\n",
       "    <tr>\n",
       "      <th>5</th>\n",
       "      <td>Test</td>\n",
       "      <td>Adeno</td>\n",
       "    </tr>\n",
       "    <tr>\n",
       "      <th>6</th>\n",
       "      <td>Standard</td>\n",
       "      <td>Large</td>\n",
       "    </tr>\n",
       "    <tr>\n",
       "      <th>7</th>\n",
       "      <td>Test</td>\n",
       "      <td>Large</td>\n",
       "    </tr>\n",
       "  </tbody>\n",
       "</table>\n",
       "</div>"
      ],
      "text/plain": [
       "    trt_str celltype_str\n",
       "0  Standard     Squamous\n",
       "1      Test     Squamous\n",
       "2  Standard    Smallcell\n",
       "3      Test    Smallcell\n",
       "4  Standard        Adeno\n",
       "5      Test        Adeno\n",
       "6  Standard        Large\n",
       "7      Test        Large"
      ]
     },
     "execution_count": 14,
     "metadata": {},
     "output_type": "execute_result"
    }
   ],
   "source": [
    "new_data = pd.DataFrame({\n",
    "    'trt_str': np.tile([\"Standard\", \"Test\"], 4, ),\n",
    "    'celltype_str': np.repeat(['Squamous', 'Smallcell', 'Adeno', 'Large'], 2),\n",
    "})\n",
    "new_data"
   ]
  },
  {
   "cell_type": "code",
   "execution_count": 15,
   "id": "b47eeded-7a81-4f9a-a8e8-671a000913db",
   "metadata": {},
   "outputs": [],
   "source": [
    "model.predict(idata, data=new_data, kind='mean')"
   ]
  },
  {
   "cell_type": "markdown",
   "id": "943f8b27-24ec-4acc-bdaf-b5241357786f",
   "metadata": {},
   "source": [
    "Now we add the predictions to the dataset for plotting. Again, we have to convert the estimates to the rates using $1/exp(\\lambda)$. We also extract the 95% Credible Interval (int this case the equally tailed interval) to plot the uncertainty. "
   ]
  },
  {
   "cell_type": "code",
   "execution_count": 16,
   "id": "f7534820-0e3a-44e6-9ced-c15d82e28363",
   "metadata": {},
   "outputs": [],
   "source": [
    "samples = idata.posterior[\"Surv(time, status)_mean\"].stack(samples=(\"chain\", \"draw\")).values\n",
    "preds = np.quantile(samples, q=[0.025, 0.5, 0.975], axis=1)\n",
    "preds = 1/np.exp(preds)\n",
    "\n",
    "new_data['lam'] = preds[1, :]\n",
    "new_data['lam_lower'] = preds[0, :]\n",
    "new_data['lam_upper'] = preds[2, :]"
   ]
  },
  {
   "cell_type": "markdown",
   "id": "fcb108f1-08d3-4559-9b09-cbb1a0835dbe",
   "metadata": {},
   "source": [
    "First we plot the different celltypes for the 'Test' treatment."
   ]
  },
  {
   "cell_type": "code",
   "execution_count": 17,
   "id": "c1f63b18-e8eb-42e4-beb9-e388af4f3122",
   "metadata": {},
   "outputs": [
    {
     "data": {
      "image/png": "[encoded data removed]",
      "text/plain": [
       "<Figure size 500x500 with 1 Axes>"
      ]
     },
     "metadata": {},
     "output_type": "display_data"
    }
   ],
   "source": [
    "t = np.linspace(0, max(data[\"time\"]))\n",
    "S0 = sp.stats.expon.sf\n",
    "\n",
    "plt.figure(figsize=(5, 5))\n",
    "\n",
    "new_data_test = new_data[new_data['trt_str'] == 'Test']\n",
    "\n",
    "for i in range(new_data_test.shape[0]):\n",
    "    celltype = new_data_test.iloc[i]['celltype_str']\n",
    "    lam = new_data_test.iloc[i]['lam']\n",
    "    lam_lower = new_data_test.iloc[i]['lam_lower']\n",
    "    lam_upper = new_data_test.iloc[i]['lam_upper']\n",
    "    \n",
    "    plt.plot(t, S0(lam * t), label = \"Celltype={}\".format(celltype));\n",
    "    plt.fill_between(t, S0(lam_lower * t), S0(lam_upper * t), alpha=0.25);\n",
    "    \n",
    "plt.legend(loc=1);\n",
    "plt.xlabel(\"Days\")\n",
    "plt.ylabel(\"Survival probability\")\n",
    "plt.title(\"Treatment = Test\");"
   ]
  },
  {
   "cell_type": "markdown",
   "id": "78daa821-2e0d-4c4a-a433-6b2aedef40f0",
   "metadata": {},
   "source": [
    "Next we plot the to different treatments for the celltype 'Squamous'."
   ]
  },
  {
   "cell_type": "code",
   "execution_count": 18,
   "id": "0fd1825f-5014-4ea4-93b0-8a842e3f1cfb",
   "metadata": {},
   "outputs": [
    {
     "data": {
      "image/png": "[encoded data removed]",
      "text/plain": [
       "<Figure size 500x500 with 1 Axes>"
      ]
     },
     "metadata": {},
     "output_type": "display_data"
    }
   ],
   "source": [
    "t = np.linspace(0, max(data[\"time\"]))\n",
    "S0 = sp.stats.expon.sf\n",
    "\n",
    "plt.figure(figsize=(5, 5))\n",
    "\n",
    "new_data_test = new_data[new_data['celltype_str'] == 'Squamous']\n",
    "\n",
    "for i in range(new_data_test.shape[0]):\n",
    "    trt = new_data_test.iloc[i]['trt_str']\n",
    "    lam = new_data_test.iloc[i]['lam']\n",
    "    lam_lower = new_data_test.iloc[i]['lam_lower']\n",
    "    lam_upper = new_data_test.iloc[i]['lam_upper']\n",
    "    \n",
    "    plt.plot(t, S0(lam * t), label = \"Treatment={}\".format(trt));\n",
    "    plt.fill_between(t, S0(lam_lower * t), S0(lam_upper * t), alpha=0.25);\n",
    "    \n",
    "plt.legend(loc=1);\n",
    "plt.xlabel(\"Days\")\n",
    "plt.ylabel(\"Survival probability\")\n",
    "plt.title(\"Celltype = Squamous\");"
   ]
  },
  {
   "cell_type": "markdown",
   "id": "2262e03b-0ad6-449a-9c54-9072c53c1282",
   "metadata": {},
   "source": [
    "### Interaction model\n",
    "\n",
    "In a real-world example we would do further analyses and also look at interactions. Here we just do a quick example on modelling the interaction between the treatment and the celltype. \n",
    "\n"
   ]
  },
  {
   "cell_type": "code",
   "execution_count": 19,
   "id": "8689cc36-3518-4db9-b3ef-950be7f308fd",
   "metadata": {},
   "outputs": [
    {
     "name": "stderr",
     "output_type": "stream",
     "text": [
      "Auto-assigning NUTS sampler...\n",
      "Initializing NUTS using jitter+adapt_diag...\n",
      "Sequential sampling (2 chains in 1 job)\n",
      "NUTS: [Intercept, B(trt_str, success = Test), T(celltype_str, ref = Squamous), B(trt_str, success = Test):T(celltype_str, ref = Squamous)]\n"
     ]
    },
    {
     "data": {
      "text/html": [
       "\n",
       "<style>\n",
       "    /* Turns off some styling */\n",
       "    progress {\n",
       "        /* gets rid of default border in Firefox and Opera. */\n",
       "        border: none;\n",
       "        /* Needs to be in here for Safari polyfill so background images work as expected. */\n",
       "        background-size: auto;\n",
       "    }\n",
       "    .progress-bar-interrupted, .progress-bar-interrupted::-webkit-progress-bar {\n",
       "        background: #F44336;\n",
       "    }\n",
       "</style>\n"
      ],
      "text/plain": [
       "<IPython.core.display.HTML object>"
      ]
     },
     "metadata": {},
     "output_type": "display_data"
    },
    {
     "data": {
      "text/html": [
       "\n",
       "    <div>\n",
       "      <progress value='2000' class='' max='2000' style='width:300px; height:20px; vertical-align: middle;'></progress>\n",
       "      100.00% [2000/2000 00:06<00:00 Sampling chain 0, 0 divergences]\n",
       "    </div>\n",
       "    "
      ],
      "text/plain": [
       "<IPython.core.display.HTML object>"
      ]
     },
     "metadata": {},
     "output_type": "display_data"
    },
    {
     "data": {
      "text/html": [
       "\n",
       "<style>\n",
       "    /* Turns off some styling */\n",
       "    progress {\n",
       "        /* gets rid of default border in Firefox and Opera. */\n",
       "        border: none;\n",
       "        /* Needs to be in here for Safari polyfill so background images work as expected. */\n",
       "        background-size: auto;\n",
       "    }\n",
       "    .progress-bar-interrupted, .progress-bar-interrupted::-webkit-progress-bar {\n",
       "        background: #F44336;\n",
       "    }\n",
       "</style>\n"
      ],
      "text/plain": [
       "<IPython.core.display.HTML object>"
      ]
     },
     "metadata": {},
     "output_type": "display_data"
    },
    {
     "data": {
      "text/html": [
       "\n",
       "    <div>\n",
       "      <progress value='2000' class='' max='2000' style='width:300px; height:20px; vertical-align: middle;'></progress>\n",
       "      100.00% [2000/2000 00:06<00:00 Sampling chain 1, 0 divergences]\n",
       "    </div>\n",
       "    "
      ],
      "text/plain": [
       "<IPython.core.display.HTML object>"
      ]
     },
     "metadata": {},
     "output_type": "display_data"
    },
    {
     "name": "stderr",
     "output_type": "stream",
     "text": [
      "Sampling 2 chains for 1_000 tune and 1_000 draw iterations (2_000 + 2_000 draws total) took 12 seconds.\n"
     ]
    }
   ],
   "source": [
    "model = bmb.Model(\n",
    "    \"Surv(time,status) ~ 1 + B(trt_str, success='Test') * T(celltype_str, ref='Squamous')\",\n",
    "    data,\n",
    "    family=\"exponential\"\n",
    ")\n",
    "\n",
    "idata = model.fit(cores=1)"
   ]
  },
  {
   "cell_type": "code",
   "execution_count": 20,
   "id": "2d5fa2be-7515-4e1c-b9a5-a979e3ce33c1",
   "metadata": {},
   "outputs": [
    {
     "data": {
      "text/html": [
       "<div>\n",
       "<style scoped>\n",
       "    .dataframe tbody tr th:only-of-type {\n",
       "        vertical-align: middle;\n",
       "    }\n",
       "\n",
       "    .dataframe tbody tr th {\n",
       "        vertical-align: top;\n",
       "    }\n",
       "\n",
       "    .dataframe thead th {\n",
       "        text-align: right;\n",
       "    }\n",
       "</style>\n",
       "<table border=\"1\" class=\"dataframe\">\n",
       "  <thead>\n",
       "    <tr style=\"text-align: right;\">\n",
       "      <th></th>\n",
       "      <th>mean</th>\n",
       "      <th>sd</th>\n",
       "      <th>hdi_3%</th>\n",
       "      <th>hdi_97%</th>\n",
       "      <th>mcse_mean</th>\n",
       "      <th>mcse_sd</th>\n",
       "      <th>ess_bulk</th>\n",
       "      <th>ess_tail</th>\n",
       "      <th>r_hat</th>\n",
       "    </tr>\n",
       "  </thead>\n",
       "  <tbody>\n",
       "    <tr>\n",
       "      <th>Intercept</th>\n",
       "      <td>4.984</td>\n",
       "      <td>0.284</td>\n",
       "      <td>4.451</td>\n",
       "      <td>5.505</td>\n",
       "      <td>0.012</td>\n",
       "      <td>0.009</td>\n",
       "      <td>568.0</td>\n",
       "      <td>783.0</td>\n",
       "      <td>1.01</td>\n",
       "    </tr>\n",
       "    <tr>\n",
       "      <th>B(trt_str, success = Test)</th>\n",
       "      <td>0.707</td>\n",
       "      <td>0.368</td>\n",
       "      <td>-0.027</td>\n",
       "      <td>1.335</td>\n",
       "      <td>0.018</td>\n",
       "      <td>0.013</td>\n",
       "      <td>421.0</td>\n",
       "      <td>529.0</td>\n",
       "      <td>1.01</td>\n",
       "    </tr>\n",
       "    <tr>\n",
       "      <th>T(celltype_str, ref = Squamous)[Adeno]</th>\n",
       "      <td>-0.642</td>\n",
       "      <td>0.437</td>\n",
       "      <td>-1.485</td>\n",
       "      <td>0.163</td>\n",
       "      <td>0.016</td>\n",
       "      <td>0.011</td>\n",
       "      <td>770.0</td>\n",
       "      <td>952.0</td>\n",
       "      <td>1.00</td>\n",
       "    </tr>\n",
       "    <tr>\n",
       "      <th>T(celltype_str, ref = Squamous)[Large]</th>\n",
       "      <td>0.380</td>\n",
       "      <td>0.377</td>\n",
       "      <td>-0.324</td>\n",
       "      <td>1.079</td>\n",
       "      <td>0.014</td>\n",
       "      <td>0.010</td>\n",
       "      <td>680.0</td>\n",
       "      <td>608.0</td>\n",
       "      <td>1.00</td>\n",
       "    </tr>\n",
       "    <tr>\n",
       "      <th>T(celltype_str, ref = Squamous)[Smallcell]</th>\n",
       "      <td>-0.438</td>\n",
       "      <td>0.348</td>\n",
       "      <td>-1.053</td>\n",
       "      <td>0.221</td>\n",
       "      <td>0.014</td>\n",
       "      <td>0.010</td>\n",
       "      <td>656.0</td>\n",
       "      <td>914.0</td>\n",
       "      <td>1.00</td>\n",
       "    </tr>\n",
       "    <tr>\n",
       "      <th>B(trt_str, success = Test):T(celltype_str, ref = Squamous)[Adeno]</th>\n",
       "      <td>-0.878</td>\n",
       "      <td>0.537</td>\n",
       "      <td>-1.941</td>\n",
       "      <td>0.061</td>\n",
       "      <td>0.022</td>\n",
       "      <td>0.016</td>\n",
       "      <td>574.0</td>\n",
       "      <td>1191.0</td>\n",
       "      <td>1.00</td>\n",
       "    </tr>\n",
       "    <tr>\n",
       "      <th>B(trt_str, success = Test):T(celltype_str, ref = Squamous)[Large]</th>\n",
       "      <td>-1.151</td>\n",
       "      <td>0.530</td>\n",
       "      <td>-2.124</td>\n",
       "      <td>-0.155</td>\n",
       "      <td>0.021</td>\n",
       "      <td>0.015</td>\n",
       "      <td>661.0</td>\n",
       "      <td>1094.0</td>\n",
       "      <td>1.00</td>\n",
       "    </tr>\n",
       "    <tr>\n",
       "      <th>B(trt_str, success = Test):T(celltype_str, ref = Squamous)[Smallcell]</th>\n",
       "      <td>-1.318</td>\n",
       "      <td>0.490</td>\n",
       "      <td>-2.233</td>\n",
       "      <td>-0.414</td>\n",
       "      <td>0.021</td>\n",
       "      <td>0.015</td>\n",
       "      <td>531.0</td>\n",
       "      <td>1030.0</td>\n",
       "      <td>1.00</td>\n",
       "    </tr>\n",
       "  </tbody>\n",
       "</table>\n",
       "</div>"
      ],
      "text/plain": [
       "                                                     mean     sd  hdi_3%  \\\n",
       "Intercept                                           4.984  0.284   4.451   \n",
       "B(trt_str, success = Test)                          0.707  0.368  -0.027   \n",
       "T(celltype_str, ref = Squamous)[Adeno]             -0.642  0.437  -1.485   \n",
       "T(celltype_str, ref = Squamous)[Large]              0.380  0.377  -0.324   \n",
       "T(celltype_str, ref = Squamous)[Smallcell]         -0.438  0.348  -1.053   \n",
       "B(trt_str, success = Test):T(celltype_str, ref ... -0.878  0.537  -1.941   \n",
       "B(trt_str, success = Test):T(celltype_str, ref ... -1.151  0.530  -2.124   \n",
       "B(trt_str, success = Test):T(celltype_str, ref ... -1.318  0.490  -2.233   \n",
       "\n",
       "                                                    hdi_97%  mcse_mean  \\\n",
       "Intercept                                             5.505      0.012   \n",
       "B(trt_str, success = Test)                            1.335      0.018   \n",
       "T(celltype_str, ref = Squamous)[Adeno]                0.163      0.016   \n",
       "T(celltype_str, ref = Squamous)[Large]                1.079      0.014   \n",
       "T(celltype_str, ref = Squamous)[Smallcell]            0.221      0.014   \n",
       "B(trt_str, success = Test):T(celltype_str, ref ...    0.061      0.022   \n",
       "B(trt_str, success = Test):T(celltype_str, ref ...   -0.155      0.021   \n",
       "B(trt_str, success = Test):T(celltype_str, ref ...   -0.414      0.021   \n",
       "\n",
       "                                                    mcse_sd  ess_bulk  \\\n",
       "Intercept                                             0.009     568.0   \n",
       "B(trt_str, success = Test)                            0.013     421.0   \n",
       "T(celltype_str, ref = Squamous)[Adeno]                0.011     770.0   \n",
       "T(celltype_str, ref = Squamous)[Large]                0.010     680.0   \n",
       "T(celltype_str, ref = Squamous)[Smallcell]            0.010     656.0   \n",
       "B(trt_str, success = Test):T(celltype_str, ref ...    0.016     574.0   \n",
       "B(trt_str, success = Test):T(celltype_str, ref ...    0.015     661.0   \n",
       "B(trt_str, success = Test):T(celltype_str, ref ...    0.015     531.0   \n",
       "\n",
       "                                                    ess_tail  r_hat  \n",
       "Intercept                                              783.0   1.01  \n",
       "B(trt_str, success = Test)                             529.0   1.01  \n",
       "T(celltype_str, ref = Squamous)[Adeno]                 952.0   1.00  \n",
       "T(celltype_str, ref = Squamous)[Large]                 608.0   1.00  \n",
       "T(celltype_str, ref = Squamous)[Smallcell]             914.0   1.00  \n",
       "B(trt_str, success = Test):T(celltype_str, ref ...    1191.0   1.00  \n",
       "B(trt_str, success = Test):T(celltype_str, ref ...    1094.0   1.00  \n",
       "B(trt_str, success = Test):T(celltype_str, ref ...    1030.0   1.00  "
      ]
     },
     "execution_count": 20,
     "metadata": {},
     "output_type": "execute_result"
    }
   ],
   "source": [
    "az.summary(idata)"
   ]
  },
  {
   "cell_type": "markdown",
   "id": "84562d48-7aad-443e-a897-4710ac6192b9",
   "metadata": {},
   "source": [
    "This output becomes already more challenging to interpret properly, especially without domain knowledge. So let's just go ahead and generate plots to visualize the differences."
   ]
  },
  {
   "cell_type": "code",
   "execution_count": 21,
   "id": "9bb87874-513f-4238-a4fb-2f79230db6f7",
   "metadata": {},
   "outputs": [],
   "source": [
    "new_data = pd.DataFrame({\n",
    "    'trt_str': np.tile([\"Standard\", \"Test\"], 4, ),\n",
    "    'celltype_str': np.repeat(['Squamous', 'Smallcell', 'Adeno', 'Large'], 2),\n",
    "})"
   ]
  },
  {
   "cell_type": "code",
   "execution_count": 22,
   "id": "b755dce2-a97a-42dc-b7de-e856fe4c32d9",
   "metadata": {},
   "outputs": [],
   "source": [
    "model.predict(idata, data=new_data, kind='mean')"
   ]
  },
  {
   "cell_type": "code",
   "execution_count": 23,
   "id": "744b0b2a-a98c-416e-9125-4e4d3e381945",
   "metadata": {},
   "outputs": [],
   "source": [
    "samples = idata.posterior[\"Surv(time, status)_mean\"].stack(samples=(\"chain\", \"draw\")).values\n",
    "preds = np.quantile(samples, q=[0.025, 0.5, 0.975], axis=1)\n",
    "preds = 1/np.exp(preds)\n",
    "\n",
    "new_data['lam'] = preds[1, :]\n",
    "new_data['lam_lower'] = preds[0, :]\n",
    "new_data['lam_upper'] = preds[2, :]"
   ]
  },
  {
   "cell_type": "code",
   "execution_count": 24,
   "id": "010d7f09-4296-4559-894e-71af6c5bac9c",
   "metadata": {},
   "outputs": [
    {
     "data": {
      "image/png": "[encoded data removed]",
      "text/plain": [
       "<Figure size 500x500 with 1 Axes>"
      ]
     },
     "metadata": {},
     "output_type": "display_data"
    }
   ],
   "source": [
    "t = np.linspace(0, max(data[\"time\"]))\n",
    "S0 = sp.stats.expon.sf\n",
    "\n",
    "plt.figure(figsize=(5, 5))\n",
    "\n",
    "new_data_test = new_data[new_data['celltype_str'] == 'Squamous']\n",
    "\n",
    "for i in range(new_data_test.shape[0]):\n",
    "    trt = new_data_test.iloc[i]['trt_str']\n",
    "    lam = new_data_test.iloc[i]['lam']\n",
    "    lam_lower = new_data_test.iloc[i]['lam_lower']\n",
    "    lam_upper = new_data_test.iloc[i]['lam_upper']\n",
    "    \n",
    "    plt.plot(t, S0(lam * t), label = \"Treatment={}\".format(trt));\n",
    "    plt.fill_between(t, S0(lam_lower * t), S0(lam_upper * t), alpha=0.25);\n",
    "    \n",
    "plt.legend(loc=1);\n",
    "plt.xlabel(\"Days\")\n",
    "plt.ylabel(\"Survival probability\")\n",
    "plt.title(\"Celltype = Squamous\");"
   ]
  },
  {
   "cell_type": "markdown",
   "id": "1b5d4e6c-3158-497a-ba44-3ca72b66b6ef",
   "metadata": {},
   "source": [
    "Now, compared to the previous example we can see a larger difference between the treatments, which we can consider significant since the survival curves lie outside the credible intervals. "
   ]
  },
  {
   "cell_type": "code",
   "execution_count": null,
   "id": "afe352e9-82c4-407e-875d-d77c5196628a",
   "metadata": {},
   "outputs": [],
   "source": []
  }
 ],
 "metadata": {
  "kernelspec": {
   "display_name": "Python 3 (ipykernel)",
   "language": "python",
   "name": "python3"
  },
  "language_info": {
   "codemirror_mode": {
    "name": "ipython",
    "version": 3
   },
   "file_extension": ".py",
   "mimetype": "text/x-python",
   "name": "python",
   "nbconvert_exporter": "python",
   "pygments_lexer": "ipython3",
   "version": "3.10.4"
  }
 },
 "nbformat": 4,
 "nbformat_minor": 5
}
