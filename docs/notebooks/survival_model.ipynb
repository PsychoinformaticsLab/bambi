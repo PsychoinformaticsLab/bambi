{
 "cells": [
  {
   "cell_type": "markdown",
   "id": "c59bbab2-ccbc-47bc-b35c-ad5264761bce",
   "metadata": {},
   "source": [
    "# Survival Analysis\n",
    "\n",
    "This example notebook shows how to use the functionalities for survival analysis. The examples in this notebook were contributed by Iwan Paolucci ([\\@ipa](https://github.com/ipa) on GitHub).\n",
    "\n",
    "*This example notebook shall not be an introduction into survival analysis but rather a showcase for the funcionality in bambi.*"
   ]
  },
  {
   "cell_type": "code",
   "execution_count": 1,
   "id": "ddf07d53-1a26-4cdc-8192-9386417cb10d",
   "metadata": {},
   "outputs": [
    {
     "name": "stdout",
     "output_type": "stream",
     "text": [
      "Could not locate executable g77\n",
      "Could not locate executable f77\n",
      "Could not locate executable ifort\n",
      "Could not locate executable ifl\n",
      "Could not locate executable f90\n",
      "Could not locate executable efl\n"
     ]
    }
   ],
   "source": [
    "import bambi as bmb\n",
    "import arviz as az\n",
    "import pandas as pd\n",
    "import os\n",
    "import matplotlib.pyplot as plt\n",
    "import scipy as sp\n",
    "import numpy as np\n",
    "import seaborn as sns"
   ]
  },
  {
   "cell_type": "markdown",
   "id": "454cd3f9-5830-41c4-abf2-19381f4ce884",
   "metadata": {},
   "source": [
    "## Prepare data\n",
    "\n",
    "For this example we will use the veterans data set included in the R survival package.\n",
    "\n",
    "https://www.rdocumentation.org/packages/survival/versions/3.3-1/topics/veteran"
   ]
  },
  {
   "cell_type": "code",
   "execution_count": 2,
   "id": "571c5f77-2a80-437d-ba69-f238d71e21d7",
   "metadata": {},
   "outputs": [],
   "source": [
    "data = pd.read_csv(os.path.join(\"data\", \"veteran.csv\"))"
   ]
  },
  {
   "cell_type": "markdown",
   "id": "450adf18-a96c-454d-9cff-e7ce1c82521b",
   "metadata": {},
   "source": [
    "Let's first add the labels to the treatment and celltype column"
   ]
  },
  {
   "cell_type": "code",
   "execution_count": 3,
   "id": "49d93785-baeb-48e6-b0f5-e5a46f9a9ad0",
   "metadata": {},
   "outputs": [],
   "source": [
    "lookup_table = {\n",
    "    'trt': {1: 'Standard', 2: 'Test'},\n",
    "    'celltype': {1: 'Squamous', 2: 'Smallcell', 3: 'Adeno', 4: 'Large'},\n",
    "}"
   ]
  },
  {
   "cell_type": "code",
   "execution_count": 4,
   "id": "7562587f-16f1-4b48-9816-1e3ff9d03c65",
   "metadata": {},
   "outputs": [],
   "source": [
    "data['trt_str'] = [lookup_table['trt'][x] for x in data['trt']]\n",
    "data['celltype_str'] = [lookup_table['celltype'][x] for x in data['celltype']]"
   ]
  },
  {
   "cell_type": "code",
   "execution_count": 5,
   "id": "2612b925-d824-4735-8cd5-e0a4bb0760c4",
   "metadata": {},
   "outputs": [
    {
     "data": {
      "text/html": [
       "<div>\n",
       "<style scoped>\n",
       "    .dataframe tbody tr th:only-of-type {\n",
       "        vertical-align: middle;\n",
       "    }\n",
       "\n",
       "    .dataframe tbody tr th {\n",
       "        vertical-align: top;\n",
       "    }\n",
       "\n",
       "    .dataframe thead th {\n",
       "        text-align: right;\n",
       "    }\n",
       "</style>\n",
       "<table border=\"1\" class=\"dataframe\">\n",
       "  <thead>\n",
       "    <tr style=\"text-align: right;\">\n",
       "      <th></th>\n",
       "      <th>time</th>\n",
       "      <th>status</th>\n",
       "      <th>karno</th>\n",
       "      <th>diagtime</th>\n",
       "      <th>age</th>\n",
       "      <th>prior</th>\n",
       "      <th>trt</th>\n",
       "      <th>celltype</th>\n",
       "      <th>trt_str</th>\n",
       "      <th>celltype_str</th>\n",
       "    </tr>\n",
       "  </thead>\n",
       "  <tbody>\n",
       "    <tr>\n",
       "      <th>0</th>\n",
       "      <td>72</td>\n",
       "      <td>1</td>\n",
       "      <td>60</td>\n",
       "      <td>7</td>\n",
       "      <td>69</td>\n",
       "      <td>0</td>\n",
       "      <td>1</td>\n",
       "      <td>1</td>\n",
       "      <td>Standard</td>\n",
       "      <td>Squamous</td>\n",
       "    </tr>\n",
       "    <tr>\n",
       "      <th>1</th>\n",
       "      <td>411</td>\n",
       "      <td>1</td>\n",
       "      <td>70</td>\n",
       "      <td>5</td>\n",
       "      <td>64</td>\n",
       "      <td>10</td>\n",
       "      <td>1</td>\n",
       "      <td>1</td>\n",
       "      <td>Standard</td>\n",
       "      <td>Squamous</td>\n",
       "    </tr>\n",
       "    <tr>\n",
       "      <th>2</th>\n",
       "      <td>228</td>\n",
       "      <td>1</td>\n",
       "      <td>60</td>\n",
       "      <td>3</td>\n",
       "      <td>38</td>\n",
       "      <td>0</td>\n",
       "      <td>1</td>\n",
       "      <td>1</td>\n",
       "      <td>Standard</td>\n",
       "      <td>Squamous</td>\n",
       "    </tr>\n",
       "    <tr>\n",
       "      <th>3</th>\n",
       "      <td>126</td>\n",
       "      <td>1</td>\n",
       "      <td>60</td>\n",
       "      <td>9</td>\n",
       "      <td>63</td>\n",
       "      <td>10</td>\n",
       "      <td>1</td>\n",
       "      <td>1</td>\n",
       "      <td>Standard</td>\n",
       "      <td>Squamous</td>\n",
       "    </tr>\n",
       "    <tr>\n",
       "      <th>4</th>\n",
       "      <td>118</td>\n",
       "      <td>1</td>\n",
       "      <td>70</td>\n",
       "      <td>11</td>\n",
       "      <td>65</td>\n",
       "      <td>10</td>\n",
       "      <td>1</td>\n",
       "      <td>1</td>\n",
       "      <td>Standard</td>\n",
       "      <td>Squamous</td>\n",
       "    </tr>\n",
       "    <tr>\n",
       "      <th>...</th>\n",
       "      <td>...</td>\n",
       "      <td>...</td>\n",
       "      <td>...</td>\n",
       "      <td>...</td>\n",
       "      <td>...</td>\n",
       "      <td>...</td>\n",
       "      <td>...</td>\n",
       "      <td>...</td>\n",
       "      <td>...</td>\n",
       "      <td>...</td>\n",
       "    </tr>\n",
       "    <tr>\n",
       "      <th>132</th>\n",
       "      <td>133</td>\n",
       "      <td>1</td>\n",
       "      <td>75</td>\n",
       "      <td>1</td>\n",
       "      <td>65</td>\n",
       "      <td>0</td>\n",
       "      <td>2</td>\n",
       "      <td>4</td>\n",
       "      <td>Test</td>\n",
       "      <td>Large</td>\n",
       "    </tr>\n",
       "    <tr>\n",
       "      <th>133</th>\n",
       "      <td>111</td>\n",
       "      <td>1</td>\n",
       "      <td>60</td>\n",
       "      <td>5</td>\n",
       "      <td>64</td>\n",
       "      <td>0</td>\n",
       "      <td>2</td>\n",
       "      <td>4</td>\n",
       "      <td>Test</td>\n",
       "      <td>Large</td>\n",
       "    </tr>\n",
       "    <tr>\n",
       "      <th>134</th>\n",
       "      <td>231</td>\n",
       "      <td>1</td>\n",
       "      <td>70</td>\n",
       "      <td>18</td>\n",
       "      <td>67</td>\n",
       "      <td>10</td>\n",
       "      <td>2</td>\n",
       "      <td>4</td>\n",
       "      <td>Test</td>\n",
       "      <td>Large</td>\n",
       "    </tr>\n",
       "    <tr>\n",
       "      <th>135</th>\n",
       "      <td>378</td>\n",
       "      <td>1</td>\n",
       "      <td>80</td>\n",
       "      <td>4</td>\n",
       "      <td>65</td>\n",
       "      <td>0</td>\n",
       "      <td>2</td>\n",
       "      <td>4</td>\n",
       "      <td>Test</td>\n",
       "      <td>Large</td>\n",
       "    </tr>\n",
       "    <tr>\n",
       "      <th>136</th>\n",
       "      <td>49</td>\n",
       "      <td>1</td>\n",
       "      <td>30</td>\n",
       "      <td>3</td>\n",
       "      <td>37</td>\n",
       "      <td>0</td>\n",
       "      <td>2</td>\n",
       "      <td>4</td>\n",
       "      <td>Test</td>\n",
       "      <td>Large</td>\n",
       "    </tr>\n",
       "  </tbody>\n",
       "</table>\n",
       "<p>137 rows × 10 columns</p>\n",
       "</div>"
      ],
      "text/plain": [
       "     time  status  karno  diagtime  age  prior  trt  celltype   trt_str  \\\n",
       "0      72       1     60         7   69      0    1         1  Standard   \n",
       "1     411       1     70         5   64     10    1         1  Standard   \n",
       "2     228       1     60         3   38      0    1         1  Standard   \n",
       "3     126       1     60         9   63     10    1         1  Standard   \n",
       "4     118       1     70        11   65     10    1         1  Standard   \n",
       "..    ...     ...    ...       ...  ...    ...  ...       ...       ...   \n",
       "132   133       1     75         1   65      0    2         4      Test   \n",
       "133   111       1     60         5   64      0    2         4      Test   \n",
       "134   231       1     70        18   67     10    2         4      Test   \n",
       "135   378       1     80         4   65      0    2         4      Test   \n",
       "136    49       1     30         3   37      0    2         4      Test   \n",
       "\n",
       "    celltype_str  \n",
       "0       Squamous  \n",
       "1       Squamous  \n",
       "2       Squamous  \n",
       "3       Squamous  \n",
       "4       Squamous  \n",
       "..           ...  \n",
       "132        Large  \n",
       "133        Large  \n",
       "134        Large  \n",
       "135        Large  \n",
       "136        Large  \n",
       "\n",
       "[137 rows x 10 columns]"
      ]
     },
     "execution_count": 5,
     "metadata": {},
     "output_type": "execute_result"
    }
   ],
   "source": [
    "data"
   ]
  },
  {
   "cell_type": "markdown",
   "id": "f39bae75-c358-46fd-98db-aee655e9e6b1",
   "metadata": {},
   "source": [
    "## Survival analysis using the Exponential distribution"
   ]
  },
  {
   "cell_type": "markdown",
   "id": "67184a8d-3121-452f-aa2b-bf453caffa6f",
   "metadata": {},
   "source": [
    "In this chapter we will use a parametric survival model using the Exponential distribution. Thus, we assume that the survival times follow an exponential distribution. Therefore, we should first have a look at this distribution. "
   ]
  },
  {
   "cell_type": "code",
   "execution_count": 6,
   "id": "c3e73fc6-6160-4159-8b46-9ba8198191e2",
   "metadata": {},
   "outputs": [
    {
     "data": {
      "image/png": "[encoded data removed]",
      "text/plain": [
       "<Figure size 402.375x360 with 1 Axes>"
      ]
     },
     "metadata": {
      "needs_background": "light"
     },
     "output_type": "display_data"
    }
   ],
   "source": [
    "sns.displot(data=data, x='time', hue='status', kind='hist');"
   ]
  },
  {
   "cell_type": "markdown",
   "id": "4c9e57ac-2b88-4de4-b1bb-5a17d827ef5a",
   "metadata": {},
   "source": [
    "Based on the histogram the assumption that the survival times follow an exponential distribution seems to hold."
   ]
  },
  {
   "cell_type": "markdown",
   "id": "fc93215e-b069-4f87-a4a8-755369f1bbe5",
   "metadata": {},
   "source": [
    "### Intercept only model\n",
    "\n",
    "Let's first fit a model with the intercept only to estimate the average survival in the study cohort."
   ]
  },
  {
   "cell_type": "code",
   "execution_count": 7,
   "id": "c0484b72-9dbe-43b7-9c21-5c9ec9e13f0a",
   "metadata": {},
   "outputs": [
    {
     "name": "stderr",
     "output_type": "stream",
     "text": [
      "Auto-assigning NUTS sampler...\n",
      "Initializing NUTS using jitter+adapt_diag...\n",
      "Sequential sampling (2 chains in 1 job)\n",
      "NUTS: [Intercept]\n"
     ]
    },
    {
     "data": {
      "text/html": [
       "\n",
       "<style>\n",
       "    /* Turns off some styling */\n",
       "    progress {\n",
       "        /* gets rid of default border in Firefox and Opera. */\n",
       "        border: none;\n",
       "        /* Needs to be in here for Safari polyfill so background images work as expected. */\n",
       "        background-size: auto;\n",
       "    }\n",
       "    .progress-bar-interrupted, .progress-bar-interrupted::-webkit-progress-bar {\n",
       "        background: #F44336;\n",
       "    }\n",
       "</style>\n"
      ],
      "text/plain": [
       "<IPython.core.display.HTML object>"
      ]
     },
     "metadata": {},
     "output_type": "display_data"
    },
    {
     "data": {
      "text/html": [
       "\n",
       "    <div>\n",
       "      <progress value='2000' class='' max='2000' style='width:300px; height:20px; vertical-align: middle;'></progress>\n",
       "      100.00% [2000/2000 00:11<00:00 Sampling chain 0, 0 divergences]\n",
       "    </div>\n",
       "    "
      ],
      "text/plain": [
       "<IPython.core.display.HTML object>"
      ]
     },
     "metadata": {},
     "output_type": "display_data"
    },
    {
     "data": {
      "text/html": [
       "\n",
       "<style>\n",
       "    /* Turns off some styling */\n",
       "    progress {\n",
       "        /* gets rid of default border in Firefox and Opera. */\n",
       "        border: none;\n",
       "        /* Needs to be in here for Safari polyfill so background images work as expected. */\n",
       "        background-size: auto;\n",
       "    }\n",
       "    .progress-bar-interrupted, .progress-bar-interrupted::-webkit-progress-bar {\n",
       "        background: #F44336;\n",
       "    }\n",
       "</style>\n"
      ],
      "text/plain": [
       "<IPython.core.display.HTML object>"
      ]
     },
     "metadata": {},
     "output_type": "display_data"
    },
    {
     "data": {
      "text/html": [
       "\n",
       "    <div>\n",
       "      <progress value='2000' class='' max='2000' style='width:300px; height:20px; vertical-align: middle;'></progress>\n",
       "      100.00% [2000/2000 00:03<00:00 Sampling chain 1, 0 divergences]\n",
       "    </div>\n",
       "    "
      ],
      "text/plain": [
       "<IPython.core.display.HTML object>"
      ]
     },
     "metadata": {},
     "output_type": "display_data"
    },
    {
     "name": "stderr",
     "output_type": "stream",
     "text": [
      "Sampling 2 chains for 1_000 tune and 1_000 draw iterations (2_000 + 2_000 draws total) took 15 seconds.\n"
     ]
    }
   ],
   "source": [
    "model = bmb.Model(\n",
    "    \"censored(time,status) ~ 1 \",\n",
    "    data,\n",
    "    family=\"exponential\"\n",
    ")\n",
    "\n",
    "idata = model.fit(cores=1)"
   ]
  },
  {
   "cell_type": "code",
   "execution_count": 9,
   "id": "e7a909b9-403e-43cb-b73d-8ee1e7c93c8b",
   "metadata": {},
   "outputs": [
    {
     "data": {
      "text/html": [
       "<div>\n",
       "<style scoped>\n",
       "    .dataframe tbody tr th:only-of-type {\n",
       "        vertical-align: middle;\n",
       "    }\n",
       "\n",
       "    .dataframe tbody tr th {\n",
       "        vertical-align: top;\n",
       "    }\n",
       "\n",
       "    .dataframe thead th {\n",
       "        text-align: right;\n",
       "    }\n",
       "</style>\n",
       "<table border=\"1\" class=\"dataframe\">\n",
       "  <thead>\n",
       "    <tr style=\"text-align: right;\">\n",
       "      <th></th>\n",
       "      <th>mean</th>\n",
       "      <th>sd</th>\n",
       "      <th>hdi_3%</th>\n",
       "      <th>hdi_97%</th>\n",
       "      <th>mcse_mean</th>\n",
       "      <th>mcse_sd</th>\n",
       "      <th>ess_bulk</th>\n",
       "      <th>ess_tail</th>\n",
       "      <th>r_hat</th>\n",
       "    </tr>\n",
       "  </thead>\n",
       "  <tbody>\n",
       "    <tr>\n",
       "      <th>Intercept</th>\n",
       "      <td>4.864</td>\n",
       "      <td>0.087</td>\n",
       "      <td>4.691</td>\n",
       "      <td>5.016</td>\n",
       "      <td>0.003</td>\n",
       "      <td>0.002</td>\n",
       "      <td>930.0</td>\n",
       "      <td>1288.0</td>\n",
       "      <td>1.0</td>\n",
       "    </tr>\n",
       "  </tbody>\n",
       "</table>\n",
       "</div>"
      ],
      "text/plain": [
       "            mean     sd  hdi_3%  hdi_97%  mcse_mean  mcse_sd  ess_bulk  \\\n",
       "Intercept  4.864  0.087   4.691    5.016      0.003    0.002     930.0   \n",
       "\n",
       "           ess_tail  r_hat  \n",
       "Intercept    1288.0    1.0  "
      ]
     },
     "execution_count": 9,
     "metadata": {},
     "output_type": "execute_result"
    }
   ],
   "source": [
    "summary = az.summary(idata)\n",
    "summary"
   ]
  },
  {
   "cell_type": "markdown",
   "id": "32f875a1-b7c5-4f28-8db7-503acd07cd56",
   "metadata": {},
   "source": [
    "The estimates $\\lambda$ have to be transformed using $1/exp(\\lambda)$ to convert them into a failure rate. We extract the estimates and the uncertainty from the summary table and plot the survival function.\n",
    "Additionally, we also extract the median survival time."
   ]
  },
  {
   "cell_type": "code",
   "execution_count": 10,
   "id": "76600e45-7af5-4043-92a1-867f631246b4",
   "metadata": {},
   "outputs": [],
   "source": [
    "def median_survival(surv_prob, t):\n",
    "    median_survival_idx = np.where(surv_prob <= 0.5)[0][0]\n",
    "    return t[median_survival_idx]"
   ]
  },
  {
   "cell_type": "markdown",
   "id": "e61be780-ce4e-4ab7-9583-18b0f19604bc",
   "metadata": {},
   "source": [
    "To plot the survival function we use the `sf()` function of the exponential distribution. The survival function is defined as 1 - cumulative distribution function (CDF). In survival analysis the CDF would represent the cumulative incidence function of a failure. "
   ]
  },
  {
   "cell_type": "code",
   "execution_count": 11,
   "id": "a77d8203-ff8b-4600-8827-4387d83bd809",
   "metadata": {},
   "outputs": [
    {
     "data": {
      "image/png": "[encoded data removed]",
      "text/plain": [
       "<Figure size 640x480 with 1 Axes>"
      ]
     },
     "metadata": {},
     "output_type": "display_data"
    }
   ],
   "source": [
    "lam = 1/np.exp(summary[\"mean\"][\"Intercept\"])\n",
    "lam_lower = 1/np.exp(summary[\"hdi_3%\"][\"Intercept\"])\n",
    "lam_upper = 1/np.exp(summary[\"hdi_97%\"][\"Intercept\"])\n",
    "\n",
    "t = np.linspace(0, max(data[\"time\"]))\n",
    "S0 = sp.stats.expon.sf\n",
    "\n",
    "plt.plot(t, S0(lam * t));\n",
    "plt.fill_between(t, S0(lam_lower * t), S0(lam_upper * t), alpha=0.25);\n",
    "\n",
    "med_surv = median_survival(S0(lam * t), t)\n",
    "plt.hlines(y=0.5, xmin=0, xmax=med_surv, linestyles='dashed', color='black');\n",
    "plt.vlines(x=med_surv, ymin=0, ymax=0.5, linestyles='dashed', color='black');\n"
   ]
  },
  {
   "cell_type": "code",
   "execution_count": 12,
   "id": "2a319710-180f-41e1-9ac5-0ca78f27e052",
   "metadata": {},
   "outputs": [
    {
     "name": "stdout",
     "output_type": "stream",
     "text": [
      "Median survival at 101.9 days, CI [81.6, 122.3]\n"
     ]
    }
   ],
   "source": [
    "print(\"Median survival at {:.1f} days, CI [{:.1f}, {:.1f}]\".format(median_survival(S0(lam * t), t), median_survival(S0(lam_lower * t), t), median_survival(S0(lam_upper * t), t)))"
   ]
  },
  {
   "cell_type": "markdown",
   "id": "962740c5-1564-4bc4-811b-3426723c0137",
   "metadata": {},
   "source": [
    "### Treatment and celltype model\n",
    "\n",
    "Next let's build a model with the treatment and the celltype. \n",
    "\n",
    "Here we use the B() and T() transformation from the formluae package. B() converts the variable into a bool where 'Test' is converted to True. T() converts the variable into a categorical variable with 'Squamous' being the reference value."
   ]
  },
  {
   "cell_type": "code",
   "execution_count": 14,
   "id": "99c07004-eb1a-49f5-9ef3-db5c23cd1ba3",
   "metadata": {},
   "outputs": [
    {
     "name": "stderr",
     "output_type": "stream",
     "text": [
      "Auto-assigning NUTS sampler...\n",
      "Initializing NUTS using jitter+adapt_diag...\n",
      "Sequential sampling (2 chains in 1 job)\n",
      "NUTS: [Intercept, B(trt_str, success = Test), T(celltype_str, ref = Squamous)]\n"
     ]
    },
    {
     "data": {
      "text/html": [
       "\n",
       "<style>\n",
       "    /* Turns off some styling */\n",
       "    progress {\n",
       "        /* gets rid of default border in Firefox and Opera. */\n",
       "        border: none;\n",
       "        /* Needs to be in here for Safari polyfill so background images work as expected. */\n",
       "        background-size: auto;\n",
       "    }\n",
       "    .progress-bar-interrupted, .progress-bar-interrupted::-webkit-progress-bar {\n",
       "        background: #F44336;\n",
       "    }\n",
       "</style>\n"
      ],
      "text/plain": [
       "<IPython.core.display.HTML object>"
      ]
     },
     "metadata": {},
     "output_type": "display_data"
    },
    {
     "data": {
      "text/html": [
       "\n",
       "    <div>\n",
       "      <progress value='2000' class='' max='2000' style='width:300px; height:20px; vertical-align: middle;'></progress>\n",
       "      100.00% [2000/2000 00:08<00:00 Sampling chain 0, 0 divergences]\n",
       "    </div>\n",
       "    "
      ],
      "text/plain": [
       "<IPython.core.display.HTML object>"
      ]
     },
     "metadata": {},
     "output_type": "display_data"
    },
    {
     "data": {
      "text/html": [
       "\n",
       "<style>\n",
       "    /* Turns off some styling */\n",
       "    progress {\n",
       "        /* gets rid of default border in Firefox and Opera. */\n",
       "        border: none;\n",
       "        /* Needs to be in here for Safari polyfill so background images work as expected. */\n",
       "        background-size: auto;\n",
       "    }\n",
       "    .progress-bar-interrupted, .progress-bar-interrupted::-webkit-progress-bar {\n",
       "        background: #F44336;\n",
       "    }\n",
       "</style>\n"
      ],
      "text/plain": [
       "<IPython.core.display.HTML object>"
      ]
     },
     "metadata": {},
     "output_type": "display_data"
    },
    {
     "data": {
      "text/html": [
       "\n",
       "    <div>\n",
       "      <progress value='2000' class='' max='2000' style='width:300px; height:20px; vertical-align: middle;'></progress>\n",
       "      100.00% [2000/2000 00:12<00:00 Sampling chain 1, 0 divergences]\n",
       "    </div>\n",
       "    "
      ],
      "text/plain": [
       "<IPython.core.display.HTML object>"
      ]
     },
     "metadata": {},
     "output_type": "display_data"
    },
    {
     "name": "stderr",
     "output_type": "stream",
     "text": [
      "Sampling 2 chains for 1_000 tune and 1_000 draw iterations (2_000 + 2_000 draws total) took 21 seconds.\n"
     ]
    }
   ],
   "source": [
    "model = bmb.Model(\n",
    "    \"censored(time,status) ~ 1 + B(trt_str, success='Test') + T(celltype_str, ref='Squamous')\",\n",
    "    data,\n",
    "    family=\"exponential\"\n",
    ")\n",
    "\n",
    "idata = model.fit(cores=1)"
   ]
  },
  {
   "cell_type": "code",
   "execution_count": 15,
   "id": "668a9c61-8ef9-40ed-a5e7-12789b4688cb",
   "metadata": {},
   "outputs": [
    {
     "data": {
      "text/html": [
       "<div>\n",
       "<style scoped>\n",
       "    .dataframe tbody tr th:only-of-type {\n",
       "        vertical-align: middle;\n",
       "    }\n",
       "\n",
       "    .dataframe tbody tr th {\n",
       "        vertical-align: top;\n",
       "    }\n",
       "\n",
       "    .dataframe thead th {\n",
       "        text-align: right;\n",
       "    }\n",
       "</style>\n",
       "<table border=\"1\" class=\"dataframe\">\n",
       "  <thead>\n",
       "    <tr style=\"text-align: right;\">\n",
       "      <th></th>\n",
       "      <th>mean</th>\n",
       "      <th>sd</th>\n",
       "      <th>hdi_3%</th>\n",
       "      <th>hdi_97%</th>\n",
       "      <th>mcse_mean</th>\n",
       "      <th>mcse_sd</th>\n",
       "      <th>ess_bulk</th>\n",
       "      <th>ess_tail</th>\n",
       "      <th>r_hat</th>\n",
       "    </tr>\n",
       "  </thead>\n",
       "  <tbody>\n",
       "    <tr>\n",
       "      <th>Intercept</th>\n",
       "      <td>5.566</td>\n",
       "      <td>0.227</td>\n",
       "      <td>5.155</td>\n",
       "      <td>5.992</td>\n",
       "      <td>0.007</td>\n",
       "      <td>0.005</td>\n",
       "      <td>988.0</td>\n",
       "      <td>1241.0</td>\n",
       "      <td>1.0</td>\n",
       "    </tr>\n",
       "    <tr>\n",
       "      <th>B(trt_str, success = Test)</th>\n",
       "      <td>-0.171</td>\n",
       "      <td>0.182</td>\n",
       "      <td>-0.509</td>\n",
       "      <td>0.177</td>\n",
       "      <td>0.005</td>\n",
       "      <td>0.003</td>\n",
       "      <td>1582.0</td>\n",
       "      <td>1686.0</td>\n",
       "      <td>1.0</td>\n",
       "    </tr>\n",
       "    <tr>\n",
       "      <th>T(celltype_str, ref = Squamous)[Adeno]</th>\n",
       "      <td>-1.237</td>\n",
       "      <td>0.267</td>\n",
       "      <td>-1.740</td>\n",
       "      <td>-0.751</td>\n",
       "      <td>0.007</td>\n",
       "      <td>0.005</td>\n",
       "      <td>1365.0</td>\n",
       "      <td>1439.0</td>\n",
       "      <td>1.0</td>\n",
       "    </tr>\n",
       "    <tr>\n",
       "      <th>T(celltype_str, ref = Squamous)[Large]</th>\n",
       "      <td>-0.326</td>\n",
       "      <td>0.275</td>\n",
       "      <td>-0.797</td>\n",
       "      <td>0.237</td>\n",
       "      <td>0.008</td>\n",
       "      <td>0.006</td>\n",
       "      <td>1173.0</td>\n",
       "      <td>1567.0</td>\n",
       "      <td>1.0</td>\n",
       "    </tr>\n",
       "    <tr>\n",
       "      <th>T(celltype_str, ref = Squamous)[Smallcell]</th>\n",
       "      <td>-1.168</td>\n",
       "      <td>0.250</td>\n",
       "      <td>-1.621</td>\n",
       "      <td>-0.693</td>\n",
       "      <td>0.008</td>\n",
       "      <td>0.005</td>\n",
       "      <td>1077.0</td>\n",
       "      <td>1179.0</td>\n",
       "      <td>1.0</td>\n",
       "    </tr>\n",
       "  </tbody>\n",
       "</table>\n",
       "</div>"
      ],
      "text/plain": [
       "                                             mean     sd  hdi_3%  hdi_97%  \\\n",
       "Intercept                                   5.566  0.227   5.155    5.992   \n",
       "B(trt_str, success = Test)                 -0.171  0.182  -0.509    0.177   \n",
       "T(celltype_str, ref = Squamous)[Adeno]     -1.237  0.267  -1.740   -0.751   \n",
       "T(celltype_str, ref = Squamous)[Large]     -0.326  0.275  -0.797    0.237   \n",
       "T(celltype_str, ref = Squamous)[Smallcell] -1.168  0.250  -1.621   -0.693   \n",
       "\n",
       "                                            mcse_mean  mcse_sd  ess_bulk  \\\n",
       "Intercept                                       0.007    0.005     988.0   \n",
       "B(trt_str, success = Test)                      0.005    0.003    1582.0   \n",
       "T(celltype_str, ref = Squamous)[Adeno]          0.007    0.005    1365.0   \n",
       "T(celltype_str, ref = Squamous)[Large]          0.008    0.006    1173.0   \n",
       "T(celltype_str, ref = Squamous)[Smallcell]      0.008    0.005    1077.0   \n",
       "\n",
       "                                            ess_tail  r_hat  \n",
       "Intercept                                     1241.0    1.0  \n",
       "B(trt_str, success = Test)                    1686.0    1.0  \n",
       "T(celltype_str, ref = Squamous)[Adeno]        1439.0    1.0  \n",
       "T(celltype_str, ref = Squamous)[Large]        1567.0    1.0  \n",
       "T(celltype_str, ref = Squamous)[Smallcell]    1179.0    1.0  "
      ]
     },
     "execution_count": 15,
     "metadata": {},
     "output_type": "execute_result"
    }
   ],
   "source": [
    "az.summary(idata)"
   ]
  },
  {
   "cell_type": "markdown",
   "id": "50828df1-5985-43f4-a26f-9a8a9f23298f",
   "metadata": {},
   "source": [
    "#### Interpretation\n",
    "\n",
    "Based on these results we can conclude that:\n",
    "* The treatment does not have a significant effect on the outcome since 0 is included in the HDI.\n",
    "* The celltypes 'Adeno' and 'Smallcell' have significant worse survival (higher rate of death) compared to celltypes 'Squamous' and 'Large'.\n",
    "* Celltype 'Large' has worse survival than celltype 'Squamous' but this is not significant since 0 (reference rate for 'Squamous') is included in the HDI\n",
    "* The celltypes 'Adeno' and 'Smallcell' can be considered equivalent in terms of survival"
   ]
  },
  {
   "cell_type": "markdown",
   "id": "e6522e9b-e12a-4752-a6cb-befbc3b590c1",
   "metadata": {},
   "source": [
    "Next we will plot the differenct survival functions for the different celltypes and treatments. Therefore, we create a new dataset to do these predictions."
   ]
  },
  {
   "cell_type": "code",
   "execution_count": 16,
   "id": "c24da90b-4533-440b-b9c4-6f5011da59b3",
   "metadata": {},
   "outputs": [
    {
     "data": {
      "text/html": [
       "<div>\n",
       "<style scoped>\n",
       "    .dataframe tbody tr th:only-of-type {\n",
       "        vertical-align: middle;\n",
       "    }\n",
       "\n",
       "    .dataframe tbody tr th {\n",
       "        vertical-align: top;\n",
       "    }\n",
       "\n",
       "    .dataframe thead th {\n",
       "        text-align: right;\n",
       "    }\n",
       "</style>\n",
       "<table border=\"1\" class=\"dataframe\">\n",
       "  <thead>\n",
       "    <tr style=\"text-align: right;\">\n",
       "      <th></th>\n",
       "      <th>trt_str</th>\n",
       "      <th>celltype_str</th>\n",
       "    </tr>\n",
       "  </thead>\n",
       "  <tbody>\n",
       "    <tr>\n",
       "      <th>0</th>\n",
       "      <td>Standard</td>\n",
       "      <td>Squamous</td>\n",
       "    </tr>\n",
       "    <tr>\n",
       "      <th>1</th>\n",
       "      <td>Test</td>\n",
       "      <td>Squamous</td>\n",
       "    </tr>\n",
       "    <tr>\n",
       "      <th>2</th>\n",
       "      <td>Standard</td>\n",
       "      <td>Smallcell</td>\n",
       "    </tr>\n",
       "    <tr>\n",
       "      <th>3</th>\n",
       "      <td>Test</td>\n",
       "      <td>Smallcell</td>\n",
       "    </tr>\n",
       "    <tr>\n",
       "      <th>4</th>\n",
       "      <td>Standard</td>\n",
       "      <td>Adeno</td>\n",
       "    </tr>\n",
       "    <tr>\n",
       "      <th>5</th>\n",
       "      <td>Test</td>\n",
       "      <td>Adeno</td>\n",
       "    </tr>\n",
       "    <tr>\n",
       "      <th>6</th>\n",
       "      <td>Standard</td>\n",
       "      <td>Large</td>\n",
       "    </tr>\n",
       "    <tr>\n",
       "      <th>7</th>\n",
       "      <td>Test</td>\n",
       "      <td>Large</td>\n",
       "    </tr>\n",
       "  </tbody>\n",
       "</table>\n",
       "</div>"
      ],
      "text/plain": [
       "    trt_str celltype_str\n",
       "0  Standard     Squamous\n",
       "1      Test     Squamous\n",
       "2  Standard    Smallcell\n",
       "3      Test    Smallcell\n",
       "4  Standard        Adeno\n",
       "5      Test        Adeno\n",
       "6  Standard        Large\n",
       "7      Test        Large"
      ]
     },
     "execution_count": 16,
     "metadata": {},
     "output_type": "execute_result"
    }
   ],
   "source": [
    "new_data = pd.DataFrame({\n",
    "    'trt_str': np.tile([\"Standard\", \"Test\"], 4, ),\n",
    "    'celltype_str': np.repeat(['Squamous', 'Smallcell', 'Adeno', 'Large'], 2),\n",
    "})\n",
    "new_data"
   ]
  },
  {
   "cell_type": "code",
   "execution_count": 17,
   "id": "b47eeded-7a81-4f9a-a8e8-671a000913db",
   "metadata": {},
   "outputs": [],
   "source": [
    "model.predict(idata, data=new_data, kind='mean')"
   ]
  },
  {
   "cell_type": "markdown",
   "id": "943f8b27-24ec-4acc-bdaf-b5241357786f",
   "metadata": {},
   "source": [
    "Now we add the predictions to the dataset for plotting. Again, we have to convert the estimates to the rates using $1/exp(\\lambda)$. We also extract the 95% Credible Interval (int this case the equally tailed interval) to plot the uncertainty. "
   ]
  },
  {
   "cell_type": "code",
   "execution_count": 19,
   "id": "f7534820-0e3a-44e6-9ced-c15d82e28363",
   "metadata": {},
   "outputs": [],
   "source": [
    "samples = idata.posterior[\"censored(time, status)_mean\"].stack(samples=(\"chain\", \"draw\")).values\n",
    "preds = np.quantile(samples, q=[0.025, 0.5, 0.975], axis=1)\n",
    "preds = 1/np.exp(preds)\n",
    "\n",
    "new_data['lam'] = preds[1, :]\n",
    "new_data['lam_lower'] = preds[0, :]\n",
    "new_data['lam_upper'] = preds[2, :]"
   ]
  },
  {
   "cell_type": "markdown",
   "id": "fcb108f1-08d3-4559-9b09-cbb1a0835dbe",
   "metadata": {},
   "source": [
    "First we plot the different celltypes for the 'Test' treatment."
   ]
  },
  {
   "cell_type": "code",
   "execution_count": 20,
   "id": "c1f63b18-e8eb-42e4-beb9-e388af4f3122",
   "metadata": {},
   "outputs": [
    {
     "data": {
      "image/png": "[encoded data removed]",
      "text/plain": [
       "<Figure size 500x500 with 1 Axes>"
      ]
     },
     "metadata": {},
     "output_type": "display_data"
    }
   ],
   "source": [
    "t = np.linspace(0, max(data[\"time\"]))\n",
    "S0 = sp.stats.expon.sf\n",
    "\n",
    "plt.figure(figsize=(5, 5))\n",
    "\n",
    "new_data_test = new_data[new_data['trt_str'] == 'Test']\n",
    "\n",
    "for i in range(new_data_test.shape[0]):\n",
    "    celltype = new_data_test.iloc[i]['celltype_str']\n",
    "    lam = new_data_test.iloc[i]['lam']\n",
    "    lam_lower = new_data_test.iloc[i]['lam_lower']\n",
    "    lam_upper = new_data_test.iloc[i]['lam_upper']\n",
    "    \n",
    "    plt.plot(t, S0(lam * t), label = \"Celltype={}\".format(celltype));\n",
    "    plt.fill_between(t, S0(lam_lower * t), S0(lam_upper * t), alpha=0.25);\n",
    "    \n",
    "plt.legend(loc=1);\n",
    "plt.xlabel(\"Days\")\n",
    "plt.ylabel(\"Survival probability\")\n",
    "plt.title(\"Treatment = Test\");"
   ]
  },
  {
   "cell_type": "markdown",
   "id": "78daa821-2e0d-4c4a-a433-6b2aedef40f0",
   "metadata": {},
   "source": [
    "Next we plot the to different treatments for the celltype 'Squamous'."
   ]
  },
  {
   "cell_type": "code",
   "execution_count": 21,
   "id": "0fd1825f-5014-4ea4-93b0-8a842e3f1cfb",
   "metadata": {},
   "outputs": [
    {
     "data": {
      "image/png": "[encoded data removed]",
      "text/plain": [
       "<Figure size 500x500 with 1 Axes>"
      ]
     },
     "metadata": {},
     "output_type": "display_data"
    }
   ],
   "source": [
    "t = np.linspace(0, max(data[\"time\"]))\n",
    "S0 = sp.stats.expon.sf\n",
    "\n",
    "plt.figure(figsize=(5, 5))\n",
    "\n",
    "new_data_test = new_data[new_data['celltype_str'] == 'Squamous']\n",
    "\n",
    "for i in range(new_data_test.shape[0]):\n",
    "    trt = new_data_test.iloc[i]['trt_str']\n",
    "    lam = new_data_test.iloc[i]['lam']\n",
    "    lam_lower = new_data_test.iloc[i]['lam_lower']\n",
    "    lam_upper = new_data_test.iloc[i]['lam_upper']\n",
    "    \n",
    "    plt.plot(t, S0(lam * t), label = \"Treatment={}\".format(trt));\n",
    "    plt.fill_between(t, S0(lam_lower * t), S0(lam_upper * t), alpha=0.25);\n",
    "    \n",
    "plt.legend(loc=1);\n",
    "plt.xlabel(\"Days\")\n",
    "plt.ylabel(\"Survival probability\")\n",
    "plt.title(\"Celltype = Squamous\");"
   ]
  },
  {
   "cell_type": "markdown",
   "id": "2262e03b-0ad6-449a-9c54-9072c53c1282",
   "metadata": {},
   "source": [
    "### Interaction model\n",
    "\n",
    "In a real-world example we would do further analyses and also look at interactions. Here we just do a quick example on modelling the interaction between the treatment and the celltype. \n",
    "\n"
   ]
  },
  {
   "cell_type": "code",
   "execution_count": 22,
   "id": "8689cc36-3518-4db9-b3ef-950be7f308fd",
   "metadata": {},
   "outputs": [
    {
     "name": "stderr",
     "output_type": "stream",
     "text": [
      "Auto-assigning NUTS sampler...\n",
      "Initializing NUTS using jitter+adapt_diag...\n",
      "Sequential sampling (2 chains in 1 job)\n",
      "NUTS: [Intercept, B(trt_str, success = Test), T(celltype_str, ref = Squamous), B(trt_str, success = Test):T(celltype_str, ref = Squamous)]\n"
     ]
    },
    {
     "data": {
      "text/html": [
       "\n",
       "<style>\n",
       "    /* Turns off some styling */\n",
       "    progress {\n",
       "        /* gets rid of default border in Firefox and Opera. */\n",
       "        border: none;\n",
       "        /* Needs to be in here for Safari polyfill so background images work as expected. */\n",
       "        background-size: auto;\n",
       "    }\n",
       "    .progress-bar-interrupted, .progress-bar-interrupted::-webkit-progress-bar {\n",
       "        background: #F44336;\n",
       "    }\n",
       "</style>\n"
      ],
      "text/plain": [
       "<IPython.core.display.HTML object>"
      ]
     },
     "metadata": {},
     "output_type": "display_data"
    },
    {
     "data": {
      "text/html": [
       "\n",
       "    <div>\n",
       "      <progress value='2000' class='' max='2000' style='width:300px; height:20px; vertical-align: middle;'></progress>\n",
       "      100.00% [2000/2000 00:16<00:00 Sampling chain 0, 0 divergences]\n",
       "    </div>\n",
       "    "
      ],
      "text/plain": [
       "<IPython.core.display.HTML object>"
      ]
     },
     "metadata": {},
     "output_type": "display_data"
    },
    {
     "data": {
      "text/html": [
       "\n",
       "<style>\n",
       "    /* Turns off some styling */\n",
       "    progress {\n",
       "        /* gets rid of default border in Firefox and Opera. */\n",
       "        border: none;\n",
       "        /* Needs to be in here for Safari polyfill so background images work as expected. */\n",
       "        background-size: auto;\n",
       "    }\n",
       "    .progress-bar-interrupted, .progress-bar-interrupted::-webkit-progress-bar {\n",
       "        background: #F44336;\n",
       "    }\n",
       "</style>\n"
      ],
      "text/plain": [
       "<IPython.core.display.HTML object>"
      ]
     },
     "metadata": {},
     "output_type": "display_data"
    },
    {
     "data": {
      "text/html": [
       "\n",
       "    <div>\n",
       "      <progress value='2000' class='' max='2000' style='width:300px; height:20px; vertical-align: middle;'></progress>\n",
       "      100.00% [2000/2000 00:12<00:00 Sampling chain 1, 0 divergences]\n",
       "    </div>\n",
       "    "
      ],
      "text/plain": [
       "<IPython.core.display.HTML object>"
      ]
     },
     "metadata": {},
     "output_type": "display_data"
    },
    {
     "name": "stderr",
     "output_type": "stream",
     "text": [
      "Sampling 2 chains for 1_000 tune and 1_000 draw iterations (2_000 + 2_000 draws total) took 29 seconds.\n"
     ]
    }
   ],
   "source": [
    "model = bmb.Model(\n",
    "    \"censored(time,status) ~ 1 + B(trt_str, success='Test') * T(celltype_str, ref='Squamous')\",\n",
    "    data,\n",
    "    family=\"exponential\"\n",
    ")\n",
    "\n",
    "idata = model.fit(cores=1)"
   ]
  },
  {
   "cell_type": "code",
   "execution_count": 23,
   "id": "2d5fa2be-7515-4e1c-b9a5-a979e3ce33c1",
   "metadata": {},
   "outputs": [
    {
     "data": {
      "text/html": [
       "<div>\n",
       "<style scoped>\n",
       "    .dataframe tbody tr th:only-of-type {\n",
       "        vertical-align: middle;\n",
       "    }\n",
       "\n",
       "    .dataframe tbody tr th {\n",
       "        vertical-align: top;\n",
       "    }\n",
       "\n",
       "    .dataframe thead th {\n",
       "        text-align: right;\n",
       "    }\n",
       "</style>\n",
       "<table border=\"1\" class=\"dataframe\">\n",
       "  <thead>\n",
       "    <tr style=\"text-align: right;\">\n",
       "      <th></th>\n",
       "      <th>mean</th>\n",
       "      <th>sd</th>\n",
       "      <th>hdi_3%</th>\n",
       "      <th>hdi_97%</th>\n",
       "      <th>mcse_mean</th>\n",
       "      <th>mcse_sd</th>\n",
       "      <th>ess_bulk</th>\n",
       "      <th>ess_tail</th>\n",
       "      <th>r_hat</th>\n",
       "    </tr>\n",
       "  </thead>\n",
       "  <tbody>\n",
       "    <tr>\n",
       "      <th>Intercept</th>\n",
       "      <td>4.963</td>\n",
       "      <td>0.291</td>\n",
       "      <td>4.419</td>\n",
       "      <td>5.503</td>\n",
       "      <td>0.013</td>\n",
       "      <td>0.010</td>\n",
       "      <td>469.0</td>\n",
       "      <td>737.0</td>\n",
       "      <td>1.01</td>\n",
       "    </tr>\n",
       "    <tr>\n",
       "      <th>B(trt_str, success = Test)</th>\n",
       "      <td>0.728</td>\n",
       "      <td>0.377</td>\n",
       "      <td>0.043</td>\n",
       "      <td>1.459</td>\n",
       "      <td>0.018</td>\n",
       "      <td>0.013</td>\n",
       "      <td>457.0</td>\n",
       "      <td>757.0</td>\n",
       "      <td>1.00</td>\n",
       "    </tr>\n",
       "    <tr>\n",
       "      <th>T(celltype_str, ref = Squamous)[Adeno]</th>\n",
       "      <td>-0.615</td>\n",
       "      <td>0.468</td>\n",
       "      <td>-1.451</td>\n",
       "      <td>0.292</td>\n",
       "      <td>0.018</td>\n",
       "      <td>0.013</td>\n",
       "      <td>701.0</td>\n",
       "      <td>1166.0</td>\n",
       "      <td>1.00</td>\n",
       "    </tr>\n",
       "    <tr>\n",
       "      <th>T(celltype_str, ref = Squamous)[Large]</th>\n",
       "      <td>0.414</td>\n",
       "      <td>0.390</td>\n",
       "      <td>-0.270</td>\n",
       "      <td>1.196</td>\n",
       "      <td>0.016</td>\n",
       "      <td>0.012</td>\n",
       "      <td>579.0</td>\n",
       "      <td>893.0</td>\n",
       "      <td>1.00</td>\n",
       "    </tr>\n",
       "    <tr>\n",
       "      <th>T(celltype_str, ref = Squamous)[Smallcell]</th>\n",
       "      <td>-0.421</td>\n",
       "      <td>0.345</td>\n",
       "      <td>-1.050</td>\n",
       "      <td>0.201</td>\n",
       "      <td>0.015</td>\n",
       "      <td>0.011</td>\n",
       "      <td>542.0</td>\n",
       "      <td>697.0</td>\n",
       "      <td>1.00</td>\n",
       "    </tr>\n",
       "    <tr>\n",
       "      <th>B(trt_str, success = Test):T(celltype_str, ref = Squamous)[Adeno]</th>\n",
       "      <td>-0.907</td>\n",
       "      <td>0.585</td>\n",
       "      <td>-1.960</td>\n",
       "      <td>0.253</td>\n",
       "      <td>0.024</td>\n",
       "      <td>0.017</td>\n",
       "      <td>608.0</td>\n",
       "      <td>1030.0</td>\n",
       "      <td>1.00</td>\n",
       "    </tr>\n",
       "    <tr>\n",
       "      <th>B(trt_str, success = Test):T(celltype_str, ref = Squamous)[Large]</th>\n",
       "      <td>-1.188</td>\n",
       "      <td>0.544</td>\n",
       "      <td>-2.175</td>\n",
       "      <td>-0.148</td>\n",
       "      <td>0.023</td>\n",
       "      <td>0.016</td>\n",
       "      <td>583.0</td>\n",
       "      <td>926.0</td>\n",
       "      <td>1.00</td>\n",
       "    </tr>\n",
       "    <tr>\n",
       "      <th>B(trt_str, success = Test):T(celltype_str, ref = Squamous)[Smallcell]</th>\n",
       "      <td>-1.321</td>\n",
       "      <td>0.489</td>\n",
       "      <td>-2.193</td>\n",
       "      <td>-0.356</td>\n",
       "      <td>0.022</td>\n",
       "      <td>0.016</td>\n",
       "      <td>495.0</td>\n",
       "      <td>879.0</td>\n",
       "      <td>1.01</td>\n",
       "    </tr>\n",
       "  </tbody>\n",
       "</table>\n",
       "</div>"
      ],
      "text/plain": [
       "                                                     mean     sd  hdi_3%  \\\n",
       "Intercept                                           4.963  0.291   4.419   \n",
       "B(trt_str, success = Test)                          0.728  0.377   0.043   \n",
       "T(celltype_str, ref = Squamous)[Adeno]             -0.615  0.468  -1.451   \n",
       "T(celltype_str, ref = Squamous)[Large]              0.414  0.390  -0.270   \n",
       "T(celltype_str, ref = Squamous)[Smallcell]         -0.421  0.345  -1.050   \n",
       "B(trt_str, success = Test):T(celltype_str, ref ... -0.907  0.585  -1.960   \n",
       "B(trt_str, success = Test):T(celltype_str, ref ... -1.188  0.544  -2.175   \n",
       "B(trt_str, success = Test):T(celltype_str, ref ... -1.321  0.489  -2.193   \n",
       "\n",
       "                                                    hdi_97%  mcse_mean  \\\n",
       "Intercept                                             5.503      0.013   \n",
       "B(trt_str, success = Test)                            1.459      0.018   \n",
       "T(celltype_str, ref = Squamous)[Adeno]                0.292      0.018   \n",
       "T(celltype_str, ref = Squamous)[Large]                1.196      0.016   \n",
       "T(celltype_str, ref = Squamous)[Smallcell]            0.201      0.015   \n",
       "B(trt_str, success = Test):T(celltype_str, ref ...    0.253      0.024   \n",
       "B(trt_str, success = Test):T(celltype_str, ref ...   -0.148      0.023   \n",
       "B(trt_str, success = Test):T(celltype_str, ref ...   -0.356      0.022   \n",
       "\n",
       "                                                    mcse_sd  ess_bulk  \\\n",
       "Intercept                                             0.010     469.0   \n",
       "B(trt_str, success = Test)                            0.013     457.0   \n",
       "T(celltype_str, ref = Squamous)[Adeno]                0.013     701.0   \n",
       "T(celltype_str, ref = Squamous)[Large]                0.012     579.0   \n",
       "T(celltype_str, ref = Squamous)[Smallcell]            0.011     542.0   \n",
       "B(trt_str, success = Test):T(celltype_str, ref ...    0.017     608.0   \n",
       "B(trt_str, success = Test):T(celltype_str, ref ...    0.016     583.0   \n",
       "B(trt_str, success = Test):T(celltype_str, ref ...    0.016     495.0   \n",
       "\n",
       "                                                    ess_tail  r_hat  \n",
       "Intercept                                              737.0   1.01  \n",
       "B(trt_str, success = Test)                             757.0   1.00  \n",
       "T(celltype_str, ref = Squamous)[Adeno]                1166.0   1.00  \n",
       "T(celltype_str, ref = Squamous)[Large]                 893.0   1.00  \n",
       "T(celltype_str, ref = Squamous)[Smallcell]             697.0   1.00  \n",
       "B(trt_str, success = Test):T(celltype_str, ref ...    1030.0   1.00  \n",
       "B(trt_str, success = Test):T(celltype_str, ref ...     926.0   1.00  \n",
       "B(trt_str, success = Test):T(celltype_str, ref ...     879.0   1.01  "
      ]
     },
     "execution_count": 23,
     "metadata": {},
     "output_type": "execute_result"
    }
   ],
   "source": [
    "az.summary(idata)"
   ]
  },
  {
   "cell_type": "markdown",
   "id": "84562d48-7aad-443e-a897-4710ac6192b9",
   "metadata": {},
   "source": [
    "This output becomes already more challenging to interpret properly, especially without domain knowledge. So let's just go ahead and generate plots to visualize the differences."
   ]
  },
  {
   "cell_type": "code",
   "execution_count": 24,
   "id": "9bb87874-513f-4238-a4fb-2f79230db6f7",
   "metadata": {},
   "outputs": [],
   "source": [
    "new_data = pd.DataFrame({\n",
    "    'trt_str': np.tile([\"Standard\", \"Test\"], 4, ),\n",
    "    'celltype_str': np.repeat(['Squamous', 'Smallcell', 'Adeno', 'Large'], 2),\n",
    "})"
   ]
  },
  {
   "cell_type": "code",
   "execution_count": 25,
   "id": "b755dce2-a97a-42dc-b7de-e856fe4c32d9",
   "metadata": {},
   "outputs": [],
   "source": [
    "model.predict(idata, data=new_data, kind='mean')"
   ]
  },
  {
   "cell_type": "code",
   "execution_count": 26,
   "id": "744b0b2a-a98c-416e-9125-4e4d3e381945",
   "metadata": {},
   "outputs": [
    {
     "ename": "KeyError",
     "evalue": "'Surv(time, status)_mean'",
     "output_type": "error",
     "traceback": [
      "\u001b[1;31m---------------------------------------------------------------------------\u001b[0m",
      "\u001b[1;31mKeyError\u001b[0m                                  Traceback (most recent call last)",
      "File \u001b[1;32m~\\AppData\\Local\\Miniconda3\\envs\\bambi\\lib\\site-packages\\xarray\\core\\dataset.py:1394\u001b[0m, in \u001b[0;36mDataset._construct_dataarray\u001b[1;34m(self, name)\u001b[0m\n\u001b[0;32m   1393\u001b[0m \u001b[38;5;28;01mtry\u001b[39;00m:\n\u001b[1;32m-> 1394\u001b[0m     variable \u001b[38;5;241m=\u001b[39m \u001b[38;5;28;43mself\u001b[39;49m\u001b[38;5;241;43m.\u001b[39;49m\u001b[43m_variables\u001b[49m\u001b[43m[\u001b[49m\u001b[43mname\u001b[49m\u001b[43m]\u001b[49m\n\u001b[0;32m   1395\u001b[0m \u001b[38;5;28;01mexcept\u001b[39;00m \u001b[38;5;167;01mKeyError\u001b[39;00m:\n",
      "\u001b[1;31mKeyError\u001b[0m: 'Surv(time, status)_mean'",
      "\nDuring handling of the above exception, another exception occurred:\n",
      "\u001b[1;31mKeyError\u001b[0m                                  Traceback (most recent call last)",
      "Input \u001b[1;32mIn [26]\u001b[0m, in \u001b[0;36m<cell line: 1>\u001b[1;34m()\u001b[0m\n\u001b[1;32m----> 1\u001b[0m samples \u001b[38;5;241m=\u001b[39m \u001b[43midata\u001b[49m\u001b[38;5;241;43m.\u001b[39;49m\u001b[43mposterior\u001b[49m\u001b[43m[\u001b[49m\u001b[38;5;124;43m\"\u001b[39;49m\u001b[38;5;124;43mSurv(time, status)_mean\u001b[39;49m\u001b[38;5;124;43m\"\u001b[39;49m\u001b[43m]\u001b[49m\u001b[38;5;241m.\u001b[39mstack(samples\u001b[38;5;241m=\u001b[39m(\u001b[38;5;124m\"\u001b[39m\u001b[38;5;124mchain\u001b[39m\u001b[38;5;124m\"\u001b[39m, \u001b[38;5;124m\"\u001b[39m\u001b[38;5;124mdraw\u001b[39m\u001b[38;5;124m\"\u001b[39m))\u001b[38;5;241m.\u001b[39mvalues\n\u001b[0;32m      2\u001b[0m preds \u001b[38;5;241m=\u001b[39m np\u001b[38;5;241m.\u001b[39mquantile(samples, q\u001b[38;5;241m=\u001b[39m[\u001b[38;5;241m0.025\u001b[39m, \u001b[38;5;241m0.5\u001b[39m, \u001b[38;5;241m0.975\u001b[39m], axis\u001b[38;5;241m=\u001b[39m\u001b[38;5;241m1\u001b[39m)\n\u001b[0;32m      3\u001b[0m preds \u001b[38;5;241m=\u001b[39m \u001b[38;5;241m1\u001b[39m\u001b[38;5;241m/\u001b[39mnp\u001b[38;5;241m.\u001b[39mexp(preds)\n",
      "File \u001b[1;32m~\\AppData\\Local\\Miniconda3\\envs\\bambi\\lib\\site-packages\\xarray\\core\\dataset.py:1498\u001b[0m, in \u001b[0;36mDataset.__getitem__\u001b[1;34m(self, key)\u001b[0m\n\u001b[0;32m   1495\u001b[0m     \u001b[38;5;28;01mreturn\u001b[39;00m \u001b[38;5;28mself\u001b[39m\u001b[38;5;241m.\u001b[39misel(\u001b[38;5;241m*\u001b[39m\u001b[38;5;241m*\u001b[39mcast(Mapping, key))\n\u001b[0;32m   1497\u001b[0m \u001b[38;5;28;01mif\u001b[39;00m hashable(key):\n\u001b[1;32m-> 1498\u001b[0m     \u001b[38;5;28;01mreturn\u001b[39;00m \u001b[38;5;28;43mself\u001b[39;49m\u001b[38;5;241;43m.\u001b[39;49m\u001b[43m_construct_dataarray\u001b[49m\u001b[43m(\u001b[49m\u001b[43mkey\u001b[49m\u001b[43m)\u001b[49m\n\u001b[0;32m   1499\u001b[0m \u001b[38;5;28;01melse\u001b[39;00m:\n\u001b[0;32m   1500\u001b[0m     \u001b[38;5;28;01mreturn\u001b[39;00m \u001b[38;5;28mself\u001b[39m\u001b[38;5;241m.\u001b[39m_copy_listed(key)\n",
      "File \u001b[1;32m~\\AppData\\Local\\Miniconda3\\envs\\bambi\\lib\\site-packages\\xarray\\core\\dataset.py:1396\u001b[0m, in \u001b[0;36mDataset._construct_dataarray\u001b[1;34m(self, name)\u001b[0m\n\u001b[0;32m   1394\u001b[0m     variable \u001b[38;5;241m=\u001b[39m \u001b[38;5;28mself\u001b[39m\u001b[38;5;241m.\u001b[39m_variables[name]\n\u001b[0;32m   1395\u001b[0m \u001b[38;5;28;01mexcept\u001b[39;00m \u001b[38;5;167;01mKeyError\u001b[39;00m:\n\u001b[1;32m-> 1396\u001b[0m     _, name, variable \u001b[38;5;241m=\u001b[39m \u001b[43m_get_virtual_variable\u001b[49m\u001b[43m(\u001b[49m\n\u001b[0;32m   1397\u001b[0m \u001b[43m        \u001b[49m\u001b[38;5;28;43mself\u001b[39;49m\u001b[38;5;241;43m.\u001b[39;49m\u001b[43m_variables\u001b[49m\u001b[43m,\u001b[49m\u001b[43m \u001b[49m\u001b[43mname\u001b[49m\u001b[43m,\u001b[49m\u001b[43m \u001b[49m\u001b[38;5;28;43mself\u001b[39;49m\u001b[38;5;241;43m.\u001b[39;49m\u001b[43m_level_coords\u001b[49m\u001b[43m,\u001b[49m\u001b[43m \u001b[49m\u001b[38;5;28;43mself\u001b[39;49m\u001b[38;5;241;43m.\u001b[39;49m\u001b[43mdims\u001b[49m\n\u001b[0;32m   1398\u001b[0m \u001b[43m    \u001b[49m\u001b[43m)\u001b[49m\n\u001b[0;32m   1400\u001b[0m needed_dims \u001b[38;5;241m=\u001b[39m \u001b[38;5;28mset\u001b[39m(variable\u001b[38;5;241m.\u001b[39mdims)\n\u001b[0;32m   1402\u001b[0m coords: \u001b[38;5;28mdict\u001b[39m[Hashable, Variable] \u001b[38;5;241m=\u001b[39m {}\n",
      "File \u001b[1;32m~\\AppData\\Local\\Miniconda3\\envs\\bambi\\lib\\site-packages\\xarray\\core\\dataset.py:169\u001b[0m, in \u001b[0;36m_get_virtual_variable\u001b[1;34m(variables, key, level_vars, dim_sizes)\u001b[0m\n\u001b[0;32m    167\u001b[0m     ref_var \u001b[38;5;241m=\u001b[39m dim_var\u001b[38;5;241m.\u001b[39mto_index_variable()\u001b[38;5;241m.\u001b[39mget_level_variable(ref_name)\n\u001b[0;32m    168\u001b[0m \u001b[38;5;28;01melse\u001b[39;00m:\n\u001b[1;32m--> 169\u001b[0m     ref_var \u001b[38;5;241m=\u001b[39m \u001b[43mvariables\u001b[49m\u001b[43m[\u001b[49m\u001b[43mref_name\u001b[49m\u001b[43m]\u001b[49m\n\u001b[0;32m    171\u001b[0m \u001b[38;5;28;01mif\u001b[39;00m var_name \u001b[38;5;129;01mis\u001b[39;00m \u001b[38;5;28;01mNone\u001b[39;00m:\n\u001b[0;32m    172\u001b[0m     virtual_var \u001b[38;5;241m=\u001b[39m ref_var\n",
      "\u001b[1;31mKeyError\u001b[0m: 'Surv(time, status)_mean'"
     ]
    }
   ],
   "source": [
    "samples = idata.posterior[\"Surv(time, status)_mean\"].stack(samples=(\"chain\", \"draw\")).values\n",
    "preds = np.quantile(samples, q=[0.025, 0.5, 0.975], axis=1)\n",
    "preds = 1/np.exp(preds)\n",
    "\n",
    "new_data['lam'] = preds[1, :]\n",
    "new_data['lam_lower'] = preds[0, :]\n",
    "new_data['lam_upper'] = preds[2, :]"
   ]
  },
  {
   "cell_type": "code",
   "execution_count": null,
   "id": "010d7f09-4296-4559-894e-71af6c5bac9c",
   "metadata": {},
   "outputs": [],
   "source": [
    "t = np.linspace(0, max(data[\"time\"]))\n",
    "S0 = sp.stats.expon.sf\n",
    "\n",
    "plt.figure(figsize=(5, 5))\n",
    "\n",
    "new_data_test = new_data[new_data['celltype_str'] == 'Squamous']\n",
    "\n",
    "for i in range(new_data_test.shape[0]):\n",
    "    trt = new_data_test.iloc[i]['trt_str']\n",
    "    lam = new_data_test.iloc[i]['lam']\n",
    "    lam_lower = new_data_test.iloc[i]['lam_lower']\n",
    "    lam_upper = new_data_test.iloc[i]['lam_upper']\n",
    "    \n",
    "    plt.plot(t, S0(lam * t), label = \"Treatment={}\".format(trt));\n",
    "    plt.fill_between(t, S0(lam_lower * t), S0(lam_upper * t), alpha=0.25);\n",
    "    \n",
    "plt.legend(loc=1);\n",
    "plt.xlabel(\"Days\")\n",
    "plt.ylabel(\"Survival probability\")\n",
    "plt.title(\"Celltype = Squamous\");"
   ]
  },
  {
   "cell_type": "markdown",
   "id": "1b5d4e6c-3158-497a-ba44-3ca72b66b6ef",
   "metadata": {},
   "source": [
    "Now, compared to the previous example we can see a larger difference between the treatments, which we can consider significant since the survival curves lie outside the credible intervals. "
   ]
  },
  {
   "cell_type": "code",
   "execution_count": null,
   "id": "afe352e9-82c4-407e-875d-d77c5196628a",
   "metadata": {},
   "outputs": [],
   "source": []
  }
 ],
 "metadata": {
  "kernelspec": {
   "display_name": "Python 3 (ipykernel)",
   "language": "python",
   "name": "python3"
  },
  "language_info": {
   "codemirror_mode": {
    "name": "ipython",
    "version": 3
   },
   "file_extension": ".py",
   "mimetype": "text/x-python",
   "name": "python",
   "nbconvert_exporter": "python",
   "pygments_lexer": "ipython3",
   "version": "3.10.5"
  }
 },
 "nbformat": 4,
 "nbformat_minor": 5
}
