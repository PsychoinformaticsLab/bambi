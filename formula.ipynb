{
 "cells": [
  {
   "cell_type": "code",
   "execution_count": 1,
   "metadata": {},
   "outputs": [],
   "source": [
    "import bambi as bmb\n",
    "from bambi.defaults import get_builtin_family"
   ]
  },
  {
   "cell_type": "code",
   "execution_count": 2,
   "metadata": {},
   "outputs": [],
   "source": [
    "family = get_builtin_family(\"gaussian\")"
   ]
  },
  {
   "cell_type": "markdown",
   "metadata": {},
   "source": [
    "Cosas que estan bien\n",
    "\n",
    "* `bmb.Formula`\n",
    "* `bmb.Link`\n",
    "* `bmb.Likelihood?`\n",
    "* `bmb.terms.*`\n",
    "    * Excepto `bmb.terms.offset.OffsetTerm`\n",
    "    * Está bien que los priors esten asociados a los términos"
   ]
  },
  {
   "cell_type": "code",
   "execution_count": 3,
   "metadata": {},
   "outputs": [],
   "source": [
    "%load_ext autoreload\n",
    "%autoreload 2"
   ]
  },
  {
   "cell_type": "code",
   "execution_count": 4,
   "metadata": {},
   "outputs": [],
   "source": [
    "data = bmb.load_data(\"my_data\")"
   ]
  },
  {
   "cell_type": "code",
   "execution_count": 5,
   "metadata": {},
   "outputs": [
    {
     "name": "stdout",
     "output_type": "stream",
     "text": [
      "{'Intercept': CommonTerm(  \n",
      "  name: Intercept,\n",
      "  prior: Normal(mu: 0, sigma: 1),\n",
      "  shape: (50,),\n",
      "  categorical: False\n",
      "), 'x': CommonTerm(  \n",
      "  name: x,\n",
      "  prior: Normal(mu: 0, sigma: 1),\n",
      "  shape: (50,),\n",
      "  categorical: False\n",
      ")}\n",
      "{'Intercept': CommonTerm(  \n",
      "  name: Intercept_sigma,\n",
      "  prior: Normal(mu: -1, sigma: 5),\n",
      "  shape: (50,),\n",
      "  categorical: False\n",
      "), 'x': CommonTerm(  \n",
      "  name: x_sigma,\n",
      "  prior: Normal(mu: 0, sigma: 1),\n",
      "  shape: (50,),\n",
      "  categorical: False\n",
      ")}\n"
     ]
    }
   ],
   "source": [
    "formula = bmb.Formula(\"y ~ x\", \"sigma ~ x\")\n",
    "priors = {\n",
    "    \"y\": {\n",
    "        \"x\": bmb.Prior(\"Normal\", mu=0, sigma=1)\n",
    "    },\n",
    "    \"sigma\": {\n",
    "        \"Intercept\": bmb.Prior(\"Normal\", mu=-1, sigma=5)\n",
    "    },\n",
    "}\n",
    "model = bmb.Model(formula, data, priors=priors)\n",
    "print(model.distributional_components[\"y\"].terms)\n",
    "print(model.distributional_components[\"sigma\"].terms)"
   ]
  },
  {
   "cell_type": "code",
   "execution_count": 6,
   "metadata": {},
   "outputs": [
    {
     "name": "stdout",
     "output_type": "stream",
     "text": [
      "{'Intercept': CommonTerm(  \n",
      "  name: Intercept,\n",
      "  prior: Normal(mu: 0, sigma: 1),\n",
      "  shape: (50,),\n",
      "  categorical: False\n",
      "), 'x': CommonTerm(  \n",
      "  name: x,\n",
      "  prior: Normal(mu: 0, sigma: 1),\n",
      "  shape: (50,),\n",
      "  categorical: False\n",
      ")}\n"
     ]
    }
   ],
   "source": [
    "formula = bmb.Formula(\"y ~ x\")\n",
    "priors = {\"x\": bmb.Prior(\"Normal\", mu=0, sigma=1)}\n",
    "model = bmb.Model(formula, data, priors=priors)\n",
    "print(model.distributional_components[\"y\"].terms)"
   ]
  },
  {
   "cell_type": "code",
   "execution_count": 10,
   "metadata": {},
   "outputs": [],
   "source": [
    "model.constant_components[\"sigma\"].prior"
   ]
  },
  {
   "cell_type": "code",
   "execution_count": 23,
   "metadata": {},
   "outputs": [
    {
     "data": {
      "text/plain": [
       "{'terms': {'Intercept': CommonTerm(  \n",
       "    name: Intercept,\n",
       "    prior: None,\n",
       "    shape: (50,),\n",
       "    categorical: False\n",
       "  ),\n",
       "  'x': CommonTerm(  \n",
       "    name: x,\n",
       "    prior: None,\n",
       "    shape: (50,),\n",
       "    categorical: False\n",
       "  )},\n",
       " 'design': DesignMatrices\n",
       " \n",
       "                   (rows, cols)\n",
       " Response:                (50,)\n",
       " Common:                (50, 2)\n",
       " \n",
       " Use .reponse, .common, or .group to access the different members.,\n",
       " 'response_name': 'y',\n",
       " 'response_kind': 'data',\n",
       " 'spec': Model,\n",
       " '_suffix': ''}"
      ]
     },
     "execution_count": 23,
     "metadata": {},
     "output_type": "execute_result"
    }
   ],
   "source": [
    "model.components[\"y\"].__dict__"
   ]
  },
  {
   "cell_type": "code",
   "execution_count": 11,
   "metadata": {},
   "outputs": [
    {
     "data": {
      "text/plain": [
       "'mu'"
      ]
     },
     "execution_count": 11,
     "metadata": {},
     "output_type": "execute_result"
    }
   ],
   "source": [
    "1 + 1"
   ]
  },
  {
   "cell_type": "markdown",
   "metadata": {},
   "source": [
    "Algunos principios\n",
    "\n",
    "* Cada formula es un `DistributionalComponent`\n",
    "    * Si la respuesta es el nombre de una variable, `response_kind = \"data\"` \n",
    "    * Si la respuesta es el nombre de un parametro auxiliar, `response_kind = \"parameter\"`.\n",
    "\n",
    "**Como manejar los casos donde los parametros auxiliares son fijos?**\n",
    "\n",
    "* Esto equivale a modelos de interceptos para estos parametros\n",
    "    * Hay que lograrlo sin llamar al parametro con el nombre \"Intercept_parameter\""
   ]
  },
  {
   "cell_type": "markdown",
   "metadata": {},
   "source": []
  },
  {
   "cell_type": "markdown",
   "metadata": {},
   "source": [
    "A tener en cuenta\n",
    "\n",
    "* No solo es cambiar la interface de la formula\n",
    "* Tambien es habilitar diferentes funciones de enlace para diferentes terminos\n",
    "\n",
    "\n",
    "**Idea 1**\n",
    "\n",
    "```python\n",
    "link_dicts = {\"mu\": \"identity\", \"sigma\": \"log\"}\n",
    "Model(... link=link_dicts)\n",
    "```\n",
    "\n",
    "La pregunta es, donde se almacenan estos `links`?\n",
    "\n",
    "**Respuesta:** Tienen que ir a parar a las familias."
   ]
  },
  {
   "cell_type": "markdown",
   "metadata": {},
   "source": [
    "**Pregunta:** \n",
    "\n",
    "* El prior de los parametros auxiliares tiene que ir en el Likelihood???\n",
    "* Empiezo a pensar que la respuesta es **NO**. Estamos mezclado dos cosas distintas.\n",
    "    * Descripcion de la funcion de verosimilitud, sus parametros, y cual es el rol de cada uno. -> Esto siempre es necesario\n",
    "    * Definicion de distribuciones a prior. -> Esto no es siempre necesario.\n",
    "* Los Priors en la familia tambien son un **error**.\n",
    "    * Un prior no forma parte de la descripcion de la familia."
   ]
  },
  {
   "cell_type": "markdown",
   "metadata": {},
   "source": [
    "TODO\n",
    "\n",
    "Verificar que tenemos los SUPPORTED_LINKS para cada parametro (no todos deben tolerar todo)"
   ]
  },
  {
   "cell_type": "markdown",
   "metadata": {},
   "source": [
    "Mapping\n",
    "* names -> DesignMatrices"
   ]
  }
 ],
 "metadata": {
  "kernelspec": {
   "display_name": "Python 3.10.4 ('bambi')",
   "language": "python",
   "name": "python3"
  },
  "language_info": {
   "codemirror_mode": {
    "name": "ipython",
    "version": 3
   },
   "file_extension": ".py",
   "mimetype": "text/x-python",
   "name": "python",
   "nbconvert_exporter": "python",
   "pygments_lexer": "ipython3",
   "version": "3.10.4"
  },
  "orig_nbformat": 4,
  "vscode": {
   "interpreter": {
    "hash": "1008626715a3728f1d66c057190bde332dc65ea99517a942c5f170959679b77d"
   }
  }
 },
 "nbformat": 4,
 "nbformat_minor": 2
}
