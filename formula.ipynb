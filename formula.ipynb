{
 "cells": [
  {
   "cell_type": "code",
   "execution_count": 1,
   "metadata": {},
   "outputs": [],
   "source": [
    "from bambi.defaults import get_builtin_family"
   ]
  },
  {
   "cell_type": "code",
   "execution_count": 2,
   "metadata": {},
   "outputs": [
    {
     "data": {
      "text/plain": [
       "Family: gaussian\n",
       "Likelihood: Likelihood(  \n",
       "  name: Normal,\n",
       "  params: ['mu', 'sigma'],\n",
       "  parent: mu\n",
       ")\n",
       "Link: {'mu': Link(  \n",
       "  name: identity,\n",
       "  link: <function identity at 0x7f62a5771630>,\n",
       "  linkinv: <function identity at 0x7f62a5771630>\n",
       "), 'sigma': Link(  \n",
       "  name: log,\n",
       "  link: <ufunc 'log'>,\n",
       "  linkinv: <ufunc 'exp'>\n",
       ")}"
      ]
     },
     "execution_count": 2,
     "metadata": {},
     "output_type": "execute_result"
    }
   ],
   "source": [
    "get_builtin_family(\"gaussian\")"
   ]
  },
  {
   "cell_type": "markdown",
   "metadata": {},
   "source": [
    "A tener en cuenta\n",
    "\n",
    "* No solo es cambiar la interface de la formula\n",
    "* Tambien es habilitar diferentes funciones de enlace para diferentes terminos\n",
    "\n",
    "\n",
    "**Idea 1**\n",
    "\n",
    "```python\n",
    "link_dicts = {\"mu\": \"identity\", \"sigma\": \"log\"}\n",
    "Model(... link=link_dicts)\n",
    "```\n",
    "\n",
    "La pregunta es, donde se almacenan estos `links`?\n",
    "\n",
    "**Respuesta:** Tienen que ir a parar a las familias."
   ]
  },
  {
   "cell_type": "markdown",
   "metadata": {},
   "source": [
    "**Pregunta:** \n",
    "\n",
    "* El prior de los parametros auxiliares tiene que ir en el Likelihood???\n",
    "* Empiezo a pensar que la respuesta es **NO**. Estamos mezclado dos cosas distintas.\n",
    "    * Descripcion de la funcion de verosimilitud, sus parametros, y cual es el rol de cada uno. -> Esto siempre es necesario\n",
    "    * Definicion de distribuciones a prior. -> Esto no es siempre necesario.\n",
    "* Los Priors en la familia tambien son un **error**.\n",
    "    * Un prior no forma parte de la descripcion de la familia."
   ]
  },
  {
   "cell_type": "markdown",
   "metadata": {},
   "source": [
    "TODO\n",
    "\n",
    "Verificar que tenemos los SUPPORTED_LINKS para cada parametro (no todos deben tolerar todo)"
   ]
  }
 ],
 "metadata": {
  "kernelspec": {
   "display_name": "Python 3.10.4 ('bambi')",
   "language": "python",
   "name": "python3"
  },
  "language_info": {
   "codemirror_mode": {
    "name": "ipython",
    "version": 3
   },
   "file_extension": ".py",
   "mimetype": "text/x-python",
   "name": "python",
   "nbconvert_exporter": "python",
   "pygments_lexer": "ipython3",
   "version": "3.10.6"
  },
  "orig_nbformat": 4,
  "vscode": {
   "interpreter": {
    "hash": "1008626715a3728f1d66c057190bde332dc65ea99517a942c5f170959679b77d"
   }
  }
 },
 "nbformat": 4,
 "nbformat_minor": 2
}
