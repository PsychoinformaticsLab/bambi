{
 "cells": [
  {
   "cell_type": "code",
   "execution_count": 8,
   "metadata": {},
   "outputs": [],
   "source": [
    "import bambi as bmb\n",
    "\n",
    "from bambi.families.link import Link\n",
    "from typing import Dict, Union\n",
    "\n",
    "class Family:\n",
    "    SUPPORTED_LINKS = [\n",
    "        \"cloglog\",\n",
    "        \"identity\",\n",
    "        \"inverse_squared\",\n",
    "        \"inverse\",\n",
    "        \"log\",\n",
    "        \"logit\",\n",
    "        \"probit\",\n",
    "        \"softmax\",\n",
    "        \"tan_2\",\n",
    "    ]\n",
    "\n",
    "    def __init__(self, name, likelihood, link) :\n",
    "        self.name = name\n",
    "        self.likelihood = likelihood\n",
    "        self.link = link\n",
    "        self.aliases = {}\n",
    "\n",
    "    @property\n",
    "    def link(self):\n",
    "        return self._link\n",
    "\n",
    "    @link.setter\n",
    "    def link(self, value):\n",
    "        assert isinstance(value, dict), \"Link functions must be specified with a 'dict'\"\n",
    "        links = {}\n",
    "        for param_name, param_value in value.items():\n",
    "            if isinstance(param_value, str):\n",
    "                param_link = self.check_string_link(param_value)\n",
    "            elif isinstance(value, Link):\n",
    "                param_link = param_value\n",
    "            else:\n",
    "                raise ValueError(\".link must be set to a string or a Link instance.\")\n",
    "            links[param_name] = param_link\n",
    "        self._link = links\n",
    "\n",
    "    def check_string_link(self, name):\n",
    "        if not name in self.SUPPORTED_LINKS:\n",
    "            raise ValueError(f\"Link '{name}' cannot be used with family '{self.name}'\")\n",
    "        return Link(name)\n",
    "\n",
    "    def set_alias(self, name, alias):\n",
    "        \"\"\"Set alias for an auxiliary variable of the family\n",
    "\n",
    "        Parameters\n",
    "        ----------\n",
    "        name: str\n",
    "            The name of the variable\n",
    "        alias: str\n",
    "            The new name for the variable\n",
    "        \"\"\"\n",
    "        self.aliases.update({name: alias})\n",
    "\n",
    "    def __str__(self):\n",
    "        msg_list = [f\"Response distribution: {self.likelihood.name}\", f\"Link: {self.link.name}\"]\n",
    "        if self.likelihood.priors:\n",
    "            priors_msg = \"\\n  \".join([f\"{k} ~ {v}\" for k, v in self.likelihood.priors.items()])\n",
    "            msg_list += [f\"Priors:\\n  {priors_msg}\"]\n",
    "        msg = \"\\n\".join(msg_list)\n",
    "        return msg\n",
    "\n",
    "    def __repr__(self):\n",
    "        return self.__str__()\n"
   ]
  },
  {
   "cell_type": "code",
   "execution_count": 21,
   "metadata": {},
   "outputs": [],
   "source": [
    "from bambi.defaults import get_builtin_family\n",
    "\n",
    "from bambi.families.univariate import Gaussian\n",
    "\n",
    "from bambi.defaults.defaults import generate_likelihood"
   ]
  },
  {
   "cell_type": "code",
   "execution_count": 28,
   "metadata": {},
   "outputs": [
    {
     "data": {
      "text/plain": [
       "Likelihood(  \n",
       "  name: Normal,\n",
       "  parent: mu,\n",
       "  priors: {'sigma': HalfNormal(sigma: 1)}\n",
       ")"
      ]
     },
     "execution_count": 28,
     "metadata": {},
     "output_type": "execute_result"
    }
   ],
   "source": [
    "d = {\"name\": \"Normal\", \"args\": {\"sigma\": \"HalfNormal\"}, \"parent\": \"mu\"}\n",
    "l = generate_likelihood(**d)\n",
    "l"
   ]
  },
  {
   "cell_type": "code",
   "execution_count": 27,
   "metadata": {},
   "outputs": [
    {
     "data": {
      "text/plain": [
       "Likelihood(  \n",
       "  name: Normal,\n",
       "  parent: mu,\n",
       "  priors: {'sigma': HalfNormal(sigma: 1)}\n",
       ")"
      ]
     },
     "execution_count": 27,
     "metadata": {},
     "output_type": "execute_result"
    }
   ],
   "source": []
  },
  {
   "cell_type": "code",
   "execution_count": 16,
   "metadata": {},
   "outputs": [
    {
     "ename": "AssertionError",
     "evalue": "Link functions must be specified with a 'dict'",
     "output_type": "error",
     "traceback": [
      "\u001b[0;31m---------------------------------------------------------------------------\u001b[0m",
      "\u001b[0;31mAssertionError\u001b[0m                            Traceback (most recent call last)",
      "Cell \u001b[0;32mIn [16], line 1\u001b[0m\n\u001b[0;32m----> 1\u001b[0m get_builtin_family(\u001b[39m\"\u001b[39;49m\u001b[39mgaussian\u001b[39;49m\u001b[39m\"\u001b[39;49m)\n",
      "File \u001b[0;32m~/Desktop/OSS/bambinos/bambi/bambi/defaults/defaults.py:327\u001b[0m, in \u001b[0;36mget_builtin_family\u001b[0;34m(name)\u001b[0m\n\u001b[1;32m    302\u001b[0m \u001b[39m\"\"\"Generate a built-in ``bambi.families.Family`` instance.\u001b[39;00m\n\u001b[1;32m    303\u001b[0m \n\u001b[1;32m    304\u001b[0m \u001b[39mGiven the name of a built-in family, this function returns a ``bambi.families.Family`` instance\u001b[39;00m\n\u001b[0;32m   (...)\u001b[0m\n\u001b[1;32m    324\u001b[0m \u001b[39m    The family instance.\u001b[39;00m\n\u001b[1;32m    325\u001b[0m \u001b[39m\"\"\"\u001b[39;00m\n\u001b[1;32m    326\u001b[0m \u001b[39mif\u001b[39;00m name \u001b[39min\u001b[39;00m BUILTIN_FAMILIES:\n\u001b[0;32m--> 327\u001b[0m     \u001b[39mreturn\u001b[39;00m generate_family(name, \u001b[39m*\u001b[39;49m\u001b[39m*\u001b[39;49mBUILTIN_FAMILIES[name])\n\u001b[1;32m    328\u001b[0m \u001b[39mraise\u001b[39;00m \u001b[39mValueError\u001b[39;00m(\u001b[39mf\u001b[39m\u001b[39m\"\u001b[39m\u001b[39m'\u001b[39m\u001b[39m{\u001b[39;00mname\u001b[39m}\u001b[39;00m\u001b[39m'\u001b[39m\u001b[39m is not a valid built-in family name.\u001b[39m\u001b[39m\"\u001b[39m)\n",
      "File \u001b[0;32m~/Desktop/OSS/bambinos/bambi/bambi/defaults/defaults.py:258\u001b[0m, in \u001b[0;36mgenerate_family\u001b[0;34m(name, likelihood, link, family)\u001b[0m\n\u001b[1;32m    239\u001b[0m \u001b[39m\"\"\"Generate a Bambi family.\u001b[39;00m\n\u001b[1;32m    240\u001b[0m \n\u001b[1;32m    241\u001b[0m \u001b[39mParameters\u001b[39;00m\n\u001b[0;32m   (...)\u001b[0m\n\u001b[1;32m    255\u001b[0m \u001b[39m    The family instance.\u001b[39;00m\n\u001b[1;32m    256\u001b[0m \u001b[39m\"\"\"\u001b[39;00m\n\u001b[1;32m    257\u001b[0m likelihood \u001b[39m=\u001b[39m generate_likelihood(\u001b[39m*\u001b[39m\u001b[39m*\u001b[39mlikelihood)\n\u001b[0;32m--> 258\u001b[0m \u001b[39mreturn\u001b[39;00m family(name, likelihood, link)\n",
      "File \u001b[0;32m~/Desktop/OSS/bambinos/bambi/bambi/families/family.py:55\u001b[0m, in \u001b[0;36mFamily.__init__\u001b[0;34m(self, name, likelihood, link)\u001b[0m\n\u001b[1;32m     53\u001b[0m \u001b[39mself\u001b[39m\u001b[39m.\u001b[39mname \u001b[39m=\u001b[39m name\n\u001b[1;32m     54\u001b[0m \u001b[39mself\u001b[39m\u001b[39m.\u001b[39mlikelihood \u001b[39m=\u001b[39m likelihood\n\u001b[0;32m---> 55\u001b[0m \u001b[39mself\u001b[39;49m\u001b[39m.\u001b[39;49mlink \u001b[39m=\u001b[39m link\n\u001b[1;32m     56\u001b[0m \u001b[39mself\u001b[39m\u001b[39m.\u001b[39maliases \u001b[39m=\u001b[39m {}\n",
      "File \u001b[0;32m~/Desktop/OSS/bambinos/bambi/bambi/families/family.py:64\u001b[0m, in \u001b[0;36mFamily.link\u001b[0;34m(self, value)\u001b[0m\n\u001b[1;32m     62\u001b[0m \u001b[39m@link\u001b[39m\u001b[39m.\u001b[39msetter\n\u001b[1;32m     63\u001b[0m \u001b[39mdef\u001b[39;00m \u001b[39mlink\u001b[39m(\u001b[39mself\u001b[39m, value):\n\u001b[0;32m---> 64\u001b[0m     \u001b[39massert\u001b[39;00m \u001b[39misinstance\u001b[39m(value, \u001b[39mdict\u001b[39m), \u001b[39m\"\u001b[39m\u001b[39mLink functions must be specified with a \u001b[39m\u001b[39m'\u001b[39m\u001b[39mdict\u001b[39m\u001b[39m'\u001b[39m\u001b[39m\"\u001b[39m\n\u001b[1;32m     65\u001b[0m     links \u001b[39m=\u001b[39m {}\n\u001b[1;32m     66\u001b[0m     \u001b[39mfor\u001b[39;00m param_name, param_value \u001b[39min\u001b[39;00m value\u001b[39m.\u001b[39mitems():\n",
      "\u001b[0;31mAssertionError\u001b[0m: Link functions must be specified with a 'dict'"
     ]
    }
   ],
   "source": [
    "get_builtin_family(\"gaussian\")"
   ]
  },
  {
   "cell_type": "code",
   "execution_count": 13,
   "metadata": {},
   "outputs": [
    {
     "data": {
      "text/plain": [
       "'mu'"
      ]
     },
     "execution_count": 13,
     "metadata": {},
     "output_type": "execute_result"
    }
   ],
   "source": [
    "likelihood.parent"
   ]
  },
  {
   "cell_type": "code",
   "execution_count": 12,
   "metadata": {},
   "outputs": [
    {
     "data": {
      "text/plain": [
       "{'name': 'Gaussian',\n",
       " 'priors': {'sigma': HalfNormal(sigma: 1)},\n",
       " '_parent': 'mu',\n",
       " 'dist': None}"
      ]
     },
     "execution_count": 12,
     "metadata": {},
     "output_type": "execute_result"
    }
   ],
   "source": [
    "likelihood.__dict__"
   ]
  },
  {
   "cell_type": "code",
   "execution_count": 9,
   "metadata": {},
   "outputs": [],
   "source": [
    "sigma_prior = bmb.Prior(\"HalfNormal\", sigma=1)\n",
    "likelihood = bmb.Likelihood(\"Gaussian\", parent=\"mu\", sigma=sigma_prior)"
   ]
  },
  {
   "cell_type": "code",
   "execution_count": 10,
   "metadata": {},
   "outputs": [],
   "source": [
    "link_dict = {\"mu\": \"identity\", \"sigma\": \"log\"}"
   ]
  },
  {
   "cell_type": "code",
   "execution_count": 11,
   "metadata": {},
   "outputs": [
    {
     "ename": "AttributeError",
     "evalue": "'dict' object has no attribute 'name'",
     "output_type": "error",
     "traceback": [
      "\u001b[0;31m---------------------------------------------------------------------------\u001b[0m",
      "\u001b[0;31mAttributeError\u001b[0m                            Traceback (most recent call last)",
      "File \u001b[0;32m~/anaconda3/envs/bambi/lib/python3.10/site-packages/IPython/core/formatters.py:707\u001b[0m, in \u001b[0;36mPlainTextFormatter.__call__\u001b[0;34m(self, obj)\u001b[0m\n\u001b[1;32m    700\u001b[0m stream \u001b[39m=\u001b[39m StringIO()\n\u001b[1;32m    701\u001b[0m printer \u001b[39m=\u001b[39m pretty\u001b[39m.\u001b[39mRepresentationPrinter(stream, \u001b[39mself\u001b[39m\u001b[39m.\u001b[39mverbose,\n\u001b[1;32m    702\u001b[0m     \u001b[39mself\u001b[39m\u001b[39m.\u001b[39mmax_width, \u001b[39mself\u001b[39m\u001b[39m.\u001b[39mnewline,\n\u001b[1;32m    703\u001b[0m     max_seq_length\u001b[39m=\u001b[39m\u001b[39mself\u001b[39m\u001b[39m.\u001b[39mmax_seq_length,\n\u001b[1;32m    704\u001b[0m     singleton_pprinters\u001b[39m=\u001b[39m\u001b[39mself\u001b[39m\u001b[39m.\u001b[39msingleton_printers,\n\u001b[1;32m    705\u001b[0m     type_pprinters\u001b[39m=\u001b[39m\u001b[39mself\u001b[39m\u001b[39m.\u001b[39mtype_printers,\n\u001b[1;32m    706\u001b[0m     deferred_pprinters\u001b[39m=\u001b[39m\u001b[39mself\u001b[39m\u001b[39m.\u001b[39mdeferred_printers)\n\u001b[0;32m--> 707\u001b[0m printer\u001b[39m.\u001b[39;49mpretty(obj)\n\u001b[1;32m    708\u001b[0m printer\u001b[39m.\u001b[39mflush()\n\u001b[1;32m    709\u001b[0m \u001b[39mreturn\u001b[39;00m stream\u001b[39m.\u001b[39mgetvalue()\n",
      "File \u001b[0;32m~/anaconda3/envs/bambi/lib/python3.10/site-packages/IPython/lib/pretty.py:410\u001b[0m, in \u001b[0;36mRepresentationPrinter.pretty\u001b[0;34m(self, obj)\u001b[0m\n\u001b[1;32m    407\u001b[0m                         \u001b[39mreturn\u001b[39;00m meth(obj, \u001b[39mself\u001b[39m, cycle)\n\u001b[1;32m    408\u001b[0m                 \u001b[39mif\u001b[39;00m \u001b[39mcls\u001b[39m \u001b[39mis\u001b[39;00m \u001b[39mnot\u001b[39;00m \u001b[39mobject\u001b[39m \\\n\u001b[1;32m    409\u001b[0m                         \u001b[39mand\u001b[39;00m callable(\u001b[39mcls\u001b[39m\u001b[39m.\u001b[39m\u001b[39m__dict__\u001b[39m\u001b[39m.\u001b[39mget(\u001b[39m'\u001b[39m\u001b[39m__repr__\u001b[39m\u001b[39m'\u001b[39m)):\n\u001b[0;32m--> 410\u001b[0m                     \u001b[39mreturn\u001b[39;00m _repr_pprint(obj, \u001b[39mself\u001b[39;49m, cycle)\n\u001b[1;32m    412\u001b[0m     \u001b[39mreturn\u001b[39;00m _default_pprint(obj, \u001b[39mself\u001b[39m, cycle)\n\u001b[1;32m    413\u001b[0m \u001b[39mfinally\u001b[39;00m:\n",
      "File \u001b[0;32m~/anaconda3/envs/bambi/lib/python3.10/site-packages/IPython/lib/pretty.py:778\u001b[0m, in \u001b[0;36m_repr_pprint\u001b[0;34m(obj, p, cycle)\u001b[0m\n\u001b[1;32m    776\u001b[0m \u001b[39m\"\"\"A pprint that just redirects to the normal repr function.\"\"\"\u001b[39;00m\n\u001b[1;32m    777\u001b[0m \u001b[39m# Find newlines and replace them with p.break_()\u001b[39;00m\n\u001b[0;32m--> 778\u001b[0m output \u001b[39m=\u001b[39m \u001b[39mrepr\u001b[39;49m(obj)\n\u001b[1;32m    779\u001b[0m lines \u001b[39m=\u001b[39m output\u001b[39m.\u001b[39msplitlines()\n\u001b[1;32m    780\u001b[0m \u001b[39mwith\u001b[39;00m p\u001b[39m.\u001b[39mgroup():\n",
      "Cell \u001b[0;32mIn [8], line 69\u001b[0m, in \u001b[0;36mFamily.__repr__\u001b[0;34m(self)\u001b[0m\n\u001b[1;32m     68\u001b[0m \u001b[39mdef\u001b[39;00m \u001b[39m__repr__\u001b[39m(\u001b[39mself\u001b[39m):\n\u001b[0;32m---> 69\u001b[0m     \u001b[39mreturn\u001b[39;00m \u001b[39mself\u001b[39;49m\u001b[39m.\u001b[39;49m\u001b[39m__str__\u001b[39;49m()\n",
      "Cell \u001b[0;32mIn [8], line 61\u001b[0m, in \u001b[0;36mFamily.__str__\u001b[0;34m(self)\u001b[0m\n\u001b[1;32m     60\u001b[0m \u001b[39mdef\u001b[39;00m \u001b[39m__str__\u001b[39m(\u001b[39mself\u001b[39m):\n\u001b[0;32m---> 61\u001b[0m     msg_list \u001b[39m=\u001b[39m [\u001b[39mf\u001b[39m\u001b[39m\"\u001b[39m\u001b[39mResponse distribution: \u001b[39m\u001b[39m{\u001b[39;00m\u001b[39mself\u001b[39m\u001b[39m.\u001b[39mlikelihood\u001b[39m.\u001b[39mname\u001b[39m}\u001b[39;00m\u001b[39m\"\u001b[39m, \u001b[39mf\u001b[39m\u001b[39m\"\u001b[39m\u001b[39mLink: \u001b[39m\u001b[39m{\u001b[39;00m\u001b[39mself\u001b[39m\u001b[39m.\u001b[39mlink\u001b[39m.\u001b[39mname\u001b[39m}\u001b[39;00m\u001b[39m\"\u001b[39m]\n\u001b[1;32m     62\u001b[0m     \u001b[39mif\u001b[39;00m \u001b[39mself\u001b[39m\u001b[39m.\u001b[39mlikelihood\u001b[39m.\u001b[39mpriors:\n\u001b[1;32m     63\u001b[0m         priors_msg \u001b[39m=\u001b[39m \u001b[39m\"\u001b[39m\u001b[39m\\n\u001b[39;00m\u001b[39m  \u001b[39m\u001b[39m\"\u001b[39m\u001b[39m.\u001b[39mjoin([\u001b[39mf\u001b[39m\u001b[39m\"\u001b[39m\u001b[39m{\u001b[39;00mk\u001b[39m}\u001b[39;00m\u001b[39m ~ \u001b[39m\u001b[39m{\u001b[39;00mv\u001b[39m}\u001b[39;00m\u001b[39m\"\u001b[39m \u001b[39mfor\u001b[39;00m k, v \u001b[39min\u001b[39;00m \u001b[39mself\u001b[39m\u001b[39m.\u001b[39mlikelihood\u001b[39m.\u001b[39mpriors\u001b[39m.\u001b[39mitems()])\n",
      "\u001b[0;31mAttributeError\u001b[0m: 'dict' object has no attribute 'name'"
     ]
    }
   ],
   "source": [
    "Family(\"my_gaussian\", likelihood, link_dict)"
   ]
  },
  {
   "cell_type": "markdown",
   "metadata": {},
   "source": []
  },
  {
   "cell_type": "markdown",
   "metadata": {},
   "source": [
    "A tener en cuenta\n",
    "\n",
    "* No solo es cambiar la interface de la formula\n",
    "* Tambien es habilitar diferentes funciones de enlace para diferentes terminos\n",
    "\n",
    "\n",
    "**Idea 1**\n",
    "\n",
    "```python\n",
    "link_dicts = {\"mu\": \"identity\", \"sigma\": \"log\"}\n",
    "Model(... link=link_dicts)\n",
    "```\n",
    "\n",
    "La pregunta es, donde se almacenan estos `links`?\n",
    "\n",
    "**Respuesta:** Tienen que ir a parar a las familias."
   ]
  },
  {
   "cell_type": "markdown",
   "metadata": {},
   "source": [
    "**Pregunta:** \n",
    "\n",
    "* El prior de los parametros auxiliares tiene que ir en el Likelihood???\n",
    "* Empiezo a pensar que la respuesta es **NO**. Estamos mezclado dos cosas distintas.\n",
    "    * Descripcion de la funcion de verosimilitud, sus parametros, y cual es el rol de cada uno. -> Esto siempre es necesario\n",
    "    * Definicion de distribuciones a prior. -> Esto no es siempre necesario.\n",
    "* Los Priors en la familia tambien son un **error**.\n",
    "    * Un prior no forma parte de la descripcion de la familia."
   ]
  }
 ],
 "metadata": {
  "kernelspec": {
   "display_name": "Python 3.10.4 ('bambi')",
   "language": "python",
   "name": "python3"
  },
  "language_info": {
   "codemirror_mode": {
    "name": "ipython",
    "version": 3
   },
   "file_extension": ".py",
   "mimetype": "text/x-python",
   "name": "python",
   "nbconvert_exporter": "python",
   "pygments_lexer": "ipython3",
   "version": "3.10.4"
  },
  "orig_nbformat": 4,
  "vscode": {
   "interpreter": {
    "hash": "1008626715a3728f1d66c057190bde332dc65ea99517a942c5f170959679b77d"
   }
  }
 },
 "nbformat": 4,
 "nbformat_minor": 2
}
