{
 "cells": [
  {
   "attachments": {},
   "cell_type": "markdown",
   "metadata": {},
   "source": [
    "**Resources and Examples**\n",
    "\n",
    "* https://bookdown.org/ajkurz/Statistical_Rethinking_recoded/adventures-in-covariance.html\n",
    "* https://github.com/paul-buerkner/brms/issues/412\n",
    "* https://discourse.mc-stan.org/t/auto-grouping-option-in-brms-gp/11154\n",
    "* https://projecteuclid.org/journals/bayesian-analysis/volume-5/issue-1/Bayesian-functional-ANOVA-modeling-using-Gaussian-process-prior-distributions/10.1214/10-BA505.full\n",
    "* https://discourse.mc-stan.org/t/auto-grouping-of-latent-variable-in-gaussian-process/14866/5\n",
    "* https://discourse.mc-stan.org/t/incorporating-distance-matrices-into-gaussian-process-in-brms/17978/12\n",
    "* https://discourse.mc-stan.org/t/recovering-lscale-in-a-two-dimensional-gaussian-process-regression/8458\n",
    "    * Experiment to recover parameter values\n",
    "* https://github.com/mike-lawrence/hgpr\n",
    "    * Hierarchical GP in Stan\n",
    "* https://discourse.mc-stan.org/t/sharing-a-to-me-neat-parameterization-for-gaussian-processes/21701/2\n",
    "    * Alternative parametrization to avoid problems with variance estimation\n",
    "* https://mc-stan.org/users/documentation/case-studies/icar_stan.html\n",
    "    * Similar than above, but a tutorial with spatial data"
   ]
  }
 ],
 "metadata": {
  "kernelspec": {
   "display_name": "bambi",
   "language": "python",
   "name": "python3"
  },
  "language_info": {
   "name": "python",
   "version": "3.10.4"
  },
  "orig_nbformat": 4,
  "vscode": {
   "interpreter": {
    "hash": "1008626715a3728f1d66c057190bde332dc65ea99517a942c5f170959679b77d"
   }
  }
 },
 "nbformat": 4,
 "nbformat_minor": 2
}
