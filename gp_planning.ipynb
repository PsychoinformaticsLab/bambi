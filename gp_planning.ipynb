{
 "cells": [
  {
   "attachments": {},
   "cell_type": "markdown",
   "metadata": {},
   "source": [
    "## What needs to be done?\n",
    "\n",
    "1.  Propose how GPs will be written in the model formula.\n",
    "\n",
    "    **Questions**\n",
    "\n",
    "    * What types of GP do we support?\n",
    "        * HSGP is an obvious choice. \n",
    "        * ~~We should evaluate whether we include other alternatives as well~~\n",
    "    * How do we allow for different kernels?\n",
    "        * In-formula?\n",
    "        * As its own argument?\n",
    "\n",
    "    **Resources**\n",
    "\n",
    "    * PyMC docs\n",
    "    * Bill's implementation of HSGP\n",
    "    * Bill's models\n",
    "    * brms docs\n",
    "\n",
    "1.  Implement functions to represent GPs in Bambi\n",
    "\n",
    "    **Details**\n",
    "\n",
    "    I imagine implementing a function called `gp()` that will receive an argument and return it as it is.\n",
    "    However, the function itself will have a special attribute that will allow us inside Bambi detect it\n",
    "    is indeed a Gaussian Process term and treat it accordingly. We're doing something similar for censored\n",
    "    responses. We could have another function called `hsgp()` as well.\n",
    "\n",
    "1.  Implement internal objects to handle GPs in Bambi  \n",
    "    \n",
    "    **Questions**  \n",
    "    \n",
    "    * Do we need a `GPTerm`? I think so\n",
    "    * How are we going to handle predictions?\n",
    "        * Having a `GPTerm` will make it easier\n",
    "\n",
    "1.  Write examples\n",
    "\n",
    "    * Basic and complex examples, which will be useful as tests as well\n",
    "    * Replicate at least some of the models\n",
    "\n",
    "1.  Other questions\n",
    "    * How to bypass the GP API when using HSGP to work with the basis and the coefficients direclty,\n",
    "    so the implementation is more efficient when there are multiple GPs?\n",
    "        * Looks like a `HSGPTerm` may be the answer\n",
    "        * We still need to \"group\" the different GPs when they share the same basis\n",
    "    * How to print GP terms in the model summary?\n",
    "        * I think they could have their own section\n",
    "\n",
    "    **Resources**\n",
    "\n",
    "    * Check with Bill how this works in PyMC models so we gain a better understanding"
   ]
  },
  {
   "attachments": {},
   "cell_type": "markdown",
   "metadata": {},
   "source": [
    "* How to set priors for `ell` and `eta`?\n",
    "    * What is `eta`?\n",
    "    * What are the dimensions "
   ]
  },
  {
   "cell_type": "code",
   "execution_count": 1,
   "metadata": {},
   "outputs": [],
   "source": [
    "# NOTE: Regarding optimizations of the basis\n",
    "# When we have multiple GPs, one per level of a covariate, we cannot safely assume that 'X'\n",
    "# is the same in all cases.\n",
    "# However, we could test this. And if we find out that the observed values are the same\n",
    "# for all groups, then we can apply some optimizations"
   ]
  }
 ],
 "metadata": {
  "kernelspec": {
   "display_name": "bambi",
   "language": "python",
   "name": "python3"
  },
  "language_info": {
   "codemirror_mode": {
    "name": "ipython",
    "version": 3
   },
   "file_extension": ".py",
   "mimetype": "text/x-python",
   "name": "python",
   "nbconvert_exporter": "python",
   "pygments_lexer": "ipython3",
   "version": "3.10.4"
  },
  "orig_nbformat": 4,
  "vscode": {
   "interpreter": {
    "hash": "1008626715a3728f1d66c057190bde332dc65ea99517a942c5f170959679b77d"
   }
  }
 },
 "nbformat": 4,
 "nbformat_minor": 2
}
