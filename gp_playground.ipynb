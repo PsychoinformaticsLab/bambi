{
 "cells": [
  {
   "attachments": {},
   "cell_type": "markdown",
   "metadata": {},
   "source": [
    "### How GPs are implemented in {brms}?\n",
    "\n",
    "* http://paul-buerkner.github.io/brms/reference/gp.html\n",
    "\n",
    "**Function signature**\n",
    "\n",
    "* **...:**\tOne or more predictors for the GP.\n",
    "* **by:** A numeric or factor variable of the same length as each predictor. In the numeric vector case, the elements multiply the values returned by the GP. In the factor variable case, a separate GP is fitted for each factor level.\n",
    "* **k:** Optional number of basis functions for computing approximate GPs. If NA (the default), exact GPs are computed.\n",
    "* **cov:** Name of the covariance kernel. By default, the exponentiated-quadratic kernel \"exp_quad\" is used.\n",
    "* **iso:** A flag to indicate whether an isotropic (`TRUE`; the default) or a non-isotropic GP should be used. In the former case, the same amount of smoothing is applied to all predictors. In the latter case, predictors may have different smoothing. Ignored if only a single predictors is supplied.\n",
    "* **gr:** Logical; Indicates if auto-grouping should be used (defaults to TRUE). If enabled, observations sharing the same predictor values will be represented by the same latent variable in the GP. This will improve sampling efficiency drastically if the number of unique predictor combinations is small relative to the number of observations.\n",
    "* **cmc:** Logical; Only relevant if `by` is a factor. If TRUE (the default), cell-mean coding is used for the by-factor, that is one GP per level is estimated. If FALSE, contrast GPs are estimated according to the contrasts set for the by-factor.\n",
    "* **scale:** Logical; If TRUE (the default), predictors are scaled so that the maximum Euclidean distance between two points is 1. This often improves sampling speed and convergence. Scaling also affects the estimated length-scale parameters in that they resemble those of scaled predictors (not of the original predictors) if scale is TRUE.\n",
    "* **c:** Numeric value only used in approximate GPs. Defines the multiplicative constant of the predictors' range over which predictions should be computed. A good default could be c = 5/4 but we are still working on providing better recommendations.\n",
    "\n"
   ]
  },
  {
   "attachments": {},
   "cell_type": "markdown",
   "metadata": {},
   "source": [
    "**Questions**\n",
    "\n",
    "* Why would we want to use the `by` argument with a numeric variable?\n",
    "    * Potential answer: It's like an interaction between a GP and a numerical variable. This also makes sense when `by` is categorical.\n",
    "* How easy is to switch from an isotropic to a non-isotropic GP in PyMC?\n",
    "    * If I remember correctly the process is quite manual\n",
    "* How to set priors for the parameters of the GP?\n",
    "    * Lengthscale\n",
    "    * Standard deviation\n",
    "    * ...?\n",
    "* How to allow for different mean and covariance functions?\n",
    "    * What is the mean function in {brms}? It doesn't seem to allow for different mean functions\n",
    "* `brms` currently supports only the exponentiated-quadratic kernel. Is there a fundamental reason to do so, that we may be missing?\n",
    "* Does `gr` make sense for non-approximated GPs?\n",
    "    * First, what does it refer to? I think it means it combines many GPs into one?\n",
    "    * Second, does it make sense for non-approximated GPs? I think the answer is yes.\n",
    "    * I suspect this is not the same as sharing the basis when using HSGP\n",
    "    * Check with Bill"
   ]
  },
  {
   "attachments": {},
   "cell_type": "markdown",
   "metadata": {},
   "source": [
    "**Comments**\n",
    "\n",
    "* I like having a `cov` argument where we pass the name of the covariance kernel.\n",
    "    * How would one pass kernel specific parameters? (which parameters one may want to tweak?)\n",
    "    * The con is the formula will be longer and harder to read. Let's keep thinking about better alternatives that don't make the formula too long.\n",
    "* The `gp()` function is used for both exact and approximated GPs (via HSGP).\n",
    "    * I think it's better to both `gp()` and `hsgp()` in our case."
   ]
  },
  {
   "attachments": {},
   "cell_type": "markdown",
   "metadata": {},
   "source": [
    "**Resources and Examples**\n",
    "\n",
    "* https://bookdown.org/ajkurz/Statistical_Rethinking_recoded/adventures-in-covariance.html\n",
    "* https://github.com/paul-buerkner/brms/issues/412\n",
    "* https://discourse.mc-stan.org/t/auto-grouping-option-in-brms-gp/11154\n",
    "* https://projecteuclid.org/journals/bayesian-analysis/volume-5/issue-1/Bayesian-functional-ANOVA-modeling-using-Gaussian-process-prior-distributions/10.1214/10-BA505.full\n",
    "* https://discourse.mc-stan.org/t/auto-grouping-of-latent-variable-in-gaussian-process/14866/5\n",
    "* https://discourse.mc-stan.org/t/incorporating-distance-matrices-into-gaussian-process-in-brms/17978/12\n",
    "* https://discourse.mc-stan.org/t/recovering-lscale-in-a-two-dimensional-gaussian-process-regression/8458\n",
    "    * Experiment to recover parameter values\n",
    "* https://github.com/mike-lawrence/hgpr\n",
    "    * Hierarchical GP in Stan\n",
    "* https://discourse.mc-stan.org/t/sharing-a-to-me-neat-parameterization-for-gaussian-processes/21701/2\n",
    "    * Alternative parametrization to avoid problems with variance estimation\n",
    "* https://mc-stan.org/users/documentation/case-studies/icar_stan.html\n",
    "    * Similar than above, but a tutorial with spatial data"
   ]
  },
  {
   "cell_type": "code",
   "execution_count": 3,
   "metadata": {},
   "outputs": [],
   "source": [
    "from formulae.terms.call_resolver import get_function_from_module\n",
    "from formulae import design_matrices\n",
    "\n",
    "import numpy as np\n",
    "import pandas as pd\n",
    "\n",
    "import pymc as pm\n",
    "\n",
    "df = pd.DataFrame({\"x\": np.arange(10)})"
   ]
  },
  {
   "cell_type": "code",
   "execution_count": 2,
   "metadata": {},
   "outputs": [],
   "source": [
    "GP_KERNELS = {            \n",
    "    \"ExpQuad\": pm.gp.cov.ExpQuad,\n",
    "    \"Matern32\": pm.gp.cov.Matern32,\n",
    "    \"Matern52\": pm.gp.cov.Matern52,\n",
    "}"
   ]
  },
  {
   "cell_type": "code",
   "execution_count": 15,
   "metadata": {},
   "outputs": [],
   "source": [
    "class HSGP:\n",
    "    def __call__(self, *x, m, L=None, c=None, by=None, cov=\"ExpQuad\", drop_first=True):\n",
    "        self.by = by\n",
    "        self.m = m\n",
    "        self.L = L\n",
    "        self.c = c\n",
    "        self.by = by\n",
    "        self.cov = cov\n",
    "        self.drop_first = drop_first\n",
    "        return np.column_stack(x)\n",
    "\n",
    "hsgp = HSGP()"
   ]
  },
  {
   "cell_type": "code",
   "execution_count": 20,
   "metadata": {},
   "outputs": [],
   "source": [
    "m = [10]\n",
    "dm = design_matrices(\"1 + hsgp(x, m=m)\", df)"
   ]
  },
  {
   "cell_type": "code",
   "execution_count": 21,
   "metadata": {},
   "outputs": [
    {
     "data": {
      "text/plain": [
       "array([[1, 0],\n",
       "       [1, 1],\n",
       "       [1, 2],\n",
       "       [1, 3],\n",
       "       [1, 4],\n",
       "       [1, 5],\n",
       "       [1, 6],\n",
       "       [1, 7],\n",
       "       [1, 8],\n",
       "       [1, 9]])"
      ]
     },
     "execution_count": 21,
     "metadata": {},
     "output_type": "execute_result"
    }
   ],
   "source": [
    "np.array(dm.common)"
   ]
  },
  {
   "cell_type": "code",
   "execution_count": 25,
   "metadata": {},
   "outputs": [],
   "source": [
    "from formulae.terms.call import Call\n",
    "from formulae.terms.call_resolver import get_function_from_module\n",
    "\n",
    "\n",
    "def is_single_component(term):\n",
    "    return hasattr(term, \"components\") and len(term.components) == 1\n",
    "\n",
    "\n",
    "def extract_first_component(term):\n",
    "    return term.components[0]\n",
    "\n",
    "\n",
    "def is_call_component(component):\n",
    "    return isinstance(component, Call)\n",
    "\n",
    "\n",
    "def is_caller_of_instance(caller, kind):\n",
    "    function = get_function_from_module(caller.call.callee, caller.env)\n",
    "    return isinstance(function, kind)\n",
    "\n",
    "\n",
    "def is_hsgp_term(term):\n",
    "    if not is_single_component(term):\n",
    "        return False\n",
    "    component = extract_first_component(term)\n",
    "    if not is_call_component(component):\n",
    "        return False\n",
    "    return is_caller_of_instance(component, HSGP)\n",
    "\n",
    "\n",
    "def extract_hsgp_kwargs(term):\n",
    "    component = extract_first_component(term)\n",
    "    caller = get_function_from_module(component.call.callee, component.env)\n",
    "    return caller.__dict__"
   ]
  },
  {
   "cell_type": "code",
   "execution_count": 28,
   "metadata": {},
   "outputs": [
    {
     "name": "stdout",
     "output_type": "stream",
     "text": [
      "hsgp(x, m = m)\n",
      "{'by': None, 'm': [10], 'L': None, 'c': None, 'cov': 'ExpQuad', 'drop_first': True}\n"
     ]
    }
   ],
   "source": [
    "for name, term in dm.common.terms.items():\n",
    "    if is_hsgp_term(term):\n",
    "        print(name)\n",
    "        print(extract_hsgp_kwargs(term))"
   ]
  },
  {
   "cell_type": "code",
   "execution_count": null,
   "metadata": {},
   "outputs": [],
   "source": [
    "class HSGPTerm:\n",
    "    def __init__(self, term, prior, prefix=None):\n",
    "        self.term = term\n",
    "        self.prior = prior # I think this may need to be dictionary\n",
    "        self.data = np.squeeze(term.data)\n",
    "        self.prefix = prefix\n",
    "        self.hsgp_attrs = extract_hsgp_kwargs(term)\n",
    "\n",
    "    @property\n",
    "    def term(self):\n",
    "        return self._term\n",
    "\n",
    "    @term.setter\n",
    "    def term(self, value):\n",
    "        #assert isinstance(value, formulae.terms.terms.Term)\n",
    "        self._term = value\n",
    "\n",
    "    @property\n",
    "    def m(self):\n",
    "        return self.hsgp_attrs[\"m\"]\n",
    "\n",
    "    @property\n",
    "    def L(self):\n",
    "        return self.hsgp_attrs[\"L\"]\n",
    "\n",
    "    @property\n",
    "    def c(self):\n",
    "        return self.hsgp_attrs[\"c\"]\n",
    "\n",
    "    @property\n",
    "    def cov(self):\n",
    "        return self.hsgp_attrs[\"cov\"]\n",
    "\n",
    "    @property\n",
    "    def drop_first(self):\n",
    "        return self.hsgp_attrs[\"drop_first\"]\n",
    "\n",
    "    @property\n",
    "    def prior(self):\n",
    "        return self._prior\n",
    "\n",
    "    @prior.setter\n",
    "    def prior(self, value):\n",
    "        # assert isinstance(value, VALID_PRIORS), f\"Prior must be one of {VALID_PRIORS}\"\n",
    "        self._prior = value"
   ]
  },
  {
   "attachments": {},
   "cell_type": "markdown",
   "metadata": {},
   "source": [
    "---"
   ]
  },
  {
   "attachments": {},
   "cell_type": "markdown",
   "metadata": {},
   "source": [
    "* $\\phi$ is of shape $(n, m)$\n",
    "* $\\text{psd}$ is of shape $(m, )$\n",
    "* $\\beta$ is of shape $(m, )$\n",
    "* $f$ is of shape $(n, )$"
   ]
  },
  {
   "cell_type": "code",
   "execution_count": null,
   "metadata": {},
   "outputs": [],
   "source": [
    "with pm.Model():    \n",
    "    eta = pm.Exponential(\"eta\", lam=2.0)\n",
    "    ell = pm.InverseGamma(\"ell\", mu=10, sigma=1)\n",
    "    cov = eta**2 * pm.gp.cov.ExpQuad(1, ls=ell)\n",
    "    gp = pm.gp.HSGP(m=[10], c=2.0, cov_func=cov)\n",
    "    \n",
    "    X = pm.MutableData(\"X\", x[:, None])\n",
    "    phi, sqrt_psd = gp.prior_cosmponents(X=X)\n",
    "\n",
    "    # Non-centered\n",
    "    beta = pm.Normal(\"beta\", size=sqrt_psd.size)\n",
    "    f = pm.Deterministic(\"f\", phi @ (beta * sqrt_psd))\n",
    "\n",
    "    # Centered\n",
    "    #beta = pm.Normal(\"beta\", sigma=sqrt_psd)\n",
    "    #f = pm.Deterministic(\"f\", phi @ beta)"
   ]
  }
 ],
 "metadata": {
  "kernelspec": {
   "display_name": "bambi_hsgp",
   "language": "python",
   "name": "python3"
  },
  "language_info": {
   "codemirror_mode": {
    "name": "ipython",
    "version": 3
   },
   "file_extension": ".py",
   "mimetype": "text/x-python",
   "name": "python",
   "nbconvert_exporter": "python",
   "pygments_lexer": "ipython3",
   "version": "3.10.9"
  },
  "orig_nbformat": 4,
  "vscode": {
   "interpreter": {
    "hash": "22c7bf9dc4c74f02e76f63a8c0e2390113e2cd7446e18e46da47ad5e8ea23bf1"
   }
  }
 },
 "nbformat": 4,
 "nbformat_minor": 2
}
