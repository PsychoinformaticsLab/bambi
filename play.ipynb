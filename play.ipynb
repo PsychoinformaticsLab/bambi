{
 "cells": [
  {
   "cell_type": "code",
   "execution_count": 1,
   "metadata": {},
   "outputs": [],
   "source": [
    "import bambi as bmb\n",
    "import pandas as pd"
   ]
  },
  {
   "cell_type": "code",
   "execution_count": 2,
   "metadata": {},
   "outputs": [],
   "source": [
    "%load_ext autoreload\n",
    "%autoreload 2"
   ]
  },
  {
   "cell_type": "code",
   "execution_count": 3,
   "metadata": {},
   "outputs": [],
   "source": [
    "crossed_data = pd.read_csv(\"bambi/tests/data/crossed_random.csv\")"
   ]
  },
  {
   "cell_type": "code",
   "execution_count": 4,
   "metadata": {},
   "outputs": [],
   "source": [
    "model = bmb.Model(\"Y ~ 0 + threecats + continuous\", crossed_data)"
   ]
  },
  {
   "cell_type": "code",
   "execution_count": 5,
   "metadata": {},
   "outputs": [
    {
     "data": {
      "text/plain": [
       "{'threecats': CommonTerm(  \n",
       "   name: threecats,\n",
       "   prior: Normal(mu: [0. 0. 0.], sigma: [31.1617 31.1617 31.1617]),\n",
       "   shape: (120, 3),\n",
       "   categorical: True,\n",
       "   levels: ['a', 'b', 'c'],\n",
       "   coords: {'threecats_dim': ['a', 'b', 'c']}\n",
       " ),\n",
       " 'continuous': CommonTerm(  \n",
       "   name: continuous,\n",
       "   prior: Normal(mu: 0, sigma: 39.6391),\n",
       "   shape: (120,),\n",
       "   categorical: False\n",
       " )}"
      ]
     },
     "execution_count": 5,
     "metadata": {},
     "output_type": "execute_result"
    }
   ],
   "source": [
    "model.terms"
   ]
  },
  {
   "cell_type": "markdown",
   "metadata": {},
   "source": [
    "**To Do**\n",
    "\n",
    "* Common "
   ]
  }
 ],
 "metadata": {
  "kernelspec": {
   "display_name": "Python 3.10.4 ('bambi')",
   "language": "python",
   "name": "python3"
  },
  "language_info": {
   "codemirror_mode": {
    "name": "ipython",
    "version": 3
   },
   "file_extension": ".py",
   "mimetype": "text/x-python",
   "name": "python",
   "nbconvert_exporter": "python",
   "pygments_lexer": "ipython3",
   "version": "3.10.4"
  },
  "orig_nbformat": 4,
  "vscode": {
   "interpreter": {
    "hash": "1008626715a3728f1d66c057190bde332dc65ea99517a942c5f170959679b77d"
   }
  }
 },
 "nbformat": 4,
 "nbformat_minor": 2
}
