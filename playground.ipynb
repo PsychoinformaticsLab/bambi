{
 "cells": [
  {
   "cell_type": "markdown",
   "metadata": {},
   "source": [
    "## To Do\n",
    "\n",
    "* Posterior predictive sampling\n",
    "    * Univariate families **DONE**\n",
    "    * Multivariate families **IN PROGRESS**\n",
    "* Model string representation **NOT STARTED**\n",
    "* Model aliases **IN PROGRESS**\n",
    "    * Aliases work for predictors of both non-distributional and distributional models **DONE**\n",
    "    * Make sure alias of response name is used in predictions **NOT STARTED**"
   ]
  },
  {
   "attachments": {},
   "cell_type": "markdown",
   "metadata": {},
   "source": [
    "## Examples working\n",
    "\n",
    "* `alternative_links_binary.ipynb`\n",
    "* `beta_regression.ipynb`\n",
    "    * TypeError: Encountered error in ELPD computation of compare.\n",
    "* `circular_regression.ipynb`\n",
    "* `ESCS_multiple_regression.ipynb`\n",
    "    * Needs updates because of old API\n",
    "* `getting_started.ipynb`\n",
    "    * Needs to update the Family part\n",
    "* `hierarchical_binomial_bambi.ipynb`\n",
    "    * Works but needs to update a dim name\n",
    "* `logistic_regression.ipynb`\n",
    "* `model_comparison.ipynb`\n",
    "* `multi-level_regression.ipynb`\n",
    "* `negative_binomial.ipynb`\n",
    "* `radon_example.ipynb`\n",
    "    * xarray issues, not bambi related\n",
    "* `shooter_crossed_random_ANOVA.ipynb`\n",
    "* `sleepstudy.ipynb`\n",
    "    * There's a xarray problem in a viz, not related to Bambi\n",
    "* `splines_cherry_blossoms.ipynb`\n",
    "    * Works, but needs updates because some things use old API\n",
    "* `Strack_RRR_re_analysis.ipynb`\n",
    "* `t_regression.ipynb`\n",
    "* `t_test.ipynb`\n",
    "* `wald_gamma_glm.ipynb`\n",
    "\n",
    "## Examples not working\n",
    "\n",
    "* `categorical_regression.ipynb`\n",
    "    * Fixed posterior predictive sampling, but the order of categories is broken"
   ]
  },
  {
   "cell_type": "code",
   "execution_count": 1,
   "metadata": {},
   "outputs": [],
   "source": [
    "import bambi as bmb\n",
    "import numpy as np\n",
    "import pandas as pd"
   ]
  },
  {
   "cell_type": "code",
   "execution_count": 2,
   "metadata": {},
   "outputs": [],
   "source": [
    "%load_ext autoreload\n",
    "%autoreload 2"
   ]
  },
  {
   "cell_type": "code",
   "execution_count": 3,
   "metadata": {},
   "outputs": [],
   "source": [
    "size = 100\n",
    "true_intercept = 1\n",
    "true_slope = 2\n",
    "\n",
    "x = np.linspace(0, 1, size)\n",
    "# y = a + b*x\n",
    "true_regression_line = true_intercept + true_slope * x\n",
    "# add noise\n",
    "y = true_regression_line + np.random.normal(scale=0.5, size=size)\n",
    "\n",
    "# Add outliers\n",
    "x_out = np.append(x, [0.1, 0.15, 0.2])\n",
    "y_out = np.append(y, [8, 6, 9])\n",
    "\n",
    "data = pd.DataFrame({\n",
    "    \"x\": x_out, \n",
    "    \"y\": y_out\n",
    "})"
   ]
  },
  {
   "cell_type": "code",
   "execution_count": 4,
   "metadata": {},
   "outputs": [
    {
     "name": "stderr",
     "output_type": "stream",
     "text": [
      "Auto-assigning NUTS sampler...\n",
      "Initializing NUTS using jitter+adapt_diag...\n",
      "Multiprocess sampling (2 chains in 2 jobs)\n",
      "NUTS: [y_sigma, Intercept, x]\n"
     ]
    },
    {
     "data": {
      "text/html": [
       "\n",
       "<style>\n",
       "    /* Turns off some styling */\n",
       "    progress {\n",
       "        /* gets rid of default border in Firefox and Opera. */\n",
       "        border: none;\n",
       "        /* Needs to be in here for Safari polyfill so background images work as expected. */\n",
       "        background-size: auto;\n",
       "    }\n",
       "    progress:not([value]), progress:not([value])::-webkit-progress-bar {\n",
       "        background: repeating-linear-gradient(45deg, #7e7e7e, #7e7e7e 10px, #5c5c5c 10px, #5c5c5c 20px);\n",
       "    }\n",
       "    .progress-bar-interrupted, .progress-bar-interrupted::-webkit-progress-bar {\n",
       "        background: #F44336;\n",
       "    }\n",
       "</style>\n"
      ],
      "text/plain": [
       "<IPython.core.display.HTML object>"
      ]
     },
     "metadata": {},
     "output_type": "display_data"
    },
    {
     "data": {
      "text/html": [
       "\n",
       "    <div>\n",
       "      <progress value='3000' class='' max='3000' style='width:300px; height:20px; vertical-align: middle;'></progress>\n",
       "      100.00% [3000/3000 00:02&lt;00:00 Sampling 2 chains, 0 divergences]\n",
       "    </div>\n",
       "    "
      ],
      "text/plain": [
       "<IPython.core.display.HTML object>"
      ]
     },
     "metadata": {},
     "output_type": "display_data"
    },
    {
     "name": "stderr",
     "output_type": "stream",
     "text": [
      "Sampling 2 chains for 1_000 tune and 500 draw iterations (2_000 + 1_000 draws total) took 2 seconds.\n"
     ]
    }
   ],
   "source": [
    "t_model = bmb.Model(\"y ~ x\", data, family=\"t\", priors={\"nu\": 2})\n",
    "t_model.build()\n",
    "t_fitted = t_model.fit(draws=500)\n",
    "#t_model.predict(t_fitted, kind=\"pps\")"
   ]
  },
  {
   "cell_type": "code",
   "execution_count": 5,
   "metadata": {},
   "outputs": [],
   "source": [
    "t_model.predict(t_fitted, kind=\"pps\")"
   ]
  },
  {
   "cell_type": "markdown",
   "metadata": {},
   "source": [
    "---\n",
    "\n",
    "# Documentation notes"
   ]
  },
  {
   "cell_type": "markdown",
   "metadata": {},
   "source": [
    "## Names\n",
    "\n",
    "The logic is `{parent}_{child}`. The exception is the linear predictor of the main parameter, which is only `{child}`.\n",
    "\n",
    "```python\n",
    "bmb.Formula(\n",
    "    \"y ~ 1 + x + z\",\n",
    "    \"sigma ~ 1 + x\"\n",
    ")\n",
    "```\n",
    "\n",
    "* `Intercept`\n",
    "* `x`\n",
    "* `z`\n",
    "* `y_sigma`, the sigma parameter in the normal likelihood\n",
    "* `sigma_Intercept`\n",
    "* `sigma_x`\n",
    "\n",
    "### Potential improvements\n",
    "\n",
    "What about using just `sigma` instead of `{response_name}_sigma`. The gain: cleaner names. The downside: This pattern could be a conflict in a small number of cases where the name of predictors match the name of parameters in the likelihood. It could be \"fixed\" easily, by double checking the names of the predictors before creating the model."
   ]
  },
  {
   "attachments": {},
   "cell_type": "markdown",
   "metadata": {},
   "source": [
    "If we want to create markdown to later be used as source of quarto documents...\n",
    "\n",
    "* https://stackoverflow.com/questions/36237477/python-docstrings-to-github-readme-md\n",
    "* https://pypi.org/project/pydoc-markdown/"
   ]
  },
  {
   "cell_type": "code",
   "execution_count": 1,
   "metadata": {},
   "outputs": [],
   "source": [
    "from bambi import Model, Prior, Formula, Likelihood, Family, load_data\n",
    "import pandas as pd\n",
    "import numpy as np"
   ]
  },
  {
   "cell_type": "code",
   "execution_count": 18,
   "metadata": {},
   "outputs": [],
   "source": [
    "rng = np.random.default_rng(121195)\n",
    "data = pd.DataFrame({\"y\": rng.integers(3, 10, size=50), \"sigma\": rng.normal(size=50)})\n",
    "\n",
    "priors = {\"sigma\": Prior(\"Uniform\", lower=0, upper=50)}\n",
    "model = Model(\"y ~ sigma\", data, priors=priors)\n",
    "\n",
    "#data.rename(columns={\"sigma\": \"alpha\"}, inplace=True)\n",
    "#priors = {\"alpha\": Prior(\"Uniform\", lower=0, upper=50)}\n",
    "\n",
    "#Model(\"y ~ alpha\", data, family=\"negativebinomial\", priors=priors)\n",
    "\n",
    "#Model(\"y ~ alpha\", data, family=\"gamma\", priors=priors)"
   ]
  },
  {
   "cell_type": "code",
   "execution_count": 3,
   "metadata": {},
   "outputs": [
    {
     "ename": "NameError",
     "evalue": "name 'priors' is not defined",
     "output_type": "error",
     "traceback": [
      "\u001b[0;31m---------------------------------------------------------------------------\u001b[0m",
      "\u001b[0;31mNameError\u001b[0m                                 Traceback (most recent call last)",
      "Cell \u001b[0;32mIn [3], line 1\u001b[0m\n\u001b[0;32m----> 1\u001b[0m priors\n",
      "\u001b[0;31mNameError\u001b[0m: name 'priors' is not defined"
     ]
    }
   ],
   "source": [
    "priors"
   ]
  },
  {
   "cell_type": "code",
   "execution_count": 8,
   "metadata": {},
   "outputs": [
    {
     "data": {
      "image/svg+xml": "<?xml version=\"1.0\" encoding=\"UTF-8\" standalone=\"no\"?>\n<!DOCTYPE svg PUBLIC \"-//W3C//DTD SVG 1.1//EN\"\n \"http://www.w3.org/Graphics/SVG/1.1/DTD/svg11.dtd\">\n<!-- Generated by graphviz version 2.50.0 (0)\n -->\n<!-- Pages: 1 -->\n<svg width=\"347pt\" height=\"233pt\"\n viewBox=\"0.00 0.00 346.60 232.91\" xmlns=\"http://www.w3.org/2000/svg\" xmlns:xlink=\"http://www.w3.org/1999/xlink\">\n<g id=\"graph0\" class=\"graph\" transform=\"scale(1 1) rotate(0) translate(4 228.91)\">\n<polygon fill=\"white\" stroke=\"transparent\" points=\"-4,4 -4,-228.91 342.6,-228.91 342.6,4 -4,4\"/>\n<g id=\"clust1\" class=\"cluster\">\n<title>clustern1_obs (100)</title>\n<path fill=\"none\" stroke=\"black\" d=\"M113.96,-8C113.96,-8 189.96,-8 189.96,-8 195.96,-8 201.96,-14 201.96,-20 201.96,-20 201.96,-109.95 201.96,-109.95 201.96,-115.95 195.96,-121.95 189.96,-121.95 189.96,-121.95 113.96,-121.95 113.96,-121.95 107.96,-121.95 101.96,-115.95 101.96,-109.95 101.96,-109.95 101.96,-20 101.96,-20 101.96,-14 107.96,-8 113.96,-8\"/>\n<text text-anchor=\"middle\" x=\"157.46\" y=\"-15.8\" font-family=\"Times,serif\" font-size=\"14.00\">n1_obs (100)</text>\n</g>\n<!-- Intercept -->\n<g id=\"node1\" class=\"node\">\n<title>Intercept</title>\n<ellipse fill=\"none\" stroke=\"black\" cx=\"45.96\" cy=\"-187.43\" rx=\"45.92\" ry=\"37.45\"/>\n<text text-anchor=\"middle\" x=\"45.96\" y=\"-198.73\" font-family=\"Times,serif\" font-size=\"14.00\">Intercept</text>\n<text text-anchor=\"middle\" x=\"45.96\" y=\"-183.73\" font-family=\"Times,serif\" font-size=\"14.00\">~</text>\n<text text-anchor=\"middle\" x=\"45.96\" y=\"-168.73\" font-family=\"Times,serif\" font-size=\"14.00\">Normal</text>\n</g>\n<!-- n1 -->\n<g id=\"node4\" class=\"node\">\n<title>n1</title>\n<ellipse fill=\"lightgrey\" stroke=\"black\" cx=\"151.96\" cy=\"-76.48\" rx=\"41.94\" ry=\"37.45\"/>\n<text text-anchor=\"middle\" x=\"151.96\" y=\"-87.78\" font-family=\"Times,serif\" font-size=\"14.00\">n1</text>\n<text text-anchor=\"middle\" x=\"151.96\" y=\"-72.78\" font-family=\"Times,serif\" font-size=\"14.00\">~</text>\n<text text-anchor=\"middle\" x=\"151.96\" y=\"-57.78\" font-family=\"Times,serif\" font-size=\"14.00\">Normal</text>\n</g>\n<!-- Intercept&#45;&gt;n1 -->\n<g id=\"edge1\" class=\"edge\">\n<title>Intercept&#45;&gt;n1</title>\n<path fill=\"none\" stroke=\"black\" d=\"M74.09,-157.52C87.46,-143.78 103.56,-127.22 117.65,-112.75\"/>\n<polygon fill=\"black\" stroke=\"black\" points=\"120.34,-115 124.8,-105.39 115.32,-110.12 120.34,-115\"/>\n</g>\n<!-- n2 -->\n<g id=\"node2\" class=\"node\">\n<title>n2</title>\n<ellipse fill=\"none\" stroke=\"black\" cx=\"151.96\" cy=\"-187.43\" rx=\"41.94\" ry=\"37.45\"/>\n<text text-anchor=\"middle\" x=\"151.96\" y=\"-198.73\" font-family=\"Times,serif\" font-size=\"14.00\">n2</text>\n<text text-anchor=\"middle\" x=\"151.96\" y=\"-183.73\" font-family=\"Times,serif\" font-size=\"14.00\">~</text>\n<text text-anchor=\"middle\" x=\"151.96\" y=\"-168.73\" font-family=\"Times,serif\" font-size=\"14.00\">Normal</text>\n</g>\n<!-- n2&#45;&gt;n1 -->\n<g id=\"edge2\" class=\"edge\">\n<title>n2&#45;&gt;n1</title>\n<path fill=\"none\" stroke=\"black\" d=\"M151.96,-149.85C151.96,-141.67 151.96,-132.89 151.96,-124.37\"/>\n<polygon fill=\"black\" stroke=\"black\" points=\"155.46,-124.15 151.96,-114.15 148.46,-124.15 155.46,-124.15\"/>\n</g>\n<!-- sigma -->\n<g id=\"node3\" class=\"node\">\n<title>sigma</title>\n<ellipse fill=\"none\" stroke=\"black\" cx=\"274.96\" cy=\"-187.43\" rx=\"63.78\" ry=\"37.45\"/>\n<text text-anchor=\"middle\" x=\"274.96\" y=\"-198.73\" font-family=\"Times,serif\" font-size=\"14.00\">sigma</text>\n<text text-anchor=\"middle\" x=\"274.96\" y=\"-183.73\" font-family=\"Times,serif\" font-size=\"14.00\">~</text>\n<text text-anchor=\"middle\" x=\"274.96\" y=\"-168.73\" font-family=\"Times,serif\" font-size=\"14.00\">HalfStudentT</text>\n</g>\n<!-- sigma&#45;&gt;n1 -->\n<g id=\"edge3\" class=\"edge\">\n<title>sigma&#45;&gt;n1</title>\n<path fill=\"none\" stroke=\"black\" d=\"M240.37,-155.79C224.37,-141.62 205.35,-124.77 189.05,-110.33\"/>\n<polygon fill=\"black\" stroke=\"black\" points=\"191.1,-107.47 181.3,-103.46 186.46,-112.71 191.1,-107.47\"/>\n</g>\n</g>\n</svg>\n",
      "text/plain": [
       "<graphviz.graphs.Digraph at 0x7f878f4ee680>"
      ]
     },
     "execution_count": 8,
     "metadata": {},
     "output_type": "execute_result"
    }
   ],
   "source": [
    "model.graph()"
   ]
  },
  {
   "cell_type": "code",
   "execution_count": null,
   "metadata": {},
   "outputs": [],
   "source": []
  },
  {
   "attachments": {},
   "cell_type": "markdown",
   "metadata": {},
   "source": [
    "Migration guide... \n",
    "\n",
    "* What used to be `model.terms[\"name\"]` is now `model.response_component.terms[\"name\"]`.\n",
    "\n",
    "To Do... \n",
    "\n",
    "* A None link when it's not specified. This will allow us to have\n",
    "\n",
    "```python\n",
    "likelihood = Likelihood(\"Normal\", params=[\"mu\", \"sigma\"], parent=\"mu\")\n",
    "Family(\"MyFamily\", likelihood=likelihood, link=\"log\")\n",
    "```\n",
    "\n",
    "which means the non-parent parameter is non-distributional and thus it does not make sense to have a link funciton for it."
   ]
  }
 ],
 "metadata": {
  "kernelspec": {
   "display_name": "Python 3.10.4 ('bambi')",
   "language": "python",
   "name": "python3"
  },
  "language_info": {
   "codemirror_mode": {
    "name": "ipython",
    "version": 3
   },
   "file_extension": ".py",
   "mimetype": "text/x-python",
   "name": "python",
   "nbconvert_exporter": "python",
   "pygments_lexer": "ipython3",
   "version": "3.10.4"
  },
  "orig_nbformat": 4,
  "vscode": {
   "interpreter": {
    "hash": "1008626715a3728f1d66c057190bde332dc65ea99517a942c5f170959679b77d"
   }
  }
 },
 "nbformat": 4,
 "nbformat_minor": 2
}
