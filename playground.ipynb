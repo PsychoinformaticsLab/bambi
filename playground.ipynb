{
 "cells": [
  {
   "cell_type": "code",
   "execution_count": 1,
   "metadata": {},
   "outputs": [],
   "source": [
    "import arviz as az\n",
    "import bambi as bmb\n",
    "import matplotlib.pyplot as plt\n",
    "import numpy as np\n",
    "import pandas as pd\n",
    "import pymc as pm"
   ]
  },
  {
   "cell_type": "code",
   "execution_count": 2,
   "metadata": {},
   "outputs": [
    {
     "data": {
      "image/png": "[encoded data removed]",
      "text/plain": [
       "<Figure size 640x480 with 1 Axes>"
      ]
     },
     "metadata": {},
     "output_type": "display_data"
    }
   ],
   "source": [
    "rng = np.random.default_rng(1234)\n",
    "x = np.concatenate([np.zeros(250), rng.poisson(lam=3, size=750)])\n",
    "df = pd.DataFrame({\"response\": x})\n",
    "values, counts = np.unique(x, return_counts=True)\n",
    "fig, ax = plt.subplots()\n",
    "ax.bar(values, counts);\n",
    "ax.set(xticks=values);"
   ]
  },
  {
   "cell_type": "code",
   "execution_count": 7,
   "metadata": {},
   "outputs": [
    {
     "data": {
      "text/plain": [
       "       Formula: response ~ 1\n",
       "        Family: zero-inflated-poisson\n",
       "          Link: mu = log\n",
       "  Observations: 1000\n",
       "        Priors: \n",
       "    target = mu\n",
       "        Common-level effects\n",
       "            Intercept ~ Normal(mu: 0.0, sigma: 2.5)\n",
       "        \n",
       "        Auxiliary parameters\n",
       "            response_psi ~ Beta(alpha: 3.0, beta: 3.0)"
      ]
     },
     "execution_count": 7,
     "metadata": {},
     "output_type": "execute_result"
    }
   ],
   "source": [
    "from bambi.families.univariate import UnivariateFamily\n",
    "from bambi.families import Family\n",
    "\n",
    "# class ZeroInflatedPoissonFamily(UnivariateFamily):\n",
    "#     SUPPORTED_LINKS = {\"mu\": [\"identity\", \"log\"], \"psi\": [\"logit\", \"probit\", \"cloglog\"]}\n",
    "\n",
    "likelihood = bmb.Likelihood(\"ZeroInflatedPoisson\", params=[\"mu\", \"psi\"], parent=\"mu\")\n",
    "links = {\"mu\": \"log\", \"psi\": \"logit\"}\n",
    "family = Family(\"zero-inflated-poisson\", likelihood, links)\n",
    "priors = {\"psi\": bmb.Prior(\"Beta\", alpha=3, beta=3)}\n",
    "\n",
    "model = bmb.Model(\"response ~ 1\", df, family=family, priors=priors)\n",
    "model"
   ]
  },
  {
   "cell_type": "code",
   "execution_count": 8,
   "metadata": {},
   "outputs": [
    {
     "data": {
      "image/svg+xml": "<?xml version=\"1.0\" encoding=\"UTF-8\" standalone=\"no\"?>\n<!DOCTYPE svg PUBLIC \"-//W3C//DTD SVG 1.1//EN\"\n \"http://www.w3.org/Graphics/SVG/1.1/DTD/svg11.dtd\">\n<!-- Generated by graphviz version 2.50.0 (0)\n -->\n<!-- Pages: 1 -->\n<svg width=\"298pt\" height=\"233pt\"\n viewBox=\"0.00 0.00 297.76 232.91\" xmlns=\"http://www.w3.org/2000/svg\" xmlns:xlink=\"http://www.w3.org/1999/xlink\">\n<g id=\"graph0\" class=\"graph\" transform=\"scale(1 1) rotate(0) translate(4 228.91)\">\n<polygon fill=\"white\" stroke=\"transparent\" points=\"-4,4 -4,-228.91 293.76,-228.91 293.76,4 -4,4\"/>\n<g id=\"clust1\" class=\"cluster\">\n<title>clusterresponse_obs (1000)</title>\n<path fill=\"none\" stroke=\"black\" d=\"M60.07,-8C60.07,-8 248.07,-8 248.07,-8 254.07,-8 260.07,-14 260.07,-20 260.07,-20 260.07,-109.95 260.07,-109.95 260.07,-115.95 254.07,-121.95 248.07,-121.95 248.07,-121.95 60.07,-121.95 60.07,-121.95 54.07,-121.95 48.07,-115.95 48.07,-109.95 48.07,-109.95 48.07,-20 48.07,-20 48.07,-14 54.07,-8 60.07,-8\"/>\n<text text-anchor=\"middle\" x=\"178.07\" y=\"-15.8\" font-family=\"Times,serif\" font-size=\"14.00\">response_obs (1000)</text>\n</g>\n<!-- response_psi -->\n<g id=\"node1\" class=\"node\">\n<title>response_psi</title>\n<ellipse fill=\"none\" stroke=\"black\" cx=\"77.07\" cy=\"-187.43\" rx=\"77.15\" ry=\"37.45\"/>\n<text text-anchor=\"middle\" x=\"77.07\" y=\"-198.73\" font-family=\"Times,serif\" font-size=\"14.00\">response_psi</text>\n<text text-anchor=\"middle\" x=\"77.07\" y=\"-183.73\" font-family=\"Times,serif\" font-size=\"14.00\">~</text>\n<text text-anchor=\"middle\" x=\"77.07\" y=\"-168.73\" font-family=\"Times,serif\" font-size=\"14.00\">Beta</text>\n</g>\n<!-- response -->\n<g id=\"node3\" class=\"node\">\n<title>response</title>\n<ellipse fill=\"lightgrey\" stroke=\"black\" cx=\"154.07\" cy=\"-76.48\" rx=\"97.66\" ry=\"37.45\"/>\n<text text-anchor=\"middle\" x=\"154.07\" y=\"-87.78\" font-family=\"Times,serif\" font-size=\"14.00\">response</text>\n<text text-anchor=\"middle\" x=\"154.07\" y=\"-72.78\" font-family=\"Times,serif\" font-size=\"14.00\">~</text>\n<text text-anchor=\"middle\" x=\"154.07\" y=\"-57.78\" font-family=\"Times,serif\" font-size=\"14.00\">MarginalMixture</text>\n</g>\n<!-- response_psi&#45;&gt;response -->\n<g id=\"edge1\" class=\"edge\">\n<title>response_psi&#45;&gt;response</title>\n<path fill=\"none\" stroke=\"black\" d=\"M101.65,-151.66C108.46,-142.02 115.94,-131.44 123.06,-121.36\"/>\n<polygon fill=\"black\" stroke=\"black\" points=\"126.03,-123.23 128.94,-113.04 120.31,-119.19 126.03,-123.23\"/>\n</g>\n<!-- Intercept -->\n<g id=\"node2\" class=\"node\">\n<title>Intercept</title>\n<ellipse fill=\"none\" stroke=\"black\" cx=\"231.07\" cy=\"-187.43\" rx=\"58.88\" ry=\"37.45\"/>\n<text text-anchor=\"middle\" x=\"231.07\" y=\"-198.73\" font-family=\"Times,serif\" font-size=\"14.00\">Intercept</text>\n<text text-anchor=\"middle\" x=\"231.07\" y=\"-183.73\" font-family=\"Times,serif\" font-size=\"14.00\">~</text>\n<text text-anchor=\"middle\" x=\"231.07\" y=\"-168.73\" font-family=\"Times,serif\" font-size=\"14.00\">Normal</text>\n</g>\n<!-- Intercept&#45;&gt;response -->\n<g id=\"edge2\" class=\"edge\">\n<title>Intercept&#45;&gt;response</title>\n<path fill=\"none\" stroke=\"black\" d=\"M207.34,-152.85C200.3,-142.89 192.48,-131.82 185.05,-121.3\"/>\n<polygon fill=\"black\" stroke=\"black\" points=\"187.82,-119.17 179.19,-113.02 182.11,-123.21 187.82,-119.17\"/>\n</g>\n</g>\n</svg>\n",
      "text/plain": [
       "<graphviz.graphs.Digraph at 0x7f6a8536a920>"
      ]
     },
     "execution_count": 8,
     "metadata": {},
     "output_type": "execute_result"
    }
   ],
   "source": [
    "model.build()\n",
    "model.graph()"
   ]
  },
  {
   "cell_type": "code",
   "execution_count": null,
   "metadata": {},
   "outputs": [
    {
     "name": "stderr",
     "output_type": "stream",
     "text": [
      "Auto-assigning NUTS sampler...\n",
      "Initializing NUTS using jitter+adapt_diag...\n",
      "Multiprocess sampling (2 chains in 2 jobs)\n",
      "NUTS: [response_psi, Intercept]\n"
     ]
    },
    {
     "data": {
      "text/html": [
       "\n",
       "<style>\n",
       "    /* Turns off some styling */\n",
       "    progress {\n",
       "        /* gets rid of default border in Firefox and Opera. */\n",
       "        border: none;\n",
       "        /* Needs to be in here for Safari polyfill so background images work as expected. */\n",
       "        background-size: auto;\n",
       "    }\n",
       "    progress:not([value]), progress:not([value])::-webkit-progress-bar {\n",
       "        background: repeating-linear-gradient(45deg, #7e7e7e, #7e7e7e 10px, #5c5c5c 10px, #5c5c5c 20px);\n",
       "    }\n",
       "    .progress-bar-interrupted, .progress-bar-interrupted::-webkit-progress-bar {\n",
       "        background: #F44336;\n",
       "    }\n",
       "</style>\n"
      ],
      "text/plain": [
       "<IPython.core.display.HTML object>"
      ]
     },
     "metadata": {},
     "output_type": "display_data"
    },
    {
     "data": {
      "text/html": [
       "\n",
       "    <div>\n",
       "      <progress value='4000' class='' max='4000' style='width:300px; height:20px; vertical-align: middle;'></progress>\n",
       "      100.00% [4000/4000 00:04&lt;00:00 Sampling 2 chains, 0 divergences]\n",
       "    </div>\n",
       "    "
      ],
      "text/plain": [
       "<IPython.core.display.HTML object>"
      ]
     },
     "metadata": {},
     "output_type": "display_data"
    },
    {
     "name": "stderr",
     "output_type": "stream",
     "text": [
      "Sampling 2 chains for 1_000 tune and 1_000 draw iterations (2_000 + 2_000 draws total) took 5 seconds.\n"
     ]
    }
   ],
   "source": [
    "idata = model.fit()"
   ]
  },
  {
   "cell_type": "code",
   "execution_count": null,
   "metadata": {},
   "outputs": [],
   "source": [
    "model.predict(idata, kind=\"pps\")"
   ]
  },
  {
   "cell_type": "code",
   "execution_count": null,
   "metadata": {},
   "outputs": [
    {
     "data": {
      "text/plain": [
       "<AxesSubplot: xlabel='response / response'>"
      ]
     },
     "execution_count": 16,
     "metadata": {},
     "output_type": "execute_result"
    },
    {
     "data": {
      "image/png": "[encoded data removed]",
      "text/plain": [
       "<Figure size 640x480 with 1 Axes>"
      ]
     },
     "metadata": {},
     "output_type": "display_data"
    }
   ],
   "source": [
    "az.plot_ppc(idata);"
   ]
  },
  {
   "attachments": {},
   "cell_type": "markdown",
   "metadata": {},
   "source": [
    "---\n",
    "\n",
    "# Documentation notes"
   ]
  },
  {
   "attachments": {},
   "cell_type": "markdown",
   "metadata": {},
   "source": [
    "## Names\n",
    "\n",
    "The logic is `{parent}_{child}`. The exception is the linear predictor of the main parameter, which is only `{child}`.\n",
    "\n",
    "```python\n",
    "bmb.Formula(\n",
    "    \"y ~ 1 + x + z\",\n",
    "    \"sigma ~ 1 + x\"\n",
    ")\n",
    "```\n",
    "\n",
    "* `Intercept`\n",
    "* `x`\n",
    "* `z`\n",
    "* `y_sigma`, the sigma parameter in the normal likelihood\n",
    "* `sigma_Intercept`\n",
    "* `sigma_x`\n",
    "\n",
    "### Potential improvements\n",
    "\n",
    "What about using just `sigma` instead of `{response_name}_sigma`. The gain: cleaner names. The downside: This pattern could be a conflict in a small number of cases where the name of predictors match the name of parameters in the likelihood. It could be \"fixed\" easily, by double checking the names of the predictors before creating the model."
   ]
  },
  {
   "attachments": {},
   "cell_type": "markdown",
   "metadata": {},
   "source": [
    "If we want to create markdown to later be used as source of quarto documents...\n",
    "\n",
    "* https://stackoverflow.com/questions/36237477/python-docstrings-to-github-readme-md\n",
    "* https://pypi.org/project/pydoc-markdown/"
   ]
  },
  {
   "attachments": {},
   "cell_type": "markdown",
   "metadata": {},
   "source": [
    "Migration guide... \n",
    "\n",
    "* What used to be `model.terms[\"name\"]` is now `model.response_component.terms[\"name\"]`.\n",
    "* Correlated priors for group-specific terms are not supported anymore. They will be brought back in the future.\n",
    "\n",
    "To Do\n",
    "\n",
    "* `plot_cap()` works only for the mean now, it should work for all the parameters, and even with posterior predictive draws."
   ]
  }
 ],
 "metadata": {
  "kernelspec": {
   "display_name": "Python 3.10.4 ('bambi')",
   "language": "python",
   "name": "python3"
  },
  "language_info": {
   "codemirror_mode": {
    "name": "ipython",
    "version": 3
   },
   "file_extension": ".py",
   "mimetype": "text/x-python",
   "name": "python",
   "nbconvert_exporter": "python",
   "pygments_lexer": "ipython3",
   "version": "3.10.6"
  },
  "orig_nbformat": 4,
  "vscode": {
   "interpreter": {
    "hash": "1008626715a3728f1d66c057190bde332dc65ea99517a942c5f170959679b77d"
   }
  }
 },
 "nbformat": 4,
 "nbformat_minor": 2
}
