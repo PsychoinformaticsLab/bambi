{
 "cells": [
  {
   "cell_type": "markdown",
   "metadata": {},
   "source": [
    "## To Do\n",
    "\n",
    "* Posterior predictive sampling\n",
    "    * Univariate families **DONE**\n",
    "    * Multivariate families **IN PROGRESS**\n",
    "* Model string representation **NOT STARTED**\n",
    "* Model aliases **IN PROGRESS**\n",
    "    * Aliases work for predictors of both non-distributional and distributional models **DONE**\n",
    "    * Make sure alias of response name is used in predictions **NOT STARTED**"
   ]
  },
  {
   "cell_type": "markdown",
   "metadata": {},
   "source": [
    "## Examples working\n",
    "\n",
    "* `alternative_links_binary.ipynb`\n",
    "* `beta_regression.ipynb`\n",
    "* `circular_regression.ipynb`\n",
    "* `ESCS_multiple_regression.ipynb`\n",
    "    * Needs updates because of old API\n",
    "* `getting_started.ipynb`\n",
    "    * Needs to update the Family part\n",
    "* `hierarchical_binomial_bambi.ipynb`\n",
    "    * Works but needs to update a dim name\n",
    "* `logistic_regression.ipynb`\n",
    "* `model_comparison.ipynb`\n",
    "* `multi-level_regression.ipynb`\n",
    "* `negative_binomial.ipynb`\n",
    "* `radon_example.ipynb`\n",
    "    * xarray issues, not bambi related\n",
    "* `shooter_crossed_random_ANOVA.ipynb`\n",
    "* `sleepstudy.ipynb`\n",
    "    * There's a xarray problem in a viz, not related to Bambi\n",
    "* `splines_cherry_blossoms.ipynb`\n",
    "    * Works, but needs updates because some things use old API\n",
    "* `Strack_RRR_re_analysis.ipynb`\n",
    "* `t_regression.ipynb`\n",
    "* `t_test.ipynb`\n",
    "* `wald_gamma_glm.ipynb`\n",
    "\n",
    "## Examples not working\n",
    "\n",
    "* `categorical_regression.ipynb`\n",
    "    * Fixed posterior predictive sampling, but the order of categories is broken"
   ]
  },
  {
   "cell_type": "code",
   "execution_count": 1,
   "metadata": {},
   "outputs": [],
   "source": [
    "import bambi as bmb\n",
    "import numpy as np\n",
    "import pandas as pd"
   ]
  },
  {
   "cell_type": "code",
   "execution_count": 2,
   "metadata": {},
   "outputs": [],
   "source": [
    "%load_ext autoreload\n",
    "%autoreload 2"
   ]
  },
  {
   "cell_type": "code",
   "execution_count": 3,
   "metadata": {},
   "outputs": [],
   "source": [
    "size = 100\n",
    "true_intercept = 1\n",
    "true_slope = 2\n",
    "\n",
    "x = np.linspace(0, 1, size)\n",
    "# y = a + b*x\n",
    "true_regression_line = true_intercept + true_slope * x\n",
    "# add noise\n",
    "y = true_regression_line + np.random.normal(scale=0.5, size=size)\n",
    "\n",
    "# Add outliers\n",
    "x_out = np.append(x, [0.1, 0.15, 0.2])\n",
    "y_out = np.append(y, [8, 6, 9])\n",
    "\n",
    "data = pd.DataFrame({\n",
    "    \"x\": x_out, \n",
    "    \"y\": y_out\n",
    "})"
   ]
  },
  {
   "cell_type": "code",
   "execution_count": 4,
   "metadata": {},
   "outputs": [
    {
     "name": "stderr",
     "output_type": "stream",
     "text": [
      "Auto-assigning NUTS sampler...\n",
      "Initializing NUTS using jitter+adapt_diag...\n",
      "Multiprocess sampling (2 chains in 2 jobs)\n",
      "NUTS: [y_sigma, Intercept, x]\n"
     ]
    },
    {
     "data": {
      "text/html": [
       "\n",
       "<style>\n",
       "    /* Turns off some styling */\n",
       "    progress {\n",
       "        /* gets rid of default border in Firefox and Opera. */\n",
       "        border: none;\n",
       "        /* Needs to be in here for Safari polyfill so background images work as expected. */\n",
       "        background-size: auto;\n",
       "    }\n",
       "    progress:not([value]), progress:not([value])::-webkit-progress-bar {\n",
       "        background: repeating-linear-gradient(45deg, #7e7e7e, #7e7e7e 10px, #5c5c5c 10px, #5c5c5c 20px);\n",
       "    }\n",
       "    .progress-bar-interrupted, .progress-bar-interrupted::-webkit-progress-bar {\n",
       "        background: #F44336;\n",
       "    }\n",
       "</style>\n"
      ],
      "text/plain": [
       "<IPython.core.display.HTML object>"
      ]
     },
     "metadata": {},
     "output_type": "display_data"
    },
    {
     "data": {
      "text/html": [
       "\n",
       "    <div>\n",
       "      <progress value='3000' class='' max='3000' style='width:300px; height:20px; vertical-align: middle;'></progress>\n",
       "      100.00% [3000/3000 00:02&lt;00:00 Sampling 2 chains, 0 divergences]\n",
       "    </div>\n",
       "    "
      ],
      "text/plain": [
       "<IPython.core.display.HTML object>"
      ]
     },
     "metadata": {},
     "output_type": "display_data"
    },
    {
     "name": "stderr",
     "output_type": "stream",
     "text": [
      "Sampling 2 chains for 1_000 tune and 500 draw iterations (2_000 + 1_000 draws total) took 2 seconds.\n"
     ]
    }
   ],
   "source": [
    "t_model = bmb.Model(\"y ~ x\", data, family=\"t\", priors={\"nu\": 2})\n",
    "t_model.build()\n",
    "t_fitted = t_model.fit(draws=500)\n",
    "#t_model.predict(t_fitted, kind=\"pps\")"
   ]
  },
  {
   "cell_type": "code",
   "execution_count": 5,
   "metadata": {},
   "outputs": [],
   "source": [
    "t_model.predict(t_fitted, kind=\"pps\")"
   ]
  },
  {
   "cell_type": "markdown",
   "metadata": {},
   "source": [
    "---\n",
    "\n",
    "# Documentation notes"
   ]
  },
  {
   "cell_type": "markdown",
   "metadata": {},
   "source": [
    "## Names\n",
    "\n",
    "The logic is `{parent}_{child}`. The exception is the linear predictor of the main parameter, which is only `{child}`.\n",
    "\n",
    "```python\n",
    "bmb.Formula(\n",
    "    \"y ~ 1 + x + z\",\n",
    "    \"sigma ~ 1 + x\"\n",
    ")\n",
    "```\n",
    "\n",
    "* `Intercept`\n",
    "* `x`\n",
    "* `z`\n",
    "* `y_sigma`, the sigma parameter in the normal likelihood\n",
    "* `sigma_Intercept`\n",
    "* `sigma_x`\n",
    "\n",
    "### Potential improvements\n",
    "\n",
    "What about using just `sigma` instead of `{response_name}_sigma`. The gain: cleaner names. The downside: This pattern could be a conflict in a small number of cases where the name of predictors match the name of parameters in the likelihood. It could be \"fixed\" easily, by double checking the names of the predictors before creating the model."
   ]
  }
 ],
 "metadata": {
  "kernelspec": {
   "display_name": "Python 3.10.4 ('bambi')",
   "language": "python",
   "name": "python3"
  },
  "language_info": {
   "codemirror_mode": {
    "name": "ipython",
    "version": 3
   },
   "file_extension": ".py",
   "mimetype": "text/x-python",
   "name": "python",
   "nbconvert_exporter": "python",
   "pygments_lexer": "ipython3",
   "version": "3.10.4"
  },
  "orig_nbformat": 4,
  "vscode": {
   "interpreter": {
    "hash": "1008626715a3728f1d66c057190bde332dc65ea99517a942c5f170959679b77d"
   }
  }
 },
 "nbformat": 4,
 "nbformat_minor": 2
}
