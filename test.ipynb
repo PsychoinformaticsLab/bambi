{
 "cells": [
  {
   "cell_type": "code",
   "execution_count": 1,
   "metadata": {},
   "outputs": [],
   "source": [
    "import bambi as bmb\n",
    "import numpy as np\n",
    "import pandas as pd\n",
    "import pymc as pm"
   ]
  },
  {
   "cell_type": "code",
   "execution_count": 2,
   "metadata": {},
   "outputs": [],
   "source": [
    "rng = np.random.default_rng(1234)\n",
    "x = rng.normal(size=100)\n",
    "y = 5 + 8 * x + rng.normal(scale=0.1, size=100)\n",
    "\n",
    "data = pd.DataFrame({\"x\": x, \"y\": y})"
   ]
  },
  {
   "cell_type": "code",
   "execution_count": 3,
   "metadata": {},
   "outputs": [
    {
     "data": {
      "text/plain": [
       "       Formula: y ~ x\n",
       "        Family: gaussian\n",
       "          Link: mu = identity\n",
       "  Observations: 100\n",
       "        Priors: \n",
       "    target = mu\n",
       "        Common-level effects\n",
       "            Intercept ~ Normal(mu: 6.0256, sigma: 22.5695)\n",
       "            x ~ Normal(mu: 0.0, sigma: 20.0145)\n",
       "        \n",
       "        Auxiliary parameters\n",
       "            y_sigma ~ HalfStudentT(nu: 4.0, sigma: 8.9701)"
      ]
     },
     "execution_count": 3,
     "metadata": {},
     "output_type": "execute_result"
    }
   ],
   "source": [
    "model = bmb.Model(\"y ~ x\", data)\n",
    "model"
   ]
  },
  {
   "cell_type": "code",
   "execution_count": 4,
   "metadata": {},
   "outputs": [
    {
     "name": "stderr",
     "output_type": "stream",
     "text": [
      "Auto-assigning NUTS sampler...\n",
      "Initializing NUTS using jitter+adapt_diag...\n",
      "Multiprocess sampling (2 chains in 2 jobs)\n",
      "NUTS: [y_sigma, Intercept, x]\n"
     ]
    },
    {
     "data": {
      "text/html": [
       "\n",
       "<style>\n",
       "    /* Turns off some styling */\n",
       "    progress {\n",
       "        /* gets rid of default border in Firefox and Opera. */\n",
       "        border: none;\n",
       "        /* Needs to be in here for Safari polyfill so background images work as expected. */\n",
       "        background-size: auto;\n",
       "    }\n",
       "    progress:not([value]), progress:not([value])::-webkit-progress-bar {\n",
       "        background: repeating-linear-gradient(45deg, #7e7e7e, #7e7e7e 10px, #5c5c5c 10px, #5c5c5c 20px);\n",
       "    }\n",
       "    .progress-bar-interrupted, .progress-bar-interrupted::-webkit-progress-bar {\n",
       "        background: #F44336;\n",
       "    }\n",
       "</style>\n"
      ],
      "text/plain": [
       "<IPython.core.display.HTML object>"
      ]
     },
     "metadata": {},
     "output_type": "display_data"
    },
    {
     "data": {
      "text/html": [
       "\n",
       "    <div>\n",
       "      <progress value='4000' class='' max='4000' style='width:300px; height:20px; vertical-align: middle;'></progress>\n",
       "      100.00% [4000/4000 00:05&lt;00:00 Sampling 2 chains, 0 divergences]\n",
       "    </div>\n",
       "    "
      ],
      "text/plain": [
       "<IPython.core.display.HTML object>"
      ]
     },
     "metadata": {},
     "output_type": "display_data"
    },
    {
     "name": "stderr",
     "output_type": "stream",
     "text": [
      "Sampling 2 chains for 1_000 tune and 1_000 draw iterations (2_000 + 2_000 draws total) took 6 seconds.\n"
     ]
    }
   ],
   "source": [
    "idata = model.fit(random_seed=1234)"
   ]
  },
  {
   "cell_type": "code",
   "execution_count": 5,
   "metadata": {},
   "outputs": [],
   "source": [
    "model.predict(idata)"
   ]
  },
  {
   "cell_type": "code",
   "execution_count": 6,
   "metadata": {},
   "outputs": [],
   "source": [
    "from bambi.utils import get_aliased_name\n",
    "\n",
    "\n",
    "def get_response_dist(family):\n",
    "    if family.likelihood.dist:\n",
    "        dist = family.likelihood.dist\n",
    "    else:\n",
    "        dist = dist = getattr(pm, family.likelihood.name)\n",
    "    return dist\n",
    "\n",
    "\n",
    "def expand_array(x, ndim):\n",
    "    if x.ndim == ndim:\n",
    "        return x\n",
    "    dims_to_expand = tuple(range(ndim - 1, x.ndim -1, -1))\n",
    "    return np.expand_dims(x, dims_to_expand)\n",
    "\n",
    "\n",
    "def pps(model, idata):\n",
    "    family = model.family\n",
    "    response_dist = get_response_dist(family)\n",
    "    params = family.likelihood.params\n",
    "    response_aliased_name = get_aliased_name(model.response_component.response_term)\n",
    "    kwargs = {}\n",
    "    for param in params:\n",
    "        if param == model.family.likelihood.parent:\n",
    "            component = model.components[model.response_name]\n",
    "            var_name = f\"{response_aliased_name}_mean\"\n",
    "            kwargs[param] = idata.posterior[var_name].to_numpy()\n",
    "        else:\n",
    "            component = model.components[param]\n",
    "            component_aliased_name = component.alias if component.alias else param\n",
    "            var_name = f\"{response_aliased_name}_{component_aliased_name}\"\n",
    "            if var_name in idata.posterior:\n",
    "                kwargs[param] = idata.posterior[var_name].to_numpy()\n",
    "            elif hasattr(component, \"prior\") and isinstance(component.prior, (int, float)):\n",
    "                kwargs[param] = np.asarray(component.prior)\n",
    "    \n",
    "    # Determine the array with largest number of dimensions\n",
    "    ndim_max = max(x.ndim for x in kwargs.values())\n",
    "    \n",
    "    # Append a dimension when needed\n",
    "    for key, values in kwargs.items():\n",
    "        kwargs[key] = expand_array(values, ndim_max)\n",
    "\n",
    "    return pm.draw(response_dist.dist(**kwargs))"
   ]
  },
  {
   "cell_type": "code",
   "execution_count": 7,
   "metadata": {},
   "outputs": [
    {
     "data": {
      "text/plain": [
       "array([[[-7.92931485,  5.3599891 , 10.96102903, ..., 12.80414419,\n",
       "         15.97604574,  1.24241458],\n",
       "        [-7.83942675,  5.39092801, 11.04369738, ..., 12.78528137,\n",
       "         15.9653248 ,  1.06164032],\n",
       "        [-7.586334  ,  5.51735475, 11.01387176, ..., 12.53074504,\n",
       "         15.91067418,  0.99589946],\n",
       "        ...,\n",
       "        [-7.97856717,  5.38943216, 11.21162206, ..., 12.95332533,\n",
       "         16.07597332,  1.07408496],\n",
       "        [-7.91150013,  5.51382436, 10.74113429, ..., 12.83737177,\n",
       "         15.87279383,  1.16936144],\n",
       "        [-7.73144688,  5.49430956, 10.93111785, ..., 12.91980595,\n",
       "         16.10894713,  0.98222478]],\n",
       "\n",
       "       [[-7.89964836,  5.44805941, 10.91187453, ..., 12.73782085,\n",
       "         16.10408788,  1.36835786],\n",
       "        [-7.8016104 ,  5.52677545, 10.89231546, ..., 12.80098095,\n",
       "         16.11457394,  1.04708347],\n",
       "        [-8.03396024,  5.45379518, 10.9936181 , ..., 12.60423728,\n",
       "         15.99418771,  1.10616061],\n",
       "        ...,\n",
       "        [-7.75763361,  5.41162864, 10.8395884 , ..., 12.62245259,\n",
       "         15.96050002,  1.08346099],\n",
       "        [-7.75570526,  5.59719922, 11.05899208, ..., 12.57341774,\n",
       "         15.87859161,  1.14511404],\n",
       "        [-7.89941242,  5.548533  , 10.94605328, ..., 12.88185772,\n",
       "         15.92745202,  1.05611695]]])"
      ]
     },
     "execution_count": 7,
     "metadata": {},
     "output_type": "execute_result"
    }
   ],
   "source": [
    "pps(model, idata)"
   ]
  }
 ],
 "metadata": {
  "kernelspec": {
   "display_name": "bambi",
   "language": "python",
   "name": "python3"
  },
  "language_info": {
   "codemirror_mode": {
    "name": "ipython",
    "version": 3
   },
   "file_extension": ".py",
   "mimetype": "text/x-python",
   "name": "python",
   "nbconvert_exporter": "python",
   "pygments_lexer": "ipython3",
   "version": "3.10.6"
  },
  "orig_nbformat": 4,
  "vscode": {
   "interpreter": {
    "hash": "1008626715a3728f1d66c057190bde332dc65ea99517a942c5f170959679b77d"
   }
  }
 },
 "nbformat": 4,
 "nbformat_minor": 2
}
